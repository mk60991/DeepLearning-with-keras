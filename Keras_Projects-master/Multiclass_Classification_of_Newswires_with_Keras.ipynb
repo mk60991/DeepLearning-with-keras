{
 "cells": [
  {
   "cell_type": "markdown",
   "metadata": {},
   "source": [
    "# Multiclass Classification of Newswires\n",
    "\n",
    "Build a network to classify Reuters newswires into ***46*** mutually exclusive topics"
   ]
  },
  {
   "cell_type": "code",
   "execution_count": 1,
   "metadata": {},
   "outputs": [
    {
     "name": "stderr",
     "output_type": "stream",
     "text": [
      "Using TensorFlow backend.\n"
     ]
    },
    {
     "name": "stdout",
     "output_type": "stream",
     "text": [
      "Downloading data from https://s3.amazonaws.com/text-datasets/reuters.npz\n",
      "2113536/2110848 [==============================] - 2s 1us/step\n"
     ]
    }
   ],
   "source": [
    "from keras.datasets import reuters\n",
    "\n",
    "(train_data, train_label), (test_data, test_label) = reuters.load_data(num_words=10000) \n",
    "\n",
    "#To select the top 10000 occuring words"
   ]
  },
  {
   "cell_type": "code",
   "execution_count": 3,
   "metadata": {},
   "outputs": [
    {
     "name": "stdout",
     "output_type": "stream",
     "text": [
      "8982\n",
      "2246\n"
     ]
    }
   ],
   "source": [
    "print(len(train_data))\n",
    "print(len(test_data))"
   ]
  },
  {
   "cell_type": "markdown",
   "metadata": {},
   "source": [
    "The data is a list of integers (word indices)"
   ]
  },
  {
   "cell_type": "code",
   "execution_count": 4,
   "metadata": {},
   "outputs": [
    {
     "data": {
      "text/plain": [
       "[1,\n",
       " 245,\n",
       " 273,\n",
       " 207,\n",
       " 156,\n",
       " 53,\n",
       " 74,\n",
       " 160,\n",
       " 26,\n",
       " 14,\n",
       " 46,\n",
       " 296,\n",
       " 26,\n",
       " 39,\n",
       " 74,\n",
       " 2979,\n",
       " 3554,\n",
       " 14,\n",
       " 46,\n",
       " 4689,\n",
       " 4329,\n",
       " 86,\n",
       " 61,\n",
       " 3499,\n",
       " 4795,\n",
       " 14,\n",
       " 61,\n",
       " 451,\n",
       " 4329,\n",
       " 17,\n",
       " 12]"
      ]
     },
     "execution_count": 4,
     "metadata": {},
     "output_type": "execute_result"
    }
   ],
   "source": [
    "train_data[10]"
   ]
  },
  {
   "cell_type": "markdown",
   "metadata": {},
   "source": [
    "Decoding newswires back to text"
   ]
  },
  {
   "cell_type": "code",
   "execution_count": 15,
   "metadata": {},
   "outputs": [],
   "source": [
    "word_index= reuters.get_word_index()\n",
    "reverse_word_index= dict([(values, key) for (key, values) in word_index.items()])\n",
    "decoded_newswire= ' '.join([reverse_word_index.get(i) for i in train_data[0]])"
   ]
  },
  {
   "cell_type": "code",
   "execution_count": 16,
   "metadata": {},
   "outputs": [
    {
     "data": {
      "text/plain": [
       "'the of of mln loss for plc said at only ended said commonwealth could 1 traders now april 0 a after said from 1985 and from foreign 000 april 0 prices its account year a but in this mln home an states earlier and rise and revs vs 000 its 16 vs 000 a but 3 psbr oils several and shareholders and dividend vs 000 its all 4 vs 000 1 mln agreed largely april 0 are 2 states will billion total and against 000 pct dlrs'"
      ]
     },
     "execution_count": 16,
     "metadata": {},
     "output_type": "execute_result"
    }
   ],
   "source": [
    "decoded_newswire"
   ]
  },
  {
   "cell_type": "code",
   "execution_count": 28,
   "metadata": {},
   "outputs": [
    {
     "name": "stdout",
     "output_type": "stream",
     "text": [
      "10996\n",
      "mdbl\n"
     ]
    }
   ],
   "source": [
    "print(list(reverse_word_index.keys())[0])\n",
    "print(list(reverse_word_index.values())[0])"
   ]
  },
  {
   "cell_type": "code",
   "execution_count": 32,
   "metadata": {},
   "outputs": [
    {
     "data": {
      "text/plain": [
       "3"
      ]
     },
     "execution_count": 32,
     "metadata": {},
     "output_type": "execute_result"
    }
   ],
   "source": [
    "train_label[10]"
   ]
  },
  {
   "cell_type": "markdown",
   "metadata": {},
   "source": [
    "### Preparing Data\n",
    "\n",
    "#### Encoding data\n",
    "\n",
    "```One-hot encoding``` is a widely used format for categorical data, also called ```categorical encoding```"
   ]
  },
  {
   "cell_type": "code",
   "execution_count": 34,
   "metadata": {},
   "outputs": [],
   "source": [
    "import numpy as np\n",
    "\n",
    "def vector_sequences(sequences, dimensions=10000):\n",
    "    results= np.zeros((len(sequences), dimensions))\n",
    "    for i, label in enumerate(sequences):\n",
    "        results[i,label]=1\n",
    "    \n",
    "    return results"
   ]
  },
  {
   "cell_type": "code",
   "execution_count": 35,
   "metadata": {},
   "outputs": [],
   "source": [
    "x_train= vector_sequences(train_data)\n",
    "x_test= vector_sequences(test_data)"
   ]
  },
  {
   "cell_type": "markdown",
   "metadata": {},
   "source": [
    "To vectorize labels, we can use similar to the above function or use a built-in function by keras"
   ]
  },
  {
   "cell_type": "code",
   "execution_count": 38,
   "metadata": {},
   "outputs": [],
   "source": [
    "from keras.utils.np_utils import to_categorical\n",
    "\n",
    "one_hot_train_labels= to_categorical(train_label)\n",
    "one_hot_test_labels= to_categorical(test_label)"
   ]
  },
  {
   "cell_type": "markdown",
   "metadata": {},
   "source": [
    "### Building Network\n",
    "\n",
    "#### Model Definition\n",
    "\n",
    "We will use larger units in hidden layers instead of using smaller ones, just to prevent **Information Bottlenecks**, where the information is permanently dropped at a layer and it can never be recovered in the next layers\n",
    "\n",
    "The last layer uses a ```softmax``` activation. It means the network will output a probability distribution over the **46** different output classes—for every input sample, the network will produce a 46-dimensional output vector, where ```output[i]``` is the probability that the sample belongs to class ```i```. ***The 46 scores will sum to 1.***"
   ]
  },
  {
   "cell_type": "code",
   "execution_count": 41,
   "metadata": {},
   "outputs": [],
   "source": [
    "from keras import models\n",
    "from keras import layers\n",
    "\n",
    "model= models.Sequential()\n",
    "model.add(layers.Dense(64, activation='relu', input_shape=(10000,)))\n",
    "model.add(layers.Dense(64, activation='relu'))\n",
    "model.add(layers.Dense(46, activation='softmax'))"
   ]
  },
  {
   "cell_type": "markdown",
   "metadata": {},
   "source": [
    "The best loss function to use in this case is ```categorical_crossentropy```. **It measures the distance between two probability distributions**: here, between the probability distribution output by the network and the true distribution of the labels. By minimizing the distance between these two distributions, the network is trained to output something as close as possible to the true labels."
   ]
  },
  {
   "cell_type": "code",
   "execution_count": 42,
   "metadata": {},
   "outputs": [],
   "source": [
    "model.compile(optimizer='rmsprop', loss='categorical_crossentropy', metrics=['accuracy'])"
   ]
  },
  {
   "cell_type": "markdown",
   "metadata": {},
   "source": [
    "#### Validation Set"
   ]
  },
  {
   "cell_type": "code",
   "execution_count": 43,
   "metadata": {},
   "outputs": [],
   "source": [
    "x_val= x_train[:1000]\n",
    "partial_x_train= x_train[1000:]\n",
    "\n",
    "y_val= one_hot_train_labels[:1000]\n",
    "partial_y_train= one_hot_train_labels[1000:]"
   ]
  },
  {
   "cell_type": "markdown",
   "metadata": {},
   "source": [
    "#### Train the Model"
   ]
  },
  {
   "cell_type": "code",
   "execution_count": 44,
   "metadata": {},
   "outputs": [
    {
     "name": "stdout",
     "output_type": "stream",
     "text": [
      "Train on 7982 samples, validate on 1000 samples\n",
      "Epoch 1/100\n",
      "7982/7982 [==============================] - 9s 1ms/step - loss: 3.0346 - acc: 0.4628 - val_loss: 2.2278 - val_acc: 0.6020\n",
      "Epoch 2/100\n",
      "7982/7982 [==============================] - 1s 80us/step - loss: 1.8562 - acc: 0.6525 - val_loss: 1.6473 - val_acc: 0.6660\n",
      "Epoch 3/100\n",
      "7982/7982 [==============================] - 1s 80us/step - loss: 1.3920 - acc: 0.7271 - val_loss: 1.3931 - val_acc: 0.7080\n",
      "Epoch 4/100\n",
      "7982/7982 [==============================] - 1s 80us/step - loss: 1.1260 - acc: 0.7677 - val_loss: 1.2291 - val_acc: 0.7430\n",
      "Epoch 5/100\n",
      "7982/7982 [==============================] - 1s 80us/step - loss: 0.9384 - acc: 0.8069 - val_loss: 1.1340 - val_acc: 0.7620\n",
      "Epoch 6/100\n",
      "7982/7982 [==============================] - 1s 83us/step - loss: 0.8026 - acc: 0.8330 - val_loss: 1.0621 - val_acc: 0.7740\n",
      "Epoch 7/100\n",
      "7982/7982 [==============================] - 1s 85us/step - loss: 0.6791 - acc: 0.8616 - val_loss: 1.0228 - val_acc: 0.7820\n",
      "Epoch 8/100\n",
      "7982/7982 [==============================] - 1s 82us/step - loss: 0.5869 - acc: 0.8810 - val_loss: 0.9677 - val_acc: 0.7960\n",
      "Epoch 9/100\n",
      "7982/7982 [==============================] - 1s 80us/step - loss: 0.4959 - acc: 0.8996 - val_loss: 0.9643 - val_acc: 0.7880\n",
      "Epoch 10/100\n",
      "7982/7982 [==============================] - 1s 80us/step - loss: 0.4272 - acc: 0.9109 - val_loss: 0.9189 - val_acc: 0.8040\n",
      "Epoch 11/100\n",
      "7982/7982 [==============================] - 1s 80us/step - loss: 0.3626 - acc: 0.9252 - val_loss: 0.9048 - val_acc: 0.8080\n",
      "Epoch 12/100\n",
      "7982/7982 [==============================] - 1s 81us/step - loss: 0.3186 - acc: 0.9342 - val_loss: 0.8876 - val_acc: 0.8130\n",
      "Epoch 13/100\n",
      "7982/7982 [==============================] - 1s 79us/step - loss: 0.2792 - acc: 0.9419 - val_loss: 0.8809 - val_acc: 0.8180\n",
      "Epoch 14/100\n",
      "7982/7982 [==============================] - 1s 80us/step - loss: 0.2423 - acc: 0.9466 - val_loss: 0.8978 - val_acc: 0.8110\n",
      "Epoch 15/100\n",
      "7982/7982 [==============================] - 1s 79us/step - loss: 0.2118 - acc: 0.9480 - val_loss: 0.9021 - val_acc: 0.8160\n",
      "Epoch 16/100\n",
      "7982/7982 [==============================] - 1s 80us/step - loss: 0.1930 - acc: 0.9505 - val_loss: 0.9034 - val_acc: 0.8200\n",
      "Epoch 17/100\n",
      "7982/7982 [==============================] - 1s 80us/step - loss: 0.1777 - acc: 0.9519 - val_loss: 0.9285 - val_acc: 0.8120\n",
      "Epoch 18/100\n",
      "7982/7982 [==============================] - 1s 85us/step - loss: 0.1650 - acc: 0.9546 - val_loss: 0.9228 - val_acc: 0.8160\n",
      "Epoch 19/100\n",
      "7982/7982 [==============================] - 1s 82us/step - loss: 0.1473 - acc: 0.9559 - val_loss: 0.9234 - val_acc: 0.8170\n",
      "Epoch 20/100\n",
      "7982/7982 [==============================] - 1s 80us/step - loss: 0.1408 - acc: 0.9577 - val_loss: 0.9500 - val_acc: 0.8060\n",
      "Epoch 21/100\n",
      "7982/7982 [==============================] - 1s 80us/step - loss: 0.1314 - acc: 0.9583 - val_loss: 0.9591 - val_acc: 0.8130\n",
      "Epoch 22/100\n",
      "7982/7982 [==============================] - 1s 80us/step - loss: 0.1241 - acc: 0.9579 - val_loss: 0.9816 - val_acc: 0.8110\n",
      "Epoch 23/100\n",
      "7982/7982 [==============================] - 1s 80us/step - loss: 0.1206 - acc: 0.9582 - val_loss: 0.9805 - val_acc: 0.8070\n",
      "Epoch 24/100\n",
      "7982/7982 [==============================] - 1s 80us/step - loss: 0.1140 - acc: 0.9579 - val_loss: 0.9950 - val_acc: 0.8190\n",
      "Epoch 25/100\n",
      "7982/7982 [==============================] - 1s 80us/step - loss: 0.1075 - acc: 0.9593 - val_loss: 1.0115 - val_acc: 0.8130\n",
      "Epoch 26/100\n",
      "7982/7982 [==============================] - 1s 82us/step - loss: 0.1076 - acc: 0.9588 - val_loss: 1.0399 - val_acc: 0.8090\n",
      "Epoch 27/100\n",
      "7982/7982 [==============================] - 1s 81us/step - loss: 0.1053 - acc: 0.9583 - val_loss: 1.0632 - val_acc: 0.7990\n",
      "Epoch 28/100\n",
      "7982/7982 [==============================] - 1s 80us/step - loss: 0.0981 - acc: 0.9605 - val_loss: 1.0330 - val_acc: 0.8130\n",
      "Epoch 29/100\n",
      "7982/7982 [==============================] - 1s 85us/step - loss: 0.0985 - acc: 0.9595 - val_loss: 1.0324 - val_acc: 0.8090\n",
      "Epoch 30/100\n",
      "7982/7982 [==============================] - 1s 82us/step - loss: 0.0961 - acc: 0.9587 - val_loss: 1.0676 - val_acc: 0.8060\n",
      "Epoch 31/100\n",
      "7982/7982 [==============================] - 1s 80us/step - loss: 0.0979 - acc: 0.9590 - val_loss: 1.0848 - val_acc: 0.7970\n",
      "Epoch 32/100\n",
      "7982/7982 [==============================] - 1s 82us/step - loss: 0.0942 - acc: 0.9579 - val_loss: 1.0839 - val_acc: 0.8010\n",
      "Epoch 33/100\n",
      "7982/7982 [==============================] - 1s 83us/step - loss: 0.0901 - acc: 0.9608 - val_loss: 1.0751 - val_acc: 0.8100\n",
      "Epoch 34/100\n",
      "7982/7982 [==============================] - 1s 82us/step - loss: 0.0955 - acc: 0.9593 - val_loss: 1.0888 - val_acc: 0.8040\n",
      "Epoch 35/100\n",
      "7982/7982 [==============================] - 1s 81us/step - loss: 0.0912 - acc: 0.9582 - val_loss: 1.1450 - val_acc: 0.7930\n",
      "Epoch 36/100\n",
      "7982/7982 [==============================] - 1s 80us/step - loss: 0.0900 - acc: 0.9582 - val_loss: 1.1618 - val_acc: 0.7960\n",
      "Epoch 37/100\n",
      "7982/7982 [==============================] - 1s 81us/step - loss: 0.0894 - acc: 0.9594 - val_loss: 1.0968 - val_acc: 0.8040\n",
      "Epoch 38/100\n",
      "7982/7982 [==============================] - 1s 82us/step - loss: 0.0881 - acc: 0.9604 - val_loss: 1.1121 - val_acc: 0.8020\n",
      "Epoch 39/100\n",
      "7982/7982 [==============================] - 1s 80us/step - loss: 0.0871 - acc: 0.9599 - val_loss: 1.1359 - val_acc: 0.7980\n",
      "Epoch 40/100\n",
      "7982/7982 [==============================] - 1s 86us/step - loss: 0.0870 - acc: 0.9609 - val_loss: 1.1447 - val_acc: 0.7960\n",
      "Epoch 41/100\n",
      "7982/7982 [==============================] - 1s 84us/step - loss: 0.0815 - acc: 0.9600 - val_loss: 1.1399 - val_acc: 0.7950\n",
      "Epoch 42/100\n",
      "7982/7982 [==============================] - 1s 81us/step - loss: 0.0881 - acc: 0.9602 - val_loss: 1.1885 - val_acc: 0.7930\n",
      "Epoch 43/100\n",
      "7982/7982 [==============================] - 1s 81us/step - loss: 0.0810 - acc: 0.9597 - val_loss: 1.2255 - val_acc: 0.7870\n",
      "Epoch 44/100\n",
      "7982/7982 [==============================] - 1s 81us/step - loss: 0.0882 - acc: 0.9592 - val_loss: 1.1988 - val_acc: 0.7870\n",
      "Epoch 45/100\n",
      "7982/7982 [==============================] - 1s 81us/step - loss: 0.0815 - acc: 0.9598 - val_loss: 1.1906 - val_acc: 0.7940\n",
      "Epoch 46/100\n",
      "7982/7982 [==============================] - 1s 81us/step - loss: 0.0813 - acc: 0.9593 - val_loss: 1.2070 - val_acc: 0.7910\n",
      "Epoch 47/100\n",
      "7982/7982 [==============================] - 1s 80us/step - loss: 0.0897 - acc: 0.9600 - val_loss: 1.2116 - val_acc: 0.7930\n",
      "Epoch 48/100\n",
      "7982/7982 [==============================] - 1s 81us/step - loss: 0.0777 - acc: 0.9608 - val_loss: 1.2117 - val_acc: 0.7950\n",
      "Epoch 49/100\n",
      "7982/7982 [==============================] - 1s 81us/step - loss: 0.0826 - acc: 0.9599 - val_loss: 1.2294 - val_acc: 0.7860\n",
      "Epoch 50/100\n",
      "7982/7982 [==============================] - 1s 81us/step - loss: 0.0792 - acc: 0.9588 - val_loss: 1.2085 - val_acc: 0.8030\n",
      "Epoch 51/100\n",
      "7982/7982 [==============================] - 1s 81us/step - loss: 0.0807 - acc: 0.9598 - val_loss: 1.2468 - val_acc: 0.7870\n",
      "Epoch 52/100\n",
      "7982/7982 [==============================] - 1s 80us/step - loss: 0.0800 - acc: 0.9628 - val_loss: 1.2760 - val_acc: 0.7830\n",
      "Epoch 53/100\n",
      "7982/7982 [==============================] - 1s 81us/step - loss: 0.0792 - acc: 0.9603 - val_loss: 1.2470 - val_acc: 0.7960\n",
      "Epoch 54/100\n",
      "7982/7982 [==============================] - 1s 82us/step - loss: 0.0801 - acc: 0.9585 - val_loss: 1.2371 - val_acc: 0.7910\n",
      "Epoch 55/100\n",
      "7982/7982 [==============================] - 1s 82us/step - loss: 0.0782 - acc: 0.9602 - val_loss: 1.2478 - val_acc: 0.7900\n",
      "Epoch 56/100\n",
      "7982/7982 [==============================] - 1s 98us/step - loss: 0.0793 - acc: 0.9595 - val_loss: 1.2610 - val_acc: 0.7870\n",
      "Epoch 57/100\n",
      "7982/7982 [==============================] - 1s 81us/step - loss: 0.0798 - acc: 0.9607 - val_loss: 1.2724 - val_acc: 0.7910\n",
      "Epoch 58/100\n",
      "7982/7982 [==============================] - 1s 80us/step - loss: 0.0784 - acc: 0.9579 - val_loss: 1.3471 - val_acc: 0.7800\n",
      "Epoch 59/100\n",
      "7982/7982 [==============================] - 1s 80us/step - loss: 0.0775 - acc: 0.9590 - val_loss: 1.2597 - val_acc: 0.7910\n",
      "Epoch 60/100\n"
     ]
    },
    {
     "name": "stdout",
     "output_type": "stream",
     "text": [
      "7982/7982 [==============================] - 1s 81us/step - loss: 0.0796 - acc: 0.9593 - val_loss: 1.2666 - val_acc: 0.7850\n",
      "Epoch 61/100\n",
      "7982/7982 [==============================] - 1s 80us/step - loss: 0.0779 - acc: 0.9585 - val_loss: 1.2969 - val_acc: 0.7890\n",
      "Epoch 62/100\n",
      "7982/7982 [==============================] - 1s 83us/step - loss: 0.0753 - acc: 0.9612 - val_loss: 1.3716 - val_acc: 0.7790\n",
      "Epoch 63/100\n",
      "7982/7982 [==============================] - 1s 82us/step - loss: 0.0770 - acc: 0.9592 - val_loss: 1.3033 - val_acc: 0.7860\n",
      "Epoch 64/100\n",
      "7982/7982 [==============================] - 1s 80us/step - loss: 0.0804 - acc: 0.9570 - val_loss: 1.3340 - val_acc: 0.7840\n",
      "Epoch 65/100\n",
      "7982/7982 [==============================] - 1s 80us/step - loss: 0.0751 - acc: 0.9599 - val_loss: 1.2913 - val_acc: 0.7810\n",
      "Epoch 66/100\n",
      "7982/7982 [==============================] - 1s 82us/step - loss: 0.0773 - acc: 0.9594 - val_loss: 1.2995 - val_acc: 0.7810\n",
      "Epoch 67/100\n",
      "7982/7982 [==============================] - 1s 81us/step - loss: 0.0753 - acc: 0.9587 - val_loss: 1.3227 - val_acc: 0.7800\n",
      "Epoch 68/100\n",
      "7982/7982 [==============================] - 1s 79us/step - loss: 0.0710 - acc: 0.9622 - val_loss: 1.4286 - val_acc: 0.7750\n",
      "Epoch 69/100\n",
      "7982/7982 [==============================] - 1s 80us/step - loss: 0.0761 - acc: 0.9605 - val_loss: 1.3228 - val_acc: 0.7810\n",
      "Epoch 70/100\n",
      "7982/7982 [==============================] - 1s 81us/step - loss: 0.0755 - acc: 0.9602 - val_loss: 1.3626 - val_acc: 0.7790\n",
      "Epoch 71/100\n",
      "7982/7982 [==============================] - 1s 80us/step - loss: 0.0736 - acc: 0.9593 - val_loss: 1.4087 - val_acc: 0.7710\n",
      "Epoch 72/100\n",
      "7982/7982 [==============================] - 1s 80us/step - loss: 0.0766 - acc: 0.9582 - val_loss: 1.3987 - val_acc: 0.7720\n",
      "Epoch 73/100\n",
      "7982/7982 [==============================] - 1s 84us/step - loss: 0.0769 - acc: 0.9589 - val_loss: 1.3698 - val_acc: 0.7820\n",
      "Epoch 74/100\n",
      "7982/7982 [==============================] - 1s 79us/step - loss: 0.0745 - acc: 0.9589 - val_loss: 1.3683 - val_acc: 0.7820\n",
      "Epoch 75/100\n",
      "7982/7982 [==============================] - 1s 79us/step - loss: 0.0743 - acc: 0.9600 - val_loss: 1.3433 - val_acc: 0.7760\n",
      "Epoch 76/100\n",
      "7982/7982 [==============================] - 1s 80us/step - loss: 0.0726 - acc: 0.9607 - val_loss: 1.3582 - val_acc: 0.7790\n",
      "Epoch 77/100\n",
      "7982/7982 [==============================] - 1s 84us/step - loss: 0.0718 - acc: 0.9607 - val_loss: 1.3643 - val_acc: 0.7740\n",
      "Epoch 78/100\n",
      "7982/7982 [==============================] - 1s 80us/step - loss: 0.0774 - acc: 0.9604 - val_loss: 1.4112 - val_acc: 0.7700\n",
      "Epoch 79/100\n",
      "7982/7982 [==============================] - 1s 82us/step - loss: 0.0707 - acc: 0.9607 - val_loss: 1.3759 - val_acc: 0.7780\n",
      "Epoch 80/100\n",
      "7982/7982 [==============================] - 1s 81us/step - loss: 0.0717 - acc: 0.9598 - val_loss: 1.4260 - val_acc: 0.7670\n",
      "Epoch 81/100\n",
      "7982/7982 [==============================] - 1s 82us/step - loss: 0.0739 - acc: 0.9592 - val_loss: 1.3975 - val_acc: 0.7850\n",
      "Epoch 82/100\n",
      "7982/7982 [==============================] - 1s 81us/step - loss: 0.0737 - acc: 0.9595 - val_loss: 1.4082 - val_acc: 0.7740\n",
      "Epoch 83/100\n",
      "7982/7982 [==============================] - 1s 80us/step - loss: 0.0739 - acc: 0.9604 - val_loss: 1.4172 - val_acc: 0.7720\n",
      "Epoch 84/100\n",
      "7982/7982 [==============================] - 1s 81us/step - loss: 0.0728 - acc: 0.9603 - val_loss: 1.4902 - val_acc: 0.7700\n",
      "Epoch 85/100\n",
      "7982/7982 [==============================] - 1s 80us/step - loss: 0.0710 - acc: 0.9608 - val_loss: 1.3988 - val_acc: 0.7720\n",
      "Epoch 86/100\n",
      "7982/7982 [==============================] - 1s 80us/step - loss: 0.0721 - acc: 0.9605 - val_loss: 1.4546 - val_acc: 0.7720\n",
      "Epoch 87/100\n",
      "7982/7982 [==============================] - 1s 84us/step - loss: 0.0698 - acc: 0.9589 - val_loss: 1.4060 - val_acc: 0.7800\n",
      "Epoch 88/100\n",
      "7982/7982 [==============================] - 1s 81us/step - loss: 0.0711 - acc: 0.9597 - val_loss: 1.4319 - val_acc: 0.7820\n",
      "Epoch 89/100\n",
      "7982/7982 [==============================] - 1s 80us/step - loss: 0.0710 - acc: 0.9604 - val_loss: 1.4798 - val_acc: 0.7650\n",
      "Epoch 90/100\n",
      "7982/7982 [==============================] - 1s 81us/step - loss: 0.0723 - acc: 0.9615 - val_loss: 1.4148 - val_acc: 0.7830\n",
      "Epoch 91/100\n",
      "7982/7982 [==============================] - 1s 81us/step - loss: 0.0709 - acc: 0.9599 - val_loss: 1.4100 - val_acc: 0.7780\n",
      "Epoch 92/100\n",
      "7982/7982 [==============================] - 1s 80us/step - loss: 0.0694 - acc: 0.9607 - val_loss: 1.4716 - val_acc: 0.7820\n",
      "Epoch 93/100\n",
      "7982/7982 [==============================] - 1s 80us/step - loss: 0.0713 - acc: 0.9604 - val_loss: 1.4183 - val_acc: 0.7840\n",
      "Epoch 94/100\n",
      "7982/7982 [==============================] - 1s 81us/step - loss: 0.0715 - acc: 0.9585 - val_loss: 1.4610 - val_acc: 0.7760\n",
      "Epoch 95/100\n",
      "7982/7982 [==============================] - 1s 81us/step - loss: 0.0694 - acc: 0.9602 - val_loss: 1.4443 - val_acc: 0.7800\n",
      "Epoch 96/100\n",
      "7982/7982 [==============================] - 1s 81us/step - loss: 0.0694 - acc: 0.9608 - val_loss: 1.4554 - val_acc: 0.7820\n",
      "Epoch 97/100\n",
      "7982/7982 [==============================] - 1s 80us/step - loss: 0.0692 - acc: 0.9597 - val_loss: 1.5493 - val_acc: 0.7570\n",
      "Epoch 98/100\n",
      "7982/7982 [==============================] - 1s 81us/step - loss: 0.0696 - acc: 0.9602 - val_loss: 1.4938 - val_acc: 0.7720\n",
      "Epoch 99/100\n",
      "7982/7982 [==============================] - 1s 80us/step - loss: 0.0715 - acc: 0.9613 - val_loss: 1.4546 - val_acc: 0.7750\n",
      "Epoch 100/100\n",
      "7982/7982 [==============================] - 1s 82us/step - loss: 0.0726 - acc: 0.9598 - val_loss: 1.4715 - val_acc: 0.7720\n"
     ]
    }
   ],
   "source": [
    "history= model.fit(partial_x_train, partial_y_train, epochs=100, batch_size=1024, validation_data=(x_val, y_val))"
   ]
  },
  {
   "cell_type": "markdown",
   "metadata": {},
   "source": [
    "#### Plot Train and Validation Loss"
   ]
  },
  {
   "cell_type": "code",
   "execution_count": 48,
   "metadata": {},
   "outputs": [
    {
     "data": {
      "text/plain": [
       "dict_keys(['val_loss', 'val_acc', 'loss', 'acc'])"
      ]
     },
     "execution_count": 48,
     "metadata": {},
     "output_type": "execute_result"
    }
   ],
   "source": [
    "history.history.keys()"
   ]
  },
  {
   "cell_type": "code",
   "execution_count": 52,
   "metadata": {},
   "outputs": [
    {
     "data": {
      "image/png": "[encoded data removed]",
      "text/plain": [
       "<Figure size 432x288 with 1 Axes>"
      ]
     },
     "metadata": {
      "needs_background": "light"
     },
     "output_type": "display_data"
    }
   ],
   "source": [
    "import matplotlib.pyplot as plt\n",
    "\n",
    "loss= history.history['loss']\n",
    "val_loss= history.history['val_loss']\n",
    "\n",
    "epochs= range(1, len(loss)+1)\n",
    "\n",
    "plt.plot(epochs, loss, 'bo', label= \"Training Loss\")\n",
    "plt.plot(epochs, val_loss, 'b', label= \"Validation Loss\", color='red')\n",
    "plt.title(\"Training vs Validation Loss\")\n",
    "plt.xlabel(\"Epochs\")\n",
    "plt.ylabel(\"Loss\")\n",
    "plt.legend()\n",
    "plt.show()"
   ]
  },
  {
   "cell_type": "markdown",
   "metadata": {},
   "source": [
    "#### Plot Train vs Validation Accuracy"
   ]
  },
  {
   "cell_type": "code",
   "execution_count": 57,
   "metadata": {},
   "outputs": [
    {
     "data": {
      "image/png": "[encoded data removed]",
      "text/plain": [
       "<Figure size 432x288 with 1 Axes>"
      ]
     },
     "metadata": {
      "needs_background": "light"
     },
     "output_type": "display_data"
    }
   ],
   "source": [
    "acc= history.history['acc']\n",
    "val_acc= history.history['val_acc']\n",
    "\n",
    "plt.plot(epochs, acc, 'bo', label='Training Loss')\n",
    "plt.plot(epochs, val_acc, 'b', label='validation Loss', color='red')\n",
    "plt.title('Training vs Validation Accuracy')\n",
    "plt.xlabel('Epochs')\n",
    "plt.ylabel('Accuracy')\n",
    "plt.legend()\n",
    "plt.grid()\n",
    "plt.show()"
   ]
  },
  {
   "cell_type": "markdown",
   "metadata": {},
   "source": [
    "#### Retraining Model from Scratch "
   ]
  },
  {
   "cell_type": "code",
   "execution_count": 71,
   "metadata": {},
   "outputs": [
    {
     "name": "stdout",
     "output_type": "stream",
     "text": [
      "Train on 7982 samples, validate on 1000 samples\n",
      "Epoch 1/15\n",
      "7982/7982 [==============================] - 1s 129us/step - loss: 2.9629 - acc: 0.4453 - val_loss: 2.1130 - val_acc: 0.5850\n",
      "Epoch 2/15\n",
      "7982/7982 [==============================] - 1s 81us/step - loss: 1.7858 - acc: 0.6457 - val_loss: 1.5869 - val_acc: 0.6520\n",
      "Epoch 3/15\n",
      "7982/7982 [==============================] - 1s 79us/step - loss: 1.3530 - acc: 0.7144 - val_loss: 1.3565 - val_acc: 0.7080\n",
      "Epoch 4/15\n",
      "7982/7982 [==============================] - 1s 79us/step - loss: 1.1014 - acc: 0.7669 - val_loss: 1.2243 - val_acc: 0.7350\n",
      "Epoch 5/15\n",
      "7982/7982 [==============================] - 1s 79us/step - loss: 0.9266 - acc: 0.7993 - val_loss: 1.1411 - val_acc: 0.7440\n",
      "Epoch 6/15\n",
      "7982/7982 [==============================] - 1s 79us/step - loss: 0.7957 - acc: 0.8260 - val_loss: 1.0869 - val_acc: 0.7530\n",
      "Epoch 7/15\n",
      "7982/7982 [==============================] - 1s 79us/step - loss: 0.6830 - acc: 0.8515 - val_loss: 1.0246 - val_acc: 0.7710\n",
      "Epoch 8/15\n",
      "7982/7982 [==============================] - 1s 80us/step - loss: 0.5808 - acc: 0.8804 - val_loss: 0.9835 - val_acc: 0.7870\n",
      "Epoch 9/15\n",
      "7982/7982 [==============================] - 1s 79us/step - loss: 0.5065 - acc: 0.8983 - val_loss: 0.9545 - val_acc: 0.8010\n",
      "Epoch 10/15\n",
      "7982/7982 [==============================] - 1s 79us/step - loss: 0.4303 - acc: 0.9103 - val_loss: 0.9696 - val_acc: 0.7800\n",
      "Epoch 11/15\n",
      "7982/7982 [==============================] - 1s 80us/step - loss: 0.3689 - acc: 0.9258 - val_loss: 0.9153 - val_acc: 0.8140\n",
      "Epoch 12/15\n",
      "7982/7982 [==============================] - 1s 79us/step - loss: 0.3191 - acc: 0.9359 - val_loss: 0.9202 - val_acc: 0.8050\n",
      "Epoch 13/15\n",
      "7982/7982 [==============================] - 1s 79us/step - loss: 0.2845 - acc: 0.9399 - val_loss: 0.9079 - val_acc: 0.8060\n",
      "Epoch 14/15\n",
      "7982/7982 [==============================] - 1s 79us/step - loss: 0.2465 - acc: 0.9446 - val_loss: 0.9105 - val_acc: 0.8070\n",
      "Epoch 15/15\n",
      "7982/7982 [==============================] - 1s 80us/step - loss: 0.2215 - acc: 0.9485 - val_loss: 0.9070 - val_acc: 0.8150\n",
      "2246/2246 [==============================] - 0s 106us/step\n"
     ]
    },
    {
     "data": {
      "text/plain": [
       "[1.007784054731537, 0.7858414960194143]"
      ]
     },
     "execution_count": 71,
     "metadata": {},
     "output_type": "execute_result"
    }
   ],
   "source": [
    "model= models.Sequential()\n",
    "model.add(layers.Dense(64, activation='relu', input_shape=(10000,)))\n",
    "model.add(layers.Dense(64, activation='relu'))\n",
    "model.add(layers.Dense(46, activation='softmax'))\n",
    "\n",
    "model.compile(optimizer='rmsprop', loss='categorical_crossentropy', metrics=['accuracy'])\n",
    "\n",
    "model.fit(partial_x_train, partial_y_train, epochs=15, batch_size=1024, validation_data=(x_val, y_val))\n",
    "\n",
    "results= model.evaluate(x_test, one_hot_test_labels)\n",
    "results"
   ]
  },
  {
   "cell_type": "markdown",
   "metadata": {},
   "source": [
    "**Loss:** 1.0078\n",
    "\n",
    "**Accuracy:** 78.58%"
   ]
  },
  {
   "cell_type": "code",
   "execution_count": 75,
   "metadata": {},
   "outputs": [
    {
     "data": {
      "text/plain": [
       "0.19456812110418523"
      ]
     },
     "execution_count": 75,
     "metadata": {},
     "output_type": "execute_result"
    }
   ],
   "source": [
    "test_labels_copy= test_label.copy()\n",
    "np.random.shuffle(test_labels_copy)\n",
    "hits= np.array(test_labels_copy)==np.array(test_label)\n",
    "float(np.sum(hits)/len(test_label))"
   ]
  },
  {
   "cell_type": "code",
   "execution_count": 76,
   "metadata": {},
   "outputs": [],
   "source": [
    "predictions= model.predict(x_test)"
   ]
  },
  {
   "cell_type": "markdown",
   "metadata": {},
   "source": [
    "Each entry in predictions is a vector of length 46"
   ]
  },
  {
   "cell_type": "code",
   "execution_count": 80,
   "metadata": {},
   "outputs": [
    {
     "data": {
      "text/plain": [
       "(46,)"
      ]
     },
     "execution_count": 80,
     "metadata": {},
     "output_type": "execute_result"
    }
   ],
   "source": [
    "predictions[0].shape"
   ]
  },
  {
   "cell_type": "markdown",
   "metadata": {},
   "source": [
    "The coefficients in this vector sum to 1"
   ]
  },
  {
   "cell_type": "code",
   "execution_count": 81,
   "metadata": {},
   "outputs": [
    {
     "data": {
      "text/plain": [
       "1.0"
      ]
     },
     "execution_count": 81,
     "metadata": {},
     "output_type": "execute_result"
    }
   ],
   "source": [
    "np.sum(predictions[0])"
   ]
  },
  {
   "cell_type": "markdown",
   "metadata": {},
   "source": [
    "The largest entry is the predicted class—the class with the highest probability:"
   ]
  },
  {
   "cell_type": "code",
   "execution_count": 109,
   "metadata": {},
   "outputs": [
    {
     "data": {
      "text/plain": [
       "3"
      ]
     },
     "execution_count": 109,
     "metadata": {},
     "output_type": "execute_result"
    }
   ],
   "source": [
    "np.argmax(predictions[0])"
   ]
  },
  {
   "cell_type": "markdown",
   "metadata": {},
   "source": [
    "### Cast labels as integer tensor"
   ]
  },
  {
   "cell_type": "code",
   "execution_count": 112,
   "metadata": {},
   "outputs": [],
   "source": [
    "y_train= np.array(train_label)\n",
    "y_test= np.array(test_label)"
   ]
  },
  {
   "cell_type": "code",
   "execution_count": 114,
   "metadata": {},
   "outputs": [
    {
     "name": "stdout",
     "output_type": "stream",
     "text": [
      "Epoch 1/15\n",
      "8982/8982 [==============================] - 1s 149us/step - loss: 3.1475 - acc: 0.4727\n",
      "Epoch 2/15\n",
      "8982/8982 [==============================] - 1s 71us/step - loss: 1.8609 - acc: 0.6640\n",
      "Epoch 3/15\n",
      "8982/8982 [==============================] - 1s 72us/step - loss: 1.3369 - acc: 0.7239\n",
      "Epoch 4/15\n",
      "8982/8982 [==============================] - 1s 71us/step - loss: 1.0802 - acc: 0.7688\n",
      "Epoch 5/15\n",
      "8982/8982 [==============================] - 1s 71us/step - loss: 0.9007 - acc: 0.8093\n",
      "Epoch 6/15\n",
      "8982/8982 [==============================] - 1s 71us/step - loss: 0.7656 - acc: 0.8379\n",
      "Epoch 7/15\n",
      "8982/8982 [==============================] - 1s 71us/step - loss: 0.6607 - acc: 0.8612\n",
      "Epoch 8/15\n",
      "8982/8982 [==============================] - 1s 71us/step - loss: 0.5569 - acc: 0.8860\n",
      "Epoch 9/15\n",
      "8982/8982 [==============================] - 1s 71us/step - loss: 0.4813 - acc: 0.9004\n",
      "Epoch 10/15\n",
      "8982/8982 [==============================] - 1s 71us/step - loss: 0.4172 - acc: 0.9135\n",
      "Epoch 11/15\n",
      "8982/8982 [==============================] - 1s 71us/step - loss: 0.3581 - acc: 0.9237\n",
      "Epoch 12/15\n",
      "8982/8982 [==============================] - 1s 71us/step - loss: 0.3150 - acc: 0.9331\n",
      "Epoch 13/15\n",
      "8982/8982 [==============================] - 1s 71us/step - loss: 0.2782 - acc: 0.9382\n",
      "Epoch 14/15\n",
      "8982/8982 [==============================] - 1s 72us/step - loss: 0.2459 - acc: 0.9426\n",
      "Epoch 15/15\n",
      "8982/8982 [==============================] - 1s 71us/step - loss: 0.2214 - acc: 0.9476\n",
      "2246/2246 [==============================] - 0s 167us/step\n"
     ]
    },
    {
     "data": {
      "text/plain": [
       "[1.019971413794948, 0.7764915405430118]"
      ]
     },
     "execution_count": 114,
     "metadata": {},
     "output_type": "execute_result"
    }
   ],
   "source": [
    "model= models.Sequential()\n",
    "model.add(layers.Dense(64, activation='relu', input_shape=(10000,)))\n",
    "model.add(layers.Dense(64, activation='relu'))\n",
    "model.add(layers.Dense(46, activation='softmax'))\n",
    "\n",
    "model.compile(optimizer='rmsprop', loss='sparse_categorical_crossentropy', metrics=['accuracy'])\n",
    "\n",
    "model.fit(x_train, y_train, epochs=15, batch_size=1024)\n",
    "\n",
    "results= model.evaluate(x_test, y_test)\n",
    "results"
   ]
  },
  {
   "cell_type": "markdown",
   "metadata": {},
   "source": [
    "### Model with Information Bottleneck\n",
    "Because the final outputs are 46-dimensional, we should avoid intermediate layers with many fewer than 46 hidden units. Now let’s see what happens when we introduce an ```information bottleneck``` by having intermediate layers that are significantly less than 46-dimensional: for example, 4-dimensional"
   ]
  },
  {
   "cell_type": "code",
   "execution_count": 116,
   "metadata": {},
   "outputs": [
    {
     "name": "stdout",
     "output_type": "stream",
     "text": [
      "Train on 7982 samples, validate on 1000 samples\n",
      "Epoch 1/15\n",
      "7982/7982 [==============================] - 2s 190us/step - loss: 3.6265 - acc: 0.0629 - val_loss: 3.4399 - val_acc: 0.1360\n",
      "Epoch 2/15\n",
      "7982/7982 [==============================] - 1s 84us/step - loss: 3.3038 - acc: 0.2378 - val_loss: 3.1886 - val_acc: 0.2690\n",
      "Epoch 3/15\n",
      "7982/7982 [==============================] - 1s 84us/step - loss: 3.0542 - acc: 0.2836 - val_loss: 2.9824 - val_acc: 0.2750\n",
      "Epoch 4/15\n",
      "7982/7982 [==============================] - 1s 83us/step - loss: 2.8444 - acc: 0.2880 - val_loss: 2.8210 - val_acc: 0.2810\n",
      "Epoch 5/15\n",
      "7982/7982 [==============================] - 1s 83us/step - loss: 2.6707 - acc: 0.2953 - val_loss: 2.6784 - val_acc: 0.2860\n",
      "Epoch 6/15\n",
      "7982/7982 [==============================] - 1s 81us/step - loss: 2.5207 - acc: 0.3106 - val_loss: 2.5594 - val_acc: 0.3010\n",
      "Epoch 7/15\n",
      "7982/7982 [==============================] - 1s 84us/step - loss: 2.3923 - acc: 0.3259 - val_loss: 2.4477 - val_acc: 0.3210\n",
      "Epoch 8/15\n",
      "7982/7982 [==============================] - 1s 86us/step - loss: 2.2629 - acc: 0.3358 - val_loss: 2.3363 - val_acc: 0.3240\n",
      "Epoch 9/15\n",
      "7982/7982 [==============================] - 1s 87us/step - loss: 2.1328 - acc: 0.3396 - val_loss: 2.2201 - val_acc: 0.3220\n",
      "Epoch 10/15\n",
      "7982/7982 [==============================] - 1s 89us/step - loss: 1.9946 - acc: 0.3425 - val_loss: 2.0899 - val_acc: 0.3280\n",
      "Epoch 11/15\n",
      "7982/7982 [==============================] - 1s 83us/step - loss: 1.8486 - acc: 0.3452 - val_loss: 1.9584 - val_acc: 0.3340\n",
      "Epoch 12/15\n",
      "7982/7982 [==============================] - 1s 80us/step - loss: 1.7027 - acc: 0.3733 - val_loss: 1.8363 - val_acc: 0.4660\n",
      "Epoch 13/15\n",
      "7982/7982 [==============================] - 1s 82us/step - loss: 1.5666 - acc: 0.5843 - val_loss: 1.7302 - val_acc: 0.6270\n",
      "Epoch 14/15\n",
      "7982/7982 [==============================] - 1s 81us/step - loss: 1.4499 - acc: 0.6584 - val_loss: 1.6306 - val_acc: 0.6510\n",
      "Epoch 15/15\n",
      "7982/7982 [==============================] - 1s 86us/step - loss: 1.3542 - acc: 0.6716 - val_loss: 1.5703 - val_acc: 0.6550\n"
     ]
    },
    {
     "data": {
      "text/plain": [
       "<keras.callbacks.History at 0x16ecc0354a8>"
      ]
     },
     "execution_count": 116,
     "metadata": {},
     "output_type": "execute_result"
    }
   ],
   "source": [
    "model= models.Sequential()\n",
    "model.add(layers.Dense(64, activation='relu', input_shape=(10000,)))\n",
    "model.add(layers.Dense(4, activation='relu'))\n",
    "model.add(layers.Dense(46, activation='softmax'))\n",
    "\n",
    "model.compile(optimizer='rmsprop', loss='categorical_crossentropy', metrics=['accuracy'])\n",
    "\n",
    "model.fit(partial_x_train, partial_y_train, epochs=15, batch_size=1024, validation_data=(x_val, y_val))"
   ]
  },
  {
   "cell_type": "markdown",
   "metadata": {},
   "source": [
    "Now **Validation Accuracy** is ***65.5%***. There is ***~19.6%*** of dip in validation accuracy\n",
    "\n",
    "### Experiment: Increase the number of layer and hidden units"
   ]
  },
  {
   "cell_type": "code",
   "execution_count": 121,
   "metadata": {},
   "outputs": [
    {
     "name": "stdout",
     "output_type": "stream",
     "text": [
      "Train on 7982 samples, validate on 1000 samples\n",
      "Epoch 1/15\n",
      "7982/7982 [==============================] - 1s 160us/step - loss: 2.8714 - acc: 0.4506 - val_loss: 2.0148 - val_acc: 0.5330\n",
      "Epoch 2/15\n",
      "7982/7982 [==============================] - 1s 84us/step - loss: 1.6203 - acc: 0.6426 - val_loss: 1.4954 - val_acc: 0.6530\n",
      "Epoch 3/15\n",
      "7982/7982 [==============================] - 1s 83us/step - loss: 1.2588 - acc: 0.7116 - val_loss: 1.2721 - val_acc: 0.7100\n",
      "Epoch 4/15\n",
      "7982/7982 [==============================] - 1s 83us/step - loss: 1.0306 - acc: 0.7601 - val_loss: 1.2365 - val_acc: 0.7310\n",
      "Epoch 5/15\n",
      "7982/7982 [==============================] - 1s 83us/step - loss: 0.8308 - acc: 0.8140 - val_loss: 1.0840 - val_acc: 0.7600\n",
      "Epoch 6/15\n",
      "7982/7982 [==============================] - 1s 82us/step - loss: 0.6529 - acc: 0.8558 - val_loss: 1.0307 - val_acc: 0.7810\n",
      "Epoch 7/15\n",
      "7982/7982 [==============================] - 1s 82us/step - loss: 0.6232 - acc: 0.8567 - val_loss: 0.9794 - val_acc: 0.7950\n",
      "Epoch 8/15\n",
      "7982/7982 [==============================] - 1s 92us/step - loss: 0.4390 - acc: 0.9094 - val_loss: 1.0497 - val_acc: 0.7650\n",
      "Epoch 9/15\n",
      "7982/7982 [==============================] - 1s 87us/step - loss: 0.3683 - acc: 0.9248 - val_loss: 0.9527 - val_acc: 0.8020\n",
      "Epoch 10/15\n",
      "7982/7982 [==============================] - 1s 86us/step - loss: 0.3044 - acc: 0.9347 - val_loss: 1.0644 - val_acc: 0.7890\n",
      "Epoch 11/15\n",
      "7982/7982 [==============================] - 1s 86us/step - loss: 0.3893 - acc: 0.9082 - val_loss: 0.9414 - val_acc: 0.8160\n",
      "Epoch 12/15\n",
      "7982/7982 [==============================] - 1s 86us/step - loss: 0.2163 - acc: 0.9483 - val_loss: 0.9607 - val_acc: 0.8100\n",
      "Epoch 13/15\n",
      "7982/7982 [==============================] - 1s 87us/step - loss: 0.1916 - acc: 0.9509 - val_loss: 0.9878 - val_acc: 0.8090\n",
      "Epoch 14/15\n",
      "7982/7982 [==============================] - 1s 86us/step - loss: 0.1716 - acc: 0.9541 - val_loss: 0.9944 - val_acc: 0.7960\n",
      "Epoch 15/15\n",
      "7982/7982 [==============================] - 1s 85us/step - loss: 0.1592 - acc: 0.9553 - val_loss: 1.0649 - val_acc: 0.7980\n"
     ]
    },
    {
     "data": {
      "text/plain": [
       "<keras.callbacks.History at 0x16ecf19d588>"
      ]
     },
     "execution_count": 121,
     "metadata": {},
     "output_type": "execute_result"
    }
   ],
   "source": [
    "model= models.Sequential()\n",
    "model.add(layers.Dense(128, activation='relu', input_shape=(10000,)))\n",
    "model.add(layers.Dense(128, activation='relu'))\n",
    "model.add(layers.Dense(64, activation='relu'))\n",
    "model.add(layers.Dense(46, activation='softmax'))\n",
    "\n",
    "model.compile(optimizer='rmsprop', loss='categorical_crossentropy', metrics=['accuracy'])\n",
    "\n",
    "model.fit(partial_x_train, partial_y_train, epochs=15, batch_size=1024, validation_data=(x_val, y_val))"
   ]
  }
 ],
 "metadata": {
  "kernelspec": {
   "display_name": "Python 3",
   "language": "python",
   "name": "python3"
  },
  "language_info": {
   "codemirror_mode": {
    "name": "ipython",
    "version": 3
   },
   "file_extension": ".py",
   "mimetype": "text/x-python",
   "name": "python",
   "nbconvert_exporter": "python",
   "pygments_lexer": "ipython3",
   "version": "3.6.6"
  }
 },
 "nbformat": 4,
 "nbformat_minor": 2
}
