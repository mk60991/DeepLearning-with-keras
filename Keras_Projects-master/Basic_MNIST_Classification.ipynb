{
 "cells": [
  {
   "cell_type": "code",
   "execution_count": 1,
   "metadata": {},
   "outputs": [
    {
     "name": "stderr",
     "output_type": "stream",
     "text": [
      "Using TensorFlow backend.\n"
     ]
    }
   ],
   "source": [
    "#MNIST classification\n",
    "\n",
    "from keras import models\n",
    "from keras import layers\n",
    "from keras.datasets import mnist\n",
    "from keras.utils import to_categorical"
   ]
  },
  {
   "cell_type": "code",
   "execution_count": 2,
   "metadata": {},
   "outputs": [],
   "source": [
    "(train_images, train_labels), (test_images, test_labels)= mnist.load_data()"
   ]
  },
  {
   "cell_type": "code",
   "execution_count": 3,
   "metadata": {},
   "outputs": [
    {
     "data": {
      "text/plain": [
       "(60000, 28, 28)"
      ]
     },
     "execution_count": 3,
     "metadata": {},
     "output_type": "execute_result"
    }
   ],
   "source": [
    "train_images.shape"
   ]
  },
  {
   "cell_type": "code",
   "execution_count": 4,
   "metadata": {},
   "outputs": [
    {
     "data": {
      "text/plain": [
       "60000"
      ]
     },
     "execution_count": 4,
     "metadata": {},
     "output_type": "execute_result"
    }
   ],
   "source": [
    "len(train_labels)"
   ]
  },
  {
   "cell_type": "code",
   "execution_count": 5,
   "metadata": {},
   "outputs": [
    {
     "data": {
      "text/plain": [
       "numpy.ndarray"
      ]
     },
     "execution_count": 5,
     "metadata": {},
     "output_type": "execute_result"
    }
   ],
   "source": [
    "type(train_labels)"
   ]
  },
  {
   "cell_type": "code",
   "execution_count": 6,
   "metadata": {},
   "outputs": [
    {
     "data": {
      "text/plain": [
       "array([5, 0, 4, ..., 5, 6, 8], dtype=uint8)"
      ]
     },
     "execution_count": 6,
     "metadata": {},
     "output_type": "execute_result"
    }
   ],
   "source": [
    "train_labels"
   ]
  },
  {
   "cell_type": "code",
   "execution_count": 7,
   "metadata": {},
   "outputs": [
    {
     "data": {
      "text/plain": [
       "(10000, 28, 28)"
      ]
     },
     "execution_count": 7,
     "metadata": {},
     "output_type": "execute_result"
    }
   ],
   "source": [
    "test_images.shape"
   ]
  },
  {
   "cell_type": "code",
   "execution_count": 8,
   "metadata": {},
   "outputs": [
    {
     "data": {
      "text/plain": [
       "array([7, 2, 1, ..., 4, 5, 6], dtype=uint8)"
      ]
     },
     "execution_count": 8,
     "metadata": {},
     "output_type": "execute_result"
    }
   ],
   "source": [
    "test_labels"
   ]
  },
  {
   "cell_type": "code",
   "execution_count": 9,
   "metadata": {},
   "outputs": [
    {
     "data": {
      "text/plain": [
       "(10000,)"
      ]
     },
     "execution_count": 9,
     "metadata": {},
     "output_type": "execute_result"
    }
   ],
   "source": [
    "test_labels.shape"
   ]
  },
  {
   "cell_type": "code",
   "execution_count": 10,
   "metadata": {},
   "outputs": [],
   "source": [
    "network= models.Sequential()\n",
    "network.add(layers.Dense(512, activation='relu', input_shape=(28*28,)))\n",
    "network.add(layers.Dense(10, activation='softmax'))"
   ]
  },
  {
   "cell_type": "code",
   "execution_count": 11,
   "metadata": {},
   "outputs": [],
   "source": [
    "network.compile(optimizer='rmsprop', loss='categorical_crossentropy', metrics=['accuracy'] )"
   ]
  },
  {
   "cell_type": "code",
   "execution_count": 12,
   "metadata": {},
   "outputs": [],
   "source": [
    "#reshaping the images in the range of [0,1]\n",
    "\n",
    "train_images=train_images.reshape(60000, (28*28))\n",
    "test_images=test_images.reshape(10000, (28*28))"
   ]
  },
  {
   "cell_type": "code",
   "execution_count": 13,
   "metadata": {},
   "outputs": [],
   "source": [
    "train_images=train_images.astype('float32')/255.0\n",
    "test_images=test_images.astype('float32')/255.0"
   ]
  },
  {
   "cell_type": "code",
   "execution_count": 14,
   "metadata": {},
   "outputs": [],
   "source": [
    "train_labels= to_categorical(train_labels)\n",
    "test_labels= to_categorical(test_labels)"
   ]
  },
  {
   "cell_type": "code",
   "execution_count": 15,
   "metadata": {},
   "outputs": [
    {
     "name": "stdout",
     "output_type": "stream",
     "text": [
      "Epoch 1/100\n",
      "60000/60000 [==============================] - 15s 251us/step - loss: 0.3989 - acc: 0.8873\n",
      "Epoch 2/100\n",
      "60000/60000 [==============================] - 0s 8us/step - loss: 0.1759 - acc: 0.9496\n",
      "Epoch 3/100\n",
      "60000/60000 [==============================] - 0s 8us/step - loss: 0.1201 - acc: 0.9653\n",
      "Epoch 4/100\n",
      "60000/60000 [==============================] - 1s 9us/step - loss: 0.0886 - acc: 0.9747\n",
      "Epoch 5/100\n",
      "60000/60000 [==============================] - 1s 9us/step - loss: 0.0692 - acc: 0.9798\n",
      "Epoch 6/100\n",
      "60000/60000 [==============================] - 1s 9us/step - loss: 0.0550 - acc: 0.9839\n",
      "Epoch 7/100\n",
      "60000/60000 [==============================] - 1s 11us/step - loss: 0.0443 - acc: 0.9875\n",
      "Epoch 8/100\n",
      "60000/60000 [==============================] - 1s 9us/step - loss: 0.0360 - acc: 0.9903\n",
      "Epoch 9/100\n",
      "60000/60000 [==============================] - 0s 8us/step - loss: 0.0294 - acc: 0.9920\n",
      "Epoch 10/100\n",
      "60000/60000 [==============================] - 1s 8us/step - loss: 0.0236 - acc: 0.9942\n",
      "Epoch 11/100\n",
      "60000/60000 [==============================] - 0s 8us/step - loss: 0.0196 - acc: 0.9950\n",
      "Epoch 12/100\n",
      "60000/60000 [==============================] - 0s 8us/step - loss: 0.0157 - acc: 0.9961\n",
      "Epoch 13/100\n",
      "60000/60000 [==============================] - 1s 9us/step - loss: 0.0135 - acc: 0.9969\n",
      "Epoch 14/100\n",
      "60000/60000 [==============================] - 0s 8us/step - loss: 0.0107 - acc: 0.9977\n",
      "Epoch 15/100\n",
      "60000/60000 [==============================] - 0s 8us/step - loss: 0.0087 - acc: 0.9982\n",
      "Epoch 16/100\n",
      "60000/60000 [==============================] - 0s 8us/step - loss: 0.0071 - acc: 0.9989\n",
      "Epoch 17/100\n",
      "60000/60000 [==============================] - 0s 8us/step - loss: 0.0060 - acc: 0.9989\n",
      "Epoch 18/100\n",
      "60000/60000 [==============================] - 0s 8us/step - loss: 0.0051 - acc: 0.9989\n",
      "Epoch 19/100\n",
      "60000/60000 [==============================] - 0s 8us/step - loss: 0.0041 - acc: 0.9994\n",
      "Epoch 20/100\n",
      "60000/60000 [==============================] - 0s 8us/step - loss: 0.0033 - acc: 0.9993\n",
      "Epoch 21/100\n",
      "60000/60000 [==============================] - 0s 8us/step - loss: 0.0027 - acc: 0.9996\n",
      "Epoch 22/100\n",
      "60000/60000 [==============================] - 0s 8us/step - loss: 0.0026 - acc: 0.9994\n",
      "Epoch 23/100\n",
      "60000/60000 [==============================] - 0s 8us/step - loss: 0.0017 - acc: 0.9998\n",
      "Epoch 24/100\n",
      "60000/60000 [==============================] - 0s 8us/step - loss: 0.0014 - acc: 0.9999\n",
      "Epoch 25/100\n",
      "60000/60000 [==============================] - 1s 8us/step - loss: 0.0014 - acc: 0.9998\n",
      "Epoch 26/100\n",
      "60000/60000 [==============================] - 0s 8us/step - loss: 0.0011 - acc: 0.9998\n",
      "Epoch 27/100\n",
      "60000/60000 [==============================] - 0s 8us/step - loss: 9.1688e-04 - acc: 0.9998\n",
      "Epoch 28/100\n",
      "60000/60000 [==============================] - 0s 8us/step - loss: 7.8701e-04 - acc: 0.9998\n",
      "Epoch 29/100\n",
      "60000/60000 [==============================] - 1s 9us/step - loss: 6.3780e-04 - acc: 0.9999\n",
      "Epoch 30/100\n",
      "60000/60000 [==============================] - 0s 8us/step - loss: 5.3189e-04 - acc: 0.9999\n",
      "Epoch 31/100\n",
      "60000/60000 [==============================] - 0s 8us/step - loss: 5.2936e-04 - acc: 0.9999\n",
      "Epoch 32/100\n",
      "60000/60000 [==============================] - 0s 8us/step - loss: 4.4480e-04 - acc: 0.9999\n",
      "Epoch 33/100\n",
      "60000/60000 [==============================] - 0s 8us/step - loss: 3.6759e-04 - acc: 0.9999\n",
      "Epoch 34/100\n",
      "60000/60000 [==============================] - 0s 8us/step - loss: 2.2418e-04 - acc: 1.0000\n",
      "Epoch 35/100\n",
      "60000/60000 [==============================] - 0s 8us/step - loss: 2.6625e-04 - acc: 1.0000\n",
      "Epoch 36/100\n",
      "60000/60000 [==============================] - 0s 8us/step - loss: 2.0854e-04 - acc: 1.0000\n",
      "Epoch 37/100\n",
      "60000/60000 [==============================] - 0s 8us/step - loss: 5.0847e-04 - acc: 0.9999\n",
      "Epoch 38/100\n",
      "60000/60000 [==============================] - 0s 8us/step - loss: 4.0101e-04 - acc: 0.9999\n",
      "Epoch 39/100\n",
      "60000/60000 [==============================] - 0s 8us/step - loss: 2.5230e-04 - acc: 0.9999\n",
      "Epoch 40/100\n",
      "60000/60000 [==============================] - 0s 8us/step - loss: 1.3137e-04 - acc: 1.0000\n",
      "Epoch 41/100\n",
      "60000/60000 [==============================] - 0s 8us/step - loss: 8.3528e-05 - acc: 1.0000\n",
      "Epoch 42/100\n",
      "60000/60000 [==============================] - 0s 8us/step - loss: 7.6349e-05 - acc: 1.0000\n",
      "Epoch 43/100\n",
      "60000/60000 [==============================] - 0s 8us/step - loss: 1.7203e-04 - acc: 1.0000\n",
      "Epoch 44/100\n",
      "60000/60000 [==============================] - 0s 8us/step - loss: 2.6422e-04 - acc: 1.0000\n",
      "Epoch 45/100\n",
      "60000/60000 [==============================] - 0s 8us/step - loss: 8.4872e-05 - acc: 1.0000\n",
      "Epoch 46/100\n",
      "60000/60000 [==============================] - 0s 8us/step - loss: 2.4717e-05 - acc: 1.0000\n",
      "Epoch 47/100\n",
      "60000/60000 [==============================] - 0s 8us/step - loss: 8.8916e-05 - acc: 1.0000\n",
      "Epoch 48/100\n",
      "60000/60000 [==============================] - 0s 8us/step - loss: 2.2639e-05 - acc: 1.0000\n",
      "Epoch 49/100\n",
      "60000/60000 [==============================] - 0s 8us/step - loss: 2.6495e-05 - acc: 1.0000\n",
      "Epoch 50/100\n",
      "60000/60000 [==============================] - 0s 8us/step - loss: 1.1109e-04 - acc: 1.0000\n",
      "Epoch 51/100\n",
      "60000/60000 [==============================] - 0s 8us/step - loss: 1.0850e-05 - acc: 1.0000\n",
      "Epoch 52/100\n",
      "60000/60000 [==============================] - 0s 8us/step - loss: 3.6017e-05 - acc: 1.0000\n",
      "Epoch 53/100\n",
      "60000/60000 [==============================] - 0s 8us/step - loss: 3.6596e-05 - acc: 1.0000\n",
      "Epoch 54/100\n",
      "60000/60000 [==============================] - 0s 8us/step - loss: 2.3288e-05 - acc: 1.0000\n",
      "Epoch 55/100\n",
      "60000/60000 [==============================] - 0s 8us/step - loss: 5.6074e-05 - acc: 1.0000\n",
      "Epoch 56/100\n",
      "60000/60000 [==============================] - 0s 8us/step - loss: 4.4618e-06 - acc: 1.0000\n",
      "Epoch 57/100\n",
      "60000/60000 [==============================] - 0s 8us/step - loss: 4.8571e-05 - acc: 1.0000\n",
      "Epoch 58/100\n",
      "60000/60000 [==============================] - 0s 8us/step - loss: 1.2902e-06 - acc: 1.0000\n",
      "Epoch 59/100\n",
      "60000/60000 [==============================] - 0s 8us/step - loss: 7.3812e-06 - acc: 1.0000\n",
      "Epoch 60/100\n",
      "60000/60000 [==============================] - 0s 8us/step - loss: 8.5362e-05 - acc: 1.0000\n",
      "Epoch 61/100\n",
      "60000/60000 [==============================] - 0s 8us/step - loss: 1.8471e-06 - acc: 1.0000\n",
      "Epoch 62/100\n",
      "60000/60000 [==============================] - 0s 8us/step - loss: 4.5341e-07 - acc: 1.0000\n",
      "Epoch 63/100\n",
      "60000/60000 [==============================] - 0s 8us/step - loss: 9.6936e-07 - acc: 1.0000\n",
      "Epoch 64/100\n",
      "60000/60000 [==============================] - 0s 8us/step - loss: 3.3245e-07 - acc: 1.0000\n",
      "Epoch 65/100\n",
      "60000/60000 [==============================] - 0s 8us/step - loss: 2.7776e-07 - acc: 1.0000\n",
      "Epoch 66/100\n",
      "60000/60000 [==============================] - 0s 8us/step - loss: 2.5433e-07 - acc: 1.0000\n",
      "Epoch 67/100\n",
      "60000/60000 [==============================] - 0s 8us/step - loss: 2.3824e-07 - acc: 1.0000\n",
      "Epoch 68/100\n",
      "60000/60000 [==============================] - 0s 8us/step - loss: 2.2516e-07 - acc: 1.0000\n",
      "Epoch 69/100\n",
      "60000/60000 [==============================] - 0s 8us/step - loss: 2.1625e-07 - acc: 1.0000\n",
      "Epoch 70/100\n",
      "60000/60000 [==============================] - 0s 8us/step - loss: 2.0792e-07 - acc: 1.0000\n",
      "Epoch 71/100\n",
      "60000/60000 [==============================] - 0s 8us/step - loss: 2.0071e-07 - acc: 1.0000\n",
      "Epoch 72/100\n",
      "60000/60000 [==============================] - 0s 8us/step - loss: 1.9613e-07 - acc: 1.0000\n",
      "Epoch 73/100\n",
      "60000/60000 [==============================] - 0s 8us/step - loss: 1.9058e-07 - acc: 1.0000\n",
      "Epoch 74/100\n",
      "60000/60000 [==============================] - 0s 8us/step - loss: 1.8597e-07 - acc: 1.0000\n",
      "Epoch 75/100\n",
      "60000/60000 [==============================] - 0s 8us/step - loss: 1.8233e-07 - acc: 1.0000\n",
      "Epoch 76/100\n",
      "60000/60000 [==============================] - 0s 8us/step - loss: 1.7860e-07 - acc: 1.0000\n",
      "Epoch 77/100\n",
      "60000/60000 [==============================] - 0s 8us/step - loss: 1.7527e-07 - acc: 1.0000\n",
      "Epoch 78/100\n",
      "60000/60000 [==============================] - 0s 8us/step - loss: 1.7231e-07 - acc: 1.0000\n",
      "Epoch 79/100\n",
      "60000/60000 [==============================] - 0s 8us/step - loss: 1.7000e-07 - acc: 1.0000\n",
      "Epoch 80/100\n"
     ]
    },
    {
     "name": "stdout",
     "output_type": "stream",
     "text": [
      "60000/60000 [==============================] - 0s 8us/step - loss: 1.6726e-07 - acc: 1.0000\n",
      "Epoch 81/100\n",
      "60000/60000 [==============================] - 0s 8us/step - loss: 1.6593e-07 - acc: 1.0000\n",
      "Epoch 82/100\n",
      "60000/60000 [==============================] - 0s 8us/step - loss: 1.6332e-07 - acc: 1.0000\n",
      "Epoch 83/100\n",
      "60000/60000 [==============================] - 0s 8us/step - loss: 1.6132e-07 - acc: 1.0000\n",
      "Epoch 84/100\n",
      "60000/60000 [==============================] - 0s 8us/step - loss: 1.5976e-07 - acc: 1.0000\n",
      "Epoch 85/100\n",
      "60000/60000 [==============================] - 0s 8us/step - loss: 1.5800e-07 - acc: 1.0000\n",
      "Epoch 86/100\n",
      "60000/60000 [==============================] - 0s 8us/step - loss: 1.5641e-07 - acc: 1.0000\n",
      "Epoch 87/100\n",
      "60000/60000 [==============================] - 0s 8us/step - loss: 1.5503e-07 - acc: 1.0000\n",
      "Epoch 88/100\n",
      "60000/60000 [==============================] - 0s 8us/step - loss: 1.5381e-07 - acc: 1.0000\n",
      "Epoch 89/100\n",
      "60000/60000 [==============================] - 0s 8us/step - loss: 1.5255e-07 - acc: 1.0000\n",
      "Epoch 90/100\n",
      "60000/60000 [==============================] - 0s 8us/step - loss: 1.5146e-07 - acc: 1.0000\n",
      "Epoch 91/100\n",
      "60000/60000 [==============================] - 0s 8us/step - loss: 1.5028e-07 - acc: 1.0000\n",
      "Epoch 92/100\n",
      "60000/60000 [==============================] - 0s 8us/step - loss: 1.4913e-07 - acc: 1.0000\n",
      "Epoch 93/100\n",
      "60000/60000 [==============================] - 0s 8us/step - loss: 1.4830e-07 - acc: 1.0000\n",
      "Epoch 94/100\n",
      "60000/60000 [==============================] - 0s 8us/step - loss: 1.4706e-07 - acc: 1.0000\n",
      "Epoch 95/100\n",
      "60000/60000 [==============================] - 0s 8us/step - loss: 1.4636e-07 - acc: 1.0000\n",
      "Epoch 96/100\n",
      "60000/60000 [==============================] - 0s 8us/step - loss: 1.4555e-07 - acc: 1.0000\n",
      "Epoch 97/100\n",
      "60000/60000 [==============================] - 0s 8us/step - loss: 1.4472e-07 - acc: 1.0000\n",
      "Epoch 98/100\n",
      "60000/60000 [==============================] - 0s 8us/step - loss: 1.4399e-07 - acc: 1.0000\n",
      "Epoch 99/100\n",
      "60000/60000 [==============================] - 0s 8us/step - loss: 1.4322e-07 - acc: 1.0000\n",
      "Epoch 100/100\n",
      "60000/60000 [==============================] - 0s 8us/step - loss: 1.4261e-07 - acc: 1.0000\n"
     ]
    },
    {
     "data": {
      "text/plain": [
       "<keras.callbacks.History at 0x1725a90bcc0>"
      ]
     },
     "execution_count": 15,
     "metadata": {},
     "output_type": "execute_result"
    }
   ],
   "source": [
    "network.fit(train_images, train_labels, epochs=100, batch_size=512)"
   ]
  },
  {
   "cell_type": "code",
   "execution_count": 18,
   "metadata": {},
   "outputs": [
    {
     "name": "stdout",
     "output_type": "stream",
     "text": [
      "10000/10000 [==============================] - 1s 64us/step\n"
     ]
    }
   ],
   "source": [
    "test_loss, test_acc=network.evaluate(test_images, test_labels)"
   ]
  },
  {
   "cell_type": "code",
   "execution_count": 19,
   "metadata": {},
   "outputs": [
    {
     "name": "stdout",
     "output_type": "stream",
     "text": [
      "test_loss:  0.11948678169908374  test_acc:  0.9835\n"
     ]
    }
   ],
   "source": [
    "print(\"test_loss: \", test_loss,\" test_acc: \",test_acc)"
   ]
  },
  {
   "cell_type": "code",
   "execution_count": 24,
   "metadata": {},
   "outputs": [],
   "source": [
    "op=network.predict(test_images)"
   ]
  },
  {
   "cell_type": "code",
   "execution_count": 25,
   "metadata": {},
   "outputs": [
    {
     "name": "stdout",
     "output_type": "stream",
     "text": [
      "[4.44289328e-31 2.03777414e-20 1.00000000e+00 2.85414517e-27\n",
      " 0.00000000e+00 3.47866071e-29 1.17351245e-27 0.00000000e+00\n",
      " 3.10548134e-27 0.00000000e+00]\n"
     ]
    }
   ],
   "source": [
    "print(op[1])"
   ]
  },
  {
   "cell_type": "code",
   "execution_count": 26,
   "metadata": {},
   "outputs": [
    {
     "data": {
      "text/plain": [
       "array([0., 0., 1., 0., 0., 0., 0., 0., 0., 0.], dtype=float32)"
      ]
     },
     "execution_count": 26,
     "metadata": {},
     "output_type": "execute_result"
    }
   ],
   "source": [
    "test_labels[1]"
   ]
  },
  {
   "cell_type": "code",
   "execution_count": null,
   "metadata": {},
   "outputs": [],
   "source": []
  }
 ],
 "metadata": {
  "kernelspec": {
   "display_name": "Python 3",
   "language": "python",
   "name": "python3"
  },
  "language_info": {
   "codemirror_mode": {
    "name": "ipython",
    "version": 3
   },
   "file_extension": ".py",
   "mimetype": "text/x-python",
   "name": "python",
   "nbconvert_exporter": "python",
   "pygments_lexer": "ipython3",
   "version": "3.6.6"
  }
 },
 "nbformat": 4,
 "nbformat_minor": 2
}
