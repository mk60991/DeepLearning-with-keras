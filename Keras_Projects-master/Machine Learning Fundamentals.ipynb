{
 "cells": [
  {
   "cell_type": "markdown",
   "metadata": {},
   "source": [
    "# Machine Learning Fundamentals\n",
    "\n",
    "- Model Evaluation\n",
    "- Data Preprocessing\n",
    "- Feature Engineering\n",
    "- Overfitting"
   ]
  },
  {
   "cell_type": "markdown",
   "metadata": {},
   "source": [
    "### Branches of Machine Learning\n",
    "\n",
    "#### Supervised Learning\n",
    "It consists of learning to map input data to known targets (also called *annotations*).\n",
    "> Optical character recognition<br/>\n",
    "> Speech recognition<br/>\n",
    "> Image classification<br/>\n",
    "> Language translation\n",
    "\n",
    "Few Exotic Variants are:\n",
    " - **Sequence generation—** Given a picture, predict a caption describing it. Sequence generation can sometimes be reformulated as a series of classification problems (such as repeatedly predicting a word or token in a sequence).\n",
    " - **Syntax tree prediction—** Given a sentence, predict its decomposition into a syntax tree.\n",
    " - **Object detection—** Given a picture, draw a bounding box around certain objects inside the picture. This can also be expressed as a classification problem (given many candidate bounding boxes, classify the contents of each one) or as a joint classification and regression problem, where the bounding-box coordinates are predicted via vector regression.\n",
    " - **Image segmentation—** Given a picture, draw a pixel-level mask on a specific object.\n",
    " \n",
    "#### Unsupervised Learning\n",
    "This branch of machine learning consists of finding interesting transformations of the input data without the help of any targets, for the purposes of data visualization, data compression, or data denoising, or to better understand the correlations present in the data at hand. It’s often a necessary step in better understanding a dataset before attempting to solve a supervised-learning problem. ```Dimensionality reduction``` and ```clustering``` are well-known categories of unsupervised learning.\n",
    "\n",
    "#### Self-Supervised Learning\n",
    "Self-supervised learning is supervised learning without human-annotated labels. There are still labels involved (because the learning has to be supervised by something), but they’re generated from the input data, typically using a heuristic algorithm.\n",
    "\n",
    "For instance, *autoencoders* are a well-known instance of self-supervised learning, where the generated targets are the input, unmodified. In the same way, trying to predict the next frame in a video, given past frames, or the next word in a text, given previous words, are instances of self-supervised learning (temporally supervised learning, in this case: supervision comes from future input data). Note that the distinction between supervised, self-supervised, and unsupervised learning can be blurry sometimes—these categories are more of a continuum without solid borders. Self-supervised learning can be reinterpreted as either supervised or unsupervised learning, depending on whether we pay attention to the learning mechanism or to the context of its application.\n",
    "\n",
    "#### Reinforcement Learning\n",
    "In reinforcement learning, an *agent* receives information about its environment and learns to choose actions that will maximize some reward. For instance, a neural network that “looks” at a videogame screen and outputs game actions in order to maximize its score can be trained via reinforcement learning.\n",
    "\n",
    "#### Classification & Regression Glossary\n",
    " - **Sample or input—** One data point that goes into model.\n",
    " - **Prediction or output—** What comes out of model.\n",
    " - **Target—** The truth. The value that the model should ideally have predicted, according to an external source of data.\n",
    " - **Prediction error or loss value—** A measure of the distance between model’s prediction and the target.\n",
    " - **Classes—** A set of possible labels to choose from in a classification problem. For example, when classifying cat and dog pictures, “dog” and “cat” are the two classes.\n",
    " - **Label—** A specific instance of a class annotation in a classification problem. For instance, if picture #1234 is annotated as containing the class “dog,” then “dog” is a label of picture #1234.\n",
    " - **Ground-truth or annotations—** All targets for a dataset, typically collected by humans.\n",
    " - **Binary classification—** A classification task where each input sample should be categorized into two exclusive categories.\n",
    " - **Multiclass classification—** A classification task where each input sample should be categorized into more than two categories: for instance, classifying handwritten digits.\n",
    " - **Multilabel classification—** A classification task where each input sample can be assigned multiple labels. For instance, a given image may contain both a cat and a dog and should be annotated both with the “cat” label and the “dog” label. The number of labels per image is usually variable.\n",
    " - **Scalar regression—** A task where the target is a continuous scalar value. Predicting house prices is a good example: the different target prices form a continuous space.\n",
    " - **Vector regression—** A task where the target is a set of continuous values: for example, a continuous vector. A regression against multiple values (such as the coordinates of a bounding box in an image) is a *vector regression*.\n",
    " - **Mini-batch or batch—** A small set of samples (typically between 8 and 128) that are processed simultaneously by the model. The number of samples is often a power of 2, to facilitate memory allocation on GPU. When training, a mini-batch is used to compute a single gradient-descent update applied to the weights of the model.\n",
    " \n",
    "\n",
    "#### Evaluate Machine Learning Models\n",
    "We split the data into a training set, a validation set, and a test set. The reason not to evaluate the models on the same data\n",
    "they were trained on quickly became evident: after just a few epochs, all three models began to ```overfit```. That is, their performance on never-before-seen data started stalling (or worsening) compared to their performance on the training data, which always improves as training progresses. \n",
    "\n",
    "In machine learning, the goal is to achieve models that generalize—that perform well on never-before-seen data—and overfitting is the central obstacle. We can only control that which we can observe, so it’s crucial to be able to reliably measure the\n",
    "**generalization power** of the model.\n",
    "\n",
    "#### Training, Validation and Test Sets\n",
    "\n",
    "Evaluating a model always boils down to splitting the available data into three sets: **training**, **validation**, and **test**. Train on the training data and evaluate the model on the validation data. Once the model is ready for prime time, test it one final time on the test data.\n",
    "\n",
    "A model always involves tuning its configuration: for example, choosing the number of layers or the size of the layers (called the *hyperparameters* of the model, to distinguish them from the parameters, which are the network’s weights). We do this tuning by using as a feedback signal the performance of the model on the validation data. In essence, this tuning is a form of *learning*: a search for a good configuration in some parameter space. As a result, tuning the configuration of the model based on its performance on the validation set can quickly result in *overfitting to the validation set*, even though our model is never directly trained on it.\n",
    "\n",
    "Central to this phenomenon is the notion of *information leaks*. Every time we tune a hyperparameter of our model based on the model’s performance on the validation set, some information about the validation data leaks into the model. If we do this\n",
    "only once, for one parameter, then very few bits of information will leak, and your validation set will remain reliable to evaluate the model. But if we repeat this many times—running one experiment, evaluating on the validation set, and modifying our\n",
    "model as a result—then we’ll leak an increasingly significant amount of information about the validation set into the model.\n",
    "\n",
    "We’ll end up with a model that performs artificially well on the validation data, because that’s what we optimized it for. We care about performance on completely new data, not the validation data, so We need to use a completely different, never-before-seen dataset to evaluate the model: the test dataset. Our model shouldn’t have had access to any information about the test set, even indirectly. If anything about the model has been tuned based on test set performance, then our measure of generalization will be flawed.\n",
    "\n",
    "#### SIMPLE HOLD-OUT VALIDATION\n",
    "Set apart some fraction of data as test set. Train on the remaining data, and evaluate on the test set. In order to prevent information leaks, we shouldn’t tune our model based on the test set, and therefore we should also reserve a validation set\n",
    "\n",
    "![capture](https://user-images.githubusercontent.com/13174586/49629047-763c9200-fa0d-11e8-897c-d03463632f5b.JPG)\n",
    "\n",
    "\n",
    "#### Hold-Out Validation"
   ]
  },
  {
   "cell_type": "code",
   "execution_count": null,
   "metadata": {},
   "outputs": [],
   "source": [
    "num_validation_samples= 10000\n",
    "\n",
    "np.random.shuffle(data)\n",
    "\n",
    "validation_data= data[:num_validation_samples]\n",
    "data= data[num_validation_samples:]\n",
    "\n",
    "training_data= data[:]\n",
    "\n",
    "model= get_model()\n",
    "model.train(training_data)\n",
    "\n",
    "validation_score= model.evaluate(validation_data)\n",
    "\n",
    "#Once hyperparameters are tuned, it’s common to train final model from scratch on all non-test data available.\n",
    "model=get_model()\n",
    "model.train(np.concatenate([training_data, validation_data]))\n",
    "\n",
    "test_Score= model.evaluate(test_data)"
   ]
  },
  {
   "cell_type": "markdown",
   "metadata": {},
   "source": [
    "This is the simplest evaluation protocol, and it suffers from one flaw: if little data is available, then our validation and test sets may contain too few samples to be statistically representative of the data at hand. This is easy to recognize: if different random shuffling rounds of the data before splitting end up yielding very different measures of model performance, then we’re having this issue.\n",
    "\n",
    "#### K-FOLD CROSS VALIDATION\n",
    "With this approach, we split your data into *K* partitions of equal size. For each partition *i*, train a model on the remaining *K – 1* partitions, and evaluate it on partition i. Our final score is then the averages of the *K* scores obtained. This method is helpful when the performance of our model shows significant variance based on our traintest split. Like hold-out validation, this method doesn’t exempt us from using a distinct validation set for model calibration.\n",
    "\n",
    "![capture](https://user-images.githubusercontent.com/13174586/49629530-f2d07000-fa0f-11e8-8d2c-8c16abeaa55d.JPG)\n"
   ]
  },
  {
   "cell_type": "code",
   "execution_count": null,
   "metadata": {},
   "outputs": [],
   "source": [
    "k=4\n",
    "num_val_samples= len(data)//4\n",
    "\n",
    "np.random.shuffle(data)\n",
    "\n",
    "validation_scores=[]\n",
    "\n",
    "for fold in range(k):\n",
    "    validation_data=data[fold*num_val_samples:(fold+1)*num_val_samples]\n",
    "    training_data= np.concatenate([data[:fold*num_val_samples], data[(fold+1)*num_val_samples:]])\n",
    "    \n",
    "    model= get_model()\n",
    "    model.train(training_data)\n",
    "    validation_score= model.evaluate(validation_data)\n",
    "    validation_scores.append(validation_score)\n",
    "\n",
    "validation_score= np.average(validation_scores)\n",
    "\n",
    "#Train the final model on all nontest data available\n",
    "\n",
    "model= get_model()\n",
    "model.train(data)\n",
    "test_score= model.evaluate(test_data)"
   ]
  },
  {
   "cell_type": "markdown",
   "metadata": {},
   "source": [
    "#### ITERATED K-FOLD VALIDATION WITH SHUFFLING\n",
    "\n",
    "This one is for situations in which we have relatively little data available and we need to evaluate our model as precisely as possible. It consists of applying K-fold validation multiple times, shuffling the data every time before splitting it *K* ways. The final score is the average of the scores obtained at each run of *K-fold* validation. Note that we end up training and evaluating *P × K* models (where *P* is the number of iterations we use), which can very expensive.\n",
    "\n",
    "\n",
    ">**Data representativeness—** W want both our training set and test set to be representative of the data at hand. For instance, if we’re trying to classify images of digits, and we’re starting from an array of samples where the samples are ordered by their class, taking the first 80% of the array as your training set and the remaining 20% as your test set will result in our training set containing only classes 0–7, whereas our test set contains only classes 8–9. This is a common mistake. For this reason, we usually should *randomly shuffle* our data before splitting it into training and test sets.\n",
    "\n",
    ">**The arrow of time—** If we’re trying to predict the future given the past (for example, tomorrow’s weather, stock movements, and so on), we should not randomly shuffle our data before splitting it, because doing so will create a *temporal leak*: our model will effectively be trained on data from the future. In such situations, we should always make sure all data in our test set is *posterior* to the data in the training set.\n",
    "\n",
    ">**Redundancy in data—** If some data points in our data appear twice (fairly common with real-world data), then shuffling the data and splitting it into a training set and a validation set will result in redundancy between the training and validation sets. In effect, we’ll be testing on part of our training data, which is the worst. Make sure training set and validation\n",
    "set are disjoint.\n",
    "\n",
    "### Data preprocessing for neural networks\n",
    "Data preprocessing aims at making the raw data at hand more amenable to neural networks. This includes **vectorization**, **normalization**, **handling missing values**, and **feature extraction**\n",
    "\n",
    "#### Vectorization\n",
    "All inputs and targets in a neural network must be tensors of floating-point data (or, in specific cases, tensors of integers). Whatever data we need to process—sound, images, text— we must first turn into tensors, a step called ***data vectorization***.\n",
    "\n",
    "#### Value Normalization\n",
    "It isn’t safe to feed into a neural network data that takes relatively large values (for example, multidigit integers, which are much larger than the initial values taken by the weights of a network) or data that is heterogeneous (for example, data where one feature is in the range 0–1 and another is in the range 100–200). Doing so can trigger large gradient updates that will prevent the network from converging. To make learning easier for our network, our data should have the following characteristics:\n",
    " - **Take small values—** Typically, most values should be in the 0–1 range.\n",
    " - **Be homogenous—** All features should take values in roughly the same range.\n",
    " - Normalize each feature independently to have a mean of 0.\n",
    " - Normalize each feature independently to have a standard deviation of 1."
   ]
  },
  {
   "cell_type": "code",
   "execution_count": null,
   "metadata": {},
   "outputs": [],
   "source": [
    "x -= x.mean(axis=0)\n",
    "x /= x.std(axis=0)"
   ]
  },
  {
   "cell_type": "markdown",
   "metadata": {},
   "source": [
    "#### Handling Missing Values\n",
    "With neural networks, it’s safe to input missing values as 0, with the condition that 0 isn’t already a meaningful value. The network will learn from exposure to the data that the value 0 means missing data and will start ignoring the value.\n",
    "\n",
    "If we’re expecting missing values in the test data, but the network was trained on data without any missing values, the network won’t have learned to ignore missing values! In this situation, we should artificially generate training samples with missing entries: copy some training samples several times, and drop some of the features that we expect are likely to be missing in the test data.\n",
    "\n",
    "#### Feature Engineering\n",
    "*Feature engineering* is the process of using our own knowledge about the data and about the machine-learning algorithm at hand (in this case, a neural network) to make the algorithm work better by applying hardcoded (nonlearned) transformations to the data before it goes into the model. In many cases, it isn’t reasonable to expect a machine learning model to be able to learn\n",
    "from completely arbitrary data. The data needs to be presented to the model in a way that will make the model’s job easier.\n",
    "\n",
    "Let’s look at an intuitive example. Suppose we’re trying to develop a model that can take as input an image of a clock and can output the time of day.\n",
    "\n",
    "![capture](https://user-images.githubusercontent.com/13174586/49630979-4e056100-fa16-11e8-8116-fe527cb9691e.JPG)\n",
    "\n",
    "\n",
    "### Overfitting and underfitting\n",
    "the performance of the model on the held-out validation data always peaked after a few epochs and then began to degrade: the\n",
    "model quickly started to *overfit* to the training data. Overfitting happens in every machine-learning problem."
   ]
  },
  {
   "cell_type": "markdown",
   "metadata": {},
   "source": [
    "The fundamental issue in machine learning is the tension between *optimization* and *generalization*. Optimization refers to the process of adjusting a model to get the best performance possible on the training data (the learning in machine learning),\n",
    "whereas generalization refers to how well the trained model performs on data it has never seen before. The goal of the game is to get good generalization, of course, but you don’t control generalization; you can only adjust the model based on its training\n",
    "data.\n",
    "\n",
    "At the beginning of training, optimization and generalization are correlated: the lower the loss on training data, the lower the loss on test data. While this is happening, our model is said to be ```underfit```: there is still progress to be made; the network hasn’t yet modeled all relevant patterns in the training data. But after a certain number of iterations on the training data, generalization stops improving, and validation metrics stall and then begin to degrade: the model is starting to ```overfit```. That is, it’s beginning to learn patterns that are specific to the training data but that are misleading or irrelevant when it comes to new data.\n",
    "\n",
    "To prevent a model from learning misleading or irrelevant patterns found in the training data, the best solution is to get more training data. A model trained on more data will naturally generalize better. When that isn’t possible, the next-best solution is to modulate the quantity of information that our model is allowed to store or to add constraints on what information it’s allowed to store. If a network can only afford to memorize a small number of patterns, the optimization process will force it to focus on the most prominent patterns, which have a better chance of generalizing well.\n",
    "\n",
    "The processing of fighting overfitting this way is called **regularization**.\n",
    "\n",
    "\n",
    "#### Reducing the network’s size\n",
    "The simplest way to prevent overfitting is to reduce the size of the model: the number of *learnable parameters* in the model (which is determined by the number of layers and the number of units per layer). In deep learning, the number of learnable parameters in a model is often referred to as the model’s **capacity**. Intuitively, a model with more parameters has more **memorization capacity** and therefore can easily learn a perfect dictionary-like mapping between training samples and their targets—a mapping without any generalization power. \n",
    "\n",
    "For instance, a model with 500,000 binary parameters could easily be made to learn the class of every digit in the MNIST training set: we’d need only 10 binary parameters for each of the 50,000 digits. But such a model would be useless for classifying new digit samples. \n",
    "\n",
    ">*Deeplearning models tend to be good at fitting to the training data, but the real challenge is generalization, not fitting.*\n",
    "\n",
    "On the other hand, if the network has limited memorization resources, it won’t be able to learn this mapping as easily; thus, in order to minimize its loss, it will have to resort to learning compressed representations that have predictive power regarding\n",
    "the targets—precisely the type of representations we’re interested in. At the same time, keep in mind that we should use models that have enough parameters that they don’t underfit: our model shouldn’t be starved for memorization resources. There is\n",
    "a compromise to be found between **too much capacity** and **not enough capacity**.\n",
    "\n",
    "We must evaluate an array of different architectures (on our validation set, not on our test set) in order to find the correct model size for our data. The general workflow to find an appropriate model size is to start with relatively few layers and parameters, and increase the size of the layers or add new layers until we see diminishing returns with regard to validation loss.\n",
    "\n",
    "#### Original Model"
   ]
  },
  {
   "cell_type": "code",
   "execution_count": null,
   "metadata": {},
   "outputs": [],
   "source": [
    "from keras import models\n",
    "from keras import layers\n",
    "model = models.Sequential()\n",
    "model.add(layers.Dense(16, activation='relu', input_shape=(10000,)))\n",
    "model.add(layers.Dense(16, activation='relu'))\n",
    "model.add(layers.Dense(1, activation='sigmoid'))"
   ]
  },
  {
   "cell_type": "markdown",
   "metadata": {},
   "source": [
    "#### Smaller Model"
   ]
  },
  {
   "cell_type": "code",
   "execution_count": null,
   "metadata": {},
   "outputs": [],
   "source": [
    "model = models.Sequential()\n",
    "model.add(layers.Dense(4, activation='relu', input_shape=(10000,)))\n",
    "model.add(layers.Dense(4, activation='relu'))\n",
    "model.add(layers.Dense(1, activation='sigmoid'))"
   ]
  },
  {
   "cell_type": "markdown",
   "metadata": {},
   "source": [
    "Comparison of the validation losses of the original network and the smaller network. The dots are the validation loss values of the smaller network, and the crosses are the initial network (remember, a lower validation loss signals a better model).\n",
    "The smaller network starts overfitting later than the reference network (after six epochs rather than four), and its performance degrades more slowly once it starts overfitting.\n",
    "![capture](https://user-images.githubusercontent.com/13174586/49634709-8bbcb680-fa23-11e8-979a-32ff7ebf4ca6.JPG)\n",
    "\n",
    "\n",
    "#### Model with Higher Capacity"
   ]
  },
  {
   "cell_type": "code",
   "execution_count": null,
   "metadata": {},
   "outputs": [],
   "source": [
    "model = models.Sequential()\n",
    "model.add(layers.Dense(512, activation='relu', input_shape=(10000,)))\n",
    "model.add(layers.Dense(512, activation='relu'))\n",
    "model.add(layers.Dense(1, activation='sigmoid'))"
   ]
  },
  {
   "cell_type": "markdown",
   "metadata": {},
   "source": [
    "The dots are the validation loss values of the bigger network, and the crosses are the initial network. The bigger network starts overfitting almost immediately, after just one epoch, and it overfits much more severely. Its validation loss is also noisier.\n",
    "![capture1](https://user-images.githubusercontent.com/13174586/49634795-c7f01700-fa23-11e8-956c-fddac94e19f3.JPG)\n",
    "\n",
    "The training losses for the two networks. The bigger network gets its training loss near zero very quickly. The more capacity\n",
    "the network has, the more quickly it can model the training data (resulting in a low training loss), but the more susceptible it is to overfitting (resulting in a large difference between the training and validation loss).\n",
    "![capture 2jpg](https://user-images.githubusercontent.com/13174586/49634803-cd4d6180-fa23-11e8-93d9-e57f24172792.JPG)\n",
    "\n",
    "\n",
    "### Adding weight regularization\n",
    "According to the principle of **Occam’s razor**: given two explanations for something, the explanation most likely to be correct is the simplest one—the one that makes fewer assumptions. This idea also applies to the models learned by neural networks:\n",
    "given some training data and a network architecture, multiple sets of weight values (multiple models) could explain the data. Simpler models are less likely to overfit than complex ones.\n",
    "\n",
    "A *simple model* in this context is a model where the distribution of parameter values has less *entropy* (or a model with fewer parameters.Thus a common way to mitigate overfitting is to put constraints on the complexity of a network by forcing its weights to take only small values, which makes the distribution of weight values more *regular*. This is called ***weight regularization***, and it’s done by adding to the loss function of the network a cost associated with having large weights. This cost comes in two flavors:\n",
    " - **L1 regularization—** The cost added is proportional to the *absolute value of the weight coefficients* (the L1 norm of the weights).\n",
    " - **L2 regularization—** The cost added is proportional to the *square of the value of the weight coefficients* (the L2 norm of the weights). L2 regularization is also called weight decay in the context of neural networks. Weight decay is mathematically the same as L2 regularization."
   ]
  },
  {
   "cell_type": "code",
   "execution_count": null,
   "metadata": {},
   "outputs": [],
   "source": [
    "from keras import regularizers\n",
    "model = models.Sequential()\n",
    "model.add(layers.Dense(16, kernel_regularizer=regularizers.l2(0.001),\n",
    "activation='relu', input_shape=(10000,)))\n",
    "model.add(layers.Dense(16, kernel_regularizer=regularizers.l2(0.001),\n",
    "activation='relu'))\n",
    "model.add(layers.Dense(1, activation='sigmoid'))"
   ]
  },
  {
   "cell_type": "markdown",
   "metadata": {},
   "source": [
    "```l2(0.001)``` means every coefficient in the weight matrix of the layer will add ```0.001 * weight_coefficient_value``` to the total loss of the network. Note that because this penalty is only added at training time, the loss for this network will be much higher at training than at test time.\n",
    "\n",
    "![capture](https://user-images.githubusercontent.com/13174586/49635666-814fec00-fa26-11e8-80f0-ca13a910694e.JPG)\n",
    "Above is the impact of the L2 regularization penalty. The model with L2 regularization (dots) has become much more resistant to overfitting than the reference model (crosses), even though both models have the same number of parameters.\n",
    "\n",
    "#### Different weight regularizers available in Keras"
   ]
  },
  {
   "cell_type": "code",
   "execution_count": null,
   "metadata": {},
   "outputs": [],
   "source": [
    "from keras import regularizers\n",
    "regularizers.l1(0.001) #L1 regularization\n",
    "regularizers.l1_l2(l1=0.001, l2=0.001) #Simultaneous L1 and L2 regularization"
   ]
  },
  {
   "cell_type": "markdown",
   "metadata": {},
   "source": [
    "### Complete Code"
   ]
  },
  {
   "cell_type": "code",
   "execution_count": 2,
   "metadata": {},
   "outputs": [],
   "source": [
    "from keras.datasets import imdb\n",
    "\n",
    "(train_data, train_labels), (test_data, test_labels)= imdb.load_data(num_words=10000)\n",
    "\n",
    "# num_words=10000 is used just to use the top 10000 frequently occurring words\n",
    "\n",
    "word_index= imdb.get_word_index()\n",
    "reverse_word_index= dict([(value, key) for (key, value) in word_index.items()])\n",
    "\n",
    "decoded_review= ' '.join([reverse_word_index.get(i - 3, '?') for i in train_data[0]])\n",
    "\n",
    "import numpy as np\n",
    "\n",
    "def vectorize_sequences(sequences, dimension=10000):\n",
    "    results= np.zeros((len(sequences), dimension))\n",
    "    for i, sequence in enumerate(sequences):\n",
    "        results[i, sequence]=1\n",
    "    return results\n",
    "\n",
    "x_train= vectorize_sequences(train_data)\n",
    "x_test= vectorize_sequences(test_data)\n",
    "\n",
    "#Vectorize the labels\n",
    "\n",
    "y_train= train_labels.astype('float32')\n",
    "y_test= test_labels.astype('float32')\n",
    "\n",
    "x_val= x_train[:10000]\n",
    "partial_x_train= x_train[10000:]\n",
    "\n",
    "y_val= y_train[:10000]\n",
    "partial_y_train= y_train[10000:]"
   ]
  },
  {
   "cell_type": "code",
   "execution_count": 4,
   "metadata": {},
   "outputs": [],
   "source": [
    "#Original Model\n",
    "from keras import models\n",
    "from keras import layers\n",
    "\n",
    "original_model = models.Sequential()\n",
    "original_model.add(layers.Dense(16, activation='relu', input_shape=(10000,)))\n",
    "original_model.add(layers.Dense(16, activation='relu'))\n",
    "original_model.add(layers.Dense(1, activation='sigmoid'))\n",
    "\n",
    "#Low Capacity Model\n",
    "low_cap_model = models.Sequential()\n",
    "low_cap_model.add(layers.Dense(4, activation='relu', input_shape=(10000,)))\n",
    "low_cap_model.add(layers.Dense(4, activation='relu'))\n",
    "low_cap_model.add(layers.Dense(1, activation='sigmoid'))\n",
    "\n",
    "#High Capacity Model\n",
    "high_cap_model = models.Sequential()\n",
    "high_cap_model.add(layers.Dense(512, activation='relu', input_shape=(10000,)))\n",
    "high_cap_model.add(layers.Dense(512, activation='relu'))\n",
    "high_cap_model.add(layers.Dense(1, activation='sigmoid'))"
   ]
  },
  {
   "cell_type": "code",
   "execution_count": 6,
   "metadata": {},
   "outputs": [
    {
     "name": "stdout",
     "output_type": "stream",
     "text": [
      "Train on 15000 samples, validate on 10000 samples\n",
      "Epoch 1/20\n",
      "15000/15000 [==============================] - 9s 627us/step - loss: 0.5264 - acc: 0.7835 - val_loss: 0.3986 - val_acc: 0.8684\n",
      "Epoch 2/20\n",
      "15000/15000 [==============================] - 2s 115us/step - loss: 0.3184 - acc: 0.8973 - val_loss: 0.3117 - val_acc: 0.8862\n",
      "Epoch 3/20\n",
      "15000/15000 [==============================] - 2s 115us/step - loss: 0.2312 - acc: 0.9275 - val_loss: 0.2807 - val_acc: 0.8892\n",
      "Epoch 4/20\n",
      "15000/15000 [==============================] - 2s 118us/step - loss: 0.1832 - acc: 0.9397 - val_loss: 0.2728 - val_acc: 0.8903\n",
      "Epoch 5/20\n",
      "15000/15000 [==============================] - 2s 118us/step - loss: 0.1500 - acc: 0.9517 - val_loss: 0.2773 - val_acc: 0.8880\n",
      "Epoch 6/20\n",
      "15000/15000 [==============================] - 2s 115us/step - loss: 0.1231 - acc: 0.9637 - val_loss: 0.2901 - val_acc: 0.8849\n",
      "Epoch 7/20\n",
      "15000/15000 [==============================] - 2s 116us/step - loss: 0.1032 - acc: 0.9693 - val_loss: 0.3070 - val_acc: 0.8838\n",
      "Epoch 8/20\n",
      "15000/15000 [==============================] - 2s 117us/step - loss: 0.0876 - acc: 0.9743 - val_loss: 0.3992 - val_acc: 0.8668\n",
      "Epoch 9/20\n",
      "15000/15000 [==============================] - 2s 116us/step - loss: 0.0702 - acc: 0.9815 - val_loss: 0.3426 - val_acc: 0.8814\n",
      "Epoch 10/20\n",
      "15000/15000 [==============================] - 2s 116us/step - loss: 0.0609 - acc: 0.9841 - val_loss: 0.3730 - val_acc: 0.8723\n",
      "Epoch 11/20\n",
      "15000/15000 [==============================] - 2s 118us/step - loss: 0.0482 - acc: 0.9897 - val_loss: 0.3954 - val_acc: 0.8774\n",
      "Epoch 12/20\n",
      "15000/15000 [==============================] - 2s 117us/step - loss: 0.0442 - acc: 0.9887 - val_loss: 0.4370 - val_acc: 0.8754\n",
      "Epoch 13/20\n",
      "15000/15000 [==============================] - 2s 118us/step - loss: 0.0320 - acc: 0.9938 - val_loss: 0.4579 - val_acc: 0.8764\n",
      "Epoch 14/20\n",
      "15000/15000 [==============================] - 2s 118us/step - loss: 0.0270 - acc: 0.9947 - val_loss: 0.4942 - val_acc: 0.8647\n",
      "Epoch 15/20\n",
      "15000/15000 [==============================] - 2s 125us/step - loss: 0.0212 - acc: 0.9967 - val_loss: 0.5055 - val_acc: 0.8698\n",
      "Epoch 16/20\n",
      "15000/15000 [==============================] - 2s 143us/step - loss: 0.0169 - acc: 0.9977 - val_loss: 0.5507 - val_acc: 0.8703\n",
      "Epoch 17/20\n",
      "15000/15000 [==============================] - 2s 135us/step - loss: 0.0128 - acc: 0.9989 - val_loss: 0.5840 - val_acc: 0.8624\n",
      "Epoch 18/20\n",
      "15000/15000 [==============================] - 2s 124us/step - loss: 0.0116 - acc: 0.9983 - val_loss: 0.6037 - val_acc: 0.8669\n",
      "Epoch 19/20\n",
      "15000/15000 [==============================] - 2s 141us/step - loss: 0.0066 - acc: 0.9997 - val_loss: 0.6942 - val_acc: 0.8654\n",
      "Epoch 20/20\n",
      "15000/15000 [==============================] - 2s 116us/step - loss: 0.0053 - acc: 0.9997 - val_loss: 0.6764 - val_acc: 0.8663\n",
      "Train on 15000 samples, validate on 10000 samples\n",
      "Epoch 1/20\n",
      "15000/15000 [==============================] - 2s 135us/step - loss: 0.5796 - acc: 0.7640 - val_loss: 0.4980 - val_acc: 0.8078\n",
      "Epoch 2/20\n",
      "15000/15000 [==============================] - 2s 115us/step - loss: 0.4165 - acc: 0.8834 - val_loss: 0.3925 - val_acc: 0.8744\n",
      "Epoch 3/20\n",
      "15000/15000 [==============================] - 2s 115us/step - loss: 0.3244 - acc: 0.9084 - val_loss: 0.3330 - val_acc: 0.8835\n",
      "Epoch 4/20\n",
      "15000/15000 [==============================] - 2s 118us/step - loss: 0.2634 - acc: 0.9225 - val_loss: 0.3060 - val_acc: 0.8857\n",
      "Epoch 5/20\n",
      "15000/15000 [==============================] - 2s 118us/step - loss: 0.2229 - acc: 0.9325 - val_loss: 0.2902 - val_acc: 0.8868\n",
      "Epoch 6/20\n",
      "15000/15000 [==============================] - 2s 117us/step - loss: 0.1929 - acc: 0.9423 - val_loss: 0.2774 - val_acc: 0.8924\n",
      "Epoch 7/20\n",
      "15000/15000 [==============================] - 2s 120us/step - loss: 0.1686 - acc: 0.9507 - val_loss: 0.2733 - val_acc: 0.8928\n",
      "Epoch 8/20\n",
      "15000/15000 [==============================] - 2s 121us/step - loss: 0.1493 - acc: 0.9554 - val_loss: 0.2800 - val_acc: 0.8877\n",
      "Epoch 9/20\n",
      "15000/15000 [==============================] - 2s 122us/step - loss: 0.1328 - acc: 0.9609 - val_loss: 0.2770 - val_acc: 0.8910\n",
      "Epoch 10/20\n",
      "15000/15000 [==============================] - 2s 125us/step - loss: 0.1179 - acc: 0.9668 - val_loss: 0.2840 - val_acc: 0.8869\n",
      "Epoch 11/20\n",
      "15000/15000 [==============================] - 2s 117us/step - loss: 0.1059 - acc: 0.9705 - val_loss: 0.2961 - val_acc: 0.8860\n",
      "Epoch 12/20\n",
      "15000/15000 [==============================] - 2s 121us/step - loss: 0.0946 - acc: 0.9747 - val_loss: 0.3031 - val_acc: 0.8818\n",
      "Epoch 13/20\n",
      "15000/15000 [==============================] - 2s 117us/step - loss: 0.0842 - acc: 0.9790 - val_loss: 0.3302 - val_acc: 0.8752\n",
      "Epoch 14/20\n",
      "15000/15000 [==============================] - 2s 116us/step - loss: 0.0754 - acc: 0.9815 - val_loss: 0.3304 - val_acc: 0.8809\n",
      "Epoch 15/20\n",
      "15000/15000 [==============================] - 2s 117us/step - loss: 0.0673 - acc: 0.9843 - val_loss: 0.3605 - val_acc: 0.8747\n",
      "Epoch 16/20\n",
      "15000/15000 [==============================] - 2s 117us/step - loss: 0.0598 - acc: 0.9867 - val_loss: 0.3495 - val_acc: 0.8789\n",
      "Epoch 17/20\n",
      "15000/15000 [==============================] - 2s 116us/step - loss: 0.0531 - acc: 0.9884 - val_loss: 0.3631 - val_acc: 0.8796\n",
      "Epoch 18/20\n",
      "15000/15000 [==============================] - 2s 116us/step - loss: 0.0468 - acc: 0.9903 - val_loss: 0.3812 - val_acc: 0.8783\n",
      "Epoch 19/20\n",
      "15000/15000 [==============================] - 2s 119us/step - loss: 0.0408 - acc: 0.9920 - val_loss: 0.3980 - val_acc: 0.8758\n",
      "Epoch 20/20\n",
      "15000/15000 [==============================] - 2s 122us/step - loss: 0.0362 - acc: 0.9933 - val_loss: 0.4207 - val_acc: 0.8725\n",
      "Train on 15000 samples, validate on 10000 samples\n",
      "Epoch 1/20\n",
      "15000/15000 [==============================] - 2s 157us/step - loss: 0.5496 - acc: 0.7378 - val_loss: 0.3271 - val_acc: 0.8652\n",
      "Epoch 2/20\n",
      "15000/15000 [==============================] - 2s 131us/step - loss: 0.2559 - acc: 0.8992 - val_loss: 0.2742 - val_acc: 0.8867\n",
      "Epoch 3/20\n",
      "15000/15000 [==============================] - 2s 129us/step - loss: 0.1400 - acc: 0.9478 - val_loss: 0.3584 - val_acc: 0.8744\n",
      "Epoch 4/20\n",
      "15000/15000 [==============================] - 2s 131us/step - loss: 0.0908 - acc: 0.9664 - val_loss: 0.3354 - val_acc: 0.8895\n",
      "Epoch 5/20\n",
      "15000/15000 [==============================] - 2s 144us/step - loss: 0.0667 - acc: 0.9800 - val_loss: 0.3204 - val_acc: 0.8848\n",
      "Epoch 6/20\n",
      "15000/15000 [==============================] - 2s 131us/step - loss: 0.0044 - acc: 0.9998 - val_loss: 0.5404 - val_acc: 0.8806\n",
      "Epoch 7/20\n",
      "15000/15000 [==============================] - 2s 139us/step - loss: 4.2509e-04 - acc: 1.0000 - val_loss: 0.6110 - val_acc: 0.8853\n",
      "Epoch 8/20\n",
      "15000/15000 [==============================] - 2s 134us/step - loss: 7.0929e-05 - acc: 1.0000 - val_loss: 0.6742 - val_acc: 0.8846\n",
      "Epoch 9/20\n",
      "15000/15000 [==============================] - 2s 136us/step - loss: 1.2323e-05 - acc: 1.0000 - val_loss: 0.7417 - val_acc: 0.8844\n",
      "Epoch 10/20\n",
      "15000/15000 [==============================] - 2s 139us/step - loss: 2.9571e-06 - acc: 1.0000 - val_loss: 0.8026 - val_acc: 0.8840\n",
      "Epoch 11/20\n",
      "15000/15000 [==============================] - 2s 132us/step - loss: 8.8119e-07 - acc: 1.0000 - val_loss: 0.8543 - val_acc: 0.8849\n",
      "Epoch 12/20\n",
      "15000/15000 [==============================] - 2s 127us/step - loss: 3.2627e-07 - acc: 1.0000 - val_loss: 0.8986 - val_acc: 0.8833\n",
      "Epoch 13/20\n",
      "15000/15000 [==============================] - 2s 128us/step - loss: 1.8248e-07 - acc: 1.0000 - val_loss: 0.9259 - val_acc: 0.8851\n",
      "Epoch 14/20\n",
      "15000/15000 [==============================] - 2s 132us/step - loss: 1.3807e-07 - acc: 1.0000 - val_loss: 0.9447 - val_acc: 0.8844\n",
      "Epoch 15/20\n",
      "15000/15000 [==============================] - 2s 129us/step - loss: 1.2376e-07 - acc: 1.0000 - val_loss: 0.9568 - val_acc: 0.8841\n",
      "Epoch 16/20\n",
      "15000/15000 [==============================] - 2s 131us/step - loss: 1.1774e-07 - acc: 1.0000 - val_loss: 0.9654 - val_acc: 0.8851\n",
      "Epoch 17/20\n",
      "15000/15000 [==============================] - 2s 134us/step - loss: 1.1490e-07 - acc: 1.0000 - val_loss: 0.9705 - val_acc: 0.8841\n",
      "Epoch 18/20\n",
      "15000/15000 [==============================] - 2s 128us/step - loss: 1.1325e-07 - acc: 1.0000 - val_loss: 0.9752 - val_acc: 0.8841\n"
     ]
    },
    {
     "name": "stdout",
     "output_type": "stream",
     "text": [
      "Epoch 19/20\n",
      "15000/15000 [==============================] - 2s 127us/step - loss: 1.1229e-07 - acc: 1.0000 - val_loss: 0.9790 - val_acc: 0.8841\n",
      "Epoch 20/20\n",
      "15000/15000 [==============================] - 2s 128us/step - loss: 1.1177e-07 - acc: 1.0000 - val_loss: 0.9818 - val_acc: 0.8838\n"
     ]
    }
   ],
   "source": [
    "#Compile\n",
    "original_model.compile(optimizer='rmsprop', loss='binary_crossentropy',metrics=['acc'])\n",
    "low_cap_model.compile(optimizer='rmsprop', loss='binary_crossentropy',metrics=['acc'])\n",
    "high_cap_model.compile(optimizer='rmsprop', loss='binary_crossentropy',metrics=['acc'])\n",
    "\n",
    "#Train\n",
    "original_history= original_model.fit(partial_x_train, partial_y_train, epochs=20, batch_size=512, validation_data=(x_val, y_val))\n",
    "low_cap_history= low_cap_model.fit(partial_x_train, partial_y_train, epochs=20, batch_size=512, validation_data=(x_val, y_val))\n",
    "high_cap_history= high_cap_model.fit(partial_x_train, partial_y_train, epochs=20, batch_size=512, validation_data=(x_val, y_val))"
   ]
  },
  {
   "cell_type": "code",
   "execution_count": 7,
   "metadata": {},
   "outputs": [],
   "source": [
    "import matplotlib.pyplot as plt\n",
    "\n",
    "original_history_dict= original_history.history\n",
    "original_loss_values= original_history_dict['loss']\n",
    "original_val_loss_values= original_history_dict['val_loss']\n",
    "\n",
    "low_cap_history_dict= low_cap_history.history\n",
    "low_cap_loss_values= low_cap_history_dict['loss']\n",
    "low_cap_val_loss_values= low_cap_history_dict['val_loss']\n",
    "\n",
    "high_cap_history_dict= high_cap_history.history\n",
    "high_cap_loss_values= high_cap_history_dict['loss']\n",
    "high_cap_val_loss_values= high_cap_history_dict['val_loss']"
   ]
  },
  {
   "cell_type": "code",
   "execution_count": 8,
   "metadata": {},
   "outputs": [
    {
     "name": "stdout",
     "output_type": "stream",
     "text": [
      "range(1, 21)\n"
     ]
    }
   ],
   "source": [
    "epochs= range(1,len(original_loss_values)+1)\n",
    "print(epochs)"
   ]
  },
  {
   "cell_type": "code",
   "execution_count": 14,
   "metadata": {},
   "outputs": [
    {
     "data": {
      "image/png": "[encoded data removed]",
      "text/plain": [
       "<Figure size 864x720 with 1 Axes>"
      ]
     },
     "metadata": {
      "needs_background": "light"
     },
     "output_type": "display_data"
    }
   ],
   "source": [
    "plt.figure(figsize=(12,10))\n",
    "plt.plot(epochs, original_val_loss_values, 'bo', label='Original Model')\n",
    "plt.plot(epochs, low_cap_val_loss_values, 'b', label='Low Capacity Model', color='green')\n",
    "plt.plot(epochs, high_cap_val_loss_values, '+', label='High Capacity Model', color='red')\n",
    "plt.title('Original vs Low Capacity vs High Capacity Model')\n",
    "plt.xlabel('Epochs')\n",
    "plt.ylabel('Validation Loss')\n",
    "plt.legend()\n",
    "plt.grid()\n",
    "plt.show()"
   ]
  },
  {
   "cell_type": "code",
   "execution_count": 22,
   "metadata": {},
   "outputs": [
    {
     "name": "stdout",
     "output_type": "stream",
     "text": [
      "Train on 15000 samples, validate on 10000 samples\n",
      "Epoch 1/20\n",
      "15000/15000 [==============================] - 3s 172us/step - loss: 0.5739 - acc: 0.7353 - val_loss: 0.4550 - val_acc: 0.8532\n",
      "Epoch 2/20\n",
      "15000/15000 [==============================] - 2s 122us/step - loss: 0.3646 - acc: 0.8977 - val_loss: 0.3423 - val_acc: 0.8826\n",
      "Epoch 3/20\n",
      "15000/15000 [==============================] - 2s 122us/step - loss: 0.2679 - acc: 0.9210 - val_loss: 0.3085 - val_acc: 0.8844\n",
      "Epoch 4/20\n",
      "15000/15000 [==============================] - 2s 120us/step - loss: 0.2125 - acc: 0.9374 - val_loss: 0.3161 - val_acc: 0.8778\n",
      "Epoch 5/20\n",
      "15000/15000 [==============================] - 2s 131us/step - loss: 0.1795 - acc: 0.9482 - val_loss: 0.2906 - val_acc: 0.8877\n",
      "Epoch 6/20\n",
      "15000/15000 [==============================] - 2s 121us/step - loss: 0.1525 - acc: 0.9576 - val_loss: 0.3261 - val_acc: 0.8765\n",
      "Epoch 7/20\n",
      "15000/15000 [==============================] - 2s 130us/step - loss: 0.1368 - acc: 0.9626 - val_loss: 0.3050 - val_acc: 0.8862\n",
      "Epoch 8/20\n",
      "15000/15000 [==============================] - 2s 121us/step - loss: 0.1172 - acc: 0.9711 - val_loss: 0.3329 - val_acc: 0.8813\n",
      "Epoch 9/20\n",
      "15000/15000 [==============================] - 2s 120us/step - loss: 0.1064 - acc: 0.9737 - val_loss: 0.3339 - val_acc: 0.8841\n",
      "Epoch 10/20\n",
      "15000/15000 [==============================] - 2s 121us/step - loss: 0.0923 - acc: 0.9801 - val_loss: 0.3662 - val_acc: 0.8778\n",
      "Epoch 11/20\n",
      "15000/15000 [==============================] - 2s 119us/step - loss: 0.0838 - acc: 0.9831 - val_loss: 0.3714 - val_acc: 0.8773\n",
      "Epoch 12/20\n",
      "15000/15000 [==============================] - 2s 123us/step - loss: 0.0748 - acc: 0.9871 - val_loss: 0.3945 - val_acc: 0.8773\n",
      "Epoch 13/20\n",
      "15000/15000 [==============================] - 2s 120us/step - loss: 0.0675 - acc: 0.9893 - val_loss: 0.4116 - val_acc: 0.8758\n",
      "Epoch 14/20\n",
      "15000/15000 [==============================] - 2s 119us/step - loss: 0.0615 - acc: 0.9910 - val_loss: 0.4466 - val_acc: 0.8720\n",
      "Epoch 15/20\n",
      "15000/15000 [==============================] - 2s 120us/step - loss: 0.0568 - acc: 0.9927 - val_loss: 0.4700 - val_acc: 0.8669\n",
      "Epoch 16/20\n",
      "15000/15000 [==============================] - 2s 126us/step - loss: 0.0504 - acc: 0.9948 - val_loss: 0.4749 - val_acc: 0.8715\n",
      "Epoch 17/20\n",
      "15000/15000 [==============================] - 2s 122us/step - loss: 0.0515 - acc: 0.9936 - val_loss: 0.4984 - val_acc: 0.8706\n",
      "Epoch 18/20\n",
      "15000/15000 [==============================] - 2s 120us/step - loss: 0.0436 - acc: 0.9967 - val_loss: 0.5133 - val_acc: 0.8689\n",
      "Epoch 19/20\n",
      "15000/15000 [==============================] - 2s 121us/step - loss: 0.0439 - acc: 0.9957 - val_loss: 0.5234 - val_acc: 0.8691\n",
      "Epoch 20/20\n",
      "15000/15000 [==============================] - 2s 123us/step - loss: 0.0410 - acc: 0.9959 - val_loss: 0.5411 - val_acc: 0.8697\n"
     ]
    }
   ],
   "source": [
    "#L2 Regularization\n",
    "from keras import regularizers\n",
    "\n",
    "l2_model= models.Sequential()\n",
    "l2_model.add(layers.Dense(16, activation='relu', kernel_regularizer=regularizers.l2(0.0001), input_shape=(10000,)))\n",
    "l2_model.add(layers.Dense(16, activation='relu', kernel_regularizer=regularizers.l2(0.0001)))\n",
    "l2_model.add(layers.Dense(1, activation='sigmoid'))\n",
    "\n",
    "l2_model.compile(optimizer='rmsprop', loss='binary_crossentropy', metrics=['acc'])\n",
    "\n",
    "l2_history=l2_model.fit(partial_x_train, partial_y_train, epochs=20, batch_size=512, validation_data=(x_val, y_val))"
   ]
  },
  {
   "cell_type": "code",
   "execution_count": 23,
   "metadata": {},
   "outputs": [],
   "source": [
    "l2_history_dict= l2_history.history\n",
    "l2_loss_values= l2_history_dict['loss']\n",
    "l2_val_loss_values= l2_history_dict['val_loss']"
   ]
  },
  {
   "cell_type": "code",
   "execution_count": 24,
   "metadata": {},
   "outputs": [
    {
     "data": {
      "image/png": "[encoded data removed]",
      "text/plain": [
       "<Figure size 864x720 with 1 Axes>"
      ]
     },
     "metadata": {
      "needs_background": "light"
     },
     "output_type": "display_data"
    }
   ],
   "source": [
    "plt.figure(figsize=(12,10))\n",
    "plt.plot(epochs, original_val_loss_values, 'bo', label='Original Model')\n",
    "plt.plot(epochs, low_cap_val_loss_values, 'b', label='Low Capacity Model', color='green')\n",
    "plt.plot(epochs, high_cap_val_loss_values, '+', label='High Capacity Model', color='red')\n",
    "plt.plot(epochs, l2_val_loss_values, '-', label='L2 Regularized Model', color='purple')\n",
    "plt.title('Original vs Low Capacity vs High Capacity Model vs L2 Regularized Model')\n",
    "plt.xlabel('Epochs')\n",
    "plt.ylabel('Validation Loss')\n",
    "plt.legend()\n",
    "plt.grid()\n",
    "plt.show()"
   ]
  },
  {
   "cell_type": "markdown",
   "metadata": {},
   "source": [
    "### Adding Dropout\n",
    "\n",
    "**Dropout** is one of the most effective and most commonly used regularization techniques for neural networks. Dropout, applied to a layer, consists of randomly *dropping out (setting to zero)* a number of output features of the layer during training. Let’s say a given layer would normally return a vector [0.2, 0.5, 1.3, 0.8, 1.1] for a given input sample during training. After applying dropout, this vector will have a few zero entries distributed at random: for example, [0, 0.5, 1.3, 0, 1.1]. The *dropout rate is the fraction of the features that are zeroed out*; it’s usually set between **0.2** and **0.5**. *At test time, no units are dropped out; instead, the layer’s output values are scaled down by a factor equal to the dropout rate, to balance for the fact that more units are active than at training time*.\n",
    "\n",
    "Consider a Numpy matrix containing the output of a layer, ```layer_output```, of shape ```(batch_size, features)```. At training time, we zero out at random a fraction of the values in the matrix:<br/>\n",
    "```layer_output *= np.random.randint(0, high=2, size=layer_output.shape)```\n"
   ]
  },
  {
   "cell_type": "code",
   "execution_count": 61,
   "metadata": {},
   "outputs": [
    {
     "data": {
      "text/plain": [
       "array([[0., 1., 0., 1., 1.],\n",
       "       [0., 0., 0., 0., 1.],\n",
       "       [1., 1., 1., 1., 0.],\n",
       "       [1., 1., 1., 0., 1.],\n",
       "       [1., 1., 1., 1., 0.],\n",
       "       [1., 0., 0., 1., 1.],\n",
       "       [0., 0., 1., 0., 1.],\n",
       "       [0., 1., 1., 0., 1.],\n",
       "       [0., 1., 0., 0., 1.],\n",
       "       [0., 0., 1., 0., 0.]])"
      ]
     },
     "execution_count": 61,
     "metadata": {},
     "output_type": "execute_result"
    }
   ],
   "source": [
    "layer_output=np.ones(shape=(10,5))\n",
    "layer_output *= np.random.randint(0, high=2, size=layer_output.shape) #At training time, drops out 50% of the units in the output\n",
    "layer_output"
   ]
  },
  {
   "cell_type": "markdown",
   "metadata": {},
   "source": [
    "At test time, we scale down the output by the dropout rate. Here, we scale by 0.5 (because we previously dropped half the units):"
   ]
  },
  {
   "cell_type": "code",
   "execution_count": 62,
   "metadata": {},
   "outputs": [
    {
     "data": {
      "text/plain": [
       "array([[2., 0., 2., 0., 2.],\n",
       "       [2., 0., 2., 2., 2.],\n",
       "       [2., 2., 2., 0., 2.],\n",
       "       [0., 0., 2., 2., 0.],\n",
       "       [2., 0., 0., 0., 0.],\n",
       "       [2., 0., 2., 0., 0.],\n",
       "       [2., 2., 2., 0., 2.],\n",
       "       [0., 0., 0., 0., 0.],\n",
       "       [2., 2., 2., 2., 2.],\n",
       "       [0., 0., 2., 0., 0.]])"
      ]
     },
     "execution_count": 62,
     "metadata": {},
     "output_type": "execute_result"
    }
   ],
   "source": [
    "layer_output=np.ones(shape=(10,5))\n",
    "layer_output *= np.random.randint(0, high=2, size=layer_output.shape)#At training time\n",
    "layer_output /= 0.5 #At test time\n",
    "layer_output"
   ]
  },
  {
   "cell_type": "markdown",
   "metadata": {},
   "source": [
    "Note that this process can be implemented by doing both operations at training time and leaving the output unchanged at test time, which is often the way it’s implemented\n",
    "in practice\n",
    "\n",
    "![capture](https://user-images.githubusercontent.com/13174586/49644108-82d8de80-fa3d-11e8-95ac-366834ccdcc0.JPG)\n",
    "\n",
    ">This technique may seem strange and arbitrary. Why would this help reduce overfitting? \n",
    "Hinton says he was inspired by, among other things, a fraud-prevention mechanism used by banks. In his own words, “I went to my bank. The tellers kept changing and I asked one of them why. He said he didn’t know but they got moved around a lot. I figured it must be because it would require cooperation between employees to successfully defraud the bank. This made me realize that randomly removing a different subset of neurons on each example would prevent conspiracies and thus reduce overfitting.”\n",
    "\n",
    "The core idea is that introducing noise in the output values of a layer can break up happenstance patterns that aren’t significant (what Hinton refers to as *conspiracies*), which the network will start memorizing if no noise is present.\n",
    "In Keras, you can introduce dropout in a network via the Dropout layer, which is applied to the output of the layer right before it:<br/> \n",
    "```model.add(layers.Dropout(0.5))```\n",
    "\n",
    "![capture](https://user-images.githubusercontent.com/13174586/49644965-36db6900-fa40-11e8-8cfa-11b3cd845e39.JPG)\n",
    "This is a clear improvement over the reference network.\n",
    "\n",
    "#### Code"
   ]
  },
  {
   "cell_type": "code",
   "execution_count": 65,
   "metadata": {},
   "outputs": [],
   "source": [
    "#Adding dropout layer\n",
    "\n",
    "dropout_model= models.Sequential()\n",
    "dropout_model.add(layers.Dense(16, activation='relu', input_shape=(10000,)))\n",
    "dropout_model.add(layers.Dropout(0.5))\n",
    "dropout_model.add(layers.Dense(16, activation='relu'))\n",
    "dropout_model.add(layers.Dropout(0.5))\n",
    "dropout_model.add(layers.Dense(1, activation='sigmoid'))"
   ]
  },
  {
   "cell_type": "code",
   "execution_count": 66,
   "metadata": {},
   "outputs": [],
   "source": [
    "dropout_model.compile(optimizer='rmsprop', loss='binary_crossentropy', metrics=['acc'])"
   ]
  },
  {
   "cell_type": "code",
   "execution_count": null,
   "metadata": {},
   "outputs": [],
   "source": [
    "dropout_history= dropout_model.fit(partial_x_train, partial_y_train, epochs=20, batch_size=512, validation_data=(x_val, y_val))"
   ]
  },
  {
   "cell_type": "code",
   "execution_count": 70,
   "metadata": {},
   "outputs": [],
   "source": [
    "dropout_history_dict= dropout_history.history\n",
    "dropout_val_loss_values= dropout_history_dict['val_loss']"
   ]
  },
  {
   "cell_type": "code",
   "execution_count": 80,
   "metadata": {},
   "outputs": [
    {
     "data": {
      "image/png": "[encoded data removed]",
      "text/plain": [
       "<Figure size 360x360 with 1 Axes>"
      ]
     },
     "metadata": {
      "needs_background": "light"
     },
     "output_type": "display_data"
    }
   ],
   "source": [
    "plt.figure(figsize=(5,5))\n",
    "plt.plot(epochs, dropout_val_loss_values, color='red', label=\"Dropout-Regularized Model\")\n",
    "plt.plot(epochs, original_val_loss_values, label=\"Original Model\")\n",
    "plt.xlabel('Epochs')\n",
    "plt.ylabel('Validation Loss')\n",
    "plt.title('Dropout-Regularized Model vs Original Model on Validation Loss')\n",
    "plt.legend()\n",
    "plt.grid()\n",
    "plt.show()"
   ]
  },
  {
   "cell_type": "markdown",
   "metadata": {},
   "source": [
    "The most common ways to prevent overfitting in neural networks:\n",
    " - Get more training data.\n",
    " - Reduce the capacity of the network.\n",
    " - Add weight regularization.\n",
    " - Add dropout."
   ]
  },
  {
   "cell_type": "markdown",
   "metadata": {},
   "source": [
    "### Universal Workflow of Machine Learning\n",
    "Blueprint:\n",
    " - Problem Definition\n",
    " - Evaluation\n",
    " - Feature engineering,\n",
    " - Fighting overfitting.\n",
    "\n",
    "#### Define The problem and Assemble a Dataset\n",
    "- *What will our input data be? What are we trying to predict?* We can only learn to predict something if we have available training data: for example, we can only learn to classify the sentiment of movie reviews if we have both movie reviews and sentiment annotations available. As such, data availability is usually the limiting factor at this stage.\n",
    "\n",
    "- *What type of problem are we facing? Is it binary classification? Multiclass classification? Scalar regression? Vector regression? Multiclass, multilabel classification? Something else, like clustering, generation, or reinforcement learning?* Identifying the problem type will guide our choice of model architecture, loss function, and so on.\n",
    "\n",
    "We can’t move to the next stage until we know what our inputs and outputs are, and what data we’ll use. Be aware of the hypotheses we are making at this stage:\n",
    " - We hypothesize that our outputs can be predicted given our inputs.\n",
    " - We hypothesize that our available data is sufficiently informative to learn the relationship between inputs and outputs.\n",
    "\n",
    "Until we have a working model, these are merely hypotheses, waiting to be validated or invalidated. Not all problems can be solved; just because you’ve assembled examples of inputs X and targets Y doesn’t mean X contains enough information to predict\n",
    "Y.\n",
    "\n",
    "One class of unsolvable problems we should be aware of is *nonstationary problems*. Suppose we’re trying to build a  recommendation engine for clothing, we’re training it on one month of data (August), and we want to start generating recommendations in the winter. One big issue is that the kinds of clothes people buy change from season to season: clothes buying is a nonstationary phenomenon over the scale of a few months. What we’re trying to model changes over time. In this case, the right move is to constantly retrain our model on data from the recent past, or gather data at a timescale where the problem is stationary. For a cyclical problem like clothes buying, a few years’ worth of data will suffice to capture seasonal variation— but we have to remember to *make the time of the year an input of our model!*\n",
    "\n",
    "#### Choose a Measure of Success\n",
    "For *balanced-classification problems*, where every class is equally likely, ***accuracy*** and ***area under the receiver operating characteristic curve (ROC AUC)*** are common metrics. For *class-imbalanced problems*, we can use ***precision and recall***. For *ranking problems* or *multilabel classification*, we can use ***mean average precision***.\n",
    "\n",
    "#### Decide on an Evaluation Protocol\n",
    "Once we know what we’re aiming for, we must establish how we’ll measure our current progress:\n",
    " - **Maintaining a hold-out validation set—** The way to go when we have plenty of data\n",
    " - **Doing K-fold cross-validation—** The right choice when we have too few samples for hold-out validation to be reliable\n",
    " - **Doing iterated K-fold validation—** For performing highly accurate model evaluation when little data is available\n",
    " \n",
    "#### Prepare Data\n",
    "Once we know what we’re training on, what we’re optimizing for, and how to evaluate our approach, we’re almost ready to begin training models. But first, we should format our data in a way that can be fed into a *deep neural network*:\n",
    "- Our data should be formatted as tensors.\n",
    "- The values taken by these tensors should usually be scaled to small values: for example, in the [-1, 1] range or [0, 1] range.\n",
    "- If different features take values in different ranges (heterogeneous data), then the data should be normalized.\n",
    "- We may want to do some feature engineering, especially for small-data problems.\n",
    "\n",
    "Once our tensors of input data and target data are ready, we can begin to train models.\n",
    "\n",
    "#### Develope a Model That Does Better Than a Baseline\n",
    "Our goal at this stage is to achieve *statistical power* : that is, to develop a small model that is capable of beating a dumb baseline. It’s not always possible to achieve statistical power. If we can’t beat a random baseline after trying multiple reasonable architectures, it may be that the answer to the question we’re asking isn’t present in the input data. Remember that we make two hypotheses:\n",
    " - We hypothesize that our outputs can be predicted given our inputs.\n",
    " - we hypothesize that the available data is sufficiently informative to learn the relationship between inputs and outputs.\n",
    " \n",
    "Three key choices to build our first working model:\n",
    " - **Last-layer activation—** This establishes useful constraints on the network’s output. For instance, the IMDB classification example used sigmoid in the last layer; the regression example didn’t use any last-layer activation.\n",
    " - **Loss function—** This should match the type of problem we’re trying to solve. For instance, the IMDB example used *binary_crossentropy*, the regression example used *mse*.\n",
    " - **Optimization configuration—** What optimizer will we use? What will its learning rate be? In most cases, it’s safe to go with *rmsprop* and its default learning rate.\n",
    " \n",
    "Regarding the choice of a loss function, it isn’t always possible to directly optimize for the metric that measures success on a problem. Sometimes there is no easy way to turn a metric into a loss function; loss functions, after all, need to be computable\n",
    "given only a mini-batch of data (ideally, a loss function should be computable for as little as a single data point) and must be differentiable (otherwise, we can’t use backpropagation to train our network). For instance, the widely used classification\n",
    "metric ROC AUC can’t be directly optimized. Hence, in classification tasks, it’s common to optimize for a proxy metric of ROC AUC, such as crossentropy. In general, we can hope that the lower the crossentropy gets, the higher the ROC AUC will be.\n",
    "\n",
    "Table for last-layer activation and a loss function for a few common problem types\n",
    "\n",
    "| Problem Type | Last Layer Activation | Loss Function |\n",
    "| --- | --- | --- |\n",
    "| *Binary Classification* | *sigmoid* | *binary_crossentropy* |\n",
    "| *Multiclass, single label Classification* | *softmax* | *categorical_crossentropy* |\n",
    "| *Multiclass, multilabel Classification* | *sigmoid* | *binary_crossentropy* |\n",
    "| *Regression to arbitrary values* | None | *mse* |\n",
    "| *Regression to values between 0 and 1* | *sigmoid* | *mse* or *binary_crossentropy* |\n",
    "\n",
    "\n",
    "#### Scaling up: Develope a Model That Overfits\n",
    "Once we’ve obtained a model that has statistical power, the question becomes, is our model sufficiently powerful? Does it have enough layers and parameters to properly model the problem at hand? For instance, a network with a single hidden layer with\n",
    "two units would have statistical power on MNIST but wouldn’t be sufficient to solve the problem well. The universal tension in machine learning is between optimization and generalization; the ideal model is one that stands right at the border\n",
    "between underfitting and overfitting; between undercapacity and overcapacity. To figure out where this border lies, first we must cross it.<br/>\n",
    "To figure out how big a model we’ll need, we must develop a model that overfits by:<br/>\n",
    " - Add layers\n",
    " - Making the layers bigger\n",
    " - Train for more epochs\n",
    " \n",
    "Always monitor the training loss and validation loss, as well as the training and validation values for any important metrics. When we will see that the model’s performance on the validation data begins to degrade, we’ve achieved overfitting. The next stage is to start regularizing and tuning the model, to get as close as possible to the ideal model that neither underfits nor overfits.\n",
    "\n",
    "#### Regularize Model and Tune Hyperparameters\n",
    "This step will take the most time: we’ll repeatedly modify our model, train it, evaluate on your validation data (not the test data, at this point), modify it again, and repeat, until the model is as good as it can get. These are some things we should try:\n",
    " - Add dropout\n",
    " - Try different architectures: add or remove layers\n",
    " - Add L1 and/or L2 regularization\n",
    " - Try different hyperparameters (such as the number of units per layer or the learning rate of the optimizer) to find the optimal configuration\n",
    " - Optionally, iterate on feature engineering: add new features, or remove features that don’t seem to be informative.\n",
    "\n",
    "Every time we use feedback from our validation process to tune our model, we leak information about the validation process into the model. Repeated just a few times, this is innocuous; but done systematically over many iterations, it will eventually cause our model to overfit to the validation process (even though no model is directly trained on any of the validation data). This makes the evaluation process less reliable.<br/>\n",
    "Once we’ve developed a satisfactory model configuration, we can train our final production model on all the available data (training and validation) and evaluate it one last time on the test set. If it turns out that performance on the test set is significantly worse than the performance measured on the validation data, this may mean either that our validation procedure wasn’t reliable after all, or that we began overfitting to the validation data while tuning the parameters of the model. In this case, we may want to switch to a more reliable evaluation protocol (such as iterated K-fold validation)."
   ]
  },
  {
   "cell_type": "code",
   "execution_count": null,
   "metadata": {},
   "outputs": [],
   "source": []
  }
 ],
 "metadata": {
  "kernelspec": {
   "display_name": "Python 3",
   "language": "python",
   "name": "python3"
  },
  "language_info": {
   "codemirror_mode": {
    "name": "ipython",
    "version": 3
   },
   "file_extension": ".py",
   "mimetype": "text/x-python",
   "name": "python",
   "nbconvert_exporter": "python",
   "pygments_lexer": "ipython3",
   "version": "3.6.6"
  }
 },
 "nbformat": 4,
 "nbformat_minor": 2
}
