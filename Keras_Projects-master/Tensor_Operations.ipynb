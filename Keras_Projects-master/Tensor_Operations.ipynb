{
 "cells": [
  {
   "cell_type": "markdown",
   "metadata": {},
   "source": [
    "# Data Representation \n"
   ]
  },
  {
   "cell_type": "code",
   "execution_count": 16,
   "metadata": {},
   "outputs": [],
   "source": [
    "from keras.datasets import mnist\n",
    "import numpy as np\n",
    "import matplotlib.pyplot as plt\n",
    "from keras import models, layers\n",
    "from keras.utils import to_categorical"
   ]
  },
  {
   "cell_type": "code",
   "execution_count": 19,
   "metadata": {},
   "outputs": [],
   "source": [
    "(train_images, train_labels), (test_images, test_labels)= mnist.load_data()"
   ]
  },
  {
   "cell_type": "markdown",
   "metadata": {},
   "source": [
    "### Tensors are the basic data structure for deep learning\n",
    "#### Scalar- 0D Tensor\n",
    "#### Vector- 1D Tensor\n",
    "#### Matrix- 2D Tensor\n",
    "#### Array- 3D or higher-dimnesional Tensors\n",
    "\n",
    "\n",
    "#### The number of axes of the tensor is called *rank*\n",
    "#### Dimensionality can denote either the number of entries along a specific axis (as in the case of a 5D vector) or the number of axes in a tensor"
   ]
  },
  {
   "cell_type": "markdown",
   "metadata": {},
   "source": [
    "### Scalars- \n",
    "   #### A tensor that contains only 1 number\n"
   ]
  },
  {
   "cell_type": "code",
   "execution_count": 6,
   "metadata": {},
   "outputs": [],
   "source": [
    "x=np.array(12)"
   ]
  },
  {
   "cell_type": "code",
   "execution_count": 7,
   "metadata": {},
   "outputs": [
    {
     "data": {
      "text/plain": [
       "array(12)"
      ]
     },
     "execution_count": 7,
     "metadata": {},
     "output_type": "execute_result"
    }
   ],
   "source": [
    "x"
   ]
  },
  {
   "cell_type": "code",
   "execution_count": 9,
   "metadata": {},
   "outputs": [
    {
     "data": {
      "text/plain": [
       "0"
      ]
     },
     "execution_count": 9,
     "metadata": {},
     "output_type": "execute_result"
    }
   ],
   "source": [
    "x.ndim"
   ]
  },
  {
   "cell_type": "markdown",
   "metadata": {},
   "source": [
    "### Vectors-\n",
    "#### An array of numbers is called vector. A vector that has 4 entries is called a 4D vector but it is not a 4D Tensor. It has only one axis but 5 dimensions along the axis\n",
    "\n"
   ]
  },
  {
   "cell_type": "code",
   "execution_count": 10,
   "metadata": {},
   "outputs": [],
   "source": [
    "x= np.array([12,4,5,7,8])"
   ]
  },
  {
   "cell_type": "code",
   "execution_count": 11,
   "metadata": {},
   "outputs": [
    {
     "data": {
      "text/plain": [
       "array([12,  4,  5,  7,  8])"
      ]
     },
     "execution_count": 11,
     "metadata": {},
     "output_type": "execute_result"
    }
   ],
   "source": [
    "x"
   ]
  },
  {
   "cell_type": "code",
   "execution_count": 12,
   "metadata": {},
   "outputs": [
    {
     "data": {
      "text/plain": [
       "1"
      ]
     },
     "execution_count": 12,
     "metadata": {},
     "output_type": "execute_result"
    }
   ],
   "source": [
    "x.ndim"
   ]
  },
  {
   "cell_type": "markdown",
   "metadata": {},
   "source": [
    "### Matrices-\n",
    "\n",
    "#### An array of vector is called matrix or 2D Tensor. The 2 axes are *rows* and *columns*. The entirs from the first axis are called *rows* and the entries from the second axis are called *columns*\n"
   ]
  },
  {
   "cell_type": "code",
   "execution_count": 14,
   "metadata": {},
   "outputs": [],
   "source": [
    "x= np.array([[1,2,3,4,5],[76,7887,947,4,6],[45,2,6,3,8]])"
   ]
  },
  {
   "cell_type": "code",
   "execution_count": 15,
   "metadata": {},
   "outputs": [
    {
     "data": {
      "text/plain": [
       "array([[   1,    2,    3,    4,    5],\n",
       "       [  76, 7887,  947,    4,    6],\n",
       "       [  45,    2,    6,    3,    8]])"
      ]
     },
     "execution_count": 15,
     "metadata": {},
     "output_type": "execute_result"
    }
   ],
   "source": [
    "x"
   ]
  },
  {
   "cell_type": "code",
   "execution_count": 16,
   "metadata": {},
   "outputs": [
    {
     "data": {
      "text/plain": [
       "2"
      ]
     },
     "execution_count": 16,
     "metadata": {},
     "output_type": "execute_result"
    }
   ],
   "source": [
    "x.ndim"
   ]
  },
  {
   "cell_type": "markdown",
   "metadata": {},
   "source": [
    "### 3DTensors-\n",
    "#### Multiple matrires pakced in an array is called 3D Tensor"
   ]
  },
  {
   "cell_type": "code",
   "execution_count": 21,
   "metadata": {},
   "outputs": [],
   "source": [
    "x=np.array([[\n",
    "    [1,2,3,4,5],\n",
    "    [234,6,7,8,6]],\n",
    "    [[1,2,3,4,5],\n",
    "     [1,2,3,4,5]]])"
   ]
  },
  {
   "cell_type": "code",
   "execution_count": 22,
   "metadata": {},
   "outputs": [
    {
     "data": {
      "text/plain": [
       "array([[[  1,   2,   3,   4,   5],\n",
       "        [234,   6,   7,   8,   6]],\n",
       "\n",
       "       [[  1,   2,   3,   4,   5],\n",
       "        [  1,   2,   3,   4,   5]]])"
      ]
     },
     "execution_count": 22,
     "metadata": {},
     "output_type": "execute_result"
    }
   ],
   "source": [
    "x"
   ]
  },
  {
   "cell_type": "code",
   "execution_count": 23,
   "metadata": {},
   "outputs": [
    {
     "data": {
      "text/plain": [
       "3"
      ]
     },
     "execution_count": 23,
     "metadata": {},
     "output_type": "execute_result"
    }
   ],
   "source": [
    "x.ndim"
   ]
  },
  {
   "cell_type": "markdown",
   "metadata": {},
   "source": [
    "### Key Attributes:\n",
    "A tensor is defined by 3 attributes-\n",
    " - Rank (number of axes): \n",
    " - Shape\n",
    " - Data type "
   ]
  },
  {
   "cell_type": "code",
   "execution_count": 24,
   "metadata": {},
   "outputs": [
    {
     "data": {
      "text/plain": [
       "3"
      ]
     },
     "execution_count": 24,
     "metadata": {},
     "output_type": "execute_result"
    }
   ],
   "source": [
    "train_images.ndim"
   ]
  },
  {
   "cell_type": "code",
   "execution_count": 25,
   "metadata": {},
   "outputs": [
    {
     "data": {
      "text/plain": [
       "(60000, 28, 28)"
      ]
     },
     "execution_count": 25,
     "metadata": {},
     "output_type": "execute_result"
    }
   ],
   "source": [
    "train_images.shape"
   ]
  },
  {
   "cell_type": "code",
   "execution_count": 26,
   "metadata": {},
   "outputs": [
    {
     "data": {
      "text/plain": [
       "dtype('uint8')"
      ]
     },
     "execution_count": 26,
     "metadata": {},
     "output_type": "execute_result"
    }
   ],
   "source": [
    "train_images.dtype"
   ]
  },
  {
   "cell_type": "code",
   "execution_count": 29,
   "metadata": {},
   "outputs": [],
   "source": [
    "digit= train_images[5]"
   ]
  },
  {
   "cell_type": "code",
   "execution_count": 35,
   "metadata": {},
   "outputs": [
    {
     "data": {
      "image/png": "[encoded data removed]",
      "text/plain": [
       "<Figure size 432x288 with 1 Axes>"
      ]
     },
     "metadata": {
      "needs_background": "light"
     },
     "output_type": "display_data"
    }
   ],
   "source": [
    "plt.imshow(digit, cmap= plt.cm.binary)\n",
    "plt.show()"
   ]
  },
  {
   "cell_type": "markdown",
   "metadata": {},
   "source": [
    "### Manipulate Tensors using Numpy"
   ]
  },
  {
   "cell_type": "markdown",
   "metadata": {},
   "source": [
    "Selecting a specific element in a tensor is called ***Tensor Slicing***"
   ]
  },
  {
   "cell_type": "code",
   "execution_count": 37,
   "metadata": {},
   "outputs": [],
   "source": [
    "tensor_slice=train_images[10:100]"
   ]
  },
  {
   "cell_type": "code",
   "execution_count": 38,
   "metadata": {},
   "outputs": [
    {
     "data": {
      "text/plain": [
       "(90, 28, 28)"
      ]
     },
     "execution_count": 38,
     "metadata": {},
     "output_type": "execute_result"
    }
   ],
   "source": [
    "tensor_slice.shape"
   ]
  },
  {
   "cell_type": "code",
   "execution_count": 39,
   "metadata": {},
   "outputs": [],
   "source": [
    "tensor_slice=train_images[10:100,:,:]"
   ]
  },
  {
   "cell_type": "code",
   "execution_count": 40,
   "metadata": {},
   "outputs": [],
   "source": [
    "tensor_slice=train_images[10:100,0:28, 0:28]"
   ]
  },
  {
   "cell_type": "code",
   "execution_count": 44,
   "metadata": {},
   "outputs": [
    {
     "data": {
      "text/plain": [
       "(90, 28, 28)"
      ]
     },
     "execution_count": 44,
     "metadata": {},
     "output_type": "execute_result"
    }
   ],
   "source": [
    "tensor_slice.shape"
   ]
  },
  {
   "cell_type": "code",
   "execution_count": 45,
   "metadata": {},
   "outputs": [],
   "source": [
    "tensor_slice= train_images[10:100, 10:24,10:24]"
   ]
  },
  {
   "cell_type": "code",
   "execution_count": 49,
   "metadata": {},
   "outputs": [
    {
     "data": {
      "image/png": "[encoded data removed]",
      "text/plain": [
       "<Figure size 432x288 with 1 Axes>"
      ]
     },
     "metadata": {
      "needs_background": "light"
     },
     "output_type": "display_data"
    }
   ],
   "source": [
    "plt.imshow(tensor_slice[7], cmap= plt.cm.binary)\n",
    "plt.show()"
   ]
  },
  {
   "cell_type": "code",
   "execution_count": 50,
   "metadata": {},
   "outputs": [],
   "source": [
    "tensor_slice= train_images[10:100, 7:-7,7:-7]"
   ]
  },
  {
   "cell_type": "code",
   "execution_count": 51,
   "metadata": {},
   "outputs": [
    {
     "data": {
      "image/png": "[encoded data removed]",
      "text/plain": [
       "<Figure size 432x288 with 1 Axes>"
      ]
     },
     "metadata": {
      "needs_background": "light"
     },
     "output_type": "display_data"
    }
   ],
   "source": [
    "plt.imshow(tensor_slice[7], cmap= plt.cm.binary)\n",
    "plt.show()"
   ]
  },
  {
   "cell_type": "markdown",
   "metadata": {},
   "source": [
    "**\":\"** is equivalent to selecting the entire axis. It can also be used to crop images"
   ]
  },
  {
   "cell_type": "markdown",
   "metadata": {},
   "source": [
    "The first axis (axis 0) in all data tensors is ***sample axis***. Deep Learning models dont train the data at once, \n",
    "it does it in batches.\n",
    "While consiedring ***batch tensor***, the first axis is called ***batch axis*** or ***batch dimension***"
   ]
  },
  {
   "cell_type": "code",
   "execution_count": 53,
   "metadata": {},
   "outputs": [
    {
     "data": {
      "text/plain": [
       "(128, 28, 28)"
      ]
     },
     "execution_count": 53,
     "metadata": {},
     "output_type": "execute_result"
    }
   ],
   "source": [
    "batch= train_images[:128]\n",
    "batch.shape"
   ]
  },
  {
   "cell_type": "code",
   "execution_count": 54,
   "metadata": {},
   "outputs": [
    {
     "data": {
      "text/plain": [
       "(128, 28, 28)"
      ]
     },
     "execution_count": 54,
     "metadata": {},
     "output_type": "execute_result"
    }
   ],
   "source": [
    "batch= train_images[128:256]\n",
    "batch.shape"
   ]
  },
  {
   "cell_type": "markdown",
   "metadata": {},
   "source": [
    "For nth batch\n",
    "\n",
    "```batch= train_images[128*n:128*(n+1)]\n",
    "batch.shape```"
   ]
  },
  {
   "cell_type": "markdown",
   "metadata": {},
   "source": [
    "### Real world examples of data tensors:\n",
    " - **Vector Data:** 2D tensors of shape *(sample, features)*\n",
    "> e.g. - An actuarial dataset of people, where we consider each person’s age, ZIP code,\n",
    "and income. Each person can be characterized as a vector of 3 values, and thus\n",
    "an entire dataset of 100,000 people can be stored in a 2D tensor of shape\n",
    "(100000, 3).\n",
    " - **Time Series Data/ Sequence Data:** 3D tensors of shape *(samples, timesteps, features)*\n",
    " ![capture](https://user-images.githubusercontent.com/13174586/49436810-0e553400-f7e0-11e8-8b9a-586f23360a3c.JPG)\n",
    "> e.g. - A dataset of stock prices. Every minute, we store the current price of the stock,\n",
    "the highest price in the past minute, and the lowest price in the past minute.\n",
    "Thus every minute is encoded as a 3D vector, an entire day of trading is\n",
    "encoded as a 2D tensor of shape (390, 3) (there are 390 minutes in a trading\n",
    "day), and 250 days’ worth of data can be stored in a 3D tensor of shape (250,\n",
    "390, 3). Here, each sample would be one day’s worth of data \n",
    " - **Images:** 4D tensors of shape *(sample, height, width, channel)/(sample, channel, height, width)*\n",
    " ![capture](https://user-images.githubusercontent.com/13174586/49436988-83c10480-f7e0-11e8-841a-e132f026f541.JPG)\n",
    "> Images typically have three dimensions: height, width, and color depth. Although\n",
    "grayscale images (like our MNIST digits) have only a single color channel and could\n",
    "thus be stored in 2D tensors, by convention image tensors are always 3D, with a onedimensional\n",
    "color channel for grayscale images. A batch of 128 grayscale images of\n",
    "size 256 × 256 could thus be stored in a tensor of shape (128, 256, 256, 1), and a\n",
    "batch of 128 color images could be stored in a tensor of shape (128, 256, 256, 3)\n",
    " - **Video:** 4D tensors of shape *(sample, frames, height, width, channel)/(sample, frames, channel, height, width)*\n",
    "> Video data is one of the few types of real-world data for which you’ll need 5D tensors.\n",
    "A video can be understood as a sequence of frames, each frame being a color image.\n",
    "Because each frame can be stored in a 3D tensor (height, width, color_depth), a\n",
    "sequence of frames can be stored in a 4D tensor (frames, height, width, color_\n",
    "depth), and thus a batch of different videos can be stored in a 5D tensor of shape\n",
    "(samples, frames, height, width, color_depth).\n",
    "<br/>\n",
    "e.g.- For instance, a 60-second, 144 × 256 YouTube video clip sampled at 4 frames per\n",
    "second would have 240 frames. A batch of four such video clips would be stored in a\n",
    "tensor of shape (4, 240, 144, 256, 3)."
   ]
  },
  {
   "cell_type": "markdown",
   "metadata": {},
   "source": [
    "### Tensor Operations\n",
    "\n",
    "```keras.layers.Dense(512, activation='relu')\n",
    "op= relu(dot(W,ip)+b)```\n",
    "\n",
    "where W is a 2D tensor and b is a vector"
   ]
  },
  {
   "cell_type": "markdown",
   "metadata": {},
   "source": [
    "### Element-wise operator"
   ]
  },
  {
   "cell_type": "markdown",
   "metadata": {},
   "source": [
    "```def naive_relu(x):\n",
    "    assert len(x.shape)==2\n",
    "    x=x.copy()\n",
    "    for i in range(x.shape[0]):\n",
    "        for j in range(x.shape[1]):\n",
    "            x[i,j]= max(x[i,j],0)\n",
    "    return x```"
   ]
  },
  {
   "cell_type": "markdown",
   "metadata": {},
   "source": [
    "```def naive_add(x,y):\n",
    "    assert len(x.shape)==2    \n",
    "    x=x.copy()\n",
    "    for i in range(x.shape[0]):\n",
    "        for j in range(x.shape[1]):\n",
    "            x[i,j]+=y[i,j]\n",
    "    return x```"
   ]
  },
  {
   "cell_type": "markdown",
   "metadata": {},
   "source": [
    "Same above operations using ***Numpy***\n",
    "\n",
    "```import numpy as np\n",
    "z=z+y\n",
    "z= np.maximum(x,0)```"
   ]
  },
  {
   "cell_type": "markdown",
   "metadata": {},
   "source": [
    "### Broadcasting\n",
    "\n",
    "When the addition of two tensors of different shapes, we use ***broadcasting***\n",
    "\n",
    "When possible and if there’s no ambiguity, the smaller tensor will be broadcasted to match the shape of the larger tensor. <br/>Broadcasting consists of two steps:\n",
    " - Axes (called *broadcast axes*) are added to the smaller tensor to match the ndim of the larger tensor.\n",
    " - The smaller tensor is repeated alongside these new axes to match the full shape of the larger tensor."
   ]
  },
  {
   "cell_type": "code",
   "execution_count": 59,
   "metadata": {},
   "outputs": [
    {
     "data": {
      "text/plain": [
       "(60000,)"
      ]
     },
     "execution_count": 59,
     "metadata": {},
     "output_type": "execute_result"
    }
   ],
   "source": [
    "train_labels.shape"
   ]
  },
  {
   "cell_type": "code",
   "execution_count": 60,
   "metadata": {},
   "outputs": [],
   "source": [
    "train_lab= train_labels.reshape(1,60000)"
   ]
  },
  {
   "cell_type": "code",
   "execution_count": 61,
   "metadata": {},
   "outputs": [
    {
     "data": {
      "text/plain": [
       "(1, 60000)"
      ]
     },
     "execution_count": 61,
     "metadata": {},
     "output_type": "execute_result"
    }
   ],
   "source": [
    "train_lab.shape"
   ]
  },
  {
   "cell_type": "code",
   "execution_count": 69,
   "metadata": {},
   "outputs": [
    {
     "name": "stdout",
     "output_type": "stream",
     "text": [
      "2\n"
     ]
    }
   ],
   "source": [
    "print(train_lab[0][5])"
   ]
  },
  {
   "cell_type": "code",
   "execution_count": 71,
   "metadata": {},
   "outputs": [
    {
     "data": {
      "text/plain": [
       "numpy.ndarray"
      ]
     },
     "execution_count": 71,
     "metadata": {},
     "output_type": "execute_result"
    }
   ],
   "source": [
    "type(train_lab)"
   ]
  },
  {
   "cell_type": "code",
   "execution_count": 76,
   "metadata": {},
   "outputs": [],
   "source": [
    "train_lab= np.append(train_lab,train_lab, axis=0)"
   ]
  },
  {
   "cell_type": "code",
   "execution_count": 77,
   "metadata": {},
   "outputs": [
    {
     "data": {
      "text/plain": [
       "(2, 60000)"
      ]
     },
     "execution_count": 77,
     "metadata": {},
     "output_type": "execute_result"
    }
   ],
   "source": [
    "train_lab.shape"
   ]
  },
  {
   "cell_type": "code",
   "execution_count": 82,
   "metadata": {},
   "outputs": [
    {
     "data": {
      "text/plain": [
       "array([[5, 0, 4, ..., 5, 6, 8],\n",
       "       [5, 0, 4, ..., 5, 6, 8]], dtype=uint8)"
      ]
     },
     "execution_count": 82,
     "metadata": {},
     "output_type": "execute_result"
    }
   ],
   "source": [
    "train_lab"
   ]
  },
  {
   "cell_type": "code",
   "execution_count": 84,
   "metadata": {},
   "outputs": [
    {
     "data": {
      "text/plain": [
       "2"
      ]
     },
     "execution_count": 84,
     "metadata": {},
     "output_type": "execute_result"
    }
   ],
   "source": [
    "len(train_lab.shape"
   ]
  },
  {
   "cell_type": "code",
   "execution_count": 85,
   "metadata": {},
   "outputs": [],
   "source": [
    "def naive_relu(x):\n",
    "    assert len(x.shape)==2\n",
    "    x=x.copy()\n",
    "    for i in range(x.shape[0]):\n",
    "        for j in range(x.shape[1]):\n",
    "            x[i,j]= max(x[i,j],0)\n",
    "    return x"
   ]
  },
  {
   "cell_type": "code",
   "execution_count": 86,
   "metadata": {},
   "outputs": [],
   "source": [
    "def naive_add(x,y):\n",
    "    assert len(x.shape)==2    \n",
    "    x=x.copy()\n",
    "    for i in range(x.shape[0]):\n",
    "        for j in range(x.shape[1]):\n",
    "            x[i,j]+=y[i,j]\n",
    "    return x"
   ]
  },
  {
   "cell_type": "code",
   "execution_count": 89,
   "metadata": {},
   "outputs": [],
   "source": [
    "ab= naive_add(train_lab, train_lab)\n",
    "ac= naive_relu(ab)"
   ]
  },
  {
   "cell_type": "code",
   "execution_count": 90,
   "metadata": {},
   "outputs": [
    {
     "data": {
      "text/plain": [
       "array([[10,  0,  8, ..., 10, 12, 16],\n",
       "       [10,  0,  8, ..., 10, 12, 16]], dtype=uint8)"
      ]
     },
     "execution_count": 90,
     "metadata": {},
     "output_type": "execute_result"
    }
   ],
   "source": [
    "ac"
   ]
  },
  {
   "cell_type": "markdown",
   "metadata": {},
   "source": [
    "With broadcasting, we can generally apply two-tensor element-wise operations if one\n",
    "tensor has shape ***(a, b, … n, n + 1, … m)*** and the other has shape ***(n, n + 1, … m)***. The\n",
    "broadcasting will then automatically happen for axes a through ***n - 1***."
   ]
  },
  {
   "cell_type": "code",
   "execution_count": 110,
   "metadata": {},
   "outputs": [],
   "source": [
    "a= np.random.random((3,2,3,2))\n",
    "b= np.random.random((2,3,2))\n",
    "c= np.maximum(a,b)"
   ]
  },
  {
   "cell_type": "code",
   "execution_count": 112,
   "metadata": {},
   "outputs": [
    {
     "name": "stdout",
     "output_type": "stream",
     "text": [
      "[[[[0.97714992 0.97490223]\n",
      "   [0.09981567 0.1246505 ]\n",
      "   [0.00620382 0.68450016]]\n",
      "\n",
      "  [[0.77242125 0.1054652 ]\n",
      "   [0.29980982 0.96122253]\n",
      "   [0.81511276 0.80715693]]]\n",
      "\n",
      "\n",
      " [[[0.21208335 0.68096456]\n",
      "   [0.28275271 0.30352589]\n",
      "   [0.16752363 0.20076329]]\n",
      "\n",
      "  [[0.82312877 0.32818145]\n",
      "   [0.05544286 0.15156637]\n",
      "   [0.56891153 0.71820486]]]\n",
      "\n",
      "\n",
      " [[[0.80103848 0.8048053 ]\n",
      "   [0.61495057 0.36180157]\n",
      "   [0.89546584 0.81025779]]\n",
      "\n",
      "  [[0.57518859 0.24818846]\n",
      "   [0.03835998 0.76346252]\n",
      "   [0.37944881 0.93651953]]]]\n",
      "4\n",
      "(3, 2, 3, 2)\n",
      "[[[0.70872432 0.20195569]\n",
      "  [0.0428356  0.23570297]\n",
      "  [0.29597288 0.04376766]]\n",
      "\n",
      " [[0.5069044  0.76808839]\n",
      "  [0.00967405 0.38740428]\n",
      "  [0.65596643 0.56966011]]]\n",
      "[[[[0.97714992 0.97490223]\n",
      "   [0.09981567 0.23570297]\n",
      "   [0.29597288 0.68450016]]\n",
      "\n",
      "  [[0.77242125 0.76808839]\n",
      "   [0.29980982 0.96122253]\n",
      "   [0.81511276 0.80715693]]]\n",
      "\n",
      "\n",
      " [[[0.70872432 0.68096456]\n",
      "   [0.28275271 0.30352589]\n",
      "   [0.29597288 0.20076329]]\n",
      "\n",
      "  [[0.82312877 0.76808839]\n",
      "   [0.05544286 0.38740428]\n",
      "   [0.65596643 0.71820486]]]\n",
      "\n",
      "\n",
      " [[[0.80103848 0.8048053 ]\n",
      "   [0.61495057 0.36180157]\n",
      "   [0.89546584 0.81025779]]\n",
      "\n",
      "  [[0.57518859 0.76808839]\n",
      "   [0.03835998 0.76346252]\n",
      "   [0.65596643 0.93651953]]]]\n",
      "4\n",
      "(3, 2, 3, 2)\n"
     ]
    }
   ],
   "source": [
    "print(a)\n",
    "print(a.ndim)\n",
    "print(a.shape)\n",
    "print(b)\n",
    "print(c)\n",
    "print(c.ndim)\n",
    "print(c.shape)"
   ]
  },
  {
   "cell_type": "markdown",
   "metadata": {},
   "source": [
    "### Tensor Dot\n",
    "The dot operation, also called a ***tensor product*** (not to be confused with an elementwise\n",
    "product) is the most common, most useful tensor operation. Contrary to\n",
    "element-wise operations, it combines entries in the input tensors.\n",
    " An element-wise product is done with the * operator in Numpy, Keras, Theano,\n",
    "and TensorFlow. dot uses a different syntax in TensorFlow, but in both Numpy and\n",
    "Keras it’s done using the standard dot operator\n",
    "\n",
    "![capture1](https://user-images.githubusercontent.com/13174586/49464343-a4a94a00-f820-11e8-9464-d5fece84ed84.JPG)\n"
   ]
  },
  {
   "cell_type": "code",
   "execution_count": 128,
   "metadata": {},
   "outputs": [],
   "source": [
    "o= np.random.random((3,3))\n",
    "p= np.random.random((3,2))\n",
    "q= np.dot(o,p)"
   ]
  },
  {
   "cell_type": "code",
   "execution_count": 129,
   "metadata": {},
   "outputs": [
    {
     "name": "stdout",
     "output_type": "stream",
     "text": [
      "[[0.9746623  0.94866803 0.55324458]\n",
      " [0.39040379 0.11327864 0.98007907]\n",
      " [0.07665248 0.79152354 0.24759697]]\n",
      "[[0.64264033 0.16917083]\n",
      " [0.79446666 0.41918494]\n",
      " [0.38422403 0.89978331]]\n",
      "[[1.59261227 1.06035202]\n",
      " [0.71745525 0.99538843]\n",
      " [0.77323175 0.56754574]]\n"
     ]
    }
   ],
   "source": [
    "print(o)\n",
    "print(p)\n",
    "print(q)"
   ]
  },
  {
   "cell_type": "code",
   "execution_count": 132,
   "metadata": {},
   "outputs": [
    {
     "name": "stdout",
     "output_type": "stream",
     "text": [
      "3\n",
      "3\n"
     ]
    }
   ],
   "source": [
    "print(o.shape[1])\n",
    "print(p.shape[0])\n"
   ]
  },
  {
   "cell_type": "code",
   "execution_count": 175,
   "metadata": {},
   "outputs": [
    {
     "name": "stdout",
     "output_type": "stream",
     "text": [
      "2\n",
      "2\n"
     ]
    }
   ],
   "source": [
    "a= np.array([[0,3,5],\n",
    "            [5,5,2]])\n",
    "b= np.array([[3,4,1],\n",
    "            [3,-2,2],\n",
    "            [4,-2,4]])\n",
    "print(len(a.shape))\n",
    "print(len(b.shape))"
   ]
  },
  {
   "cell_type": "code",
   "execution_count": 176,
   "metadata": {},
   "outputs": [
    {
     "data": {
      "text/plain": [
       "True"
      ]
     },
     "execution_count": 176,
     "metadata": {},
     "output_type": "execute_result"
    }
   ],
   "source": [
    "a.shape[1]==b.shape[0]"
   ]
  },
  {
   "cell_type": "code",
   "execution_count": 177,
   "metadata": {},
   "outputs": [
    {
     "data": {
      "text/plain": [
       "array([[ 29, -16,  26],\n",
       "       [ 38,   6,  23]])"
      ]
     },
     "execution_count": 177,
     "metadata": {},
     "output_type": "execute_result"
    }
   ],
   "source": [
    "np.dot(a,b)"
   ]
  },
  {
   "cell_type": "code",
   "execution_count": 210,
   "metadata": {},
   "outputs": [],
   "source": [
    "def dot_prod(x,y):\n",
    "    assert len(x.shape)==2\n",
    "    assert len(y.shape)==2\n",
    "    assert x.shape[1]==y.shape[0]\n",
    "    z= np.zeros((3,3))\n",
    "    for i in range(x.shape[0]):\n",
    "        for j in range(x.shape[1]):\n",
    "            z[i,j]+= x[i,j]*y[i,j] \n",
    "    return z"
   ]
  },
  {
   "cell_type": "code",
   "execution_count": 211,
   "metadata": {},
   "outputs": [
    {
     "data": {
      "text/plain": [
       "2"
      ]
     },
     "execution_count": 211,
     "metadata": {},
     "output_type": "execute_result"
    }
   ],
   "source": [
    "len(a.shape)"
   ]
  },
  {
   "cell_type": "code",
   "execution_count": 212,
   "metadata": {},
   "outputs": [
    {
     "data": {
      "text/plain": [
       "2"
      ]
     },
     "execution_count": 212,
     "metadata": {},
     "output_type": "execute_result"
    }
   ],
   "source": [
    "len(b.shape)"
   ]
  },
  {
   "cell_type": "code",
   "execution_count": 213,
   "metadata": {},
   "outputs": [
    {
     "data": {
      "text/plain": [
       "array([[  0.,  12.,   5.],\n",
       "       [ 15., -10.,   4.],\n",
       "       [  0.,   0.,   0.]])"
      ]
     },
     "execution_count": 213,
     "metadata": {},
     "output_type": "execute_result"
    }
   ],
   "source": [
    "dot_prod(a,b)"
   ]
  },
  {
   "cell_type": "code",
   "execution_count": 214,
   "metadata": {},
   "outputs": [
    {
     "data": {
      "text/plain": [
       "array([0., 0.])"
      ]
     },
     "execution_count": 214,
     "metadata": {},
     "output_type": "execute_result"
    }
   ],
   "source": [
    "np.zeros(a.shape[0])"
   ]
  },
  {
   "cell_type": "markdown",
   "metadata": {},
   "source": [
    "### Tensor Reshaping\n",
    "Reshaping a tensor means rearranging its rows and columns to match a target shape.\n",
    "Naturally, the reshaped tensor has the same total number of coefficients as the initial\n",
    "tensor"
   ]
  },
  {
   "cell_type": "code",
   "execution_count": 215,
   "metadata": {},
   "outputs": [],
   "source": [
    "x= np.array([[0,1],\n",
    "            [2,3],\n",
    "            [4,5]])"
   ]
  },
  {
   "cell_type": "code",
   "execution_count": 217,
   "metadata": {},
   "outputs": [
    {
     "name": "stdout",
     "output_type": "stream",
     "text": [
      "[[0 1]\n",
      " [2 3]\n",
      " [4 5]]\n",
      "[[0 1 2]\n",
      " [3 4 5]]\n",
      "[[0 1 2 3 4 5]]\n",
      "[[0]\n",
      " [1]\n",
      " [2]\n",
      " [3]\n",
      " [4]\n",
      " [5]]\n"
     ]
    }
   ],
   "source": [
    "print(x)\n",
    "print(x.reshape(2,3))\n",
    "print(x.reshape(1,6))\n",
    "print(x.reshape(6,1))"
   ]
  },
  {
   "cell_type": "markdown",
   "metadata": {},
   "source": [
    "A special case of reshaping that’s commonly encountered is transposition. Transposing a\n",
    "matrix means exchanging its rows and its columns, so that x[i, :] becomes x[:, i]"
   ]
  },
  {
   "cell_type": "code",
   "execution_count": 220,
   "metadata": {},
   "outputs": [
    {
     "name": "stdout",
     "output_type": "stream",
     "text": [
      "(20, 200)\n",
      "(200, 20)\n"
     ]
    }
   ],
   "source": [
    "x= np.zeros((20,200))\n",
    "print(x.shape)\n",
    "y= np.transpose(x)\n",
    "print(y.shape)"
   ]
  },
  {
   "cell_type": "markdown",
   "metadata": {},
   "source": [
    "### Geometric Interpretation of Tensors Operations\n",
    "Because the contents of the tensors manipulated by tensor operations can be interpreted\n",
    "as coordinates of points in some geometric space, all tensor operations have a\n",
    "geometric interpretation. For instance, let’s consider addition. We’ll start with the following\n",
    "vector:\n",
    "```A = [0.5, 1]```\n",
    "It’s a point in a 2D space. It’s common to picture a vector as an arrow\n",
    "linking the origin to the point\n",
    "![capture](https://user-images.githubusercontent.com/13174586/49464807-f7cfcc80-f821-11e8-882c-49927c1a4547.JPG)\n",
    "![capture1](https://user-images.githubusercontent.com/13174586/49464805-f7373600-f821-11e8-8f94-7873856ad97b.JPG)\n",
    "\n",
    "Let’s consider a new point, ```B = [1, 0.25]```, which we’ll add to the previous one. This is\n",
    "done geometrically by chaining together the vector arrows, with the resulting location\n",
    "being the vector representing the sum of the previous two vectors\n",
    "![capture](https://user-images.githubusercontent.com/13174586/49464922-3a91a480-f822-11e8-9be4-9f6d3b881d2a.JPG)"
   ]
  },
  {
   "cell_type": "markdown",
   "metadata": {},
   "source": [
    "### Geometric Interpretation of Deep Learning\n",
    "Neural networks consist entirely of chains of tensor operations and\n",
    "that all of these tensor operations are just geometric transformations of the input data.\n",
    "It follows that you can interpret a neural network as a very complex geometric transformation\n",
    "in a high-dimensional space, implemented via a long series of simple steps.\n",
    "\n",
    "In 3D, the following mental image may prove useful. Imagine two sheets of colored\n",
    "paper: one red and one blue. Put one on top of the other. Now crumple them\n",
    "together into a small ball. That crumpled paper ball is your input data, and each sheet\n",
    "of paper is a class of data in a classification problem. What a neural network (or any\n",
    "other machine-learning model) is meant to do is figure out a transformation of the\n",
    "paper ball that would uncrumple it, so as to make the two classes cleanly separable\n",
    "again. With deep learning, this would be implemented as a series of simple transformations\n",
    "of the 3D space, such as those you could apply on the paper ball with your fingers,\n",
    "one movement at a time.\n",
    "\n",
    "Uncrumpling paper balls is what machine learning is about: finding neat representations\n",
    "for complex, highly folded data manifolds. Deep Learning takes the approach of\n",
    "incrementally decomposing a complicated geometric transformation into a long\n",
    "chain of elementary ones, which is pretty much the strategy a human would follow to\n",
    "uncrumple a paper ball. Each layer in a deep network applies a transformation that\n",
    "disentangles the data a little—and a deep stack of layers makes tractable an extremely\n",
    "complicated disentanglement process. "
   ]
  },
  {
   "cell_type": "markdown",
   "metadata": {},
   "source": [
    "### Gradient Based Optimization\n",
    "\n",
    "Each neural layer transforms the data as follows:\n",
    "\n",
    "```output= relu(dot(W,input)+b)```\n",
    "\n",
    "Here, ```W``` is ***Weight/Kernel*** and ```b``` is ***bias***. Both are ***trainable parameters*** of the layers. At first, ```W``` is filled with random values using ***random Initialization***, then with *training* using the feedback signal, ```W``` is adjusted. \n",
    "\n",
    "Steps of ***Training Loop***: \n",
    "\n",
    " - Batch of training sample ```x``` and corresponding training target ```y``` are selected\n",
    " - Run the model using ***forward pass*** on ```x``` for get ```y_pred```\n",
    " - Compute the loss of the network ```y-y_pred```\n",
    " - Update the weights of the model and keep retarining to reduce **loss**\n",
    " \n",
    "### Derivative\n",
    "\n",
    "Let us consider a smooth function ```f(x)=y```. Since the function is *continuous*, a small change in ```x (delta_x)```, will result in a small change in ```y (delta_y)```.\n",
    "\n",
    "```f(x + delta_x) = y + delta_y```\n",
    "\n",
    "![capture](https://user-images.githubusercontent.com/13174586/49468444-e7701f80-f82a-11e8-8974-e0e2acd9cfbe.JPG)\n",
    "\n",
    "Since the function is *smooth*, at cetrain point *p*, the ```delta_x``` is so small, that the function ```f(x)``` becomes linear with a slope of ```a```. Thus,\n",
    "\n",
    "```f(x + delta_x) = y + a*delta_y```\n",
    "\n",
    "The slope ```a``` is called the ***derivative*** of ```f``` in *p*. \n",
    "\n",
    "If ```a``` is ***negative*** , ```delta_x``` at point *p*  will decrease ```f(x)```. \n",
    "\n",
    "If ```a``` is ***positive*** , ```delta_x``` at point *p*  will increase ```f(x)```. \n",
    "\n",
    "The ***absolute value/ magnitude*** of ```a``` will depict how quickly the value  ```f(x)``` will increase or decrease.\n",
    "\n",
    "e.g.-\n",
    "\n",
    "```f(x)= a*cos(x)```<br/>\n",
    "```f'(x)= -a*sin(x)```\n",
    "\n",
    "### Gradient (Derivative) of Tensor Operation\n",
    "A *gradient* is the *derivative* of Tensor Operation. \n",
    "\n",
    "\n",
    "**Input Vector:** x<br/>\n",
    "**Weight:** W<br/>\n",
    "**Target:** y<br/>\n",
    "**Loss Function:** loss<br/>\n",
    "\n",
    "`y_pred= dot(W,x)\n",
    "loss_value= loss(y, y_pred)\n",
    "`\n",
    "<br/>\n",
    "\n",
    "Let’s say the current value of ```W``` is ```W0```. Then the derivative of ```f``` in the point ```W0``` is a tensor\n",
    "```gradient(f)(W0)``` with the same shape as ```W```, where each coefficient ```gradient(f)(W0)[i, j]``` indicates the direction and magnitude of the change in loss_value we observe when modifying ```W0[i, j]```. That tensor ```gradient(f)(W0)``` is the gradient of the function ```f(W) = loss_value``` in ```W0```.\n",
    "\n",
    "The derivative of a function ```f(x)``` of a single coefficient can be\n",
    "interpreted as the *slope* of the curve of ```f```. Likewise, ```gradient(f)(W0)``` can be interpreted\n",
    "as the tensor describing the *curvature* of ```f(W)``` around ```W0```.\n",
    "\n",
    "We can reduce the value of ```f(x)``` by moving ```x``` a little in the opposite direction from the derivative,\n",
    "with a function ```f(W)``` of a tensor, we can reduce ```f(W)``` by moving ```W``` in the opposite\n",
    "direction from the gradient: for example, ```W1 = W0 - step * gradient(f)(W0)``` (where\n",
    "*step* is a *small scaling factor*). That means going against the curvature, which intuitively\n",
    "should put us lower on the curve. Note that the scaling factor step is needed\n",
    "because ```gradient(f)(W0)``` only approximates the curvature when we’re close to ```W0```,\n",
    "so we don’t want to get too far from ```W0```. \n",
    "\n",
    "### Stochastic Gradient Descent\n",
    "\n",
    "Given a differentiable function, it’s theoretically possible to find its minimum analytically:\n",
    "it’s known that a function’s minimum is a point where the derivative is 0, so all\n",
    "we have to do is find all the points where the derivative goes to 0 and check for which\n",
    "of these points the function has the lowest value\n",
    "\n",
    "Applied to a neural network, that means finding analytically the combination of\n",
    "weight values that yields the smallest possible loss function. This can be done by solving\n",
    "the equation ```gradient(f)(W) = 0``` for ```W```. This is a polynomial equation of ***N*** variables,\n",
    "where N is the number of coefficients in the network. Although it would be\n",
    "possible to solve such an equation for ***N = 2*** or ***N = 3***, doing so is intractable for real\n",
    "neural networks, where the number of parameters is never less than a few thousand\n",
    "and can often be several tens of millions\n",
    "\n",
    " - Draw a batch of training samples ```x``` and corresponding target values ```y```\n",
    " - Run the NN(model) on ```x``` to get ```y_pred```\n",
    " - Calculate the ```loss(y, y_pred)```on the batch\n",
    " - Using ***backward pass**, compute the gradient of the loss with regards to the network parameters\n",
    " - Move the parameters a little in the opposite directionfrom the gradient. ```W -= step*gradient``` -thus reducing the batch loss \n",
    " \n",
    "The above method is called ***Mini-Batch Stochastic Gradient Descent (mini-batch SGD)***. The term ***Stochastic*** means that each batch of the data is drawn at ***random***.\n",
    "\n",
    "![capture](https://user-images.githubusercontent.com/13174586/49491718-57a69180-f87b-11e8-8752-0a2e36e49d78.JPG)\n",
    "\n",
    "It is important to pick a easonable value for ***step*** factor. If is is *too small*, the the gradient descent will take too many iterations to converge and even there is a possibility that it might get stuck at the ***local minimum***. If the ***step*** size is *too large*, it might take the gradient to some random locations on the curve and our network will never converge.\n",
    "\n",
    "There are different variants of SGD:\n",
    "\n",
    " - **True SGD:** Here the algorithm will draw one single sample data from ```x``` and one target data from ```y``` and perform the computations.\n",
    " - **Batch SGD:** Here the algorithm will draw all the data and run all the step on the complete data. Though it is *accurate*, computationally it is very expensive.\n",
    " - **Batch SGD:** Here the algorithm will draw random samples from the data and run all the step on the on them and repeat the process on different samples. This maintains a balance between **True SGD** and **Batch SGD**\n",
    " \n",
    "In addition to the above variants, there are other variants of SGD taht look into the previous weight updates while computing the next weight update. e.g.- SGD with *momentum, Adagrad, RMSProp*. Such variants are known as ***Optimization Method*** or ***Optimizers***.\n",
    "\n",
    "***Momentum*** addresses two issues:\n",
    " - SGD Convergence Speed\n",
    " - Local Minima\n",
    "\n",
    "![capture](https://user-images.githubusercontent.com/13174586/49492661-334cb400-f87f-11e8-9093-415ed26466f9.JPG)\n",
    "\n",
    "Around a certain parameter value, there is a ***local Minima***. From there, if we move to left, the loss will increase. If the ***learning rate/ step*** is small, then moving to the right will also increase the loss and the model may never converge at ***Global Minimum***. To avoid such issues, we can use ***Momentum***. \n",
    "\n",
    "> An real-life representation of optimization process as a small ball rolling down the loss curve. If it has enough momentum, the ball won’t get stuck in a ravine and will end up at the global minimum. Momentum is implemented by moving the ball at each step based not only on the current slope value (current acceleration) but also on the current velocity (resulting from past acceleration). In practice, this means updating the parameter ```w``` based not only on the current gradient value but also on the previous parameter update\n",
    "\n",
    "`past_velocity = 0\n",
    " momentum = 0.1\n",
    " while loss > 0.1:\n",
    "    w, loss, gradient = get_current_parameters()\n",
    "    velocity= past_velocity*momentum + learning_rate*gradient\n",
    "    w = w + momentum*velocity -learning_rate*gradient\n",
    "    past_velocity = velocity\n",
    "    update_parameter(w)`\n",
    "\n",
    "\n",
    "\n",
    "\n",
    "### BackPropagation: Chaining Derivative\n",
    "\n",
    "a neural network function consists of many tensor operations chained together, each of which has a simple,\n",
    "known derivative. For instance, this is a network ```f``` composed of three tensor operations,\n",
    "```a```, ```b```, and ```c```, with weight matrices ```W1```, ```W2```, and ```W3```:\n",
    "\n",
    "```f(W1, W2, W3) = a(W1, b(W2, c(W3)))```\n",
    "\n",
    "\n",
    "Calculus tells us that such a chain of functions can be derived using the following identity,\n",
    "called the chain rule: \n",
    "\n",
    "`f(g(x)) = f'(g(x)) * g'(x)`\n",
    "\n",
    "Applying the chain rule algorithm to compute gradient of the neural network is called ***Backpropagation*** or ***Reverse-mode Differentiation***. The backProp starts with the loss from the top layer and and works backward to the bottom layers, applying chain rule to compute contribution of each parameter in the loss value."
   ]
  },
  {
   "cell_type": "markdown",
   "metadata": {},
   "source": [
    "### MNIST Digit Classification\n",
    "\n",
    "The input images are stored in Numpy tensors, which are here formatted as `float32` tensors of shape (60000, 784) (training data) and (10000, 784) (test data)"
   ]
  },
  {
   "cell_type": "code",
   "execution_count": 20,
   "metadata": {},
   "outputs": [],
   "source": [
    "train_images= train_images.reshape((60000,28*28))\n",
    "train_images= train_images.astype('float32')/255.0\n",
    "\n",
    "test_images= test_images.reshape((10000,28*28))\n",
    "test_images= test_images.astype('float32')/255.0"
   ]
  },
  {
   "cell_type": "code",
   "execution_count": 21,
   "metadata": {},
   "outputs": [
    {
     "name": "stdout",
     "output_type": "stream",
     "text": [
      "(60000,)\n",
      "(60000, 10)\n"
     ]
    }
   ],
   "source": [
    "print(train_labels.shape)\n",
    "train_labels= to_categorical(train_labels)\n",
    "print(train_labels.shape)\n",
    "test_labels= to_categorical(test_labels)"
   ]
  },
  {
   "cell_type": "markdown",
   "metadata": {},
   "source": [
    "The network consists of a chain of two `Dense` layers, that each layer applies a few simple tensor operations to the input data, and that these operations involve weight tensors. Weight tensors, which are attributes of the layers, are where the *knowledge* of the network persists."
   ]
  },
  {
   "cell_type": "code",
   "execution_count": 11,
   "metadata": {},
   "outputs": [],
   "source": [
    "network= models.Sequential()\n",
    "network.add(layers.Dense(512, activation='relu', input_shape=(28*28,)))\n",
    "network.add(layers.Dense(10, activation= 'softmax'))"
   ]
  },
  {
   "cell_type": "markdown",
   "metadata": {},
   "source": [
    "#### Network compilation step:\n",
    "    \n",
    "`categorical_crossentropy` is the *loss function* that’s used as a *feedback signal* for learning the weight tensors, and which the training phase will attempt to minimize. This reduction of the loss happens via *minibatch stochastic gradient descent*. The exact rules governing a specific use of gradient descent are defined by the *rmsprop optimizer* passed as the first argument"
   ]
  },
  {
   "cell_type": "code",
   "execution_count": 12,
   "metadata": {},
   "outputs": [],
   "source": [
    "network.compile(optimizer=\"rmsprop\", loss=\"categorical_crossentropy\", metrics=[\"accuracy\"])"
   ]
  },
  {
   "cell_type": "markdown",
   "metadata": {},
   "source": [
    "#### Traing Network loop:\n",
    "\n",
    "when we call `fit:` the network will start to iterate on the training data in mini-batches of ***128 samples***, ***10*** times \n",
    "over (each iteration over all the training data is called an `epoch`). At each iteration, the network will compute the gradients of the weights with regard to the loss on the batch, and update the weights accordingly. After these ***10 epochs***, the network will have performed ***4690 gradient updates [469 (60000/128) per epoch]***, and the loss of the network will be sufficiently low that the\n",
    "network will be capable of classifying handwritten digits with high accuracy."
   ]
  },
  {
   "cell_type": "code",
   "execution_count": 22,
   "metadata": {},
   "outputs": [
    {
     "name": "stdout",
     "output_type": "stream",
     "text": [
      "Epoch 1/10\n",
      "60000/60000 [==============================] - 11s 184us/step - loss: 0.2592 - acc: 0.9249\n",
      "Epoch 2/10\n",
      "60000/60000 [==============================] - 1s 20us/step - loss: 0.1034 - acc: 0.9694\n",
      "Epoch 3/10\n",
      "60000/60000 [==============================] - 1s 20us/step - loss: 0.0686 - acc: 0.9798\n",
      "Epoch 4/10\n",
      "60000/60000 [==============================] - 1s 20us/step - loss: 0.0501 - acc: 0.9851\n",
      "Epoch 5/10\n",
      "60000/60000 [==============================] - 1s 20us/step - loss: 0.0378 - acc: 0.9888: 0s - loss: 0.0382 - acc:\n",
      "Epoch 6/10\n",
      "60000/60000 [==============================] - 1s 19us/step - loss: 0.0283 - acc: 0.9912\n",
      "Epoch 7/10\n",
      "60000/60000 [==============================] - 1s 19us/step - loss: 0.0218 - acc: 0.9937\n",
      "Epoch 8/10\n",
      "60000/60000 [==============================] - 1s 19us/step - loss: 0.0175 - acc: 0.9948\n",
      "Epoch 9/10\n",
      "60000/60000 [==============================] - 1s 19us/step - loss: 0.0133 - acc: 0.9961\n",
      "Epoch 10/10\n",
      "60000/60000 [==============================] - 1s 19us/step - loss: 0.0106 - acc: 0.9970\n"
     ]
    },
    {
     "data": {
      "text/plain": [
       "<keras.callbacks.History at 0x20d9fee11d0>"
      ]
     },
     "execution_count": 22,
     "metadata": {},
     "output_type": "execute_result"
    }
   ],
   "source": [
    "network.fit(train_images, train_labels, epochs=10, batch_size=128)"
   ]
  },
  {
   "cell_type": "code",
   "execution_count": null,
   "metadata": {},
   "outputs": [],
   "source": []
  }
 ],
 "metadata": {
  "kernelspec": {
   "display_name": "Python 3",
   "language": "python",
   "name": "python3"
  },
  "language_info": {
   "codemirror_mode": {
    "name": "ipython",
    "version": 3
   },
   "file_extension": ".py",
   "mimetype": "text/x-python",
   "name": "python",
   "nbconvert_exporter": "python",
   "pygments_lexer": "ipython3",
   "version": "3.6.6"
  }
 },
 "nbformat": 4,
 "nbformat_minor": 2
}
