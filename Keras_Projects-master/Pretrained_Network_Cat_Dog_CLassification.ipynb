{
 "cells": [
  {
   "cell_type": "markdown",
   "metadata": {},
   "source": [
    "# Pretrained Network Cats and Dog Classification\n",
    "\n",
    "### Using a Pretrained Convnet"
   ]
  },
  {
   "cell_type": "markdown",
   "metadata": {},
   "source": [
    "A common and highly effective approach to deep learning on small image datasets is to use a pretrained network. A **pretrained network** is a saved network that was previously trained on a large dataset, typically on a large-scale image-classification task. If this original dataset is large enough and general enough, then the spatial hierarchy of features learned by the pretrained network can effectively act as a generic model of the visual world, and hence its features can prove useful for many different computervision problems, even though these new problems may involve completely different classes than those of the original task. For instance, you might train a network on ImageNet (where classes are mostly animals and everyday objects) and then repurpose this trained network for something as remote as identifying furniture items in images. Such portability of learned features across different problems is a key advantage of deep learning compared to many older, shallow-learning approaches, and it makes deep learning very effective for small-data problems.\n",
    "\n",
    "In this case, let’s consider a large convnet trained on the ImageNet dataset (1.4 million labeled images and 1,000 different classes). ImageNet contains many animal classes, including different species of cats and dogs, and we can thus expect to\n",
    "perform well on the dogs-versus-cats classification problem.\n",
    "\n",
    "We’ll use the ```VGG16``` architecture, it’s a simple and widely used convnet architecture for ImageNet. Although it’s an older model, far from the current state of the art and somewhat heavier than many other recent models, I chose it because its architecture is similar to what we’re already familiar with and is easy to understand without introducing any new concepts. This may be our first encounter with one of these cutesy model names—VGG, ResNet, Inception, Inception-ResNet, Xception, and so on; we’ll get used to them, because they will come up frequently if we keep doing deep learning for computer vision.\n",
    "\n",
    "There are two ways to use a pretrained network: **feature extraction** and **fine-tuning**.\n",
    "\n",
    "Let’s start with feature extraction.\n",
    "\n",
    "### Feature extraction\n",
    "\n",
    "Feature extraction consists of using the representations learned by a previous network to extract interesting features from new samples. These features are then run through a new classifier, which is trained from scratch.\n",
    "\n",
    "As we saw previously, convnets used for image classification comprise two parts: they start with a series of pooling and convolution layers, and they end with a densely connected classifier. The first part is called the **convolutional base** of the model. In the case of convnets, feature extraction consists of taking the convolutional base of a previously trained network, running the new data through it, and training a new classifier on top of the output.\n",
    "\n",
    "![capture](https://user-images.githubusercontent.com/13174586/49786736-cb98dc00-fd4a-11e8-99f1-14210e197da4.JPG)\n",
    "\n",
    "Why only reuse the convolutional base? Could we reuse the densely connected classifier as well? In general, doing so should be avoided. The reason is that the representations learned by the convolutional base are likely to be more generic and therefore\n",
    "more reusable: the feature maps of a convnet are presence maps of generic concepts over a picture, which is likely to be useful regardless of the computer-vision problem at hand. But the representations learned by the classifier will necessarily be specific to the set of classes on which the model was trained—they will only contain information about the presence probability of this or that class in the entire picture. Additionally, representations found in densely connected layers no longer contain any information about where objects are located in the input image: these layers get rid of the notion of space, whereas the object location is still described by convolutional feature maps. For problems where object location matters, densely connected features are largely useless. \n",
    "\n",
    "The level of generality (and therefore reusability) of the representations extracted by specific convolution layers depends on the depth of the layer in the model. Layers that come earlier in the model extract local, highly generic feature maps (such as visual edges, colors, and textures), whereas layers that are higher up extract more-abstract concepts (such as “cat ear” or “dog eye”). So if our new dataset differs a lot from the dataset on which the original model was trained, we may be better off using only the first few layers of the model to do feature extraction, rather than using the entire convolutional base.\n",
    "\n",
    "In this case, because the ImageNet class set contains multiple dog and cat classes, it’s likely to be beneficial to reuse the information contained in the densely connected layers of the original model. But we’ll choose not to, in order to cover the more general case where the class set of the new problem doesn’t overlap the class set of the original model. Let’s put this in practice by using the convolutional base of the VGG16 network, trained on ImageNet, to extract interesting features from cat and dog images, and then train a dogs-versus-cats classifier on top of these features.\n",
    "\n",
    "The VGG16 model, among others, comes prepackaged with Keras. We can import it from the keras.applications module. Here’s the list of image-classification models (all pretrained on the ImageNet dataset) that are available as part of ```keras.applications```:\n",
    " - ```Xception```\n",
    " - ```Inception V3```\n",
    " - ```ResNet50```\n",
    " - ```VGG16```\n",
    " - ```VGG19```\n",
    " - ```MobileNet```\n",
    " \n",
    "\n",
    "\n",
    "#### Instantiate The ```VGG16``` Convolutional Base"
   ]
  },
  {
   "cell_type": "code",
   "execution_count": 21,
   "metadata": {},
   "outputs": [],
   "source": [
    "from keras.applications import VGG16\n",
    "\n",
    "conv_base= VGG16(weights='imagenet', include_top=False, input_shape=(150,150,3))"
   ]
  },
  {
   "cell_type": "markdown",
   "metadata": {},
   "source": [
    "We pass three arguments to the constructor:\n",
    " - **weights** specifies the weight checkpoint from which to initialize the model.\n",
    " - **include_top** refers to including (or not) the densely connected classifier on top of the network. By default, this densely connected classifier corresponds to the 1,000 classes from ImageNet. Because we intend to use our own densely connected classifier (with only two classes: cat and dog), we don’t need to include it.\n",
    " - **input_shape** is the shape of the image tensors that we’ll feed to the network.This argument is purely optional: if we don’t pass it, the network will be able to process inputs of any size.\n",
    "\n",
    "Here’s the detail of the architecture of the ```VGG16``` convolutional base. It’s similar to the simple convnets we’re already familiar with:"
   ]
  },
  {
   "cell_type": "code",
   "execution_count": 22,
   "metadata": {},
   "outputs": [
    {
     "name": "stdout",
     "output_type": "stream",
     "text": [
      "_________________________________________________________________\n",
      "Layer (type)                 Output Shape              Param #   \n",
      "=================================================================\n",
      "input_4 (InputLayer)         (None, 150, 150, 3)       0         \n",
      "_________________________________________________________________\n",
      "block1_conv1 (Conv2D)        (None, 150, 150, 64)      1792      \n",
      "_________________________________________________________________\n",
      "block1_conv2 (Conv2D)        (None, 150, 150, 64)      36928     \n",
      "_________________________________________________________________\n",
      "block1_pool (MaxPooling2D)   (None, 75, 75, 64)        0         \n",
      "_________________________________________________________________\n",
      "block2_conv1 (Conv2D)        (None, 75, 75, 128)       73856     \n",
      "_________________________________________________________________\n",
      "block2_conv2 (Conv2D)        (None, 75, 75, 128)       147584    \n",
      "_________________________________________________________________\n",
      "block2_pool (MaxPooling2D)   (None, 37, 37, 128)       0         \n",
      "_________________________________________________________________\n",
      "block3_conv1 (Conv2D)        (None, 37, 37, 256)       295168    \n",
      "_________________________________________________________________\n",
      "block3_conv2 (Conv2D)        (None, 37, 37, 256)       590080    \n",
      "_________________________________________________________________\n",
      "block3_conv3 (Conv2D)        (None, 37, 37, 256)       590080    \n",
      "_________________________________________________________________\n",
      "block3_pool (MaxPooling2D)   (None, 18, 18, 256)       0         \n",
      "_________________________________________________________________\n",
      "block4_conv1 (Conv2D)        (None, 18, 18, 512)       1180160   \n",
      "_________________________________________________________________\n",
      "block4_conv2 (Conv2D)        (None, 18, 18, 512)       2359808   \n",
      "_________________________________________________________________\n",
      "block4_conv3 (Conv2D)        (None, 18, 18, 512)       2359808   \n",
      "_________________________________________________________________\n",
      "block4_pool (MaxPooling2D)   (None, 9, 9, 512)         0         \n",
      "_________________________________________________________________\n",
      "block5_conv1 (Conv2D)        (None, 9, 9, 512)         2359808   \n",
      "_________________________________________________________________\n",
      "block5_conv2 (Conv2D)        (None, 9, 9, 512)         2359808   \n",
      "_________________________________________________________________\n",
      "block5_conv3 (Conv2D)        (None, 9, 9, 512)         2359808   \n",
      "_________________________________________________________________\n",
      "block5_pool (MaxPooling2D)   (None, 4, 4, 512)         0         \n",
      "=================================================================\n",
      "Total params: 14,714,688\n",
      "Trainable params: 14,714,688\n",
      "Non-trainable params: 0\n",
      "_________________________________________________________________\n"
     ]
    }
   ],
   "source": [
    "conv_base.summary()"
   ]
  },
  {
   "cell_type": "markdown",
   "metadata": {},
   "source": [
    "The final feature map has shape (4, 4, 512). That’s the feature on top of which we’ll stick a densely connected classifier. At this point, there are two ways we could proceed:\n",
    " - Running the convolutional base over your dataset, recording its output to a Numpy array on disk, and then using this data as input to a standalone, densely connected classifier. This solution is fast and cheap to run, because it only requires running the convolutional base once for every input image, and the convolutional base is by far the most expensive part of the pipeline. But for the same reason, this technique won’t allow us to use data augmentation.\n",
    " - Extending the model we have (```conv_base```) by adding ```Dense``` layers on top, and running the whole thing end to end on the input data. This will allow us to use data augmentation, because every input image goes through the convolutional base every time it’s seen by the model. But for the same reason, this technique is far more expensive than the first.\n",
    " \n",
    "Let’s walk through the code required to set up the first one: recording the output of ```conv_base``` on our data and using these outputs as inputs to a new model.\n",
    "\n",
    "#### FAST FEATURE EXTRACTION WITHOUT DATA AUGMENTATION\n",
    "We’ll start by running instances of the previously introduced ```ImageDataGenerator``` to extract images as Numpy arrays as well as their labels. We’ll extract features from these images by calling the predict method of the ```conv_base``` model.\n",
    "\n",
    "#### Extract Features Using The Pretrained Convolutional Base"
   ]
  },
  {
   "cell_type": "code",
   "execution_count": 1,
   "metadata": {},
   "outputs": [
    {
     "name": "stderr",
     "output_type": "stream",
     "text": [
      "Using TensorFlow backend.\n"
     ]
    }
   ],
   "source": [
    "import os\n",
    "import numpy as np\n",
    "from keras import layers, models, optimizers\n",
    "from keras.preprocessing.image import ImageDataGenerator\n",
    "import matplotlib.pyplot as plt"
   ]
  },
  {
   "cell_type": "code",
   "execution_count": 2,
   "metadata": {},
   "outputs": [],
   "source": [
    "base_dir= 'C:/Users/soumyama/Documents/Python Scripts/Keras/Cat_Dog/data'\n",
    "train_dir= os.path.join(base_dir, 'train')\n",
    "validation_dir= os.path.join(base_dir, 'validation')\n",
    "test_dir= os.path.join(base_dir, 'test')"
   ]
  },
  {
   "cell_type": "code",
   "execution_count": 3,
   "metadata": {},
   "outputs": [],
   "source": [
    "datagen= ImageDataGenerator(rescale=1./255)\n",
    "batch_size=20"
   ]
  },
  {
   "cell_type": "code",
   "execution_count": 4,
   "metadata": {},
   "outputs": [],
   "source": [
    "def extract_features(directory, sample_count):\n",
    "    features= np.zeros(shape=(sample_count, 4,4, 512))\n",
    "    labels= np.zeros(shape=(sample_count))\n",
    "    generator= datagen.flow_from_directory(directory,\n",
    "                                          target_size=(150,150),\n",
    "                                          batch_size=batch_size,\n",
    "                                          class_mode='binary')\n",
    "    i=0\n",
    "    for inputs_batch, labels_batch in generator:\n",
    "        features_batch= conv_base.predict(inputs_batch)\n",
    "        features[i*batch_size:(i+1)*batch_size]= features_batch\n",
    "        labels[i*batch_size:(i+1)*batch_size]= labels_batch\n",
    "        i+=1\n",
    "        if i *batch_size>= sample_count:\n",
    "            break\n",
    "    return features, labels"
   ]
  },
  {
   "cell_type": "code",
   "execution_count": 27,
   "metadata": {},
   "outputs": [
    {
     "name": "stdout",
     "output_type": "stream",
     "text": [
      "Found 2000 images belonging to 2 classes.\n",
      "Found 1000 images belonging to 2 classes.\n",
      "Found 1000 images belonging to 2 classes.\n"
     ]
    }
   ],
   "source": [
    "train_features, train_labels= extract_features(train_dir, 2000)\n",
    "validation_features, validation_labels= extract_features(validation_dir, 1000)\n",
    "test_features, test_labels= extract_features(test_dir, 1000)"
   ]
  },
  {
   "cell_type": "code",
   "execution_count": 28,
   "metadata": {},
   "outputs": [
    {
     "data": {
      "text/plain": [
       "(2000, 4, 4, 512)"
      ]
     },
     "execution_count": 28,
     "metadata": {},
     "output_type": "execute_result"
    }
   ],
   "source": [
    "train_features.shape"
   ]
  },
  {
   "cell_type": "code",
   "execution_count": 29,
   "metadata": {},
   "outputs": [
    {
     "data": {
      "text/plain": [
       "(2000,)"
      ]
     },
     "execution_count": 29,
     "metadata": {},
     "output_type": "execute_result"
    }
   ],
   "source": [
    "train_labels.shape"
   ]
  },
  {
   "cell_type": "markdown",
   "metadata": {},
   "source": [
    "The extracted features are currently of shape ```(samples, 4, 4, 512)```. We’ll feed them to a densely connected classifier, so first we must flatten them to ```(samples, 8192)```:"
   ]
  },
  {
   "cell_type": "code",
   "execution_count": 30,
   "metadata": {},
   "outputs": [],
   "source": [
    "train_features= train_features.reshape(2000, 4*4*512)\n",
    "validation_features= validation_features.reshape(1000, 4*4*512)\n",
    "test_features= test_features.reshape(1000, 4*4*512)"
   ]
  },
  {
   "cell_type": "markdown",
   "metadata": {},
   "source": [
    "At this point, we can define our densely connected classifier (note the use of dropout for regularization) and train it on the data and labels that we just recorded.\n",
    "\n",
    "#### Define And Train The Densely Connected Classifier"
   ]
  },
  {
   "cell_type": "code",
   "execution_count": 31,
   "metadata": {},
   "outputs": [],
   "source": [
    "model= models.Sequential()\n",
    "model.add(layers.Dense(256, activation='relu', input_dim=4*4*512))\n",
    "model.add(layers.Dropout(0.5))\n",
    "model.add(layers.Dense(1, activation='sigmoid'))"
   ]
  },
  {
   "cell_type": "code",
   "execution_count": 32,
   "metadata": {},
   "outputs": [],
   "source": [
    "model.compile(optimizer= optimizers.RMSprop(lr=2e-5), loss='binary_crossentropy', metrics=['acc'])"
   ]
  },
  {
   "cell_type": "code",
   "execution_count": 33,
   "metadata": {},
   "outputs": [
    {
     "name": "stdout",
     "output_type": "stream",
     "text": [
      "Train on 2000 samples, validate on 1000 samples\n",
      "Epoch 1/30\n",
      "2000/2000 [==============================] - 1s 463us/step - loss: 0.5977 - acc: 0.6650 - val_loss: 0.4440 - val_acc: 0.8290\n",
      "Epoch 2/30\n",
      "2000/2000 [==============================] - 1s 297us/step - loss: 0.4321 - acc: 0.8015 - val_loss: 0.3615 - val_acc: 0.8570\n",
      "Epoch 3/30\n",
      "2000/2000 [==============================] - 1s 292us/step - loss: 0.3487 - acc: 0.8570 - val_loss: 0.3172 - val_acc: 0.8800\n",
      "Epoch 4/30\n",
      "2000/2000 [==============================] - 1s 292us/step - loss: 0.3058 - acc: 0.8710 - val_loss: 0.2958 - val_acc: 0.8790\n",
      "Epoch 5/30\n",
      "2000/2000 [==============================] - 1s 290us/step - loss: 0.2845 - acc: 0.8880 - val_loss: 0.2837 - val_acc: 0.8900\n",
      "Epoch 6/30\n",
      "2000/2000 [==============================] - 1s 292us/step - loss: 0.2657 - acc: 0.8940 - val_loss: 0.2709 - val_acc: 0.8910\n",
      "Epoch 7/30\n",
      "2000/2000 [==============================] - 1s 357us/step - loss: 0.2500 - acc: 0.8995 - val_loss: 0.2634 - val_acc: 0.8930\n",
      "Epoch 8/30\n",
      "2000/2000 [==============================] - 1s 357us/step - loss: 0.2270 - acc: 0.9165 - val_loss: 0.2608 - val_acc: 0.8960\n",
      "Epoch 9/30\n",
      "2000/2000 [==============================] - 1s 292us/step - loss: 0.2212 - acc: 0.9145 - val_loss: 0.2522 - val_acc: 0.8960\n",
      "Epoch 10/30\n",
      "2000/2000 [==============================] - 1s 337us/step - loss: 0.2063 - acc: 0.9215 - val_loss: 0.2510 - val_acc: 0.8980\n",
      "Epoch 11/30\n",
      "2000/2000 [==============================] - 1s 281us/step - loss: 0.1988 - acc: 0.9265 - val_loss: 0.2445 - val_acc: 0.9000\n",
      "Epoch 12/30\n",
      "2000/2000 [==============================] - 1s 308us/step - loss: 0.1860 - acc: 0.9305 - val_loss: 0.2431 - val_acc: 0.8990\n",
      "Epoch 13/30\n",
      "2000/2000 [==============================] - 1s 317us/step - loss: 0.1801 - acc: 0.9340 - val_loss: 0.2397 - val_acc: 0.8990\n",
      "Epoch 14/30\n",
      "2000/2000 [==============================] - 1s 289us/step - loss: 0.1692 - acc: 0.9370 - val_loss: 0.2570 - val_acc: 0.8900\n",
      "Epoch 15/30\n",
      "2000/2000 [==============================] - 1s 339us/step - loss: 0.1619 - acc: 0.9445 - val_loss: 0.2512 - val_acc: 0.8960\n",
      "Epoch 16/30\n",
      "2000/2000 [==============================] - 1s 274us/step - loss: 0.1540 - acc: 0.9400 - val_loss: 0.2413 - val_acc: 0.9050\n",
      "Epoch 17/30\n",
      "2000/2000 [==============================] - 1s 322us/step - loss: 0.1550 - acc: 0.9450 - val_loss: 0.2420 - val_acc: 0.9020\n",
      "Epoch 18/30\n",
      "2000/2000 [==============================] - 1s 314us/step - loss: 0.1465 - acc: 0.9490 - val_loss: 0.2361 - val_acc: 0.9020\n",
      "Epoch 19/30\n",
      "2000/2000 [==============================] - 1s 294us/step - loss: 0.1345 - acc: 0.9575 - val_loss: 0.2496 - val_acc: 0.8960\n",
      "Epoch 20/30\n",
      "2000/2000 [==============================] - 1s 296us/step - loss: 0.1343 - acc: 0.9535 - val_loss: 0.2389 - val_acc: 0.9020\n",
      "Epoch 21/30\n",
      "2000/2000 [==============================] - 1s 284us/step - loss: 0.1269 - acc: 0.9585 - val_loss: 0.2361 - val_acc: 0.9030\n",
      "Epoch 22/30\n",
      "2000/2000 [==============================] - 1s 299us/step - loss: 0.1215 - acc: 0.9570 - val_loss: 0.2377 - val_acc: 0.9010\n",
      "Epoch 23/30\n",
      "2000/2000 [==============================] - 1s 301us/step - loss: 0.1169 - acc: 0.9650 - val_loss: 0.2367 - val_acc: 0.9010\n",
      "Epoch 24/30\n",
      "2000/2000 [==============================] - 1s 287us/step - loss: 0.1165 - acc: 0.9580 - val_loss: 0.2485 - val_acc: 0.8950\n",
      "Epoch 25/30\n",
      "2000/2000 [==============================] - 1s 282us/step - loss: 0.1089 - acc: 0.9625 - val_loss: 0.2394 - val_acc: 0.9030\n",
      "Epoch 26/30\n",
      "2000/2000 [==============================] - 1s 285us/step - loss: 0.1048 - acc: 0.9660 - val_loss: 0.2504 - val_acc: 0.8940\n",
      "Epoch 27/30\n",
      "2000/2000 [==============================] - 1s 283us/step - loss: 0.1019 - acc: 0.9675 - val_loss: 0.2384 - val_acc: 0.9020\n",
      "Epoch 28/30\n",
      "2000/2000 [==============================] - 1s 290us/step - loss: 0.0961 - acc: 0.9705 - val_loss: 0.2377 - val_acc: 0.9050\n",
      "Epoch 29/30\n",
      "2000/2000 [==============================] - 1s 286us/step - loss: 0.0925 - acc: 0.9730 - val_loss: 0.2436 - val_acc: 0.9000\n",
      "Epoch 30/30\n",
      "2000/2000 [==============================] - 1s 288us/step - loss: 0.0877 - acc: 0.9735 - val_loss: 0.2444 - val_acc: 0.9000\n"
     ]
    }
   ],
   "source": [
    "history= model.fit(train_features, train_labels, epochs=30, batch_size=20, \n",
    "                   validation_data=(validation_features, validation_labels))"
   ]
  },
  {
   "cell_type": "markdown",
   "metadata": {},
   "source": [
    "Training is very fast, because we only have to deal with two Dense layers—an epoch takes less than one second even on CPU.\n",
    "\n",
    "Let’s look at the loss and accuracy curves during training\n",
    "\n",
    "#### Plot the results"
   ]
  },
  {
   "cell_type": "code",
   "execution_count": 34,
   "metadata": {},
   "outputs": [],
   "source": [
    "acc= history.history['acc']\n",
    "val_acc= history.history['val_acc']\n",
    "loss= history.history['loss']\n",
    "val_loss= history.history['val_loss']\n",
    "\n",
    "epochs= range(1, len(acc)+1)"
   ]
  },
  {
   "cell_type": "code",
   "execution_count": 35,
   "metadata": {},
   "outputs": [
    {
     "data": {
      "image/png": "[encoded data removed]",
      "text/plain": [
       "<Figure size 432x288 with 1 Axes>"
      ]
     },
     "metadata": {
      "needs_background": "light"
     },
     "output_type": "display_data"
    }
   ],
   "source": [
    "plt.plot(epochs, acc, 'bo', label='Training Accuracy')\n",
    "plt.plot(epochs, val_acc, 'b', color= 'red', label='Validation Accuracy')\n",
    "plt.title('Training vs Validation Accuracy')\n",
    "plt.xlabel('Epochs')\n",
    "plt.ylabel('Accuracy')\n",
    "plt.grid()\n",
    "plt.legend()\n",
    "plt.show()"
   ]
  },
  {
   "cell_type": "code",
   "execution_count": 36,
   "metadata": {},
   "outputs": [
    {
     "data": {
      "image/png": "[encoded data removed]",
      "text/plain": [
       "<Figure size 432x288 with 1 Axes>"
      ]
     },
     "metadata": {
      "needs_background": "light"
     },
     "output_type": "display_data"
    }
   ],
   "source": [
    "plt.plot(epochs, loss, 'bo', label='Training Loss')\n",
    "plt.plot(epochs, val_loss, 'b', color= 'red', label='Validation Loss')\n",
    "plt.title('Training vs Validation Accuracy')\n",
    "plt.xlabel('Epochs')\n",
    "plt.ylabel('Loss')\n",
    "plt.grid()\n",
    "plt.legend()\n",
    "plt.show()"
   ]
  },
  {
   "cell_type": "markdown",
   "metadata": {},
   "source": [
    "We reach a validation accuracy of ~90% — much better than we achieved in the previous section with the small model trained from scratch. But the plots also indicate that we’re overfitting almost from the start—despite using dropout with a fairly large rate. That’s because this technique doesn’t use data augmentation, which is essential for preventing overfitting with small image datasets.\n",
    "\n",
    "\n",
    "#### FEATURE EXTRACTION WITH DATA AUGMENTATION\n",
    "\n",
    "Let’s review the second technique for doing feature extraction, which is much slower and more expensive, but which allows us to use data augmentation during training: extending the `conv_base` model and running it end to end on the inputs.\n",
    "\n",
    "> **NOTE** This technique is so expensive that we should only attempt it if we have access to a GPU—it’s absolutely intractable on CPU.\n",
    "\n",
    "Because models behave just like layers, we can add a model (like ```conv_base```) to a ```Sequential``` model just like we would add a layer.\n",
    "\n",
    "\n",
    "#### Adding a Densely Connected Classifier on Top of The Convolutional Base"
   ]
  },
  {
   "cell_type": "code",
   "execution_count": 5,
   "metadata": {},
   "outputs": [
    {
     "name": "stdout",
     "output_type": "stream",
     "text": [
      "_________________________________________________________________\n",
      "Layer (type)                 Output Shape              Param #   \n",
      "=================================================================\n",
      "vgg16 (Model)                (None, 4, 4, 512)         14714688  \n",
      "_________________________________________________________________\n",
      "flatten_1 (Flatten)          (None, 8192)              0         \n",
      "_________________________________________________________________\n",
      "dense_1 (Dense)              (None, 256)               2097408   \n",
      "_________________________________________________________________\n",
      "dense_2 (Dense)              (None, 1)                 257       \n",
      "=================================================================\n",
      "Total params: 16,812,353\n",
      "Trainable params: 16,812,353\n",
      "Non-trainable params: 0\n",
      "_________________________________________________________________\n"
     ]
    }
   ],
   "source": [
    "from keras import models\n",
    "from keras import layers\n",
    "from keras.applications import VGG16\n",
    "\n",
    "conv_base= VGG16(weights='imagenet', include_top=False, input_shape=(150,150,3))\n",
    "\n",
    "model= models.Sequential()\n",
    "model.add(conv_base)\n",
    "model.add(layers.Flatten())\n",
    "model.add(layers.Dense(256, activation='relu'))\n",
    "model.add(layers.Dense(1, activation='sigmoid'))\n",
    "\n",
    "\n",
    "model.summary()"
   ]
  },
  {
   "cell_type": "markdown",
   "metadata": {},
   "source": [
    "As we can see, the convolutional base of VGG16 has 14,714,688 parameters, which is very large. The classifier we’re adding on top has 2 million parameters. \n",
    "\n",
    "Before we compile and train the model, it’s very important to freeze the convolutional base. **Freezing** a layer or set of layers means preventing their weights from being updated during training. If we don’t do this, then the representations that were previously learned by the convolutional base will be modified during training. Because the ```Dense``` layers on top are randomly initialized, very large weight updates would be propagated through the network, effectively destroying the representations previously learned.\n",
    "In Keras, we freeze a network by setting its **trainable** attribute to ```False```:"
   ]
  },
  {
   "cell_type": "code",
   "execution_count": 11,
   "metadata": {},
   "outputs": [
    {
     "name": "stdout",
     "output_type": "stream",
     "text": [
      "Number of Trainable weights before freezing: 30\n",
      "Number of Trainable weights after freezing: 4\n"
     ]
    }
   ],
   "source": [
    "print(\"Number of Trainable weights before freezing:\", len(model.trainable_weights))\n",
    "conv_base.trainable=False\n",
    "print(\"Number of Trainable weights after freezing:\", len(model.trainable_weights))"
   ]
  },
  {
   "cell_type": "markdown",
   "metadata": {},
   "source": [
    "With this setup, only the weights from the two Dense layers that we added will be trained. That’s a total of four weight tensors: two per layer (the main weight matrix\n",
    "and the bias vector). Note that in order for these changes to take effect, we must first compile the model. If wew ever modify weight trainability after compilation, you\n",
    "should then recompile the model, or these changes will be ignored.\n",
    "\n",
    "Now we can start training your model, with the data-augmentation configuration.\n",
    "\n",
    "#### Train The Model End To End With a Frozen Convolutional Base"
   ]
  },
  {
   "cell_type": "code",
   "execution_count": 6,
   "metadata": {},
   "outputs": [
    {
     "name": "stdout",
     "output_type": "stream",
     "text": [
      "Found 2000 images belonging to 2 classes.\n",
      "Found 1000 images belonging to 2 classes.\n"
     ]
    }
   ],
   "source": [
    "from keras.preprocessing.image import ImageDataGenerator\n",
    "from keras import optimizers\n",
    "\n",
    "train_datagen= ImageDataGenerator(rescale=1./255,\n",
    "                                 rotation_range=40,\n",
    "                                 width_shift_range=0.2,\n",
    "                                 height_shift_range=0.2,\n",
    "                                 shear_range=0.2,\n",
    "                                 zoom_range=0.2,\n",
    "                                 horizontal_flip=True,\n",
    "                                 fill_mode='nearest')\n",
    "\n",
    "test_datagen= ImageDataGenerator(rescale=1./255) #validation data shouldn’t be augmented!\n",
    "\n",
    "train_generator= train_datagen.flow_from_directory(train_dir,\n",
    "                                                  target_size=(150,150),\n",
    "                                                  batch_size=20,\n",
    "                                                  class_mode='binary')\n",
    "\n",
    "validation_generator= test_datagen.flow_from_directory(validation_dir,\n",
    "                                                  target_size=(150,150),\n",
    "                                                  batch_size=20,\n",
    "                                                  class_mode='binary')\n"
   ]
  },
  {
   "cell_type": "code",
   "execution_count": 13,
   "metadata": {},
   "outputs": [],
   "source": [
    "model.compile(optimizer=optimizers.RMSprop(lr=2e-5), loss='binary_crossentropy', metrics=['acc'])"
   ]
  },
  {
   "cell_type": "code",
   "execution_count": 14,
   "metadata": {},
   "outputs": [
    {
     "name": "stdout",
     "output_type": "stream",
     "text": [
      "Epoch 1/50\n",
      "100/100 [==============================] - 38s 379ms/step - loss: 0.5884 - acc: 0.7005 - val_loss: 0.4635 - val_acc: 0.8320\n",
      "Epoch 2/50\n",
      "100/100 [==============================] - 36s 359ms/step - loss: 0.4776 - acc: 0.7860 - val_loss: 0.3771 - val_acc: 0.8640\n",
      "Epoch 3/50\n",
      "100/100 [==============================] - 36s 360ms/step - loss: 0.4420 - acc: 0.8015 - val_loss: 0.3401 - val_acc: 0.8700\n",
      "Epoch 4/50\n",
      "100/100 [==============================] - 36s 360ms/step - loss: 0.4095 - acc: 0.8270 - val_loss: 0.3162 - val_acc: 0.8800\n",
      "Epoch 5/50\n",
      "100/100 [==============================] - 36s 360ms/step - loss: 0.3852 - acc: 0.8340 - val_loss: 0.3022 - val_acc: 0.8830\n",
      "Epoch 6/50\n",
      "100/100 [==============================] - 36s 360ms/step - loss: 0.3683 - acc: 0.8390 - val_loss: 0.2883 - val_acc: 0.8940\n",
      "Epoch 7/50\n",
      "100/100 [==============================] - 36s 360ms/step - loss: 0.3697 - acc: 0.8360 - val_loss: 0.2799 - val_acc: 0.8930\n",
      "Epoch 8/50\n",
      "100/100 [==============================] - 36s 360ms/step - loss: 0.3466 - acc: 0.8405 - val_loss: 0.2764 - val_acc: 0.8890\n",
      "Epoch 9/50\n",
      "100/100 [==============================] - 36s 360ms/step - loss: 0.3376 - acc: 0.8565 - val_loss: 0.2680 - val_acc: 0.8930\n",
      "Epoch 10/50\n",
      "100/100 [==============================] - 36s 360ms/step - loss: 0.3312 - acc: 0.8485 - val_loss: 0.2747 - val_acc: 0.8820\n",
      "Epoch 11/50\n",
      "100/100 [==============================] - 36s 360ms/step - loss: 0.3277 - acc: 0.8590 - val_loss: 0.2590 - val_acc: 0.9010\n",
      "Epoch 12/50\n",
      "100/100 [==============================] - 36s 360ms/step - loss: 0.3397 - acc: 0.8420 - val_loss: 0.2598 - val_acc: 0.8960\n",
      "Epoch 13/50\n",
      "100/100 [==============================] - 36s 360ms/step - loss: 0.3178 - acc: 0.8605 - val_loss: 0.2534 - val_acc: 0.8990\n",
      "Epoch 14/50\n",
      "100/100 [==============================] - 36s 360ms/step - loss: 0.3171 - acc: 0.8690 - val_loss: 0.2507 - val_acc: 0.9000\n",
      "Epoch 15/50\n",
      "100/100 [==============================] - 36s 360ms/step - loss: 0.3170 - acc: 0.8670 - val_loss: 0.2511 - val_acc: 0.9020\n",
      "Epoch 16/50\n",
      "100/100 [==============================] - 36s 360ms/step - loss: 0.3169 - acc: 0.8585 - val_loss: 0.2461 - val_acc: 0.9060\n",
      "Epoch 17/50\n",
      "100/100 [==============================] - 36s 360ms/step - loss: 0.3176 - acc: 0.8610 - val_loss: 0.2450 - val_acc: 0.9060\n",
      "Epoch 18/50\n",
      "100/100 [==============================] - 36s 360ms/step - loss: 0.3018 - acc: 0.8700 - val_loss: 0.2560 - val_acc: 0.8970\n",
      "Epoch 19/50\n",
      "100/100 [==============================] - 36s 361ms/step - loss: 0.2949 - acc: 0.8830 - val_loss: 0.2470 - val_acc: 0.9050\n",
      "Epoch 20/50\n",
      "100/100 [==============================] - 36s 361ms/step - loss: 0.2996 - acc: 0.8745 - val_loss: 0.2438 - val_acc: 0.9040\n",
      "Epoch 21/50\n",
      "100/100 [==============================] - 36s 361ms/step - loss: 0.2829 - acc: 0.8770 - val_loss: 0.2464 - val_acc: 0.9020\n",
      "Epoch 22/50\n",
      "100/100 [==============================] - 36s 360ms/step - loss: 0.3068 - acc: 0.8665 - val_loss: 0.2502 - val_acc: 0.8990\n",
      "Epoch 23/50\n",
      "100/100 [==============================] - 36s 360ms/step - loss: 0.2970 - acc: 0.8725 - val_loss: 0.2447 - val_acc: 0.9050\n",
      "Epoch 24/50\n",
      "100/100 [==============================] - 36s 360ms/step - loss: 0.2858 - acc: 0.8800 - val_loss: 0.2449 - val_acc: 0.9040\n",
      "Epoch 25/50\n",
      "100/100 [==============================] - 36s 360ms/step - loss: 0.2913 - acc: 0.8735 - val_loss: 0.2610 - val_acc: 0.8830\n",
      "Epoch 26/50\n",
      "100/100 [==============================] - 36s 361ms/step - loss: 0.2892 - acc: 0.8725 - val_loss: 0.2385 - val_acc: 0.9070\n",
      "Epoch 27/50\n",
      "100/100 [==============================] - 36s 361ms/step - loss: 0.2927 - acc: 0.8770 - val_loss: 0.2398 - val_acc: 0.9080\n",
      "Epoch 28/50\n",
      "100/100 [==============================] - 36s 361ms/step - loss: 0.2779 - acc: 0.8825 - val_loss: 0.2449 - val_acc: 0.9030\n",
      "Epoch 29/50\n",
      "100/100 [==============================] - 36s 360ms/step - loss: 0.2920 - acc: 0.8730 - val_loss: 0.2397 - val_acc: 0.9090\n",
      "Epoch 30/50\n",
      "100/100 [==============================] - 36s 360ms/step - loss: 0.2915 - acc: 0.8720 - val_loss: 0.2414 - val_acc: 0.9100\n",
      "Epoch 31/50\n",
      "100/100 [==============================] - 36s 361ms/step - loss: 0.2867 - acc: 0.8745 - val_loss: 0.2409 - val_acc: 0.9060\n",
      "Epoch 32/50\n",
      "100/100 [==============================] - 36s 361ms/step - loss: 0.2832 - acc: 0.8730 - val_loss: 0.2395 - val_acc: 0.9060\n",
      "Epoch 33/50\n",
      "100/100 [==============================] - 36s 360ms/step - loss: 0.2776 - acc: 0.8755 - val_loss: 0.2525 - val_acc: 0.8980\n",
      "Epoch 34/50\n",
      "100/100 [==============================] - 36s 361ms/step - loss: 0.2891 - acc: 0.8795 - val_loss: 0.2374 - val_acc: 0.9120\n",
      "Epoch 35/50\n",
      "100/100 [==============================] - 36s 361ms/step - loss: 0.2821 - acc: 0.8760 - val_loss: 0.2399 - val_acc: 0.9050\n",
      "Epoch 36/50\n",
      "100/100 [==============================] - 36s 361ms/step - loss: 0.2803 - acc: 0.8830 - val_loss: 0.2388 - val_acc: 0.9110\n",
      "Epoch 37/50\n",
      "100/100 [==============================] - 36s 361ms/step - loss: 0.2768 - acc: 0.8735 - val_loss: 0.2398 - val_acc: 0.9050\n",
      "Epoch 38/50\n",
      "100/100 [==============================] - 36s 360ms/step - loss: 0.2605 - acc: 0.8875 - val_loss: 0.2382 - val_acc: 0.9110\n",
      "Epoch 39/50\n",
      "100/100 [==============================] - 36s 361ms/step - loss: 0.2701 - acc: 0.8780 - val_loss: 0.2374 - val_acc: 0.9120\n",
      "Epoch 40/50\n",
      "100/100 [==============================] - 36s 361ms/step - loss: 0.2707 - acc: 0.8880 - val_loss: 0.2407 - val_acc: 0.9070\n",
      "Epoch 41/50\n",
      "100/100 [==============================] - 36s 361ms/step - loss: 0.2782 - acc: 0.8805 - val_loss: 0.2424 - val_acc: 0.9040\n",
      "Epoch 42/50\n",
      "100/100 [==============================] - 36s 361ms/step - loss: 0.2649 - acc: 0.8915 - val_loss: 0.2424 - val_acc: 0.9090\n",
      "Epoch 43/50\n",
      "100/100 [==============================] - 36s 361ms/step - loss: 0.2694 - acc: 0.8805 - val_loss: 0.2500 - val_acc: 0.9020\n",
      "Epoch 44/50\n",
      "100/100 [==============================] - 36s 361ms/step - loss: 0.2753 - acc: 0.8780 - val_loss: 0.2438 - val_acc: 0.9080\n",
      "Epoch 45/50\n",
      "100/100 [==============================] - 36s 361ms/step - loss: 0.2586 - acc: 0.8960 - val_loss: 0.2503 - val_acc: 0.9000\n",
      "Epoch 46/50\n",
      "100/100 [==============================] - 36s 361ms/step - loss: 0.2751 - acc: 0.8865 - val_loss: 0.2428 - val_acc: 0.9070\n",
      "Epoch 47/50\n",
      "100/100 [==============================] - 36s 361ms/step - loss: 0.2627 - acc: 0.8935 - val_loss: 0.2530 - val_acc: 0.9010\n",
      "Epoch 48/50\n",
      "100/100 [==============================] - 36s 361ms/step - loss: 0.2692 - acc: 0.8795 - val_loss: 0.2443 - val_acc: 0.9020\n",
      "Epoch 49/50\n",
      "100/100 [==============================] - 36s 361ms/step - loss: 0.2616 - acc: 0.8920 - val_loss: 0.2462 - val_acc: 0.9020\n",
      "Epoch 50/50\n",
      "100/100 [==============================] - 36s 360ms/step - loss: 0.2498 - acc: 0.8955 - val_loss: 0.2448 - val_acc: 0.9080\n"
     ]
    }
   ],
   "source": [
    "history= model.fit_generator(train_generator, steps_per_epoch=100, epochs=50, \n",
    "                   validation_data=validation_generator, validation_steps=50)"
   ]
  },
  {
   "cell_type": "markdown",
   "metadata": {},
   "source": [
    "Let’s plot the results again. We reached a validation accuracy of ~90%. This is much better than we achieved with the small\n",
    "convnet trained from scratch. Though the model is suffering from **underfitting**."
   ]
  },
  {
   "cell_type": "code",
   "execution_count": 18,
   "metadata": {},
   "outputs": [
    {
     "data": {
      "image/png": "[encoded data removed]",
      "text/plain": [
       "<Figure size 432x288 with 1 Axes>"
      ]
     },
     "metadata": {
      "needs_background": "light"
     },
     "output_type": "display_data"
    }
   ],
   "source": [
    "import matplotlib.pyplot as plt\n",
    "\n",
    "acc= history.history['acc']\n",
    "val_acc= history.history['val_acc']\n",
    "loss= history.history['loss']\n",
    "val_loss= history.history['val_loss']\n",
    "\n",
    "epochs= range(1, len(acc)+1)\n",
    "\n",
    "\n",
    "plt.plot(epochs, acc, 'bo', label='Training Accuracy')\n",
    "plt.plot(epochs, val_acc, 'b', color='red', label='Validation Accuracy')\n",
    "plt.title('Training vs Validation Accuracy')\n",
    "plt.xlabel('Epochs')\n",
    "plt.ylabel('Accuracy')\n",
    "plt.legend()\n",
    "plt.grid()\n",
    "plt.show()"
   ]
  },
  {
   "cell_type": "code",
   "execution_count": 19,
   "metadata": {},
   "outputs": [
    {
     "data": {
      "image/png": "[encoded data removed]",
      "text/plain": [
       "<Figure size 432x288 with 1 Axes>"
      ]
     },
     "metadata": {
      "needs_background": "light"
     },
     "output_type": "display_data"
    }
   ],
   "source": [
    "plt.plot(epochs, loss, 'bo', label='Training Loss')\n",
    "plt.plot(epochs, val_loss, 'b', color='red', label='Validation Loss')\n",
    "plt.title('Training vs Validation Loss')\n",
    "plt.xlabel('Epochs')\n",
    "plt.ylabel('Loss')\n",
    "plt.legend()\n",
    "plt.grid()\n",
    "plt.show()"
   ]
  },
  {
   "cell_type": "markdown",
   "metadata": {},
   "source": [
    "### Fine-tuning\n",
    "Another widely used technique for model reuse, complementary to feature extraction, is **fine-tuning**. Fine-tuning consists of unfreezing a few of the top layers of a frozen model base used for feature extraction, and jointly training both the newly added part of the model (in this case, the fully connected classifier) and these top layers. This is called **fine-tuning** because it slightly adjusts the more abstract representations of the model being reused, in order to make them more relevant for the problem at hand.\n",
    "![capture](https://user-images.githubusercontent.com/13174586/49849382-44f20680-fdff-11e8-9808-1ec8a749c79f.JPG)\n",
    "As stated earlier that it’s necessary to freeze the convolution base of VGG16 in order to be able to train a randomly initialized classifier on top. For the same reason, it’s only possible to fine-tune the top layers of the convolutional base once the classifier on top has already been trained. If the classifier isn’t already trained, then the error signal propagating through the network during training will be too large, and the representations previously learned by the layers being fine-tuned will be destroyed. Thus the steps for fine-tuning a network are as follows:\n",
    " - Add custom network on top of an already-trained base network.\n",
    " - Freeze the base network.\n",
    " - Train the part we added.\n",
    " - Unfreeze some layers in the base network.\n",
    " - Jointly train both these layers and the part we added.\n",
    "\n",
    "We already completed the first three steps when doing feature extraction. Let’s proceed with step 4: we’ll unfreeze our ```conv_base``` and then freeze individual layers inside it."
   ]
  },
  {
   "cell_type": "code",
   "execution_count": 58,
   "metadata": {},
   "outputs": [
    {
     "name": "stdout",
     "output_type": "stream",
     "text": [
      "_________________________________________________________________\n",
      "Layer (type)                 Output Shape              Param #   \n",
      "=================================================================\n",
      "input_7 (InputLayer)         (None, 150, 150, 3)       0         \n",
      "_________________________________________________________________\n",
      "block1_conv1 (Conv2D)        (None, 150, 150, 64)      1792      \n",
      "_________________________________________________________________\n",
      "block1_conv2 (Conv2D)        (None, 150, 150, 64)      36928     \n",
      "_________________________________________________________________\n",
      "block1_pool (MaxPooling2D)   (None, 75, 75, 64)        0         \n",
      "_________________________________________________________________\n",
      "block2_conv1 (Conv2D)        (None, 75, 75, 128)       73856     \n",
      "_________________________________________________________________\n",
      "block2_conv2 (Conv2D)        (None, 75, 75, 128)       147584    \n",
      "_________________________________________________________________\n",
      "block2_pool (MaxPooling2D)   (None, 37, 37, 128)       0         \n",
      "_________________________________________________________________\n",
      "block3_conv1 (Conv2D)        (None, 37, 37, 256)       295168    \n",
      "_________________________________________________________________\n",
      "block3_conv2 (Conv2D)        (None, 37, 37, 256)       590080    \n",
      "_________________________________________________________________\n",
      "block3_conv3 (Conv2D)        (None, 37, 37, 256)       590080    \n",
      "_________________________________________________________________\n",
      "block3_pool (MaxPooling2D)   (None, 18, 18, 256)       0         \n",
      "_________________________________________________________________\n",
      "block4_conv1 (Conv2D)        (None, 18, 18, 512)       1180160   \n",
      "_________________________________________________________________\n",
      "block4_conv2 (Conv2D)        (None, 18, 18, 512)       2359808   \n",
      "_________________________________________________________________\n",
      "block4_conv3 (Conv2D)        (None, 18, 18, 512)       2359808   \n",
      "_________________________________________________________________\n",
      "block4_pool (MaxPooling2D)   (None, 9, 9, 512)         0         \n",
      "_________________________________________________________________\n",
      "block5_conv1 (Conv2D)        (None, 9, 9, 512)         2359808   \n",
      "_________________________________________________________________\n",
      "block5_conv2 (Conv2D)        (None, 9, 9, 512)         2359808   \n",
      "_________________________________________________________________\n",
      "block5_conv3 (Conv2D)        (None, 9, 9, 512)         2359808   \n",
      "_________________________________________________________________\n",
      "block5_pool (MaxPooling2D)   (None, 4, 4, 512)         0         \n",
      "=================================================================\n",
      "Total params: 14,714,688\n",
      "Trainable params: 0\n",
      "Non-trainable params: 14,714,688\n",
      "_________________________________________________________________\n"
     ]
    }
   ],
   "source": [
    "conv_base.summary()"
   ]
  },
  {
   "cell_type": "markdown",
   "metadata": {},
   "source": [
    "We’ll fine-tune the last three convolutional layers, which means all layers up to ```block4_pool``` should be frozen, and the layers ```block5_conv1```, ```block5_conv2```, and ```block5_conv3``` should be trainable. \n",
    "\n",
    "*Why not fine-tune more layers? Why not fine-tune the entire convolutional base?* We could. But we need to consider the following: \n",
    " - Earlier layers in the convolutional base encode more-generic, reusable features, whereas layers higher up encode more-specialized features. It’s more useful to fine-tune the more specialized features, because these are the ones that need to be repurposed on your new problem. There would be fast-decreasing returns in fine-tuning lower layers.\n",
    " - The more parameters you’re training, the more you’re at risk of overfitting. The convolutional base has 15 million parameters, so it would be risky to attempt to train it on your small dataset.\n",
    " \n",
    "Thus, in this situation, it’s a good strategy to fine-tune only the top two or three layers in the convolutional base.\n",
    "\n",
    "#### Freeze All Layers Up To a Specific One"
   ]
  },
  {
   "cell_type": "code",
   "execution_count": 7,
   "metadata": {},
   "outputs": [],
   "source": [
    "conv_base.trainable=True\n",
    "\n",
    "set_trainable=False\n",
    "for layer in conv_base.layers:\n",
    "    if layer.name== 'block5_conv1':\n",
    "        set_trainable=True\n",
    "    if set_trainable:\n",
    "        layer.trainable=True\n",
    "    else: \n",
    "        layer.trainable=False"
   ]
  },
  {
   "cell_type": "markdown",
   "metadata": {},
   "source": [
    "Now we can begin fine-tuning the network. We’ll do this with the ```RMSProp``` optimizer, using a **very low learning rate**. The reason for using a low learning rate is that we want to limit the magnitude of the modifications we make to the representations of the three layers we’re fine-tuning. Updates that are too large may harm these representations.\n",
    "\n",
    "#### Fine-tuning The Model"
   ]
  },
  {
   "cell_type": "code",
   "execution_count": 8,
   "metadata": {},
   "outputs": [],
   "source": [
    "model.compile(optimizer=optimizers.RMSprop(lr=1e-5), loss='binary_crossentropy', metrics=['acc'])"
   ]
  },
  {
   "cell_type": "code",
   "execution_count": 9,
   "metadata": {},
   "outputs": [
    {
     "name": "stdout",
     "output_type": "stream",
     "text": [
      "Epoch 1/30\n",
      "100/100 [==============================] - 42s 416ms/step - loss: 0.5549 - acc: 0.7185 - val_loss: 0.3912 - val_acc: 0.8260\n",
      "Epoch 2/30\n",
      "100/100 [==============================] - 39s 392ms/step - loss: 0.3862 - acc: 0.8260 - val_loss: 0.2768 - val_acc: 0.8820\n",
      "Epoch 3/30\n",
      "100/100 [==============================] - 39s 393ms/step - loss: 0.3124 - acc: 0.8605 - val_loss: 0.2280 - val_acc: 0.8990\n",
      "Epoch 4/30\n",
      "100/100 [==============================] - 39s 394ms/step - loss: 0.2973 - acc: 0.8760 - val_loss: 0.2101 - val_acc: 0.9090\n",
      "Epoch 5/30\n",
      "100/100 [==============================] - 39s 394ms/step - loss: 0.2735 - acc: 0.8880 - val_loss: 0.1989 - val_acc: 0.9120\n",
      "Epoch 6/30\n",
      "100/100 [==============================] - 39s 393ms/step - loss: 0.2554 - acc: 0.8915 - val_loss: 0.1888 - val_acc: 0.9180\n",
      "Epoch 7/30\n",
      "100/100 [==============================] - 40s 395ms/step - loss: 0.2287 - acc: 0.9085 - val_loss: 0.1791 - val_acc: 0.9230\n",
      "Epoch 8/30\n",
      "100/100 [==============================] - 40s 396ms/step - loss: 0.2161 - acc: 0.9090 - val_loss: 0.1799 - val_acc: 0.9270\n",
      "Epoch 9/30\n",
      "100/100 [==============================] - 40s 399ms/step - loss: 0.2121 - acc: 0.9125 - val_loss: 0.1975 - val_acc: 0.9150\n",
      "Epoch 10/30\n",
      "100/100 [==============================] - 40s 398ms/step - loss: 0.2002 - acc: 0.9175 - val_loss: 0.2074 - val_acc: 0.9170\n",
      "Epoch 11/30\n",
      "100/100 [==============================] - 40s 399ms/step - loss: 0.1936 - acc: 0.9285 - val_loss: 0.1748 - val_acc: 0.9320\n",
      "Epoch 12/30\n",
      "100/100 [==============================] - 40s 398ms/step - loss: 0.1840 - acc: 0.9240 - val_loss: 0.1737 - val_acc: 0.9260\n",
      "Epoch 13/30\n",
      "100/100 [==============================] - 40s 399ms/step - loss: 0.1776 - acc: 0.9225 - val_loss: 0.1807 - val_acc: 0.9190\n",
      "Epoch 14/30\n",
      "100/100 [==============================] - 40s 399ms/step - loss: 0.1770 - acc: 0.9250 - val_loss: 0.1689 - val_acc: 0.9300\n",
      "Epoch 15/30\n",
      "100/100 [==============================] - 40s 400ms/step - loss: 0.1863 - acc: 0.9230 - val_loss: 0.1551 - val_acc: 0.9320\n",
      "Epoch 16/30\n",
      "100/100 [==============================] - 40s 399ms/step - loss: 0.1515 - acc: 0.9440 - val_loss: 0.2101 - val_acc: 0.9150\n",
      "Epoch 17/30\n",
      "100/100 [==============================] - 40s 399ms/step - loss: 0.1423 - acc: 0.9425 - val_loss: 0.1857 - val_acc: 0.9270\n",
      "Epoch 18/30\n",
      "100/100 [==============================] - 40s 400ms/step - loss: 0.1456 - acc: 0.9405 - val_loss: 0.1681 - val_acc: 0.9350\n",
      "Epoch 19/30\n",
      "100/100 [==============================] - 40s 398ms/step - loss: 0.1260 - acc: 0.9470 - val_loss: 0.1668 - val_acc: 0.9310\n",
      "Epoch 20/30\n",
      "100/100 [==============================] - 40s 400ms/step - loss: 0.1294 - acc: 0.9465 - val_loss: 0.1564 - val_acc: 0.9380\n",
      "Epoch 21/30\n",
      "100/100 [==============================] - 40s 401ms/step - loss: 0.1278 - acc: 0.9500 - val_loss: 0.1792 - val_acc: 0.9220\n",
      "Epoch 22/30\n",
      "100/100 [==============================] - 40s 401ms/step - loss: 0.1083 - acc: 0.9595 - val_loss: 0.1821 - val_acc: 0.9330\n",
      "Epoch 23/30\n",
      "100/100 [==============================] - 40s 400ms/step - loss: 0.1193 - acc: 0.9535 - val_loss: 0.1600 - val_acc: 0.9370\n",
      "Epoch 24/30\n",
      "100/100 [==============================] - 40s 400ms/step - loss: 0.1147 - acc: 0.9505 - val_loss: 0.1664 - val_acc: 0.9390\n",
      "Epoch 25/30\n",
      "100/100 [==============================] - 40s 401ms/step - loss: 0.1091 - acc: 0.9560 - val_loss: 0.1798 - val_acc: 0.9280\n",
      "Epoch 26/30\n",
      "100/100 [==============================] - 40s 400ms/step - loss: 0.1099 - acc: 0.9585 - val_loss: 0.1716 - val_acc: 0.9370\n",
      "Epoch 27/30\n",
      "100/100 [==============================] - 40s 399ms/step - loss: 0.1107 - acc: 0.9570 - val_loss: 0.1642 - val_acc: 0.9420\n",
      "Epoch 28/30\n",
      "100/100 [==============================] - 40s 399ms/step - loss: 0.0960 - acc: 0.9615 - val_loss: 0.1874 - val_acc: 0.9300\n",
      "Epoch 29/30\n",
      "100/100 [==============================] - 40s 401ms/step - loss: 0.1100 - acc: 0.9590 - val_loss: 0.1672 - val_acc: 0.9370\n",
      "Epoch 30/30\n",
      "100/100 [==============================] - 40s 400ms/step - loss: 0.0952 - acc: 0.9650 - val_loss: 0.2077 - val_acc: 0.9220\n"
     ]
    }
   ],
   "source": [
    "history=model.fit_generator(train_generator, steps_per_epoch=100, epochs=30,\n",
    "                   validation_data=validation_generator, validation_steps=50)"
   ]
  },
  {
   "cell_type": "code",
   "execution_count": 10,
   "metadata": {},
   "outputs": [
    {
     "data": {
      "image/png": "[encoded data removed]",
      "text/plain": [
       "<Figure size 432x288 with 1 Axes>"
      ]
     },
     "metadata": {
      "needs_background": "light"
     },
     "output_type": "display_data"
    },
    {
     "data": {
      "image/png": "[encoded data removed]",
      "text/plain": [
       "<Figure size 432x288 with 1 Axes>"
      ]
     },
     "metadata": {
      "needs_background": "light"
     },
     "output_type": "display_data"
    }
   ],
   "source": [
    "import matplotlib.pyplot as plt\n",
    "\n",
    "acc= history.history['acc']\n",
    "val_acc= history.history['val_acc']\n",
    "loss= history.history['loss']\n",
    "val_loss= history.history['val_loss']\n",
    "\n",
    "epochs= range(1, len(acc)+1)\n",
    "\n",
    "\n",
    "plt.plot(epochs, acc, 'bo', label='Training Accuracy')\n",
    "plt.plot(epochs, val_acc, 'b', color='red', label='Validation Accuracy')\n",
    "plt.title('Training vs Validation Accuracy')\n",
    "plt.xlabel('Epochs')\n",
    "plt.ylabel('Accuracy')\n",
    "plt.legend()\n",
    "plt.grid()\n",
    "plt.show()\n",
    "\n",
    "plt.plot(epochs, loss, 'bo', label='Training Loss')\n",
    "plt.plot(epochs, val_loss, 'b', color='red', label='Validation Loss')\n",
    "plt.title('Training vs Validation Loss')\n",
    "plt.xlabel('Epochs')\n",
    "plt.ylabel('Loss')\n",
    "plt.legend()\n",
    "plt.grid()\n",
    "plt.show()"
   ]
  },
  {
   "cell_type": "markdown",
   "metadata": {},
   "source": [
    "These curves look noisy. To make them more readable, we can smooth them by replacing every loss and accuracy with exponential moving averages of these quantities.\n",
    "Here’s a trivial utility function to do this:\n",
    "\n",
    "#### Smooth The Plots"
   ]
  },
  {
   "cell_type": "code",
   "execution_count": 11,
   "metadata": {},
   "outputs": [],
   "source": [
    "def smooth_curve(points, factor=0.8):\n",
    "    smoothed_points=[]\n",
    "    for point in points:\n",
    "        if smoothed_points:\n",
    "            previous=smoothed_points[-1]\n",
    "            smoothed_points.append(previous*factor +point*(1-factor))\n",
    "        else:\n",
    "            smoothed_points.append(point)\n",
    "    return smoothed_points"
   ]
  },
  {
   "cell_type": "code",
   "execution_count": 12,
   "metadata": {},
   "outputs": [
    {
     "data": {
      "image/png": "[encoded data removed]",
      "text/plain": [
       "<Figure size 432x288 with 1 Axes>"
      ]
     },
     "metadata": {
      "needs_background": "light"
     },
     "output_type": "display_data"
    },
    {
     "data": {
      "image/png": "[encoded data removed]",
      "text/plain": [
       "<Figure size 432x288 with 1 Axes>"
      ]
     },
     "metadata": {
      "needs_background": "light"
     },
     "output_type": "display_data"
    }
   ],
   "source": [
    "plt.plot(epochs, smooth_curve(acc), 'b', label='Training Accuracy')\n",
    "plt.plot(epochs, smooth_curve(val_acc), 'b', color='red', label='Validation Accuracy')\n",
    "plt.title('Training vs Validation Accuracy')\n",
    "plt.xlabel('Epochs')\n",
    "plt.ylabel('Accuracy')\n",
    "plt.legend()\n",
    "plt.grid()\n",
    "plt.show()\n",
    "\n",
    "plt.plot(epochs, smooth_curve(loss), 'b', label='Training Loss')\n",
    "plt.plot(epochs, smooth_curve(val_loss), 'b', color='red', label='Validation Loss')\n",
    "plt.title('Training vs Validation Loss')\n",
    "plt.xlabel('Epochs')\n",
    "plt.ylabel('Loss')\n",
    "plt.legend()\n",
    "plt.grid()\n",
    "plt.show()"
   ]
  },
  {
   "cell_type": "markdown",
   "metadata": {},
   "source": [
    "The validation accuracy curve look much cleaner. We’re seeing a nice 1% absolute improvement in accuracy, from about 92% to above 93%.\n",
    "\n",
    "Note that the loss curve doesn’t show any real improvement (in fact, it’s deteriorating). We may wonder, how could accuracy stay stable or improve if the loss isn’t decreasing? The answer is simple: what we display is an average of pointwise loss values;\n",
    "but what matters for accuracy is the distribution of the loss values, not their average, because accuracy is the result of a binary thresholding of the class probability predicted by the model. The model may still be improving even if this isn’t reflected in the average loss.\n",
    "\n",
    "We can now finally evaluate this model on the test data:"
   ]
  },
  {
   "cell_type": "code",
   "execution_count": 16,
   "metadata": {},
   "outputs": [
    {
     "name": "stdout",
     "output_type": "stream",
     "text": [
      "Found 1000 images belonging to 2 classes.\n"
     ]
    }
   ],
   "source": [
    "test_generator= test_datagen.flow_from_directory(test_dir,\n",
    "                                  target_size=(150,150),\n",
    "                                  batch_size=20,\n",
    "                                  class_mode='binary')"
   ]
  },
  {
   "cell_type": "code",
   "execution_count": 17,
   "metadata": {},
   "outputs": [
    {
     "name": "stdout",
     "output_type": "stream",
     "text": [
      "0.22912940839771181 0.9329999947547912\n"
     ]
    }
   ],
   "source": [
    "test_loss, test_acc= model.evaluate_generator(test_generator, steps=50)\n",
    "print(test_loss, test_acc)"
   ]
  },
  {
   "cell_type": "markdown",
   "metadata": {},
   "source": [
    "Here we get a test accuracy of 93%\n",
    "\n",
    "#### Predict The Output on Test Data"
   ]
  },
  {
   "cell_type": "code",
   "execution_count": 18,
   "metadata": {
    "scrolled": true
   },
   "outputs": [
    {
     "data": {
      "text/plain": [
       "array([[6.4050496e-01],\n",
       "       [1.0269343e-01],\n",
       "       [9.9990511e-01],\n",
       "       [9.9984431e-01],\n",
       "       [9.9965286e-01],\n",
       "       [1.7661676e-04],\n",
       "       [1.5044876e-02],\n",
       "       [1.9062331e-04],\n",
       "       [2.8523136e-05],\n",
       "       [1.1864670e-03],\n",
       "       [9.9989855e-01],\n",
       "       [9.9416047e-01],\n",
       "       [2.8719911e-02],\n",
       "       [5.4645066e-06],\n",
       "       [5.9861869e-01],\n",
       "       [9.9988818e-01],\n",
       "       [9.2738408e-01],\n",
       "       [9.9999988e-01],\n",
       "       [9.8095417e-01],\n",
       "       [8.5098580e-02]], dtype=float32)"
      ]
     },
     "execution_count": 18,
     "metadata": {},
     "output_type": "execute_result"
    }
   ],
   "source": [
    "model.predict_generator(test_generator, steps=1)"
   ]
  },
  {
   "cell_type": "code",
   "execution_count": 19,
   "metadata": {},
   "outputs": [
    {
     "data": {
      "text/plain": [
       "['test']"
      ]
     },
     "execution_count": 19,
     "metadata": {},
     "output_type": "execute_result"
    }
   ],
   "source": [
    "base_dir= 'C:/Users/soumyama/Documents/Python Scripts/Keras/Cat_Dog/data'\n",
    "final_test_dir= os.path.join(base_dir, 'Final_Test')\n",
    "os.listdir(final_test_dir)"
   ]
  },
  {
   "cell_type": "code",
   "execution_count": 20,
   "metadata": {},
   "outputs": [
    {
     "name": "stdout",
     "output_type": "stream",
     "text": [
      "Found 12500 images belonging to 1 classes.\n"
     ]
    }
   ],
   "source": [
    "datagen= ImageDataGenerator(rescale=1./255)\n",
    "final_test_generator= datagen.flow_from_directory(\n",
    "        final_test_dir,\n",
    "        target_size=(150,150),\n",
    "        batch_size=20,\n",
    "        class_mode='binary')"
   ]
  },
  {
   "cell_type": "code",
   "execution_count": 21,
   "metadata": {},
   "outputs": [
    {
     "name": "stdout",
     "output_type": "stream",
     "text": [
      "625/625 [==============================] - 144s 231ms/step\n"
     ]
    }
   ],
   "source": [
    "op=model.predict_generator(final_test_generator, steps=625,verbose=1)"
   ]
  },
  {
   "cell_type": "code",
   "execution_count": 22,
   "metadata": {},
   "outputs": [
    {
     "name": "stdout",
     "output_type": "stream",
     "text": [
      "[[1.00000000e+00]\n",
      " [9.99999523e-01]\n",
      " [9.64828610e-01]\n",
      " [9.99846220e-01]\n",
      " [9.99999881e-01]\n",
      " [9.99992728e-01]\n",
      " [3.32855125e-05]\n",
      " [1.00000000e+00]\n",
      " [1.01234615e-02]\n",
      " [3.67465800e-05]]\n",
      "12500\n"
     ]
    }
   ],
   "source": [
    "print(op[:10])\n",
    "print(len(op))"
   ]
  },
  {
   "cell_type": "markdown",
   "metadata": {},
   "source": [
    "##### Cat: 0 Dog: 1"
   ]
  }
 ],
 "metadata": {
  "kernelspec": {
   "display_name": "Python 3",
   "language": "python",
   "name": "python3"
  },
  "language_info": {
   "codemirror_mode": {
    "name": "ipython",
    "version": 3
   },
   "file_extension": ".py",
   "mimetype": "text/x-python",
   "name": "python",
   "nbconvert_exporter": "python",
   "pygments_lexer": "ipython3",
   "version": "3.6.6"
  }
 },
 "nbformat": 4,
 "nbformat_minor": 2
}
