{
 "cells": [
  {
   "cell_type": "markdown",
   "metadata": {},
   "source": [
    "[Original Source Code](https://github.com/richliao/textClassifier/blob/master/textClassifierConv.py)"
   ]
  },
  {
   "cell_type": "markdown",
   "metadata": {},
   "source": [
    "### 1. Import Necessary libraries -> numpy,os,Keras Dense,Conv1D,MaxPooling1D, Embedding,Merge,Dropout layers, pandas libraries"
   ]
  },
  {
   "cell_type": "code",
   "execution_count": 2,
   "metadata": {},
   "outputs": [
    {
     "name": "stderr",
     "output_type": "stream",
     "text": [
      "C:\\ProgramData\\Anaconda3\\lib\\site-packages\\h5py\\__init__.py:34: FutureWarning: Conversion of the second argument of issubdtype from `float` to `np.floating` is deprecated. In future, it will be treated as `np.float64 == np.dtype(float).type`.\n",
      "  from ._conv import register_converters as _register_converters\n",
      "Using TensorFlow backend.\n"
     ]
    }
   ],
   "source": [
    "import pandas as pd\n",
    "import numpy as np\n",
    "import os\n",
    "from keras.preprocessing.text import Tokenizer\n",
    "from keras.preprocessing.sequence import pad_sequences\n",
    "from keras.utils.np_utils import to_categorical\n",
    "\n",
    "from keras.layers import Embedding\n",
    "from keras.layers import Dense, Input, Flatten,Activation\n",
    "from keras.layers import Conv1D, MaxPooling1D, Embedding, Merge, Dropout\n",
    "from keras.models import Model\n",
    "from keras.layers import GlobalMaxPooling1D\n",
    "from keras.models import Sequential\n",
    "\n",
    "from keras.models import model_from_json"
   ]
  },
  {
   "cell_type": "markdown",
   "metadata": {},
   "source": [
    "### 2. Read dev__.csv data as  pandas dataframe"
   ]
  },
  {
   "cell_type": "code",
   "execution_count": 2,
   "metadata": {},
   "outputs": [
    {
     "data": {
      "text/html": [
       "<div>\n",
       "<style>\n",
       "    .dataframe thead tr:only-child th {\n",
       "        text-align: right;\n",
       "    }\n",
       "\n",
       "    .dataframe thead th {\n",
       "        text-align: left;\n",
       "    }\n",
       "\n",
       "    .dataframe tbody tr th {\n",
       "        vertical-align: top;\n",
       "    }\n",
       "</style>\n",
       "<table border=\"1\" class=\"dataframe\">\n",
       "  <thead>\n",
       "    <tr style=\"text-align: right;\">\n",
       "      <th></th>\n",
       "      <th>file</th>\n",
       "      <th>line</th>\n",
       "      <th>word</th>\n",
       "      <th>entity_type</th>\n",
       "      <th>aggregation_type</th>\n",
       "      <th>filter_condition</th>\n",
       "    </tr>\n",
       "  </thead>\n",
       "  <tbody>\n",
       "    <tr>\n",
       "      <th>0</th>\n",
       "      <td>dev</td>\n",
       "      <td>What position does the player who played for b...</td>\n",
       "      <td>What</td>\n",
       "      <td>O</td>\n",
       "      <td>0.0</td>\n",
       "      <td>0.0</td>\n",
       "    </tr>\n",
       "    <tr>\n",
       "      <th>1</th>\n",
       "      <td>dev</td>\n",
       "      <td>What position does the player who played for b...</td>\n",
       "      <td>position</td>\n",
       "      <td>O</td>\n",
       "      <td>0.0</td>\n",
       "      <td>0.0</td>\n",
       "    </tr>\n",
       "    <tr>\n",
       "      <th>2</th>\n",
       "      <td>dev</td>\n",
       "      <td>What position does the player who played for b...</td>\n",
       "      <td>does</td>\n",
       "      <td>O</td>\n",
       "      <td>0.0</td>\n",
       "      <td>0.0</td>\n",
       "    </tr>\n",
       "    <tr>\n",
       "      <th>3</th>\n",
       "      <td>dev</td>\n",
       "      <td>What position does the player who played for b...</td>\n",
       "      <td>the</td>\n",
       "      <td>O</td>\n",
       "      <td>0.0</td>\n",
       "      <td>0.0</td>\n",
       "    </tr>\n",
       "    <tr>\n",
       "      <th>4</th>\n",
       "      <td>dev</td>\n",
       "      <td>What position does the player who played for b...</td>\n",
       "      <td>player</td>\n",
       "      <td>O</td>\n",
       "      <td>0.0</td>\n",
       "      <td>0.0</td>\n",
       "    </tr>\n",
       "    <tr>\n",
       "      <th>5</th>\n",
       "      <td>dev</td>\n",
       "      <td>What position does the player who played for b...</td>\n",
       "      <td>who</td>\n",
       "      <td>O</td>\n",
       "      <td>0.0</td>\n",
       "      <td>0.0</td>\n",
       "    </tr>\n",
       "    <tr>\n",
       "      <th>6</th>\n",
       "      <td>dev</td>\n",
       "      <td>What position does the player who played for b...</td>\n",
       "      <td>played</td>\n",
       "      <td>O</td>\n",
       "      <td>0.0</td>\n",
       "      <td>0.0</td>\n",
       "    </tr>\n",
       "    <tr>\n",
       "      <th>7</th>\n",
       "      <td>dev</td>\n",
       "      <td>What position does the player who played for b...</td>\n",
       "      <td>for</td>\n",
       "      <td>O</td>\n",
       "      <td>0.0</td>\n",
       "      <td>0.0</td>\n",
       "    </tr>\n",
       "    <tr>\n",
       "      <th>8</th>\n",
       "      <td>dev</td>\n",
       "      <td>What position does the player who played for b...</td>\n",
       "      <td>butler</td>\n",
       "      <td>B-FILTER_VAL</td>\n",
       "      <td>0.0</td>\n",
       "      <td>0.0</td>\n",
       "    </tr>\n",
       "    <tr>\n",
       "      <th>9</th>\n",
       "      <td>dev</td>\n",
       "      <td>What position does the player who played for b...</td>\n",
       "      <td>cc</td>\n",
       "      <td>B-FILTER_VAL</td>\n",
       "      <td>0.0</td>\n",
       "      <td>0.0</td>\n",
       "    </tr>\n",
       "    <tr>\n",
       "      <th>10</th>\n",
       "      <td>dev</td>\n",
       "      <td>What position does the player who played for b...</td>\n",
       "      <td>(ks)</td>\n",
       "      <td>B-FILTER_VAL</td>\n",
       "      <td>0.0</td>\n",
       "      <td>0.0</td>\n",
       "    </tr>\n",
       "    <tr>\n",
       "      <th>11</th>\n",
       "      <td>dev</td>\n",
       "      <td>What position does the player who played for b...</td>\n",
       "      <td>play?</td>\n",
       "      <td>O</td>\n",
       "      <td>0.0</td>\n",
       "      <td>0.0</td>\n",
       "    </tr>\n",
       "    <tr>\n",
       "      <th>12</th>\n",
       "      <td>NaN</td>\n",
       "      <td>NaN</td>\n",
       "      <td>NaN</td>\n",
       "      <td>NaN</td>\n",
       "      <td>NaN</td>\n",
       "      <td>NaN</td>\n",
       "    </tr>\n",
       "    <tr>\n",
       "      <th>13</th>\n",
       "      <td>dev</td>\n",
       "      <td>How many schools did player number 3 play at?</td>\n",
       "      <td>How</td>\n",
       "      <td>O</td>\n",
       "      <td>3.0</td>\n",
       "      <td>0.0</td>\n",
       "    </tr>\n",
       "    <tr>\n",
       "      <th>14</th>\n",
       "      <td>dev</td>\n",
       "      <td>How many schools did player number 3 play at?</td>\n",
       "      <td>many</td>\n",
       "      <td>O</td>\n",
       "      <td>3.0</td>\n",
       "      <td>0.0</td>\n",
       "    </tr>\n",
       "  </tbody>\n",
       "</table>\n",
       "</div>"
      ],
      "text/plain": [
       "   file                                               line      word  \\\n",
       "0   dev  What position does the player who played for b...      What   \n",
       "1   dev  What position does the player who played for b...  position   \n",
       "2   dev  What position does the player who played for b...      does   \n",
       "3   dev  What position does the player who played for b...       the   \n",
       "4   dev  What position does the player who played for b...    player   \n",
       "5   dev  What position does the player who played for b...       who   \n",
       "6   dev  What position does the player who played for b...    played   \n",
       "7   dev  What position does the player who played for b...       for   \n",
       "8   dev  What position does the player who played for b...    butler   \n",
       "9   dev  What position does the player who played for b...        cc   \n",
       "10  dev  What position does the player who played for b...      (ks)   \n",
       "11  dev  What position does the player who played for b...     play?   \n",
       "12  NaN                                                NaN       NaN   \n",
       "13  dev      How many schools did player number 3 play at?       How   \n",
       "14  dev      How many schools did player number 3 play at?      many   \n",
       "\n",
       "     entity_type  aggregation_type  filter_condition  \n",
       "0              O               0.0               0.0  \n",
       "1              O               0.0               0.0  \n",
       "2              O               0.0               0.0  \n",
       "3              O               0.0               0.0  \n",
       "4              O               0.0               0.0  \n",
       "5              O               0.0               0.0  \n",
       "6              O               0.0               0.0  \n",
       "7              O               0.0               0.0  \n",
       "8   B-FILTER_VAL               0.0               0.0  \n",
       "9   B-FILTER_VAL               0.0               0.0  \n",
       "10  B-FILTER_VAL               0.0               0.0  \n",
       "11             O               0.0               0.0  \n",
       "12           NaN               NaN               NaN  \n",
       "13             O               3.0               0.0  \n",
       "14             O               3.0               0.0  "
      ]
     },
     "execution_count": 2,
     "metadata": {},
     "output_type": "execute_result"
    }
   ],
   "source": [
    "data = pd.read_csv('dev__.csv') # Reading dev_.csv data as a dataframe\n",
    "data.head(n=15) # display first 15 rows of the dataframe-> data"
   ]
  },
  {
   "cell_type": "markdown",
   "metadata": {},
   "source": [
    "In this dataframe we have columns:\n",
    "1. file -> dev\n",
    "2. line -> Display sentences in a line.\n",
    "3. word -> Displays each word in a line.\n",
    "4. entity_type-> \n",
    "                (1) We have O ->It means other words that is not a filter.\n",
    "                (2) We have B-FILTER_VAL -> It means that the word is a filter.\n",
    "                (3) NaN -> Not A Number -> Not specified.\n",
    "5. aggregation_type->\n",
    "                (0) Aggregation operation -> It computes a single value from a collection of values.\n",
    "                (1) dev__.csv has been extracted from https://github.com/salesforce/WikiSQL/blob/master/data.tar.bz2\n",
    "                (2) Here the aggregation_type thats been present in original data(https://github.com/salesforce/WikiSQL/blob/master/data.tar.bz2) is ['NONE','MAX','MIN','COUNT','SUM','AVG']\n",
    "                (3) We have processed the original data aggregation type ['NONE','MAX','MIN','COUNT','SUM','AVG'] to [0,1,2,3,4,5] in dev__.csv\n",
    "                \n",
    "6. filter_condition\n",
    "\n",
    "Here dev__.csv is a validation dataset."
   ]
  },
  {
   "cell_type": "markdown",
   "metadata": {},
   "source": [
    "### 3. Create a new dataframe agg_data that has line,aggregation_type column from data dataframe"
   ]
  },
  {
   "cell_type": "code",
   "execution_count": 3,
   "metadata": {},
   "outputs": [
    {
     "data": {
      "text/html": [
       "<div>\n",
       "<style>\n",
       "    .dataframe thead tr:only-child th {\n",
       "        text-align: right;\n",
       "    }\n",
       "\n",
       "    .dataframe thead th {\n",
       "        text-align: left;\n",
       "    }\n",
       "\n",
       "    .dataframe tbody tr th {\n",
       "        vertical-align: top;\n",
       "    }\n",
       "</style>\n",
       "<table border=\"1\" class=\"dataframe\">\n",
       "  <thead>\n",
       "    <tr style=\"text-align: right;\">\n",
       "      <th></th>\n",
       "      <th>line</th>\n",
       "      <th>aggregation_type</th>\n",
       "    </tr>\n",
       "  </thead>\n",
       "  <tbody>\n",
       "    <tr>\n",
       "      <th>0</th>\n",
       "      <td>What position does the player who played for b...</td>\n",
       "      <td>0.0</td>\n",
       "    </tr>\n",
       "    <tr>\n",
       "      <th>1</th>\n",
       "      <td>What position does the player who played for b...</td>\n",
       "      <td>0.0</td>\n",
       "    </tr>\n",
       "    <tr>\n",
       "      <th>2</th>\n",
       "      <td>What position does the player who played for b...</td>\n",
       "      <td>0.0</td>\n",
       "    </tr>\n",
       "    <tr>\n",
       "      <th>3</th>\n",
       "      <td>What position does the player who played for b...</td>\n",
       "      <td>0.0</td>\n",
       "    </tr>\n",
       "    <tr>\n",
       "      <th>4</th>\n",
       "      <td>What position does the player who played for b...</td>\n",
       "      <td>0.0</td>\n",
       "    </tr>\n",
       "    <tr>\n",
       "      <th>5</th>\n",
       "      <td>What position does the player who played for b...</td>\n",
       "      <td>0.0</td>\n",
       "    </tr>\n",
       "    <tr>\n",
       "      <th>6</th>\n",
       "      <td>What position does the player who played for b...</td>\n",
       "      <td>0.0</td>\n",
       "    </tr>\n",
       "    <tr>\n",
       "      <th>7</th>\n",
       "      <td>What position does the player who played for b...</td>\n",
       "      <td>0.0</td>\n",
       "    </tr>\n",
       "    <tr>\n",
       "      <th>8</th>\n",
       "      <td>What position does the player who played for b...</td>\n",
       "      <td>0.0</td>\n",
       "    </tr>\n",
       "    <tr>\n",
       "      <th>9</th>\n",
       "      <td>What position does the player who played for b...</td>\n",
       "      <td>0.0</td>\n",
       "    </tr>\n",
       "    <tr>\n",
       "      <th>10</th>\n",
       "      <td>What position does the player who played for b...</td>\n",
       "      <td>0.0</td>\n",
       "    </tr>\n",
       "    <tr>\n",
       "      <th>11</th>\n",
       "      <td>What position does the player who played for b...</td>\n",
       "      <td>0.0</td>\n",
       "    </tr>\n",
       "    <tr>\n",
       "      <th>12</th>\n",
       "      <td>NaN</td>\n",
       "      <td>NaN</td>\n",
       "    </tr>\n",
       "    <tr>\n",
       "      <th>13</th>\n",
       "      <td>How many schools did player number 3 play at?</td>\n",
       "      <td>3.0</td>\n",
       "    </tr>\n",
       "    <tr>\n",
       "      <th>14</th>\n",
       "      <td>How many schools did player number 3 play at?</td>\n",
       "      <td>3.0</td>\n",
       "    </tr>\n",
       "  </tbody>\n",
       "</table>\n",
       "</div>"
      ],
      "text/plain": [
       "                                                 line  aggregation_type\n",
       "0   What position does the player who played for b...               0.0\n",
       "1   What position does the player who played for b...               0.0\n",
       "2   What position does the player who played for b...               0.0\n",
       "3   What position does the player who played for b...               0.0\n",
       "4   What position does the player who played for b...               0.0\n",
       "5   What position does the player who played for b...               0.0\n",
       "6   What position does the player who played for b...               0.0\n",
       "7   What position does the player who played for b...               0.0\n",
       "8   What position does the player who played for b...               0.0\n",
       "9   What position does the player who played for b...               0.0\n",
       "10  What position does the player who played for b...               0.0\n",
       "11  What position does the player who played for b...               0.0\n",
       "12                                                NaN               NaN\n",
       "13      How many schools did player number 3 play at?               3.0\n",
       "14      How many schools did player number 3 play at?               3.0"
      ]
     },
     "execution_count": 3,
     "metadata": {},
     "output_type": "execute_result"
    }
   ],
   "source": [
    "agg_data = data[['line','aggregation_type']]\n",
    "agg_data.head(15) # Displaying the first 15 rows"
   ]
  },
  {
   "cell_type": "markdown",
   "metadata": {},
   "source": [
    "### 4. Drop duplicate rows and NaN rows from agg_data dataframe"
   ]
  },
  {
   "cell_type": "code",
   "execution_count": 4,
   "metadata": {},
   "outputs": [
    {
     "data": {
      "text/html": [
       "<div>\n",
       "<style>\n",
       "    .dataframe thead tr:only-child th {\n",
       "        text-align: right;\n",
       "    }\n",
       "\n",
       "    .dataframe thead th {\n",
       "        text-align: left;\n",
       "    }\n",
       "\n",
       "    .dataframe tbody tr th {\n",
       "        vertical-align: top;\n",
       "    }\n",
       "</style>\n",
       "<table border=\"1\" class=\"dataframe\">\n",
       "  <thead>\n",
       "    <tr style=\"text-align: right;\">\n",
       "      <th></th>\n",
       "      <th>line</th>\n",
       "      <th>aggregation_type</th>\n",
       "    </tr>\n",
       "  </thead>\n",
       "  <tbody>\n",
       "    <tr>\n",
       "      <th>0</th>\n",
       "      <td>What position does the player who played for b...</td>\n",
       "      <td>0.0</td>\n",
       "    </tr>\n",
       "    <tr>\n",
       "      <th>13</th>\n",
       "      <td>How many schools did player number 3 play at?</td>\n",
       "      <td>3.0</td>\n",
       "    </tr>\n",
       "    <tr>\n",
       "      <th>23</th>\n",
       "      <td>What school did player number 21 play for?</td>\n",
       "      <td>0.0</td>\n",
       "    </tr>\n",
       "    <tr>\n",
       "      <th>32</th>\n",
       "      <td>Who is the player that wears number 42?</td>\n",
       "      <td>0.0</td>\n",
       "    </tr>\n",
       "    <tr>\n",
       "      <th>41</th>\n",
       "      <td>What player played guard for toronto in 1996-97?</td>\n",
       "      <td>0.0</td>\n",
       "    </tr>\n",
       "    <tr>\n",
       "      <th>50</th>\n",
       "      <td>Who are all of the players on the Westchester ...</td>\n",
       "      <td>0.0</td>\n",
       "    </tr>\n",
       "    <tr>\n",
       "      <th>64</th>\n",
       "      <td>What school/club team is Amir Johnson on?</td>\n",
       "      <td>0.0</td>\n",
       "    </tr>\n",
       "    <tr>\n",
       "      <th>72</th>\n",
       "      <td>What are the total amount of numbers on the To...</td>\n",
       "      <td>3.0</td>\n",
       "    </tr>\n",
       "    <tr>\n",
       "      <th>86</th>\n",
       "      <td>What are the total number of positions on the ...</td>\n",
       "      <td>3.0</td>\n",
       "    </tr>\n",
       "    <tr>\n",
       "      <th>100</th>\n",
       "      <td>What are the nationality of the players on the...</td>\n",
       "      <td>0.0</td>\n",
       "    </tr>\n",
       "    <tr>\n",
       "      <th>114</th>\n",
       "      <td>What school/club team is Trey Johnson on?</td>\n",
       "      <td>0.0</td>\n",
       "    </tr>\n",
       "    <tr>\n",
       "      <th>122</th>\n",
       "      <td>When did Jacques Chirac stop being a G8 leader?</td>\n",
       "      <td>0.0</td>\n",
       "    </tr>\n",
       "    <tr>\n",
       "      <th>132</th>\n",
       "      <td>When did the Prime Minister of Italy take office?</td>\n",
       "      <td>0.0</td>\n",
       "    </tr>\n",
       "    <tr>\n",
       "      <th>142</th>\n",
       "      <td>What is the English name of the country whose ...</td>\n",
       "      <td>0.0</td>\n",
       "    </tr>\n",
       "    <tr>\n",
       "      <th>158</th>\n",
       "      <td>What official or native languages are spoken i...</td>\n",
       "      <td>0.0</td>\n",
       "    </tr>\n",
       "  </tbody>\n",
       "</table>\n",
       "</div>"
      ],
      "text/plain": [
       "                                                  line  aggregation_type\n",
       "0    What position does the player who played for b...               0.0\n",
       "13       How many schools did player number 3 play at?               3.0\n",
       "23          What school did player number 21 play for?               0.0\n",
       "32             Who is the player that wears number 42?               0.0\n",
       "41    What player played guard for toronto in 1996-97?               0.0\n",
       "50   Who are all of the players on the Westchester ...               0.0\n",
       "64           What school/club team is Amir Johnson on?               0.0\n",
       "72   What are the total amount of numbers on the To...               3.0\n",
       "86   What are the total number of positions on the ...               3.0\n",
       "100  What are the nationality of the players on the...               0.0\n",
       "114          What school/club team is Trey Johnson on?               0.0\n",
       "122    When did Jacques Chirac stop being a G8 leader?               0.0\n",
       "132  When did the Prime Minister of Italy take office?               0.0\n",
       "142  What is the English name of the country whose ...               0.0\n",
       "158  What official or native languages are spoken i...               0.0"
      ]
     },
     "execution_count": 4,
     "metadata": {},
     "output_type": "execute_result"
    }
   ],
   "source": [
    "agg_data = agg_data.drop_duplicates().dropna()\n",
    "agg_data.head(15) # Displaying first 15 rows in the dataframe"
   ]
  },
  {
   "cell_type": "code",
   "execution_count": 5,
   "metadata": {},
   "outputs": [
    {
     "name": "stdout",
     "output_type": "stream",
     "text": [
      "Shape of agg_data dataframe: (8391, 2)\n"
     ]
    }
   ],
   "source": [
    "print(\"Shape of agg_data dataframe:\",agg_data.shape) # Shape of aggregation_data dataframe"
   ]
  },
  {
   "cell_type": "markdown",
   "metadata": {},
   "source": [
    "### 5. Loading Google's Pre-trained Word2Vec Model"
   ]
  },
  {
   "cell_type": "code",
   "execution_count": 5,
   "metadata": {},
   "outputs": [
    {
     "name": "stderr",
     "output_type": "stream",
     "text": [
      "C:\\ProgramData\\Anaconda3\\lib\\site-packages\\gensim-3.2.0-py3.6-win-amd64.egg\\gensim\\utils.py:860: UserWarning: detected Windows; aliasing chunkize to chunkize_serial\n",
      "  warnings.warn(\"detected Windows; aliasing chunkize to chunkize_serial\")\n"
     ]
    }
   ],
   "source": [
    "# Import keyedVectors from gensim library\n",
    "from gensim.models import KeyedVectors\n",
    "word_vector_model = KeyedVectors.load_word2vec_format ('./word2vec/GoogleNews-vectors-negative300.bin.gz', binary=True)"
   ]
  },
  {
   "cell_type": "markdown",
   "metadata": {},
   "source": [
    "### 6. Now checking the shape of the words present in the pretrained Word2Vec model dictionary"
   ]
  },
  {
   "cell_type": "code",
   "execution_count": 6,
   "metadata": {},
   "outputs": [
    {
     "name": "stdout",
     "output_type": "stream",
     "text": [
      "General Shape of word -> dog (300,)\n",
      "[ 0.05126953 -0.02233887 -0.17285156  0.16113281 -0.08447266  0.05737305\n",
      "  0.05859375 -0.08251953 -0.01538086 -0.06347656]\n"
     ]
    }
   ],
   "source": [
    "dog = word_vector_model['dog']\n",
    "print(\"General Shape of word -> dog\",dog.shape)\n",
    "print(dog[:10])"
   ]
  },
  {
   "cell_type": "markdown",
   "metadata": {},
   "source": [
    "Here we can come to conclusion that all the words that is present in word_vector_model dictionary has shape (300,)"
   ]
  },
  {
   "cell_type": "markdown",
   "metadata": {},
   "source": [
    "### 7. Now checking with out of words in word_vector_model dictionary"
   ]
  },
  {
   "cell_type": "code",
   "execution_count": 8,
   "metadata": {},
   "outputs": [
    {
     "name": "stdout",
     "output_type": "stream",
     "text": [
      "Михаил is an out of dictionary word\n"
     ]
    }
   ],
   "source": [
    "# Deal with an out of dictionary word: Михаил (Michail)\n",
    "if 'Михаил' in word_vector_model:\n",
    "    print(word_vector_model['Михаил'].shape)\n",
    "else:\n",
    "    print('{0} is an out of dictionary word'.format('Михаил'))"
   ]
  },
  {
   "cell_type": "markdown",
   "metadata": {},
   "source": [
    "### 8. Define Sequence length, top n words(MAX_NB_WORDS), embedding_dim,validation_split"
   ]
  },
  {
   "cell_type": "code",
   "execution_count": 9,
   "metadata": {},
   "outputs": [],
   "source": [
    "MAX_SEQUENCE_LENGTH = 1000\n",
    "MAX_NB_WORDS = 20000 # top-n words -> Here we are specifying top 20000 words.\n",
    "EMBEDDING_DIM = 300\n",
    "VALIDATION_SPLIT = 0.2 # 20% of data is used for validation."
   ]
  },
  {
   "cell_type": "markdown",
   "metadata": {},
   "source": [
    "### 9. Storing the dataframe columns(line,aggregation_type) as a list in text,labels"
   ]
  },
  {
   "cell_type": "code",
   "execution_count": 10,
   "metadata": {},
   "outputs": [],
   "source": [
    "texts = agg_data.line.tolist()\n",
    "labels = agg_data.aggregation_type.tolist()"
   ]
  },
  {
   "cell_type": "code",
   "execution_count": 11,
   "metadata": {},
   "outputs": [
    {
     "name": "stdout",
     "output_type": "stream",
     "text": [
      "The Length of texts list: 8391\n",
      "The Length of the labels list: 8391\n"
     ]
    }
   ],
   "source": [
    "print(\"The Length of texts list:\",len(texts))\n",
    "print(\"The Length of the labels list:\",len(labels))"
   ]
  },
  {
   "cell_type": "code",
   "execution_count": 12,
   "metadata": {},
   "outputs": [
    {
     "name": "stdout",
     "output_type": "stream",
     "text": [
      "What position does the player who played for butler cc (ks) play? 0.0\n",
      "How many schools did player number 3 play at? 3.0\n",
      "What school did player number 21 play for? 0.0\n",
      "Who is the player that wears number 42? 0.0\n",
      "What player played guard for toronto in 1996-97? 0.0\n"
     ]
    }
   ],
   "source": [
    "# displaying first 5 texts and 5 labels\n",
    "for i in range(0,5):\n",
    "    print(texts[i],labels[i])"
   ]
  },
  {
   "cell_type": "markdown",
   "metadata": {},
   "source": [
    "### 10. Tokenizer\n",
    "The Tokenizer class in Keras has various methods which help to prepare text so it can be used in neural network models."
   ]
  },
  {
   "cell_type": "code",
   "execution_count": 13,
   "metadata": {},
   "outputs": [
    {
     "name": "stderr",
     "output_type": "stream",
     "text": [
      "C:\\ProgramData\\Anaconda3\\lib\\site-packages\\keras\\preprocessing\\text.py:145: UserWarning: The `nb_words` argument in `Tokenizer` has been renamed `num_words`.\n",
      "  warnings.warn('The `nb_words` argument in `Tokenizer` '\n"
     ]
    },
    {
     "name": "stdout",
     "output_type": "stream",
     "text": [
      "The length of sequences: 8391\n",
      "What position does the player who played for butler cc (ks) play?\n",
      "\n",
      "Converting the sentences into word index as that of index contained in words in tokenizer.word_index:\n",
      "[2, 55, 132, 1, 38, 18, 52, 9, 2463, 1855, 3774, 96]\n",
      "2,55,132,1,38,18,52,9,2463,1855,"
     ]
    }
   ],
   "source": [
    "tokenizer = Tokenizer(nb_words=MAX_NB_WORDS)\n",
    "tokenizer.fit_on_texts(texts) # Training phase is by means fit_on_texts method.\n",
    "sequences = tokenizer.texts_to_sequences(texts) # Turns text into a numerical array.\n",
    "\n",
    "word_index = tokenizer.word_index # Gives the index of every word in the corpus(texts).\n",
    "#print(word_index)\n",
    "print(\"The length of sequences:\",len(sequences))\n",
    "print(texts[0]) # Priniting texts -> at index 0\n",
    "print(\"\\nConverting the sentences into word index as that of index contained in words in tokenizer.word_index:\")\n",
    "print(sequences[0]) # We convert texts into numerical array -> contains word_indexes of the texts\n",
    "\n",
    "\n",
    "first_text = texts[0] \n",
    "first_text = first_text.split()\n",
    "# print(type(word_index)) # dictionary\n",
    "\n",
    "\n",
    "# Here we test with 1st sentence of text corpa->with word_index dictionary\n",
    "for i in range(0,len(first_text)):\n",
    "    if first_text[i].lower() in word_index:\n",
    "        print(word_index[first_text[i].lower()],end=',')\n"
   ]
  },
  {
   "cell_type": "code",
   "execution_count": 14,
   "metadata": {},
   "outputs": [
    {
     "name": "stdout",
     "output_type": "stream",
     "text": [
      "Found 9096 unique tokens.\n"
     ]
    }
   ],
   "source": [
    "print('Found %s unique tokens.' % len(word_index))"
   ]
  },
  {
   "cell_type": "markdown",
   "metadata": {},
   "source": [
    "### 11. Pad the sequences to get the same length on all of them\n",
    "\n",
    "After mapping every questions to sequences of word embedding, we need to pad the sequences to get the same length on all of them.i.e. we add zeroes to the small sequences and truncate the larger ones."
   ]
  },
  {
   "cell_type": "code",
   "execution_count": 15,
   "metadata": {},
   "outputs": [
    {
     "name": "stdout",
     "output_type": "stream",
     "text": [
      "(8391, 1000)\n"
     ]
    }
   ],
   "source": [
    "data = pad_sequences(sequences, maxlen=MAX_SEQUENCE_LENGTH) # 8391,1000\n",
    "print(data.shape)"
   ]
  },
  {
   "cell_type": "code",
   "execution_count": 16,
   "metadata": {},
   "outputs": [
    {
     "name": "stdout",
     "output_type": "stream",
     "text": [
      "[[   0    0    0 ... 1855 3774   96]\n",
      " [   0    0    0 ...   37   96   46]\n",
      " [   0    0    0 ...  123   96    9]\n",
      " ...\n",
      " [   0    0    0 ...   32    5  738]\n",
      " [   0    0    0 ... 1695 9096 2556]\n",
      " [   0    0    0 ...    3    5  738]]\n"
     ]
    }
   ],
   "source": [
    "print(data)"
   ]
  },
  {
   "cell_type": "markdown",
   "metadata": {},
   "source": [
    "### 12. The labels are converted to index vectors in order to use categorical crossentropy."
   ]
  },
  {
   "cell_type": "code",
   "execution_count": 17,
   "metadata": {},
   "outputs": [
    {
     "name": "stdout",
     "output_type": "stream",
     "text": [
      "[[1. 0. 0. 0. 0. 0.]\n",
      " [0. 0. 0. 1. 0. 0.]\n",
      " [1. 0. 0. 0. 0. 0.]\n",
      " ...\n",
      " [1. 0. 0. 0. 0. 0.]\n",
      " [1. 0. 0. 0. 0. 0.]\n",
      " [1. 0. 0. 0. 0. 0.]]\n"
     ]
    }
   ],
   "source": [
    "labels = to_categorical(np.asarray(labels))\n",
    "print(labels)"
   ]
  },
  {
   "cell_type": "code",
   "execution_count": 18,
   "metadata": {},
   "outputs": [
    {
     "name": "stdout",
     "output_type": "stream",
     "text": [
      "Shape of data tensor: (8391, 1000)\n",
      "Shape of label tensor: (8391, 6)\n"
     ]
    }
   ],
   "source": [
    "print('Shape of data tensor:', data.shape)\n",
    "print('Shape of label tensor:', labels.shape)"
   ]
  },
  {
   "cell_type": "markdown",
   "metadata": {},
   "source": [
    "### 13. Apply Shuffle to the data and labels for training the model\n",
    "\n",
    "Most of the times the neural network tries to prefer memorizing instead of learning. So we shuffle our data inorder for the neural networks to learn."
   ]
  },
  {
   "cell_type": "code",
   "execution_count": 19,
   "metadata": {},
   "outputs": [
    {
     "name": "stdout",
     "output_type": "stream",
     "text": [
      "[   0    1    2 ... 8388 8389 8390]\n"
     ]
    }
   ],
   "source": [
    "indices = np.arange(data.shape[0]) # No of rows\n",
    "print(indices)"
   ]
  },
  {
   "cell_type": "code",
   "execution_count": 20,
   "metadata": {},
   "outputs": [
    {
     "name": "stdout",
     "output_type": "stream",
     "text": [
      "[4961 6522 3023 ... 5913 2959 7491]\n"
     ]
    }
   ],
   "source": [
    "# Shuffling the indices\n",
    "np.random.shuffle(indices) #shuffle the rows\n",
    "print(indices)"
   ]
  },
  {
   "cell_type": "code",
   "execution_count": 21,
   "metadata": {},
   "outputs": [
    {
     "name": "stdout",
     "output_type": "stream",
     "text": [
      "[[   0    0    0 ... 1855 3774   96]\n",
      " [   0    0    0 ...   37   96   46]\n",
      " [   0    0    0 ...  123   96    9]\n",
      " ...\n",
      " [   0    0    0 ...   32    5  738]\n",
      " [   0    0    0 ... 1695 9096 2556]\n",
      " [   0    0    0 ...    3    5  738]]\n"
     ]
    }
   ],
   "source": [
    "# Before shuffling -> data\n",
    "print(data)"
   ]
  },
  {
   "cell_type": "code",
   "execution_count": 22,
   "metadata": {},
   "outputs": [
    {
     "name": "stdout",
     "output_type": "stream",
     "text": [
      "[[   0    0    0 ...  187   47   13]\n",
      " [   0    0    0 ...    7 7925  394]\n",
      " [   0    0    0 ...   20    4 1432]\n",
      " ...\n",
      " [   0    0    0 ...   13 2574 3492]\n",
      " [   0    0    0 ...   28    2  145]\n",
      " [   0    0    0 ...   15    4 2425]]\n"
     ]
    }
   ],
   "source": [
    "# After shuffling -> data\n",
    "data = data[indices] #Apply shuffle to data\n",
    "print(data)"
   ]
  },
  {
   "cell_type": "code",
   "execution_count": 23,
   "metadata": {},
   "outputs": [
    {
     "name": "stdout",
     "output_type": "stream",
     "text": [
      "[[1. 0. 0. 0. 0. 0.]\n",
      " [0. 0. 0. 1. 0. 0.]\n",
      " [1. 0. 0. 0. 0. 0.]\n",
      " ...\n",
      " [1. 0. 0. 0. 0. 0.]\n",
      " [1. 0. 0. 0. 0. 0.]\n",
      " [1. 0. 0. 0. 0. 0.]]\n"
     ]
    }
   ],
   "source": [
    "# Before Shuffling -> labels\n",
    "print(labels)"
   ]
  },
  {
   "cell_type": "code",
   "execution_count": 24,
   "metadata": {},
   "outputs": [
    {
     "name": "stdout",
     "output_type": "stream",
     "text": [
      "[[1. 0. 0. 0. 0. 0.]\n",
      " [1. 0. 0. 0. 0. 0.]\n",
      " [0. 1. 0. 0. 0. 0.]\n",
      " ...\n",
      " [1. 0. 0. 0. 0. 0.]\n",
      " [1. 0. 0. 0. 0. 0.]\n",
      " [1. 0. 0. 0. 0. 0.]]\n"
     ]
    }
   ],
   "source": [
    "# After shuffling -> labels\n",
    "labels = labels[indices] # Apply shuffle to labels\n",
    "print(labels)"
   ]
  },
  {
   "cell_type": "markdown",
   "metadata": {},
   "source": [
    "### 14. Use last 1678 samples from the data  list for validation and you must not include those data in training.\n",
    "\n",
    "What is the point of validating? If you include the validation data for training. How can you measure the learning process?\n",
    "So we are choosing the last 1678 samples from data list for validation and these samples are not included in the training.\n"
   ]
  },
  {
   "cell_type": "code",
   "execution_count": 25,
   "metadata": {},
   "outputs": [
    {
     "name": "stdout",
     "output_type": "stream",
     "text": [
      "Total Validation samples: 1678\n"
     ]
    }
   ],
   "source": [
    "nb_validation_samples = int(VALIDATION_SPLIT * data.shape[0])  # 0.2 * 8391\n",
    "print(\"Total Validation samples:\",nb_validation_samples)"
   ]
  },
  {
   "cell_type": "code",
   "execution_count": 26,
   "metadata": {},
   "outputs": [
    {
     "data": {
      "text/plain": [
       "(8391, 1000)"
      ]
     },
     "execution_count": 26,
     "metadata": {},
     "output_type": "execute_result"
    }
   ],
   "source": [
    "# Python slice notaion\n",
    "#a[:-2] # everything except last two items\n",
    "#a[-2:] # last two items in the array\n",
    "data.shape"
   ]
  },
  {
   "cell_type": "markdown",
   "metadata": {},
   "source": [
    "We need to train everything in the data list except last 1678 elements which left for validation of our learning."
   ]
  },
  {
   "cell_type": "code",
   "execution_count": 27,
   "metadata": {},
   "outputs": [],
   "source": [
    "# Choosing Training samples,labels -> not including last 1678 samples which is left for validation.\n",
    "x_train = data[:-nb_validation_samples] # Everything except the last 1678 samples\n",
    "y_train = labels[:-nb_validation_samples]\n"
   ]
  },
  {
   "cell_type": "code",
   "execution_count": 28,
   "metadata": {},
   "outputs": [],
   "source": [
    "# Validation data -> Contains last 1678 samples\n",
    "x_val = data[-nb_validation_samples:] # last 1678 samples\n",
    "y_val = labels[-nb_validation_samples:] # last 1678 samples"
   ]
  },
  {
   "cell_type": "code",
   "execution_count": 29,
   "metadata": {},
   "outputs": [
    {
     "name": "stdout",
     "output_type": "stream",
     "text": [
      "[[1. 0. 0. 0. 0. 0.]\n",
      " [1. 0. 0. 0. 0. 0.]\n",
      " [0. 1. 0. 0. 0. 0.]\n",
      " ...\n",
      " [0. 0. 0. 1. 0. 0.]\n",
      " [0. 0. 0. 0. 1. 0.]\n",
      " [1. 0. 0. 0. 0. 0.]]\n"
     ]
    }
   ],
   "source": [
    "print(y_train)"
   ]
  },
  {
   "cell_type": "code",
   "execution_count": 30,
   "metadata": {},
   "outputs": [
    {
     "name": "stdout",
     "output_type": "stream",
     "text": [
      "[[1. 0. 0. 0. 0. 0.]\n",
      " [0. 0. 0. 0. 1. 0.]\n",
      " [1. 0. 0. 0. 0. 0.]\n",
      " ...\n",
      " [1. 0. 0. 0. 0. 0.]\n",
      " [1. 0. 0. 0. 0. 0.]\n",
      " [1. 0. 0. 0. 0. 0.]]\n"
     ]
    }
   ],
   "source": [
    "print(y_val)"
   ]
  },
  {
   "cell_type": "code",
   "execution_count": 31,
   "metadata": {},
   "outputs": [
    {
     "name": "stdout",
     "output_type": "stream",
     "text": [
      "Number of categories of each aggregation type in training and validation set \n",
      "[4798.  419.  377.  601.  257.  261.]\n",
      "[1193.   86.   90.  178.   63.   68.]\n"
     ]
    }
   ],
   "source": [
    "# Summing over columns in training and validation labels\n",
    "print('Number of categories of each aggregation type in training and validation set ')\n",
    "# To sum over cloumns ->.sum(axis=0)\n",
    "print (y_train.sum(axis=0))\n",
    "print (y_val.sum(axis=0))"
   ]
  },
  {
   "cell_type": "markdown",
   "metadata": {},
   "source": [
    "### 15. Creating embedding matrix that contains word_index words that is present in google pretrained word2vec model dictionary:"
   ]
  },
  {
   "cell_type": "markdown",
   "metadata": {},
   "source": [
    "The embedding_matrix matrix maps words to vectors in the specified embedding dimension (here 300):"
   ]
  },
  {
   "cell_type": "code",
   "execution_count": 33,
   "metadata": {},
   "outputs": [
    {
     "name": "stdout",
     "output_type": "stream",
     "text": [
      "[[0. 0. 0. ... 0. 0. 0.]\n",
      " [0. 0. 0. ... 0. 0. 0.]\n",
      " [0. 0. 0. ... 0. 0. 0.]\n",
      " ...\n",
      " [0. 0. 0. ... 0. 0. 0.]\n",
      " [0. 0. 0. ... 0. 0. 0.]\n",
      " [0. 0. 0. ... 0. 0. 0.]]\n"
     ]
    }
   ],
   "source": [
    "# The embedding matrix is default filled with 0 value in the dimension of (9096,300)\n",
    "\n",
    "\n",
    "embedding_matrix = np.zeros((len(word_index) + 1, EMBEDDING_DIM))# Create a 0 matrix of shape (9096,300)\n",
    "print(embedding_matrix)"
   ]
  },
  {
   "cell_type": "code",
   "execution_count": 34,
   "metadata": {},
   "outputs": [
    {
     "name": "stdout",
     "output_type": "stream",
     "text": [
      "{'the': 1, 'what': 2, 'is': 3, 'of': 4, 'a': 5, 'and': 6, 'was': 7, 'than': 8, 'for': 9, 'when': 10, 'has': 11, 'with': 12, 'in': 13, 'which': 14, 'team': 15, 'name': 16, 'number': 17, 'who': 18, 'how': 19, 'score': 20, 'many': 21, 'that': 22, 'total': 23, 'game': 24, '1': 25, 'on': 26, 'less': 27, 'had': 28, 'date': 29, '2': 30, 'did': 31, 'as': 32, 'an': 33, 'points': 34, '0': 35, 'year': 36, '3': 37, 'player': 38, 'are': 39, 'average': 40, 'home': 41, 'larger': 42, 'were': 43, '4': 44, 'more': 45, 'at': 46, '5': 47, 'have': 48, 'smaller': 49, 'where': 50, 'rank': 51, 'played': 52, 'record': 53, 'to': 54, 'position': 55, \"what's\": 56, 'result': 57, 'from': 58, '8': 59, '6': 60, 'time': 61, 'away': 62, 'highest': 63, '7': 64, 'episode': 65, 'opponent': 66, '9': 67, 'attendance': 68, '10': 69, 'lowest': 70, 'by': 71, 'against': 72, 'round': 73, 'greater': 74, 'country': 75, 'there': 76, 'week': 77, 'season': 78, 'goals': 79, 'won': 80, 'pick': 81, 'place': 82, '12': 83, 'venue': 84, '11': 85, '14': 86, 'high': 87, 'wins': 88, 'laps': 89, '13': 90, 's': 91, 'first': 92, 'club': 93, 'title': 94, '16': 95, 'play': 96, '15': 97, '2008': 98, 'games': 99, 'gold': 100, 'city': 101, 'bronze': 102, 'me': 103, 'population': 104, 'sum': 105, 'location': 106, 'school': 107, 'value': 108, '20': 109, '18': 110, 'par': 111, 'united': 112, 'most': 113, 'college': 114, 'tell': 115, 'silver': 116, 'd': 117, '25': 118, '19': 119, 'scored': 120, 'top': 121, 'winner': 122, '21': 123, 'all': 124, '22': 125, 'series': 126, 'lost': 127, 'if': 128, 'over': 129, 'tournament': 130, '2011': 131, 'does': 132, 'winning': 133, 'driver': 134, 'listed': 135, 'grid': 136, 'area': 137, 'crowd': 138, '30': 139, '17': 140, 'class': 141, 'up': 142, '2009': 143, 'league': 144, 'loss': 145, 'after': 146, 'party': 147, 'match': 148, '2006': 149, 'years': 150, 'district': 151, 'final': 152, 'under': 153, 'states': 154, 'code': 155, 'type': 156, 'race': 157, '2007': 158, 'viewers': 159, 'october': 160, 'medals': 161, 'before': 162, '24': 163, 'people': 164, 'may': 165, 'model': 166, 'production': 167, 'event': 168, 'nation': 169, 'runner': 170, 'november': 171, 'competition': 172, 'air': 173, 'losses': 174, '26': 175, 'w': 176, 'finish': 177, '2010': 178, '2012': 179, 'nationality': 180, '28': 181, '2nd': 182, 'elected': 183, 'win': 184, 'percentage': 185, '27': 186, '29': 187, 'cup': 188, 'june': 189, 'rebounds': 190, '23': 191, 'january': 192, 'stadium': 193, '1st': 194, 'assists': 195, 'directed': 196, 'north': 197, 'made': 198, 'original': 199, '2005': 200, 'state': 201, 'being': 202, 'april': 203, 'engine': 204, 'song': 205, 'retired': 206, 'amount': 207, 'million': 208, '2000': 209, 'it': 210, 'tie': 211, 'no': 212, 'u': 213, 'march': 214, 'south': 215, 'new': 216, 'overall': 217, 'county': 218, 'december': 219, '69': 220, 'm': 221, 'least': 222, '000': 223, 'drawn': 224, 'september': 225, 'fewer': 226, 'teams': 227, 'february': 228, 'one': 229, 'r': 230, 'day': 231, 'status': 232, 'held': 233, 'capacity': 234, 'much': 235, 'frequency': 236, 'melbourne': 237, 'chassis': 238, 'height': 239, '32': 240, 'g': 241, 'draws': 242, 'players': 243, 'or': 244, 'they': 245, 'attended': 246, 'per': 247, '34': 248, '70': 249, '31': 250, 'he': 251, '68': 252, 'august': 253, 'incumbent': 254, 'f': 255, 'us': 256, 'outcome': 257, 'largest': 258, 'film': 259, 'events': 260, 'values': 261, 'times': 262, '71': 263, 'third': 264, 'associated': 265, 'release': 266, 'matches': 267, 'open': 268, 'lap': 269, 'length': 270, 'group': 271, '72': 272, 'tries': 273, 'leg': 274, 'i': 275, 'surface': 276, 'catalog': 277, 'numbers': 278, 'l': 279, 'singles': 280, 'john': 281, 'doubles': 282, 'park': 283, 'region': 284, 'sign': 285, 'english': 286, 'whose': 287, 'division': 288, 'episodes': 289, 'named': 290, 'rating': 291, 'goal': 292, 'their': 293, 'you': 294, 'oval': 295, 'maximum': 296, 'votes': 297, 'km': 298, 'circuit': 299, 'rate': 300, 'b': 301, 'higher': 302, 'call': 303, 'aired': 304, '2002': 305, '00': 306, '3rd': 307, 'having': 308, '2013': 309, 'ranked': 310, '45': 311, 'opponents': 312, '2001': 313, 'power': 314, '1996': 315, 'fastest': 316, '35': 317, 'written': 318, '41': 319, 'can': 320, 'erp': 321, 'award': 322, '2004': 323, 'margin': 324, 'manager': 325, 'weight': 326, 'density': 327, 'draw': 328, 'conference': 329, 'source': 330, 'share': 331, '1999': 332, 'money': 333, '42': 334, 'category': 335, 'h': 336, 'e': 337, '66': 338, '44': 339, 'field': 340, '38': 341, 'director': 342, 'ranking': 343, 'championship': 344, 'shows': 345, 'cuts': 346, '47': 347, 'list': 348, '67': 349, 'weeks': 350, 'peak': 351, '40': 352, 'election': 353, 'millions': 354, 'during': 355, 'lane': 356, 'size': 357, '60': 358, 'rider': 359, 'july': 360, 'notes': 361, 'label': 362, 'pole': 363, 'part': 364, 'located': 365, 'second': 366, 'lead': 367, 'world': 368, 'artist': 369, '73': 370, 'c': 371, 'company': 372, 'smallest': 373, 'constructor': 374, '65': 375, 'member': 376, 'order': 377, 'earliest': 378, 'poll': 379, 'quantity': 380, 'car': 381, '75': 382, '50': 383, 'touchdowns': 384, 'finished': 385, 'his': 386, 'service': 387, '36': 388, '48': 389, 'road': 390, 'carolina': 391, '63': 392, 'university': 393, 'nominated': 394, 'entries': 395, '46': 396, 'junior': 397, 'end': 398, 'long': 399, '88': 400, 'run': 401, 'mountain': 402, 'mhz': 403, 'capital': 404, 'results': 405, 'bigger': 406, '64': 407, 'best': 408, 'show': 409, 'stage': 410, 'every': 411, '55': 412, 'avg': 413, 'office': 414, '37': 415, 'not': 416, 'tom': 417, 'david': 418, '100': 419, '61': 420, '49': 421, \"men's\": 422, 'vote': 423, '53': 424, 'gain': 425, 'income': 426, '62': 427, '1997': 428, 'station': 429, 'athlete': 430, 'host': 431, 'mixed': 432, 'yes': 433, '33': 434, '1998': 435, '54': 436, 'tv': 437, 'start': 438, 'format': 439, 'o': 440, 'built': 441, 'golds': 442, '07': 443, '56': 444, '92': 445, 'actor': 446, 'prix': 447, 'entry': 448, 'dates': 449, 'main': 450, '09': 451, 'seats': 452, 'town': 453, 'got': 454, 'rounds': 455, 'difference': 456, 'classification': 457, '95': 458, 'building': 459, 'ship': 460, 'grand': 461, 'change': 462, '74': 463, 'bonus': 464, '51': 465, 'illinois': 466, 'last': 467, 'kentucky': 468, 'wrote': 469, 'center': 470, 'extra': 471, 'de': 472, 'yards': 473, 'york': 474, 'point': 475, 'released': 476, 'partner': 477, 'birth': 478, \"that's\": 479, 'silvers': 480, 'want': 481, 'st': 482, 'minimum': 483, 'took': 484, '76': 485, '1991': 486, 'village': 487, 'san': 488, 'draft': 489, 'michael': 490, 'successor': 491, 'used': 492, 'west': 493, 'visitor': 494, 'n': 495, 'gdp': 496, 'word': 497, 'seat': 498, 'skip': 499, 'site': 500, \"women's\": 501, '78': 502, 'essendon': 503, 'general': 504, 'born': 505, 'floors': 506, '1r': 507, '97': 508, '06': 509, 'local': 510, '4th': 511, 'racing': 512, 'arena': 513, 'womens': 514, 'candidates': 515, 'case': 516, 'enrollment': 517, 'get': 518, '43': 519, 'chicago': 520, 'use': 521, 'television': 522, 'founded': 523, 'diameter': 524, 'different': 525, 'theme': 526, '52': 527, 'vehicle': 528, 'earlier': 529, '1994': 530, 'fa': 531, 'album': 532, 'visiting': 533, 'regular': 534, 'license': 535, '81': 536, '01': 537, 'lee': 538, 'eliminated': 539, 'candidate': 540, 'kg': 541, 'transfer': 542, '80': 543, '90': 544, 'studio': 545, '1981': 546, 'province': 547, 'ground': 548, 'captain': 549, '39': 550, 'track': 551, 'medal': 552, 'australia': 553, 'originally': 554, '500': 555, 'england': 556, 'also': 557, 'miami': 558, 'replaced': 559, 'winners': 560, 'this': 561, 'be': 562, 'ranks': 563, 'william': 564, 'mark': 565, '77': 566, '02': 567, '08': 568, 'fewest': 569, 'championships': 570, 'bob': 571, 'happened': 572, 'segment': 573, 'little': 574, '–': 575, 'low': 576, 'la': 577, 'manufacturer': 578, 'count': 579, 'byes': 580, 'european': 581, 'career': 582, '2003': 583, 'airport': 584, 'east': 585, '96': 586, 'titled': 587, 'victory': 588, 'jersey': 589, 'paul': 590, 'j': 591, 'florida': 592, '05': 593, '84': 594, 'runs': 595, 'texas': 596, '1995': 597, 'feature': 598, 'latitude': 599, 'billion': 600, 'poles': 601, \"team's\": 602, 'green': 603, 'speed': 604, 'lake': 605, 'gp': 606, 'person': 607, 'channel': 608, 'constituency': 609, 'plays': 610, 'geelong': 611, 'footscray': 612, 'method': 613, 'bronzes': 614, '2r': 615, 'take': 616, 'big': 617, 'international': 618, 'los': 619, 'races': 620, 'airdate': 621, 'route': 622, 'jones': 623, '57': 624, 'ot': 625, 'shown': 626, 'jim': 627, 'clubs': 628, 'steve': 629, 'champions': 630, 'median': 631, 'opposing': 632, '1989': 633, '1984': 634, '58': 635, '1992': 636, 'left': 637, '79': 638, 'issue': 639, 'washington': 640, 'republican': 641, 'annual': 642, 'edition': 643, 'indiana': 644, 'pts': 645, 'builder': 646, 'exactly': 647, 'apps': 648, 'later': 649, '1983': 650, 'george': 651, 'do': 652, 'appointment': 653, 'caps': 654, 'prize': 655, 'oil': 656, '1976': 657, 'its': 658, 'decision': 659, 'prior': 660, 'lower': 661, 'grids': 662, 'official': 663, 'german': 664, 'mascot': 665, 'finalist': 666, '83': 667, 'percent': 668, 'belong': 669, '1986': 670, 'georgia': 671, 'thomas': 672, 'democratic': 673, 'richard': 674, 'capita': 675, 'finals': 676, '86': 677, '1993': 678, 'price': 679, '91': 680, 'civil': 681, 'municipality': 682, 'oilers': 683, 'market': 684, '7th': 685, 'red': 686, 'nickname': 687, 'km²': 688, 'period': 689, 'hill': 690, 'kw': 691, 'super': 692, '03': 693, 'friendly': 694, 'awards': 695, '1961': 696, 'p': 697, 'ties': 698, 'item': 699, 'yr': 700, '105': 701, '√': 702, 'language': 703, '89': 704, 'playoffs': 705, 'drivers': 706, '200': 707, 'angeles': 708, 'semi': 709, 'western': 710, '1974': 711, 'chart': 712, 'evening': 713, 'interview': 714, 'records': 715, 'leading': 716, 'scorer': 717, 'between': 718, 'y': 719, 'involved': 720, 'movie': 721, 'peter': 722, 'canada': 723, 'kind': 724, '94': 725, 'entered': 726, 'set': 727, 'mike': 728, 'titles': 729, 'al': 730, 'germany': 731, 'guest': 732, 'passengers': 733, 'affiliation': 734, '99': 735, 'star': 736, 'coach': 737, 'representative': 738, 'drafted': 739, 'came': 740, 'others': 741, '6–4': 742, 'podiums': 743, 'hawthorn': 744, 'picked': 745, 'parish': 746, 'fitzroy': 747, 'richmond': 748, 'brm': 749, 'sport': 750, '1978': 751, 'network': 752, 'sets': 753, 'heat': 754, 'henry': 755, 'iata': 756, 'icao': 757, 'roll': 758, 'spelled': 759, 'toronto': 760, 'report': 761, 'tony': 762, 'vacator': 763, 'kickoff': 764, 'strokes': 765, 'chris': 766, '276': 767, 'went': 768, 'island': 769, 'latest': 770, 'mi': 771, 'seasons': 772, 'watched': 773, 'out': 774, 'losing': 775, 'football': 776, '59': 777, 'household': 778, 'fee': 779, 'hosted': 780, '9th': 781, 'celebrity': 782, '98': 783, 'common': 784, 'tournaments': 785, 'age': 786, 'mission': 787, 'drive': 788, 'matt': 789, 'k': 790, 'longitude': 791, 'michigan': 792, 'feet': 793, 'nhl': 794, 'detroit': 795, 'entrant': 796, 'called': 797, 'american': 798, 'hard': 799, '4–6': 800, '85': 801, 'mls': 802, 'pro': 803, 'output': 804, 'co': 805, 'elevation': 806, 'range': 807, 'law': 808, 'mcg': 809, 'victoria': 810, 'london': 811, 'pada': 812, 'fm': 813, 'lq': 814, 'resolution': 815, 'contestant': 816, 'genre': 817, 'decile': 818, '—': 819, 'rd': 820, 'names': 821, 'seated': 822, 'charles': 823, '10th': 824, 'louis': 825, 'tall': 826, 'gown': 827, 'swimsuit': 828, 'writer': 829, 'mens': 830, 'received': 831, '87': 832, 'would': 833, 'previous': 834, 'tim': 835, '1980': 836, 'come': 837, 'frank': 838, 'ends': 839, '1988': 840, 'seattle': 841, '93': 842, 'km2': 843, 'altitude': 844, 'current': 845, 'using': 846, 'conceded': 847, 'modern': 848, 'taper': 849, 'starts': 850, 'census': 851, 'jets': 852, 'description': 853, '1990': 854, '04': 855, 'music': 856, 'couple': 857, 'principal': 858, 'ben': 859, 'non': 860, 'outgoing': 861, 'recent': 862, 'philadelphia': 863, 'side': 864, 'gary': 865, 'live': 866, 'ratings': 867, 'version': 868, '1963': 869, 'x': 870, '1953': 871, '104': 872, '123': 873, 'box': 874, 'playing': 875, 'collingwood': 876, 'street': 877, '1960': 878, 'literacy': 879, 'wheel': 880, 'arrangement': 881, 'cd': 882, 'defensive': 883, '82': 884, 'zone': 885, 'completed': 886, 'explorer': 887, 'gross': 888, 'alianza': 889, 'fight': 890, 'rebuilt': 891, 'ihsaa': 892, 'italy': 893, 'raiders': 894, 'scores': 895, 'runners': 896, 'reason': 897, 'section': 898, 'phil': 899, 'albums': 900, '1964': 901, 'base': 902, 'davis': 903, 'rob': 904, 'performed': 905, 'voted': 906, 'arkansas': 907, 'political': 908, 'jeff': 909, 'edmonton': 910, '118': 911, 'kerry': 912, 'string': 913, 'black': 914, 'countries': 915, 'ohio': 916, 'man': 917, 'actress': 918, 'dollars': 919, 'james': 920, 'choice': 921, 'z': 922, 'kingdom': 923, 'profits': 924, 'scott': 925, 'accident': 926, 'bye': 927, 'opening': 928, 'ii': 929, 'torque': 930, 'fc': 931, 'serial': 932, 'mccain': 933, 'nfl': 934, 'form': 935, 'withdrawal': 936, 'administrative': 937, 'africa': 938, 'wrestler': 939, 'horse': 940, '6–3': 941, '6–2': 942, 'boston': 943, 'central': 944, 'institution': 945, 'sd': 946, 'buffalo': 947, 'renewable': 948, 'latin': 949, 'love': 950, 'ed': 951, 'indian': 952, '3–6': 953, 'saint': 954, 'numbered': 955, 'house': 956, 'indians': 957, 'robert': 958, '112': 959, '126': 960, 'sweden': 961, 'make': 962, 'articles': 963, 'hcards': 964, 'ride': 965, 'condition': 966, 'partial': 967, 'v': 968, 'mean': 969, 'ended': 970, 'save': 971, 'human': 972, 'oberliga': 973, 'manufactured': 974, 'authority': 975, 'panel': 976, 'free': 977, 'credentials': 978, 'qf': 979, 'platform': 980, 'tonnage': 981, 't5': 982, 'ferrari': 983, 'catalogue': 984, 'internet': 985, 'guard': 986, 'positions': 987, 'old': 988, '3–2': 989, 'cleveland': 990, 'provide': 991, 'antonio': 992, 'great': 993, 'california': 994, 'direction': 995, '272': 996, 'target': 997, '1000': 998, \"who's\": 999, 'japan': 1000, 'toll': 1001, 'plaza': 1002, 'songs': 1003, 'work': 1004, '6th': 1005, 'try': 1006, 'hold': 1007, 'family': 1008, 'info': 1009, 'denmark': 1010, 'ending': 1011, 'reached': 1012, 'fri': 1013, '1985': 1014, '128': 1015, 'masters': 1016, 'style': 1017, 'days': 1018, 'recorded': 1019, 'challenge': 1020, 'nations': 1021, 'subject': 1022, 'qualifying': 1023, 'max': 1024, 'maryland': 1025, '109': 1026, '5s': 1027, 'billions': 1028, 'sales': 1029, 'isbn': 1030, 'meaning': 1031, 'opened': 1032, 'clay': 1033, 'll': 1034, 'radio': 1035, 'calgary': 1036, 'centre': 1037, 'your': 1038, 'driving': 1039, 'picks': 1040, 'fuel': 1041, 'jockey': 1042, 'totals': 1043, '153': 1044, '114': 1045, 'led': 1046, 'dr': 1047, 'large': 1048, 'europe': 1049, 'golden': 1050, 'minutes': 1051, 'smith': 1052, 'williams': 1053, 'bush': 1054, 'russia': 1055, 'liverpool': 1056, '1957': 1057, 'three': 1058, 'british': 1059, 'featured': 1060, 'australian': 1061, 'lp': 1062, 'special': 1063, 'character': 1064, 'other': 1065, 'motorsport': 1066, 'joined': 1067, 'train': 1068, 'single': 1069, 'montreal': 1070, 'saw': 1071, 'france': 1072, 'head': 1073, 'earnings': 1074, 'color': 1075, 'townland': 1076, 'union': 1077, '108': 1078, 'pittsburgh': 1079, 'chinese': 1080, 'china': 1081, 'index': 1082, 'involves': 1083, 'surname': 1084, 't': 1085, 'tiger': 1086, 'ft': 1087, 'pilot': 1088, 'labour': 1089, 'sa': 1090, '25s': 1091, 'rights': 1092, 'conservative': 1093, 'content': 1094, 'iii': 1095, 'react': 1096, 'worldwide': 1097, 'sr': 1098, 'nomination': 1099, 'placed': 1100, 'president': 1101, 'vancouver': 1102, 'pronunciation': 1103, 'checked': 1104, 'prominence': 1105, 'elimination': 1106, 'opera': 1107, 'firefox': 1108, 'qual': 1109, 'termination': 1110, 'trees': 1111, 'types': 1112, 'reports': 1113, 'dated': 1114, '1973': 1115, 'died': 1116, 'remarks': 1117, 'unit': 1118, 'cardinals': 1119, 'floor': 1120, 'ireland': 1121, 'vs': 1122, 'forward': 1123, 'rockets': 1124, 'southern': 1125, 'dakota': 1126, 'vehicles': 1127, 'heavy': 1128, '1969': 1129, 'anna': 1130, 'strongs': 1131, 'figure': 1132, 'short': 1133, 'stem': 1134, 'stock': 1135, 'found': 1136, 'korea': 1137, 'nick': 1138, 'jack': 1139, '1972': 1140, '1939': 1141, 'any': 1142, 'alabama': 1143, 'locations': 1144, 'billy': 1145, 'channels': 1146, 'right': 1147, 'tackle': 1148, 'hawks': 1149, 'thursday': 1150, 'drew': 1151, 'national': 1152, '1987': 1153, '5th': 1154, 'supporting': 1155, 'centerfold': 1156, 'jean': 1157, 'wickets': 1158, 'overs': 1159, 'hanja': 1160, 'pennsylvania': 1161, 'scotland': 1162, '8th': 1163, 'earned': 1164, 'pos': 1165, 'verb': 1166, 'mm': 1167, '1966': 1168, 'my': 1169, 'system': 1170, 'line': 1171, '102': 1172, '107': 1173, 'table': 1174, '175': 1175, 'legs': 1176, '11th': 1177, 'while': 1178, 'each': 1179, 'honda': 1180, 'res': 1181, 'lions': 1182, 'obama': 1183, 'poor': 1184, 'writers': 1185, 'calendar': 1186, 'valley': 1187, 'sydney': 1188, '1967': 1189, 'jan': 1190, '1982': 1191, '17th': 1192, '212': 1193, 'coast': 1194, 'poverty': 1195, '208': 1196, 'broadcast': 1197, 'bbc': 1198, 'concacaf': 1199, 't9': 1200, 'bruce': 1201, 'joe': 1202, 'corresponds': 1203, 'public': 1204, 'manchester': 1205, 'injury': 1206, 'tour': 1207, 'coliseum': 1208, 'kilda': 1209, 'olympics': 1210, 'buttonholer': 1211, 'giants': 1212, '117': 1213, 'real': 1214, 'well': 1215, 'maserati': 1216, 'test': 1217, 'v8': 1218, 'princes': 1219, 'pasadena': 1220, 'inhabitants': 1221, 'machine': 1222, 'pass': 1223, 'wide': 1224, '10s': 1225, 'launched': 1226, '1975': 1227, 'rfc': 1228, 'bleeding': 1229, 'unaffected': 1230, '140': 1231, 'yamaha': 1232, 'netflix': 1233, 'classic': 1234, 'greg': 1235, 'services': 1236, 'protein': 1237, 'graham': 1238, 'resulted': 1239, 'payload': 1240, 'death': 1241, 'fcc': 1242, '0–1': 1243, 'composition': 1244, 'elizabeth': 1245, 'asian': 1246, 'option': 1247, 'appointed': 1248, 'dinosaur': 1249, 'fifa': 1250, '290': 1251, 'span': 1252, '101': 1253, 'tier': 1254, 'full': 1255, 'kilometers': 1256, 'oakland': 1257, 'odds': 1258, '1956': 1259, 't6': 1260, 'trial': 1261, 'tyre': 1262, 'know': 1263, 'pitch': 1264, 'mass': 1265, 'carries': 1266, 'roc': 1267, 'compétition': 1268, 'schools': 1269, 'given': 1270, 'cities': 1271, 'since': 1272, 'qualify': 1273, 'porsche': 1274, 'phoenix': 1275, '125': 1276, 'give': 1277, 'canadian': 1278, '162': 1279, 'leagues': 1280, 'major': 1281, 'visitors': 1282, 'roy': 1283, 'l2': 1284, 'white': 1285, 'cf': 1286, 'figures': 1287, 'phase': 1288, 'running': 1289, 'ran': 1290, 'featuring': 1291, 'column': 1292, 'minnesota': 1293, 'pf': 1294, 'against\\xa0being': 1295, 'gained': 1296, '122': 1297, '115': 1298, 'famous': 1299, 'standard': 1300, 'broncos': 1301, 'com': 1302, 'mslm': 1303, 'sail': 1304, 'martial': 1305, '300': 1306, '267': 1307, 'martin': 1308, 'td': 1309, 'howard': 1310, 'cover': 1311, '1955': 1312, 'di': 1313, 'angelo': 1314, 'musical': 1315, 'distance': 1316, 'port': 1317, 'adelaide': 1318, 'kevin': 1319, 'blue': 1320, 'administered': 1321, 'origin': 1322, 'industry': 1323, '204': 1324, 'but': 1325, 'book': 1326, 'throw': 1327, 'competed': 1328, 'oregon': 1329, 'net': 1330, 'dolphins': 1331, 'volume': 1332, 'tds': 1333, 'news': 1334, 'miles': 1335, 'luis': 1336, 'falls': 1337, 'id': 1338, 'parallel': 1339, 'sam': 1340, 'dances': 1341, 're': 1342, 'hp': 1343, 'timeslot': 1344, 'süd': 1345, 'shareholder': 1346, 'brown': 1347, 'basketball': 1348, 'prince': 1349, 'formula': 1350, 'premier': 1351, 'headquarter': 1352, 'board': 1353, 'according': 1354, 'chapter': 1355, 'india': 1356, 'french': 1357, 'mayor': 1358, '131': 1359, 'wells': 1360, 'anderson': 1361, 'spectators': 1362, 'arizona': 1363, 'creek': 1364, 'been': 1365, 'tampa': 1366, 'fl': 1367, 'ny': 1368, 'energy': 1369, 'manner': 1370, 'departure': 1371, 'combined': 1372, 'paris': 1373, 'core': 1374, 'youth': 1375, 'mountains': 1376, 'ppp': 1377, 'bay': 1378, 'reg': 1379, 'contestants': 1380, 'branding': 1381, '133': 1382, 'life': 1383, 'boat': 1384, 'settlement': 1385, 'cyrillic': 1386, 'callsign': 1387, '2–6': 1388, 'themes': 1389, 'cm': 1390, 'fast': 1391, 'unknown': 1392, 'virginia': 1393, 'canadiens': 1394, 'behind': 1395, 'itv1': 1396, 'ken': 1397, 'orlando': 1398, 'move': 1399, 'ricardo': 1400, '275': 1401, 'singer': 1402, 'kit': 1403, 'alex': 1404, 'go': 1405, 'colin': 1406, 'publication': 1407, 'ten': 1408, 'flag': 1409, 'acres': 1410, 'greatest': 1411, '142': 1412, 'lukoil': 1413, 'prodroduction': 1414, 'tonnes': 1415, 'trainer': 1416, 'f2': 1417, '1954': 1418, 'olympic': 1419, 'block': 1420, 'vfl': 1421, '1971': 1422, 'punt': 1423, 'crescenta': 1424, 'montrose': 1425, 'tujunga': 1426, 'conversions': 1427, 'present': 1428, '1946': 1429, 'below': 1430, '00pm': 1431, '4–1': 1432, 'metres': 1433, 'moscow': 1434, 'receiver': 1435, 'thromboplastin': 1436, 'publisher': 1437, 'beijing': 1438, 'published': 1439, 'freq': 1440, 'half': 1441, '1977': 1442, 'development': 1443, 'halfback': 1444, 'summer': 1445, 'equity': 1446, '135': 1447, 'ian': 1448, 'lb': 1449, '1965': 1450, 'translator': 1451, 'pl': 1452, 'pages': 1453, '1970': 1454, 'translation': 1455, 'spain': 1456, '1890': 1457, 'britain': 1458, 'hdtv': 1459, 'datacenter': 1460, 'chiefs': 1461, 'back': 1462, 'appearance': 1463, 'streak': 1464, 'around': 1465, 'agg': 1466, 'derby': 1467, 'magazine': 1468, '282': 1469, 'eng': 1470, 'fleet': 1471, 'hungary': 1472, 'off': 1473, '1959': 1474, 'raymond': 1475, '211': 1476, 'meters': 1477, 'effic': 1478, 'congregations': 1479, 'rochester': 1480, '145': 1481, 'arden': 1482, 'sandy': 1483, 'ngc': 1484, 'clean': 1485, 'jerk': 1486, \"melbourne's\": 1487, 'lose': 1488, \"king's\": 1489, '2q': 1490, 'pld': 1491, 'commander': 1492, 'battle': 1493, 'campus': 1494, 'batista': 1495, 'rowers': 1496, 'safari': 1497, 'browsers': 1498, '15122': 1499, 'johnson': 1500, 'jacques': 1501, 'dutch': 1502, 'replacement': 1503, 'atlantic': 1504, 'indianapolis': 1505, '1951': 1506, 'christian': 1507, 'judge': 1508, 'joseph': 1509, 'junction': 1510, 'cbs': 1511, 'find': 1512, 'morris': 1513, 'force': 1514, 'uk': 1515, 'the\\xa0permanence': 1516, '624': 1517, 'don': 1518, 'peruvian': 1519, 'members': 1520, 'features': 1521, 'somerset': 1522, 'light': 1523, 'axles': 1524, 'spelling': 1525, 'jury': 1526, 'perfect': 1527, 'jay': 1528, 'districts': 1529, 'incumbents': 1530, 'hall': 1531, 'mississippi': 1532, 'arthur': 1533, 'brooks': 1534, 'miller': 1535, 'harry': 1536, 'launch': 1537, 'railway': 1538, 'terry': 1539, 'someone': 1540, 'pa': 1541, 'ray': 1542, '130': 1543, 'mon': 1544, \"18'\": 1545, 'academy': 1546, 'exited': 1547, 'teleplay': 1548, 'denver': 1549, 'powershell': 1550, '103': 1551, 'columbia': 1552, 'term': 1553, 'analysts': 1554, 'rome': 1555, 'madrid': 1556, 'scientific': 1557, 'past': 1558, 'sun': 1559, 'champion': 1560, 'int': 1561, 'dwight': 1562, 'active': 1563, 'bowled': 1564, 'singh': 1565, 'raced': 1566, 'lloyd': 1567, 'cash': 1568, 'wearing': 1569, 'kelly': 1570, 'hangul': 1571, 'will': 1572, 'both': 1573, 'speedway': 1574, 'ali': 1575, 'grounds': 1576, 'equipment': 1577, 'beatty': 1578, 'democrat': 1579, '155': 1580, '172': 1581, 'assist': 1582, 'equation': 1583, 'darren': 1584, 'tracy': 1585, 'averages': 1586, '304': 1587, 'places': 1588, 'lengths': 1589, 'complete': 1590, 'occurred': 1591, 'based': 1592, 'stations': 1593, 'seen': 1594, 'rock': 1595, 'warren': 1596, 'japanese': 1597, 'produced': 1598, 'bars': 1599, 'horizontal': 1600, 'reserve': 1601, \"it's\": 1602, 'same': 1603, 'offensive': 1604, 'popular': 1605, 'only': 1606, 'longest': 1607, 'ncaa': 1608, 'brian': 1609, 'defending': 1610, 'motorcycle': 1611, 'pinyin': 1612, 'rl': 1613, 'wd': 1614, 'highway': 1615, 'owner': 1616, 'voters': 1617, 'martina': 1618, 'wimbledon': 1619, 'van': 1620, 'directors': 1621, 'rcm': 1622, 'regional': 1623, 'craig': 1624, 'steelers': 1625, 'drove': 1626, 'hunter': 1627, 'serie': 1628, 'biggest': 1629, 'audition': 1630, 'kr': 1631, 'occured': 1632, 'russell': 1633, 'toyota': 1634, '213': 1635, 'brand': 1636, 'memory': 1637, 'way': 1638, 'rovers': 1639, 'vacancy': 1640, 'pre': 1641, 'hale': 1642, 'irwin': 1643, 'fourth': 1644, '1943': 1645, 'weekly': 1646, 'athens': 1647, 'quarter': 1648, 'nm': 1649, 'ryan': 1650, 'emissions': 1651, 'bills': 1652, 'usisl': 1653, 'gw×h': 1654, 'without': 1655, 'hydrogen': 1656, 'electricity': 1657, 'direct': 1658, 'taylor': 1659, 'institutions': 1660, 'private': 1661, 'enrolled': 1662, 'men': 1663, 'represents': 1664, 'alexander': 1665, 'heir': 1666, 'simon': 1667, 'callanetics': 1668, 'ranged': 1669, 'josé': 1670, '110': 1671, 'ward': 1672, 'restricted': 1673, 'veteran': 1674, 'then': 1675, '278': 1676, 'selection': 1677, 'devils': 1678, 'storage': 1679, 'seahawks': 1680, 'keith': 1681, 'via': 1682, 'usd': 1683, 'dave': 1684, 'campbell': 1685, 'forest': 1686, 'website': 1687, 'down': 1688, 'chosen': 1689, 'key': 1690, 'wednesday': 1691, 'appearances': 1692, 'debut': 1693, 'reported': 1694, 'jimmy': 1695, 'colorado': 1696, '137': 1697, 'barrel': 1698, 'leeds': 1699, 'ensemble': 1700, 'senator': 1701, 'netherlands': 1702, '1958': 1703, 'ford': 1704, 'windy': 1705, 'started': 1706, 'cosworth': 1707, 'women': 1708, 'kong': 1709, 'attending': 1710, 'carlton': 1711, 'lner': 1712, 'ljubljana': 1713, 'hanzi': 1714, 'duncan': 1715, 'organisation': 1716, 'duration': 1717, 'platelet': 1718, 'prothrombin': 1719, 'tech': 1720, '400': 1721, '210': 1722, 'braves': 1723, 'virtual': 1724, 'cargo': 1725, '183': 1726, 'switzerland': 1727, 'shirt': 1728, 'portland': 1729, 'wysiwyg': 1730, 'editor': 1731, 'image': 1732, 'attachment': 1733, 'failure': 1734, 'goes': 1735, 'airline': 1736, 'pacific': 1737, 'uni': 1738, 'parent': 1739, 'austria': 1740, 'baden': 1741, 'sea': 1742, 'blaze': 1743, 'mexico': 1744, 'alfyorov': 1745, 'outside': 1746, 'zones': 1747, 'montana': 1748, 'operator': 1749, 'utah': 1750, 'jazz': 1751, 'bulls': 1752, 'bowl': 1753, 'industrial': 1754, 'agricultural': 1755, '1–0': 1756, 'deputy': 1757, 'liberties': 1758, 'showed': 1759, 'presented': 1760, 'liberal': 1761, 'humber': 1762, 'package': 1763, 'author': 1764, 'q1': 1765, '2–0': 1766, 'freshman': 1767, 'sf': 1768, '3r': 1769, 'stephen': 1770, 'cache': 1771, 'multi': 1772, 'suntory': 1773, 'sungoliath': 1774, 'details': 1775, '106': 1776, 'golfer': 1777, '138': 1778, 'pop': 1779, 'question': 1780, 'suffix': 1781, 'sheffield': 1782, 'ridge': 1783, '285': 1784, '209': 1785, 'squared': 1786, 'pixels': 1787, 'houston': 1788, 'sambalpuri': 1789, 'bunky': 1790, 'post': 1791, '1962': 1792, \"player's\": 1793, 'newspaper': 1794, 'ofsted': 1795, 'nba': 1796, 'lakers': 1797, '119': 1798, 'nadal': 1799, 'cincinnati': 1800, 'bengals': 1801, 'bridge': 1802, '1915': 1803, 't4': 1804, 'depart': 1805, 'gauche': 1806, 'preserved': 1807, '141': 1808, '110h': 1809, 'tennessee': 1810, 'stories': 1811, 'rankings': 1812, 'cooper': 1813, 'arch': 1814, 'bearers': 1815, '144': 1816, '315': 1817, 'masculine': 1818, 'locomotive': 1819, 'tyres': 1820, 'seniors': 1821, 'fourths': 1822, \"14's\": 1823, 'kiewa': 1824, 'snatch': 1825, 'usa': 1826, 'offs': 1827, 'disaster': 1828, 'mintage': 1829, 'dfl': 1830, 'nanometers': 1831, 'example': 1832, 'tin': 1833, 'francisco': 1834, '49ers': 1835, 'inauguration': 1836, 'ad': 1837, 'aggregate': 1838, '225': 1839, '£': 1840, 'coin': 1841, 'her': 1842, 'railroad': 1843, 'col': 1844, 'aperture': 1845, 'hare': 1846, 'checkout': 1847, 'dist': 1848, 'dish': 1849, 'festival': 1850, 'southbridge': 1851, 'amd': 1852, 'presentation': 1853, '5432': 1854, 'cc': 1855, 'stop': 1856, 'minister': 1857, 'languages': 1858, 'spoken': 1859, 'require': 1860, 'ames': 1861, 'raceway': 1862, 'ethiopia': 1863, 'burundi': 1864, 'villages': 1865, 'slovenes': 1866, 'slovenian': 1867, 'sele': 1868, \"don't\": 1869, 'cfl': 1870, 'nov': 1871, 'pat': 1872, 'rick': 1873, 'knife': 1874, 'the\\xa0first': 1875, 'schumacher': 1876, 'coulthard': 1877, 'mclaren': 1878, 'mercedes': 1879, 'italian': 1880, 'chester': 1881, 'areas': 1882, 'none': 1883, 'exercise': 1884, 'mickelson': 1885, 'tied': 1886, 'score\\xa0is': 1887, 'karen': 1888, 'felix': 1889, 'species': 1890, 'minimum\\xa0species': 1891, 'sent': 1892, 'philips': 1893, '335': 1894, '227': 1895, 'charlotte': 1896, 'bristol': 1897, 'glos': 1898, 'wilts': 1899, 'elena': 1900, 'bela': 1901, 'f3': 1902, 'ss': 1903, '262': 1904, 'transliteration': 1905, 'ds': 1906, '1947': 1907, 'taken': 1908, '735': 1909, 'models': 1910, 'hand': 1911, 'guards': 1912, 'mosaic': 1913, 'deborah': 1914, 'the\\xa0district': 1915, '1944': 1916, 'alvin': 1917, 'voting': 1918, 'renomination': 1919, 'claude': 1920, 'evans': 1921, 'stakes': 1922, 'decimal': 1923, 'locale': 1924, '283': 1925, 'eu': 1926, \"17'\": 1927, \"19'\": 1928, 'unix': 1929, 'shell': 1930, 'cmdlet': 1931, 'corresponding': 1932, 'descriptions': 1933, 'fayette': 1934, 'iceland': 1935, 'cardinal': 1936, 'corrected': 1937, 'mason': 1938, 'bill': 1939, 'eagles': 1940, 'linux': 1941, 'delay': 1942, 'purse': 1943, 'clark': 1944, 'sacks': 1945, 'sexual': 1946, 'abuse': 1947, 'conflict': 1948, 'war': 1949, 'questions': 1950, 'pictorial': 1951, \"issue's\": 1952, 'bell': 1953, 'girls': 1954, 'moss': 1955, 'jackson': 1956, 'panelists': 1957, 'former': 1958, 'flew': 1959, 'along': 1960, '640': 1961, 'chicagoland': 1962, 'ratio': 1963, 'baylor': 1964, 'lincoln': 1965, 'five': 1966, 'saturday': 1967, 'edwards': 1968, 'justin': 1969, 'patera': 1970, '170': 1971, 'assets': 1972, 'andrea': 1973, 'correspond': 1974, 'equal': 1975, 'memphis': 1976, 'barnes': 1977, 'lancaster': 1978, 'es': 1979, 'resale': 1980, 'robin': 1981, 'zolder': 1982, 'lines': 1983, 'destroyed': 1984, 'aircraft': 1985, 'outcomes': 1986, 'films': 1987, 'journey': 1988, 'tina': 1989, 'wisconsin': 1990, 'farms': 1991, 'deficit': 1992, 'tuesday': 1993, 'land': 1994, 'clearwater': 1995, 'bar': 1996, 'luca': 1997, 'gnis': 1998, 'query': 1999, 'link': 2000, 'borough': 2001, 'bears': 2002, 'capitals': 2003, 'parliament': 2004, 'linebacker': 2005, 'bomb': 2006, 'performer': 2007, 'lyrics': 2008, 'leaders': 2009, '816': 2010, '250': 2011, 'categories': 2012, 'sold': 2013, 'et': 2014, 'once': 2015, '166': 2016, 'clarke': 2017, 'audience': 2018, 'students': 2019, 'emerson': 2020, 'fittipaldi': 2021, 'fk': 2022, 'above': 2023, 'double': 2024, 'placings': 2025, 'wildcats': 2026, 'naming': 2027, 'ivy': 2028, 'lafayette': 2029, 'edward': 2030, 'ch': 2031, 'traditional': 2032, 'summary': 2033, 'into': 2034, 'travis': 2035, 'expression': 2036, 'r1b1c': 2037, 'v88': 2038, 'installation': 2039, 'el': 2040, 'paso': 2041, 'delta': 2042, 'codes': 2043, 'donald': 2044, 'vacators': 2045, '13th': 2046, 'write': 2047, '1968': 2048, 'bromwich': 2049, '958': 2050, 'callback': 2051, 'tickets': 2052, 'resort': 2053, '198': 2054, 'jordan': 2055, 'steals': 2056, 'eddie': 2057, '6–7': 2058, 'garden': 2059, 'deron': 2060, \"jason's\": 2061, 'louisville': 2062, 'connecticut': 2063, 'devil': 2064, 'denis': 2065, 'incoming': 2066, 'hodgson': 2067, 'kenny': 2068, 'cary': 2069, 'springfield': 2070, 'patriots': 2071, '18–49': 2072, 'brisbane': 2073, 'cable': 2074, 'brazil': 2075, 'hansen': 2076, 'bus': 2077, 'width': 2078, 'hd': 2079, 'sprint': 2080, 'corageous': 2081, 'winnings': 2082, 'earn': 2083, '151': 2084, 'sang': 2085, 'rest': 2086, 'euroseries': 2087, 'ma': 2088, '134': 2089, 'correct': 2090, 'ethnic': 2091, 'majority': 2092, 'dominant': 2093, 'settlements': 2094, 'cast': 2095, 'tottenham': 2096, 'ontario': 2097, 'fernando': 2098, 'xxx': 2099, 'leave': 2100, 'kent': 2101, 'andy': 2102, 'letter': 2103, 'swedish': 2104, 'patient': 2105, 'nelson': 2106, 'barb': 2107, 'coaster': 2108, 'bullet': 2109, 'athletes': 2110, 'willis': 2111, 'alston': 2112, 'wilson': 2113, 'benjamin': 2114, 'samuel': 2115, 'winnipeg': 2116, 'watts': 2117, 'moore': 2118, 'eric': 2119, 'proto': 2120, 'semitic': 2121, 'heart': 2122, 'working': 2123, 'hk': 2124, 'salary': 2125, '396': 2126, 'pm': 2127, '185': 2128, 'si': 2129, 'nominee': 2130, 'panthers': 2131, 'ramsan': 2132, 'close': 2133, 'weapons': 2134, 'weapon': 2135, '120': 2136, 'rivers': 2137, 'entitled': 2138, 'artists': 2139, 'bira': 2140, 'u21': 2141, 'le': 2142, 'republic': 2143, 'going': 2144, 'stars': 2145, 'euro': 2146, 'appear': 2147, 'turnover': 2148, 'tracks': 2149, 'vocal': 2150, 'percussionist': 2151, 'arranger': 2152, 'girl': 2153, '159': 2154, 'flames': 2155, 'cornell': 2156, 'material': 2157, 'destination': 2158, 'tues': 2159, '124': 2160, 'commentator': 2161, 'pregame': 2162, '319': 2163, '243': 2164, '•': 2165, 'colors': 2166, '363': 2167, 'josef': 2168, 'newgarden': 2169, 'means': 2170, 'jamaica': 2171, 'row': 2172, 'clausura': 2173, 'hockey': 2174, '662': 2175, 'bike': 2176, 'occur': 2177, 'stroke': 2178, 'middlesbrough': 2179, '894': 2180, '50m': 2181, 'attempts': 2182, 'licence': 2183, 'older': 2184, '1950': 2185, 'brunswick': 2186, \"fitzroy's\": 2187, 'corio': 2188, 'those': 2189, 'tenure': 2190, '570': 2191, 'dfv': 2192, 'bennett': 2193, 'uses': 2194, '467': 2195, 'josh': 2196, 'oldest': 2197, 'flintridge': 2198, 'hong': 2199, 'watch': 2200, 'wild': 2201, 'bmw': 2202, 'chevrolet': 2203, 'killed': 2204, 'citizenship': 2205, '3–1': 2206, 'kem': 2207, '072': 2208, 'kings': 2209, 'shaun': 2210, 'rotax': 2211, 'bangkok': 2212, 'engstler': 2213, '2–1': 2214, 'wings': 2215, 'blues': 2216, '250cc': 2217, 'bugatti': 2218, 'audi': 2219, '7–6': 2220, '445': 2221, 'diego': 2222, 'prolonged': 2223, 'kawasaki': 2224, 'manuel': 2225, 'sánchez': 2226, 'results¹': 2227, 'ld': 2228, 'cap': 2229, 'user': 2230, 'selectable': 2231, 'unread': 2232, 'message': 2233, 'tracking': 2234, '2–4': 2235, 'hamilton': 2236, '317': 2237, 'munster': 2238, 'fly': 2239, 'failures': 2240, 'tigers': 2241, 'male': 2242, 'rams': 2243, '297': 2244, 'freeman': 2245, 'harris': 2246, \"group's\": 2247, 'activities': 2248, 'shareholding': 2249, 'agency': 2250, 'tanguay': 2251, '113': 2252, 'württemberg': 2253, 'islanders': 2254, 'purple': 2255, 'participants': 2256, 'quebec': 2257, 'mario': 2258, 'blagojevich': 2259, 'topinka': 2260, 'remainder': 2261, 'puerto': 2262, 'rico': 2263, 'project': 2264, '716': 2265, 'polling': 2266, 'malax': 2267, 'norway': 2268, 'pkns': 2269, 'municipal': 2270, 'orange': 2271, '3–3': 2272, 'commercial': 2273, 'taoiseach': 2274, 'king': 2275, '600': 2276, 'jun': 2277, 'sep': 2278, '215': 2279, 'stacy': 2280, 'hee': 2281, 'undecided': 2282, 'suffolk': 2283, 'opposed': 2284, 'said': 2285, 'reign': 2286, 'jul': 2287, 'mount': 2288, '1890s': 2289, 'cal': 2290, 'nicknamed': 2291, 'voltage': 2292, 'altadeña': 2293, 'centennial': 2294, 'del': 2295, 'bernhard': 2296, 'langer': 2297, '352': 2298, 'debt': 2299, 'formats': 2300, 'qualification': 2301, 'texans': 2302, 'nc': 2303, 'roger': 2304, '362': 2305, 'reynard': 2306, '167': 2307, 'novick': 2308, '148': 2309, 'freshwater': 2310, 'roberto': 2311, 'fixtures': 2312, 'commissioned': 2313, '5–7': 2314, 'spent': 2315, 'hot': 2316, 'socket': 2317, 'everton': 2318, 'kansas': 2319, 'kenneth': 2320, '425': 2321, '1979': 2322, 't2': 2323, 'prsl': 2324, 'developer': 2325, 'snead': 2326, 'nobilo': 2327, 'vikings': 2328, 'trail': 2329, 'blazers': 2330, 'allen': 2331, 'branches': 2332, '139': 2333, 'greece': 2334, 'memorial': 2335, \"jeremy's\": 2336, '184': 2337, 'arlen': 2338, 'specter': 2339, 'parker': 2340, 'olivier': 2341, 'tko': 2342, 'far': 2343, 'sample': 2344, 'selected': 2345, 'competitions': 2346, 'kosal': 2347, 'sitalsasthi': 2348, 'carnival': 2349, '298': 2350, 'expected': 2351, '398': 2352, 'department': 2353, 'age¹': 2354, 'performance': 2355, 'previously': 2356, 'c7': 2357, 't8': 2358, 'lewis': 2359, 'du': 2360, 'lesser': 2361, '1935': 2362, '286': 2363, 'murphy': 2364, '–2': 2365, 'sabina': 2366, 'math': 2367, 'paid': 2368, '268': 2369, '207': 2370, 'wanderers': 2371, 'aedt': 2372, 'atlanta': 2373, 'falcons': 2374, 'mitchell': 2375, 'elevated': 2376, '676': 2377, 'became': 2378, 'dauphine': 2379, 'trevino': 2380, 'floyd': 2381, 'sneed': 2382, 'lds': 2383, 'kardinia': 2384, 'zonta': 2385, '245': 2386, '1910': 2387, 'snatches': 2388, 'grant': 2389, 'northern': 2390, '1851': 2391, 'manama': 2392, 'bahrain': 2393, 'brabham': 2394, 'alfa': 2395, 'orton': 2396, 'grt': 2397, 'captured': 2398, 'cardwell': 2399, 'gender': 2400, 'trofeo': 2401, 'raised': 2402, 'theatre': 2403, 'hon': 2404, 'hometown': 2405, 'berlin': 2406, 'grad': 2407, 'plaid': 2408, 'cymru': 2409, 'prom': 2410, 'speech': 2411, 'receipts': 2412, 'mariners': 2413, 'bully': 2414, 'holly': 2415, 'absorbtion': 2416, 'emission': 2417, 'southwest': 2418, 'defeated': 2419, '5m': 2420, 'crude': 2421, 'natural': 2422, 'woods': 2423, 'examples': 2424, 'arsenal': 2425, 'pope': 2426, 'papal': 2427, 'hayter': 2428, 'engineering': 2429, 'slalom': 2430, 'manufacture': 2431, 'role': 2432, 'fairy': 2433, 'anaheim': 2434, 'elector': 2435, 'bishop': 2436, '143': 2437, 'disposition': 2438, '129': 2439, '160': 2440, '1h': 2441, 'wind': 2442, 'freleng': 2443, 'mill': 2444, '360': 2445, 'comp': 2446, 'fianna': 2447, 'fail': 2448, 'dnf': 2449, 'pga': 2450, 'uip': 2451, 'fsb': 2452, 'formed': 2453, 'gordini': 2454, 'hits': 2455, 'xbox': 2456, 'happen': 2457, '3620': 2458, 'ambassador': 2459, 'mcauliffe': 2460, 'eddy': 2461, 'burrards': 2462, 'butler': 2463, 'wears': 2464, 'native': 2465, 'canberra': 2466, 'prevailing': 2467, 'poplar': 2468, 'acer': 2469, 'negundo': 2470, 'leninsky': 2471, 'beginning': 2472, 'leg\\xa0is': 2473, '4–7': 2474, 'bobby': 2475, 'america': 2476, 'rnd': 2477, 'equalling': 2478, 'johnny': 2479, 'growth': 2480, 'uganda': 2481, 'srednji': 2482, 'kot': 2483, 'northwestern': 2484, 'foreigners': 2485, '911': 2486, 'mar': 2487, 'of\\xa0final': 2488, 'epbeingode': 2489, 'epbeingode\\xa0being': 2490, 'rio': 2491, 'riddle': 2492, 'slot': 2493, 'belgian': 2494, 'junctions': 2495, 'bsi': 2496, '202': 2497, 'up\\xa0is': 2498, 'holes\\xa0is': 2499, 'shot': 2500, 'dimarco': 2501, '−19': 2502, 'damon': 2503, 'allied': 2504, 'targetted': 2505, 'ghent': 2506, 'exit': 2507, 'body\\xa0where\\xa0purity\\xa0is': 2508, 'world\\xa0': 2509, 'peru': 2510, 'arrived': 2511, 'hawaii': 2512, 'gordon': 2513, 'and\\xa0leading': 2514, 'scorer\\xa0is': 2515, 'nets': 2516, 'poryes': 2517, 'gloucestershire': 2518, 'gown\\xa0is': 2519, '988': 2520, 'the\\xa0evening': 2521, 'sq': 2522, 'r87': 2523, 'told': 2524, 'alt': 2525, 'ops': 2526, 'sp': 2527, 'lefebvre': 2528, 'willie': 2529, 'mcdonald': 2530, 'rickie': 2531, 'words': 2532, 'compounded': 2533, 'strong': 2534, 'jehojakin': 2535, 'hebrew': 2536, 'divisional': 2537, 'secretary': 2538, 'bailey': 2539, 'pam': 2540, 'persons': 2541, 'tally': 2542, 'reward': 2543, '430': 2544, 'rear': 2545, 'sight': 2546, 'cole': 2547, '5a': 2548, 'generation': 2549, 'remaining': 2550, 'submitted': 2551, 'dismissals': 2552, 'stumpings': 2553, 'innings': 2554, 'pryce': 2555, 'represent': 2556, 'jerry': 2557, 'costello': 2558, 'ruben': 2559, 'hinojosa': 2560, 'gianmarco': 2561, 'raimondo': 2562, 'larry': 2563, 'newt': 2564, 'gingrich': 2565, 'dock': 2566, 'crane': 2567, 'gregory': 2568, '1941': 2569, 'fuller': 2570, 'madison': 2571, 'burton': 2572, 'sweet': 2573, 'riverside': 2574, 'butte': 2575, 'available': 2576, 'ware': 2577, '19th': 2578, 'staples': 2579, '176': 2580, 'the\\xa0turing': 2581, 'the\\xa0computing': 2582, 'atanasoff–berry': 2583, 'computer': 2584, 'operational\\xa0being': 2585, '1945': 2586, 'purpose': 2587, 'security': 2588, 'bonus\\xa0being': 2589, 'for\\xa0being': 2590, '597': 2591, 'nme': 2592, 'citv': 2593, 'claudia': 2594, 'partners': 2595, 'maksim': 2596, 'whl': 2597, '890': 2598, 'page': 2599, 'select': 2600, 'cmd': 2601, 'exe': 2602, 'command': 2603, 'echo': 2604, 'alias': 2605, 'households': 2606, '1937': 2607, 'wing': 2608, 'burmese': 2609, 'planet': 2610, 'febrero': 2611, 'yachts': 2612, 'courtside': 2613, 'reporter': 2614, 'lindner': 2615, 'tennis': 2616, 'venues': 2617, 'fought': 2618, 'boxing': 2619, 'master': 2620, 'brazilian': 2621, 'band': 2622, 'gloss': 2623, 'participate': 2624, 'astrid': 2625, 'jehle': 2626, 'roland': 2627, 'hosts': 2628, '1922': 2629, 'input': 2630, '318': 2631, 'wood': 2632, 'jiyai': 2633, 'shin': 2634, '464': 2635, 'phillip': 2636, 'tackles': 2637, 'rec': 2638, 'gatling': 2639, 'done': 2640, 'answered': 2641, 'sky': 2642, 'towns': 2643, 'hollywood': 2644, 'beatles': 2645, 'safe': 2646, 'magic': 2647, 'coat': 2648, 'yates': 2649, 'osbourne': 2650, 'equivalent': 2651, '尙州': 2652, 'symbol': 2653, '1075km': 2654, 'through': 2655, 'sanctioned': 2656, 'programs': 2657, 'highland': 2658, 'vessel': 2659, '223': 2660, 'four': 2661, 'two': 2662, '1846': 2663, 'grizzles': 2664, 'hte': 2665, 'rasmussen': 2666, '1e': 2667, '9e': 2668, '321': 2669, '2e': 2670, 'hathaway': 2671, 'concaf': 2672, 'dead': 2673, \"norway's\": 2674, 'rebound': 2675, 'orleans': 2676, 'aaron': 2677, 'cars': 2678, 'fin': 2679, 'albert': 2680, '236': 2681, '848': 2682, 'body': 2683, 'providers': 2684, 'bandwith': 2685, '1024': 2686, 'download': 2687, 'provider': 2688, 'telecom': 2689, 'phrase': 2690, 'wording': 2691, 'endpoints': 2692, 'mos': 2693, 'survived': 2694, 'belgium': 2695, 'counts': 2696, 'shah': 2697, 'daijiro': 2698, 'hiura': 2699, 'midland': 2700, 'brownsburg': 2701, 'merrill': 2702, 'bowling': 2703, 'terre': 2704, 'haute': 2705, 'grosse': 2706, 'pointe': 2707, '194': 2708, 'xx': 2709, 'starting': 2710, 'asahi': 2711, 'township': 2712, '150': 2713, 'gymnast': 2714, 'löfkvist': 2715, 'young': 2716, 'gilbert': 2717, 'redskins': 2718, 'lina': 2719, 'contested': 2720, 'cause': 2721, 'bw': 2722, 'sw': 2723, 'interjection': 2724, 'zachary': 2725, 'sanders': 2726, 'gave': 2727, '12th': 2728, 'cook': 2729, 'pvi': 2730, 'thompson': 2731, '479': 2732, 'oslo': 2733, 'russ': 2734, 'couples': 2735, 'higgins': 2736, 'carr': 2737, 'currently': 2738, 'known': 2739, \"where's\": 2740, 'websites': 2741, 'characteristics': 2742, 'applications': 2743, 'conventional': 2744, 'regina': 2745, 'sv': 2746, 'südwest': 2747, 'lms': 2748, '377': 2749, 'deep': 2750, 'batman': 2751, 'des': 2752, 'compete': 2753, 'epa': 2754, 'economy': 2755, 'electric': 2756, 'garrett': 2757, 'turnout': 2758, 'percentages': 2759, 'snooker': 2760, 'az': 2761, 'fluent': 2762, 'comprehension': 2763, 'aphasia': 2764, 'blank': 2765, 'brad': 2766, '289': 2767, '820': 2768, 'donnie': 2769, 'premiered': 2770, 'month': 2771, 'julian': 2772, 'min': 2773, 'dennis': 2774, 'rr2': 2775, 'r1b1a2': 2776, 'm269': 2777, 'graduation': 2778, 'headquarters': 2779, 'jr': 2780, 'successors': 2781, 'siak': 2782, 'database': 2783, '672': 2784, 'regency': 2785, 'pohang': 2786, 'oliver': 2787, 'mary': 2788, 'grade': 2789, 'versus': 2790, 'friday': 2791, 'orchestra': 2792, 'recording': 2793, '1934': 2794, 'panama': 2795, 'pan': 2796, 'lachapelle': 2797, 'filled': 2798, 'served': 2799, 'until': 2800, 'delegate': 2801, 'established': 2802, '1798': 2803, '1808': 2804, 'vacant': 2805, '1826': 2806, '1837': 2807, 'jonathan': 2808, 'timothy': 2809, 'rai': 2810, 'driven': 2811, 'cale': 2812, 'yarborough': 2813, 'mph': 2814, 'yellow': 2815, 'cards': 2816, 'francesco': 2817, 'kris': 2818, 'missouri': 2819, 'unemployment': 2820, '326': 2821, 'viewed': 2822, 'lopez': 2823, 'narayanan': 2824, 'guillermo': 2825, 'vilas': 2826, '6–1': 2827, 'mcenroe': 2828, 'carl': 2829, 'landry': 2830, 'shane': 2831, 'mavericks': 2832, 'durant': 2833, '095': 2834, 'carlos': 2835, \"sean's\": 2836, 'jeremy': 2837, '713096': 2838, '713119': 2839, '812': 2840, '161': 2841, 'innes': 2842, 'bodine': 2843, 'jgp': 2844, 'stacks': 2845, 'mw': 2846, 'hoosier': 2847, 'frequencies': 2848, 'pentium': 2849, '462': 2850, 'blackburn': 2851, 'pars': 2852, 'whom': 2853, 'fraser': 2854, 'difficulty': 2855, 'instances': 2856, 'unlock': 2857, 'setting': 2858, 'fab': 2859, 'texture': 2860, 'smoky': 2861, 'superintendent': 2862, 'middle': 2863, 'alan': 2864, 'gorham': 2865, 'middlesex': 2866, 'principals': 2867, 'maarten': 2868, 'tjallingii': 2869, 'brett': 2870, 'rogers': 2871, '741': 2872, 'ton': 2873, 'co2': 2874, 'thousands': 2875, 'metric': 2876, 'tons': 2877, 'packers': 2878, 'stewart': 2879, 'buena': 2880, 'vista': 2881, 'koichi': 2882, 'sakaguchi': 2883, 'karina': 2884, 'coverage': 2885, 'delaware': 2886, 'wha': 2887, 'outputs': 2888, '2x': 2889, 'operated': 2890, 'starred': 2891, 'gonna': 2892, 'leslie': 2893, 'плавна': 2894, 'rabe': 2895, 'religion': 2896, 'croatian': 2897, 'vision': 2898, 'lifts': 2899, 'ski': 2900, 'kilograms': 2901, 'cardiff': 2902, 'castle': 2903, 'kerr': 2904, 'ramtha': 2905, 'faisaly': 2906, 'wehdat': 2907, 'calvin': 2908, 'created': 2909, 'fall': 2910, 'kilometer': 2911, '6–0': 2912, 'joan': 2913, \"auditioner's\": 2914, 'maroon': 2915, 'operational': 2916, 'considered': 2917, 'turbines': 2918, 'cannot': 2919, 'handle': 2920, 'empty': 2921, 'timestamp': 2922, 'argument': 2923, 'son': 2924, 'ceased': 2925, 'portrayer': 2926, 'identified': 2927, 'naomi': 2928, 'bo': 2929, '999': 2930, 'danish': 2931, 'parks': 2932, 'mt': 2933, '163': 2934, 'boardwalk': 2935, 'vance': 2936, '15th': 2937, 'matthew': 2938, 'anthony': 2939, 'finale': 2940, 'randy': 2941, '700': 2942, '432': 2943, 'nina': 2944, 'geez': 2945, 'sheri': 2946, 'elwood': 2947, 'fo': 2948, 'alfredo': 2949, 'césar': 2950, 'ab': 2951, 'ripper': 2952, 'cardio': 2953, 'water': 2954, 'alberta': 2955, 'andre': 2956, 'stone': 2957, 'armor': 2958, 'egg': 2959, 'square': 2960, 'juan': 2961, 'so': 2962, 'milwaukee': 2963, 'webb': 2964, 'wilkins': 2965, 'friend': 2966, 'moran': 2967, 'lin': 2968, 'ecurie': 2969, 'marsden': 2970, 'owen': 2971, 'whiting': 2972, 'doncaster': 2973, 'norwich': 2974, 'coventry': 2975, 'czech': 2976, 'finland': 2977, 'nationalities': 2978, 'evgeny': 2979, 'profit': 2980, 'tax': 2981, 'plastic': 2982, 'shank': 2983, 'described': 2984, 'arranged': 2985, 'lyle': 2986, 'dome': 2987, '312': 2988, 'sheridan': 2989, 'noida': 2990, 'riders': 2991, 'jon': 2992, 'va': 2993, 'wake': 2994, 'temple': 2995, 'tolono': 2996, 'http': 2997, 'see': 2998, 'kevan': 2999, 'digit': 3000, 'meanings': 3001, 'transliterates': 3002, 'turkey': 3003, 'monday': 3004, 'barkley': 3005, 'ballynoe': 3006, 'kazakhstan': 3007, 'belarus': 3008, 'bids': 3009, 'versions': 3010, '545': 3011, 'zhuzhou': 3012, 'recipient': 3013, 'ado': 3014, 'about': 3015, 'nothing': 3016, 'scoring': 3017, 'pau': 3018, 'belongs': 3019, '1952': 3020, 'shigella': 3021, 'advertisement': 3022, 'applicant': 3023, 'muxco': 3024, 'glenferrie': 3025, 'split': 3026, 'assumed': 3027, '2014': 3028, 'nh': 3029, '1942': 3030, 'candlelight': 3031, '903': 3032, 'uninterrupted': 3033, '2040': 3034, '589': 3035, 'adult': 3036, 'glendale': 3037, 'drops': 3038, 'pens': 3039, 'rim': 3040, 'neck': 3041, '513': 3042, 'heights': 3043, 'front': 3044, 'crowds': 3045, 'advantage': 3046, '111': 3047, 'movement': 3048, '1500': 3049, 'browns': 3050, 'soccer': 3051, '1892': 3052, 'injured': 3053, 'rangers': 3054, 'ivan': 3055, 'withdrawn': 3056, '071': 3057, 'seating': 3058, 'monaco': 3059, '1904': 3060, 'mckinlay': 3061, 'li': 3062, 'ao': 3063, 'yoong': 3064, 'lasted': 3065, 'oschersleben': 3066, 'timo': 3067, 'scheider': 3068, '371': 3069, 'chargers': 3070, 'mtl': 3071, 'maroons': 3072, 'lindsay': 3073, 'factor': 3074, 'deficiency': 3075, 'amyloid': 3076, 'philippines': 3077, 'fans': 3078, 'substitutes': 3079, 'diaz': 3080, 'aerospace': 3081, 'belgrade': 3082, 'postponed': 3083, 'rain': 3084, 'rescheduled': 3085, 'digital': 3086, 'ration': 3087, '332': 3088, '576': 3089, '096': 3090, '097': 3091, 'included': 3092, 'oct': 3093, 'includes': 3094, 'session': 3095, 'plugin': 3096, '1–5': 3097, 'te': 3098, 'lock': 3099, 'mick': 3100, 'amy': 3101, 'catering': 3102, \"company's\": 3103, 'principle': 3104, 'incorporation': 3105, 'throws': 3106, 'fsn': 3107, 'stood': 3108, '049': 3109, 'aprilia': 3110, 'rs125r': 3111, 'bayern': 3112, 'spvgg': 3113, 'frankfurt': 3114, 'ekaterina': 3115, 'holland': 3116, 'accession': 3117, 'urchin': 3118, 'sequence': 3119, 'divergence': 3120, 'lineage': 3121, '9–4': 3122, '4–5': 3123, 'af2': 3124, 'rouge': 3125, 'kite': 3126, 'batter': 3127, 'wrestling': 3128, 'zogby': 3129, 'wsj': 3130, 'premiere': 3131, 'marty': 3132, '10r': 3133, 'ntfa': 3134, 'div': 3135, 'alaska': 3136, '030': 3137, 'cross': 3138, 'anglia': 3139, 'spring': 3140, 'w237br': 3141, 'winter': 3142, 'attendances': 3143, '837': 3144, '389': 3145, '178': 3146, '411': 3147, 'pc': 3148, 'firm': 3149, '45–21–4': 3150, '5–6': 3151, '2–3': 3152, 'almali': 3153, 'süskən': 3154, 'meşəbaş': 3155, 'qaxmuğal': 3156, 'displacement': 3157, 'valvetrain': 3158, 'engines': 3159, '5869': 3160, 'focus': 3161, '4–3': 3162, 'composer': 3163, '→': 3164, '£3': 3165, 'issaquah': 3166, 'chad': 3167, 'fox': 3168, 'les': 3169, 'nominations': 3170, '1–1': 3171, 'boys': 3172, 'janapada': 3173, 'punia': 3174, 'goalie': 3175, 'soward': 3176, 'korean': 3177, '²': 3178, 'usual': 3179, 'enter': 3180, 'plate': 3181, 'che': 3182, 'ju': 3183, '718': 3184, 'newton': 3185, '147': 3186, '555': 3187, 'now': 3188, '500cc': 3189, '232': 3190, 'increase': 3191, 'estimated': 3192, 'goldberg': 3193, 'murray': 3194, 'silbert': 3195, 'irish': 3196, '1992–93': 3197, 'unsure': 3198, '1–4': 3199, 'yoo': 3200, '1909': 3201, 'ballarat': 3202, 'estadio': 3203, 'alfonso': 3204, 'lastras': 3205, 'potosí': 3206, 'worth': 3207, 'collins': 3208, 'franklin': 3209, '006': 3210, 'acquisition': 3211, 'fullerton': 3212, '1889': 3213, 'saffir': 3214, 'simpson': 3215, 'space': 3216, 'nedohin': 3217, 'chatham': 3218, 'laid': 3219, '1887': 3220, 'control': 3221, 'aprende': 3222, 'pueblo': 3223, 'gray': 3224, 'clemson': 3225, 'fred': 3226, 'senior': 3227, '8574': 3228, '342': 3229, '381': 3230, \"2007's\": 3231, 'demons': 3232, 'novelty': 3233, '615': 3234, 'inflation': 3235, '256': 3236, 'chord': 3237, 'minor': 3238, 'seventh': 3239, 'fifth': 3240, '5–2': 3241, 'alamodome': 3242, 'motto': 3243, 'translates': 3244, 'dean': 3245, 'among': 3246, 'cavaliers': 3247, '310': 3248, '1936': 3249, 'quarterback': 3250, '195': 3251, 'begin': 3252, 'disney': 3253, '532': 3254, 'rr': 3255, 'romaja': 3256, 'nv': 3257, 'dominique': 3258, 'federer': 3259, '158': 3260, 'hr': 3261, 'itabuna': 3262, 'vitória': 3263, 'secs': 3264, 'qadsia': 3265, '375': 3266, 'birthplace': 3267, 'surveyusa': 3268, 'goberman': 3269, 'neville': 3270, 'terence': 3271, 'partizan': 3272, 'accolade': 3273, '337': 3274, '1363': 3275, 'warriors': 3276, '469': 3277, '192': 3278, 'birthday': 3279, 'hs': 3280, 'wiht': 3281, 'installed': 3282, 'dvd': 3283, 'finalists': 3284, 'arantxa': 3285, 'vicario': 3286, '7–5': 3287, 'itanium': 3288, 'enterprise': 3289, 'modules': 3290, 'teh': 3291, '5x': 3292, 'bit': 3293, 'fpu': 3294, 'hotspur': 3295, 'villa': 3296, 'reteconomy': 3297, 'athletic': 3298, '228': 3299, 'debuted': 3300, '121': 3301, 'playoff': 3302, 'carlisle': 3303, '043': 3304, 'buccaneers': 3305, 'releases': 3306, 'responsible': 3307, 'web': 3308, 'accelerator': 3309, 'client': 3310, '28765': 3311, '22392': 3312, '74321': 3313, '45851': 3314, 'palmer': 3315, 'birmingham': 3316, '296': 3317, 'rosburg': 3318, 't1': 3319, '405': 3320, '390': 3321, 'overalls': 3322, 'ron': 3323, 'robinson': 3324, 'map': 3325, '376': 3326, 'governorate': 3327, '073': 3328, '003': 3329, 'lima': 3330, 'tallest': 3331, 'dative': 3332, 'postposition': 3333, 'atp': 3334, '1x03': 3335, 'brooke': 3336, '531': 3337, '719': 3338, 'xavier': 3339, 'proletarij': 3340, 'toomey': 3341, 'peg': 3342, 'luksik': 3343, '––': 3344, 'delaître': 3345, 'zona': 3346, 'sur': 3347, 'decays': 3348, 'gp2': 3349, '292': 3350, 'pattern': 3351, '197': 3352, 'sergio': 3353, 'cannonvale': 3354, 'xhosa': 3355, '585': 3356, 'speaks': 3357, 'camera': 3358, '6726': 3359, '5040': 3360, '284': 3361, 'zito': 3362, 'khola': 3363, 'তুমি': 3364, 'pfeifer': 3365, '2009–10': 3366, 'hebert': 3367, 'huckabee': 3368, 'dec': 3369, 'returning': 3370, 'palace': 3371, 'burger': 3372, 'saree': 3373, '26th': 3374, 'community': 3375, '407': 3376, 'ur': 3377, 'wr': 3378, 'chandler': 3379, 'rose': 3380, 'ko': 3381, 'mitch': 3382, 'approach': 3383, 'riding': 3384, 'budget': 3385, 'representing': 3386, 'guy': 3387, 'lager': 3388, 'occupation²': 3389, 'lyrical': 3390, 'huntsville': 3391, '874': 3392, 'neil': 3393, 'billboard': 3394, 'independent': 3395, 'online': 3396, 'portal': 3397, 'sports': 3398, 'convention': 3399, 'raleigh': 3400, 'heaton': 3401, 'wheels': 3402, 'accounting': 3403, 'jose': 3404, 'nose': 3405, 'esc': 3406, 'holzkirchen': 3407, 'experience': 3408, 'tyler': 3409, 'myers': 3410, '800': 3411, 'ol': 3412, 'wealth': 3413, 'window': 3414, 'rashard': 3415, 'daniel': 3416, 'accord': 3417, 'mode': 3418, '338': 3419, 'canucks': 3420, 'vol': 3421, '6000000000000001': 3422, 'small': 3423, '875': 3424, '088': 3425, 'anders': 3426, \"forsbrand's\": 3427, 'sedgman': 3428, '1–6': 3429, 'w20': 3430, 'demint': 3431, '280': 3432, 'ขอโทษ': 3433, 'walking': 3434, '400m': 3435, '1571': 3436, 'jing': 3437, 'oklahoma': 3438, 't7': 3439, 'choreographer': 3440, 'bjørn': 3441, 'celtic': 3442, '1900': 3443, '238': 3444, 'chen': 3445, 'pete': 3446, 'jason': 3447, '136': 3448, 'southampton': 3449, '750': 3450, '053': 3451, 'liam': 3452, 'watson': 3453, 'auburn': 3454, 'argentina': 3455, 'againsts': 3456, '–9': 3457, 'etymology': 3458, 'r3': 3459, 'critics': 3460, 'assembly': 3461, 'ita': 3462, '696': 3463, 'littler': 3464, 'archer': 3465, 'jacobson': 3466, 'shuster': 3467, 'hubert': 3468, '291': 3469, 'wgnr': 3470, 'husband': 3471, 'queen': 3472, 'membership': 3473, 'roles': 3474, 'rugby': 3475, 'auckland': 3476, 'bryant': 3477, 'gasol': 3478, '199': 3479, 'mapp': 3480, '50km': 3481, 'liechtenstein': 3482, '12–10': 3483, 'shipwreck': 3484, 'leonty': 3485, 'ibayev': 3486, 'ö': 3487, 'siangar': 3488, 'neuter': 3489, '−16': 3490, 'brandt': 3491, 'ca': 3492, 'elkjs': 3493, 'attend': 3494, 'ottawa': 3495, 'snp': 3496, '132': 3497, 'fo110m': 3498, '051': 3499, 'mr': 3500, 'secr': 3501, '1880': 3502, 'dog': 3503, 'bruins': 3504, '1861': 3505, 'mitta': 3506, 'ascension': 3507, 'pegasus': 3508, 'norton': 3509, 'wa': 3510, 'bodyweight': 3511, 'derek': 3512, '–10': 3513, '270': 3514, 'happy': 3515, 'minardi': 3516, 'pedro': 3517, 'diniz': 3518, 'swing': 3519, 'edinburgh': 3520, 'leith': 3521, 'addis': 3522, 'ababa': 3523, 'sawyer': 3524, 'cerclis': 3525, 'partially': 3526, 'deleted': 3527, '6–5': 3528, '453': 3529, 'she': 3530, 'lakeside': 3531, 'construction': 3532, 'brother': 3533, '173': 3534, 'living': 3535, 'operation': 3536, 'sunk': 3537, 'titans': 3538, 'knight': 3539, 'lanier': 3540, 'weigh': 3541, 'god': 3542, 'knows': 3543, 'oz': 3544, 'baby': 3545, 'electorate': 3546, 'subframe': 3547, 'action': 3548, 'rays': 3549, 'extreme': 3550, 'night': 3551, 'scrubs': 3552, 'phillips': 3553, 'regions': 3554, 'consolation': 3555, 'franchise': 3556, 'gethin': 3557, 'calthorpe': 3558, 'cons': 3559, 'stellar': 3560, 'm0': 3561, 'planetary': 3562, 'bits': 3563, '18–22': 3564, 'commissioner': 3565, 'treasurer': 3566, 'apparent': 3567, 'magnitude': 3568, \"opponent's\": 3569, 'relegated': 3570, 'animal': 3571, 'sunderland': 3572, 'collision': 3573, 'arrows': 3574, 'albert–eden': 3575, 'torre': 3576, 'reforma': 3577, '551': 3578, 'molar': 3579, 'mol': 3580, 'meadowlands': 3581, 'attendees': 3582, 'competitors': 3583, 'romania': 3584, 'appeared': 3585, 'mediterranean': 3586, '4x100': 3587, 'relay': 3588, 'tɪn': 3589, \"england's\": 3590, 'hour': 3591, '2004–05': 3592, 'bulgarian': 3593, 'harold': 3594, 'ribbon': 3595, 'births': 3596, 'riverfront': 3597, '1920': 3598, \"australia's\": 3599, 'lonard': 3600, 'wta': 3601, 'meaden': 3602, 'v6': 3603, '41–32–6': 3604, 'penalties': 3605, 'fatalities': 3606, 'lockheed': 3607, '1049g': 3608, 'twickenham': 3609, 'declension': 3610, 'vi': 3611, 'watford': 3612, '23rd': 3613, 'remaster': 3614, 'utv': 3615, 'catch': 3616, 'goodenough': 3617, 'kanchipuram': 3618, 'tharamani': 3619, 'weblink': 3620, 'victories': 3621, 'giant': 3622, '1899': 3623, 'regionalliga': 3624, 'yaar': 3625, 'pb': 3626, 'nanquan': 3627, 'nandao': 3628, 'return': 3629, 'survey': 3630, 'elmarouk': 3631, 'defence': 3632, 'stade': 3633, 'elevator': 3634, 'cardinalatial': 3635, \"airport's\": 3636, 'ento': 3637, 'brig': 3638, 'electorates': 3639, 'sl500': 3640, '067': 3641, 'networked': 3642, 'transfers': 3643, 'shooter': 3644, 'groundstation': 3645, 'slope': 3646, 'exeter': 3647, 'ruby': 3648, 'throated': 3649, 'hummingbird': 3650, 'hnl': 3651, 'quake': 3652, 'epicenter': 3653, '254': 3654, 'substrate': 3655, 'marathon': 3656, 'fb': 3657, 'arrowhead': 3658, 'pond': 3659, 'finishing': 3660, 'kingsmen': 3661, 'kiss': 3662, 'csa': 3663, '164': 3664, \"beohari's\": 3665, 'finishes': 3666, 'recreation': 3667, 'listings': 3668, 'hpi': 3669, '581': 3670, 'maria': 3671, 'bulgaria': 3672, 'replay': 3673, \"scouler's\": 3674, 'lens': 3675, 'focal': 3676, '30mm': 3677, 'seconds': 3678, 'n·m': 3679, 'lb·ft': 3680, 'ps': 3681, 'n2t': 3682, 'professor': 3683, 'lithuania': 3684, 'gbr': 3685, 'windows': 3686, 'reissue': 3687, 'compulsory': 3688, 'voluntary': 3689, 'mckimson': 3690, '1540': 3691, 'lineup': 3692, 'carli': 3693, 'apparatus': 3694, '1510': 3695, \"hawk's\": 3696, 'skater': 3697, 'moulin': 3698, '180s': 3699, 'dart': 3700, 'alexandria': 3701, \"canada's\": 3702, 'fcr': 3703, 'duisburg': 3704, 'atcc': 3705, 'ihssa': 3706, '487': 3707, 'yardage': 3708, 'swe': 3709, 'rpm': 3710, 'scrapped': 3711, 'madigan': 3712, 'bourda': 3713, 'successes': 3714, 'soyuz': 3715, 'velocity': 3716, 'nike': 3717, '480i': 3718, 'marlboro': 3719, 'reece': 3720, '£400k': 3721, 'cut': 3722, 'climax': 3723, 'l4': 3724, 'nominating': 3725, 'cups': 3726, 'sco': 3727, 'stereo': 3728, 'copper': 3729, 'loses': 3730, 'gs': 3731, 'ht': 3732, 'cabins': 3733, 'v12': 3734, 'photos': 3735, 'cost': 3736, 'investing': 3737, 'dragons': 3738, 'entrepreneur': 3739, 'pul': 3740, 'alca': 3741, 'crying': 3742, 'br': 3743, 'straight': 3744, 'firhill': 3745, 'equipe': 3746, '374': 3747, 'cry': 3748, 'mach': 3749, 'flight': 3750, 'rosie': 3751, 'jays': 3752, 'lifespan': 3753, 'fiji': 3754, 'thats': 3755, 'ole': 3756, 'miss': 3757, 'integrated': 3758, 'extraordinary': 3759, 'plenipotentiary': 3760, 'p25': 3761, 'biggenden': 3762, 'salazar': 3763, 'baltimore': 3764, 'ravens': 3765, 'denison': 3766, \"party's\": 3767, 'maconachie': 3768, 'bonds': 3769, 'weir': 3770, 'rocco': 3771, 'rushing': 3772, 'quinn': 3773, 'ks': 3774, 'westchester': 3775, 'amir': 3776, 'fresno': 3777, 'trey': 3778, 'chirac': 3779, 'g8': 3780, 'leader': 3781, 'prime': 3782, 'papiamento': 3783, 'anguilla': 3784, \"john's\": 3785, '9abx02': 3786, '8abx15': 3787, 'tiesplayed': 3788, 'pine': 3789, '150817': 3790, '6878461314': 3791, '928': 3792, 'motovilikhinsky': 3793, 'tilia': 3794, 'synonymous': 3795, \"its'\": 3796, 'the\\xa0u': 3797, 'status\\xa0for': 3798, 'season\\xa0of': 3799, 'semifinals': 3800, 'of\\xa02nd': 3801, 'leg\\xa0where\\xa0aggregate\\xa0is': 3802, 'the\\xa0aggregate\\xa0where\\xa01st': 3803, 'the\\xa0competition\\xa0where\\xa0aggregate\\xa0is': 3804, 'the\\xa0competition\\xa0where\\xa01st': 3805, 'of\\xa0round\\xa0where\\xa0opponents\\xa0is': 3806, 'haugar': 3807, 'the\\xa01st': 3808, 'leg\\xa0where\\xa0opponents\\xa0is': 3809, 'galatasaray': 3810, 'sneva': 3811, '920': 3812, 'forsythe': 3813, 'teo': 3814, 'fabi': 3815, 'rahal': 3816, 'escort': 3817, 'radar': 3818, 'warning': 3819, 'rnds': 3820, 'burke': 3821, 'lakefront': 3822, 'circut': 3823, 'bettenhausen': 3824, 'kraco': 3825, 'twin': 3826, 'r2': 3827, 'rutherford': 3828, 'equals': 3829, 'grown': 3830, 'borovnica': 3831, 'applied': 3832, \"believin'\": 3833, 'airdates': 3834, 'sexpectations': 3835, 'wilfrid': 3836, 'laurier': 3837, 'leibl': 3838, 'cote': 3839, 'terms': 3840, 'stadtteil': 3841, 'galena': 3842, 'lancers': 3843, 'miners': 3844, 'ups': 3845, 'hurst': 3846, 'juli': 3847, 'inkster': 3848, 'count\\xa0with\\xa0character\\xa0being': 3849, 'stetler': 3850, 'ambush': 3851, 'the\\xa0character\\xa0with\\xa0fate\\xa0being': 3852, 'deceased': 3853, 'wound': 3854, 'count\\xa0with\\xa0first': 3855, 'the\\xa0actor\\xa0with\\xa0character\\xa0being': 3856, 'ratner': 3857, 'epbeingode\\xa0with\\xa0final': 3858, 'embry': 3859, 'chamberlain': 3860, 'holifield': 3861, 'routes': 3862, 'termini': 3863, 'sh': 3864, 'vault': 3865, '635': 3866, '287': 3867, 'the\\xa0margin\\xa0where\\xa0runner': 3868, 'the\\xa0runner': 3869, 'up\\xa0where\\xa054': 3870, 'and\\xa0margin\\xa0is': 3871, 'the\\xa0championship\\xa0where\\xa054': 3872, 'and\\xa0runner': 3873, 'minimum\\xa0year\\xa0where\\xa0winning': 3874, '−8': 3875, 'the\\xa0championship\\xa0where\\xa0winning': 3876, '−12': 3877, 'the\\xa054': 3878, 'holes\\xa0where\\xa0winning': 3879, '269': 3880, 'the\\xa0title\\xa0where\\xa0original': 3881, 'date\\xa0is': 3882, 'january18': 3883, 'the\\xa0original': 3884, 'date\\xa0where\\xa0written': 3885, 'by\\xa0is': 3886, 'iain': 3887, 'beesley': 3888, 'woensdrecht': 3889, 'sint': 3890, 'denijs': 3891, 'westrem': 3892, 'of\\xa0constancy\\xa0where\\xa0purity\\xa0is': 3893, 'falling': 3894, 'rudra': 3895, 'apprehension': 3896, 'body\\xa0where\\xa0penance\\xa0is': 3897, 'undifferenced': 3898, 'the\\xa0constancy\\xa0where\\xa0permanence': 3899, 'body\\xa0is': 3900, 'meditation': 3901, 'body\\xa0where\\xa0constancy\\xa0is': 3902, 'interestedness': 3903, 'firestorm': 3904, 'woodard': 3905, 'of\\xa0species': 3906, 'amazon\\xa0with\\xa08411': 3907, 'amazon\\xa0with\\xa0taxonomy\\xa0s': 3908, 'fern': 3909, 'pteridophyta': 3910, 'the\\xa0species': 3911, 'world\\xa0with\\xa0peruvian': 3912, 'amazon': 3913, '\\xa0': 3914, 'amazon\\xa0with\\xa0species': 3915, 'peru\\xa0of': 3916, 'amazon\\xa0with\\xa0peru': 3917, '\\xa0value': 3918, 'maximum\\xa0peru': 3919, '\\xa0with\\xa09672': 3920, 'hartford': 3921, 'lasalle': 3922, 'tribe': 3923, 'shark': 3924, 'arrive': 3925, 'sikhs': 3926, '98–91': 3927, '109–116': 3928, '25–18': 3929, 'the\\xa0home\\xa0team': 3930, 'where\\xa0streak\\xa0is': 3931, 'l3': 3932, 'the\\xa0attendance\\xa0where\\xa0score\\xa0is': 3933, '92–101': 3934, 'of\\xa0date\\xa0where\\xa0visitor\\xa0is': 3935, 'the\\xa0leading': 3936, 'scorer\\xa0where\\xa0home\\xa0is': 3937, 'bobcats': 3938, 'the\\xa0score\\xa0where\\xa0record\\xa0is': 3939, '0–2': 3940, 'of\\xa0record\\xa0where\\xa0streak\\xa0is': 3941, 'authors': 3942, 'worlds': 3943, 'collide': 3944, 'som': 3945, 'ashcott': 3946, 'shapwick': 3947, 'warminster': 3948, 'lansdown': 3949, 'gloucester': 3950, 'winget': 3951, 'painswick': 3952, 'the\\xa0preliminaries\\xa0where\\xa0evening': 3953, 'the\\xa0swimsuit\\xa0where\\xa0average\\xa0is': 3954, '670': 3955, 'gown\\xa0where\\xa0preliminaries\\xa0is': 3956, '977': 3957, 'the\\xa0preliminaries\\xa0where\\xa0state\\xa0is': 3958, 'gown\\xa0where\\xa0state\\xa0is': 3959, 'of\\xa0average\\xa0where\\xa0evening': 3960, 'marina': 3961, 'yakusheva': 3962, 'shimko': 3963, 'imam': 3964, 'sodikin': 3965, 'irawan': 3966, 'andi': 3967, 'tandaputra': 3968, 'naoko': 3969, 'fukuman': 3970, 'kurumi': 3971, 'yonao': 3972, 'marcus': 3973, 'ellis': 3974, 'gabrielle': 3975, 'bn': 3976, 'verkeerdevlei': 3977, 'carousel': 3978, 'modimolle': 3979, 'r20': 3980, 'inclination': 3981, '1584': 3982, 'apogee': 3983, 'samos': 3984, 'perigee': 3985, '011a': 3986, 'konerko': 3987, 'nomar': 3988, 'garciaparra': 3989, 'rf': 3990, 'vicente': 3991, 'padilla': 3992, 'drysdale': 3993, 'gf': 3994, 'nalick': 3995, '2582322': 3996, 'jonadab': 3997, 'yowyariyb': 3998, 'trasliteration': 3999, 'howram': 4000, 'יוֹחָנָן': 4001, 'kaluvanchikudy': 4002, 'haneefa': 4003, 'muzammil': 4004, \"region's\": 4005, 'mareeba': 4006, 'buzzkill': 4007, 'veasey': 4008, 'immunity': 4009, 'wanda': 4010, 'jenn': 4011, 'garbitzen': 4012, 'pozten': 4013, 'jo': 4014, 'future': 4015, 'poztu': 4016, 'colt': 4017, 'gau': 4018, 'bayonet': 4019, 'lug': 4020, 'deflector': 4021, 'muzzle': 4022, 'devices': 4023, 'looking': 4024, 'seeing': 4025, 'portion': 4026, 'miehen': 4027, 'työ': 4028, 'lebanon': 4029, 'orphanage': 4030, 'saskatchewan': 4031, '43579': 4032, 'endowments': 4033, 'foote': 4034, '19082': 4035, 'mcglashan': 4036, 'latham': 4037, 'catches': 4038, 'chabot': 4039, 'saxby': 4040, 'chambliss': 4041, 'jefferson': 4042, 'mccrery': 4043, 'cooksey': 4044, 'porter': 4045, 'lampson': 4046, 'mcdermott': 4047, 'doc': 4048, 'hastings': 4049, 'inslee': 4050, 'curt': 4051, 'weldon': 4052, 'hiroki': 4053, 'yoshimoto': 4054, 'vladimir': 4055, 'arabadzhiev': 4056, 'brinkley': 4057, 'districk': 4058, 'the\\xa0result\\xa0with\\xa0district': 4059, 'with\\xa0result\\xa0being': 4060, 'many\\xa0candidates\\xa0with\\xa0result\\xa0being': 4061, 'many\\xa0result\\xa0with\\xa0district': 4062, 'elected\\xa0with\\xa0district\\xa0being': 4063, 'the\\xa0candidates\\xa0with\\xa0incumbent\\xa0being': 4064, 'fuqua': 4065, 'parties': 4066, 'abner': 4067, 'mikva': 4068, \"bush's\": 4069, 'noble': 4070, 'brent': 4071, 'spence': 4072, 'chelf': 4073, 'jamie': 4074, 'whitten': 4075, 'winstead': 4076, 'norrell': 4077, 'hays': 4078, 'delano': 4079, 'glover': 4080, 'mcmillan': 4081, 'with\\xa0incumbent\\xa0being': 4082, 'welch': 4083, 'the\\xa0districtwith\\xa0party\\xa0being': 4084, 'with\\xa0candidates\\xa0being': 4085, 'englebright': 4086, 'unopposed': 4087, 'many\\xa0candidates\\xa0with\\xa0district': 4088, 'the\\xa0party\\xa0with\\xa0incumbent\\xa0being': 4089, 'whittington': 4090, 'francis': 4091, 'stevenson': 4092, 'lawyer': 4093, 'melman': 4094, 'driade': 4095, 'sacramento': 4096, 'shasta': 4097, '239': 4098, 'incument': 4099, 'kilgore': 4100, 'onzlee': 4101, '14th': 4102, 'rebounder': 4103, 'complete\\xa0with\\xa0numeral': 4104, 'system\\xa0being': 4105, 'mechanbeingm\\xa0with\\xa0name\\xa0being': 4106, 'the\\xa0name\\xa0with\\xa0first': 4107, 'mechanbeingm\\xa0with\\xa0first': 4108, 'complete\\xa0with\\xa0name\\xa0being': 4109, 'operational\\xa0with\\xa0programming\\xa0being': 4110, 'programmable—single': 4111, 'technology': 4112, 'environment': 4113, 'migration': 4114, 'trade': 4115, 'colleen': 4116, 'northwest': 4117, 'territories': 4118, 'yukon': 4119, 'the\\xa0won\\xa0with\\xa0try': 4120, 'the\\xa0club\\xa0with\\xa0losing': 4121, 'many\\xa0losing': 4122, 'bonus\\xa0with\\xa0won\\xa0being': 4123, 'and\\xa0points': 4124, 'many\\xa0points': 4125, 'against\\xa0with\\xa0tries': 4126, 'the\\xa0points\\xa0with\\xa0tries': 4127, 'the\\xa0won\\xa0with\\xa0points': 4128, '€20m': 4129, 'esp': 4130, 'vaughn': 4131, 'adams': 4132, '259': 4133, 'chan': 4134, 'kohde': 4135, 'kilsch': 4136, 'eva': 4137, 'pfaff': 4138, 'botin': 4139, \"botin's\": 4140, 'roman': 4141, \"bragin's\": 4142, 'teodor': 4143, 'salparov': 4144, 'minimum\\xa0points\\xa0with\\xa0goals': 4145, 'the\\xa0w': 4146, 'd\\xa0with\\xa0position\\xa0being': 4147, 'the\\xa0club': 4148, '\\xa0with\\xa0goals': 4149, 'the\\xa0goals': 4150, 'against\\xa0with\\xa0w': 4151, 'd\\xa0being': 4152, 'minimum\\xa0games': 4153, 'played\\xa0with\\xa0goals': 4154, 'thunderbirds': 4155, '599mph': 4156, 'tims': 4157, 'wed': 4158, '960mph': 4159, 'numbr': 4160, '847mph': 4161, 'banbridge': 4162, 'starter': 4163, 'becker': 4164, 'norcross': 4165, 'katona': 4166, 'shill': 4167, 'eastern': 4168, 'cpi': 4169, 'copy': 4170, 'cp': 4171, 'valid': 4172, 'env': 4173, 'export': 4174, 'setenv': 4175, '2053': 4176, '090': 4177, 'woodside': 4178, 'galliate': 4179, 'commons': 4180, 'altitudes': 4181, 'settimo': 4182, 'torinese': 4183, 'chieri': 4184, 'the\\xa0economics\\xa0score': 4185, 'with\\xa0education\\xa0being': 4186, 'the\\xa0health\\xa0score': 4187, 'with\\xa0justice\\xa0being': 4188, 'the\\xa0rank\\xa0for': 4189, 'the\\xa0country\\xa0with\\xa0health\\xa0being': 4190, 'the\\xa0economics': 4191, 'score\\xa0with\\xa0justice\\xa0being': 4192, 'attendants': 4193, \"6'1\": 4194, 'trevard': 4195, \"lindley's\": 4196, 'venus': 4197, '6952': 4198, 'skippers': 4199, 'yacht': 4200, 'yendys': 4201, 'nutter': 4202, 'hapkido': 4203, 'jiu': 4204, 'jitsu': 4205, 'netanya': 4206, 'arts': 4207, 'janeiro': 4208, '74804': 4209, 'history': 4210, 'lakota': 4211, 'híŋhaŋna': 4212, 'santee': 4213, 'sisseton': 4214, 'wičháša': 4215, 'haŋȟ’áŋna': 4216, 'wakȟáŋyeža': 4217, 'lithuanian': 4218, 'badminton': 4219, 'aivaras': 4220, 'kvedarauskas': 4221, 'juozas': 4222, 'spelveris': 4223, 'daniela': 4224, 'kressig': 4225, 'eidenbenz': 4226, 'hilti': 4227, 'kilian': 4228, 'pfister': 4229, 'armand': 4230, 'michaela': 4231, 'ritter': 4232, 'rhel': 4233, '28d': 4234, \"venezuela's\": 4235, \"iceland's\": 4236, 'worst': 4237, 'mehlhorn': 4238, 'brady': 4239, 'the\\xa0cancelable\\xa0with\\xa0bubbles\\xa0being': 4240, 'the\\xa0bubbles\\xa0with\\xa0attribute\\xa0being': 4241, 'onpopuphidden': 4242, 'many\\xa0bubbles\\xa0with\\xa0category\\xa0being': 4243, 'the\\xa0type\\xa0with\\xa0description\\xa0being': 4244, 'fires': 4245, 'overflow': 4246, 'changes': 4247, 'the\\xa0attribute\\xa0with\\xa0cancelable\\xa0being': 4248, \"sokka's\": 4249, \"o'bryan\": 4250, 'ethan': 4251, 'spaulding': 4252, 'beach': 4253, 'segments': 4254, 'involve': 4255, 'boring': 4256, 'augers': 4257, 'beet': 4258, 'sugar': 4259, 'rolled': 4260, 'wafers': 4261, 'uncle': 4262, 'boonmee': 4263, 'recall': 4264, 'lives': 4265, 'mother': 4266, 'sammo': 4267, 'hung': 4268, 'ip': 4269, 'honglei': 4270, 'mongol': 4271, 'paulistano': 4272, '3020': 4273, 'indy': 4274, 'winslow': 4275, 'danny': 4276, 'fum': 4277, 'harrington': 4278, 'wear': 4279, 'notre': 4280, 'dame': 4281, 'identifies': 4282, \"'s\": 4283, 'extortion': 4284, 'theft': 4285, 'rates': 4286, 'observer': 4287, 'rwanda': 4288, 'sudanese': 4289, 'vila': 4290, 'kymberly': 4291, 'paige': 4292, 'kalin': 4293, 'olson': 4294, 'marilyn': 4295, 'monroe': 4296, 'fergie': 4297, 'pictorials': 4298, 'pmoy': 4299, 'sara': 4300, 'underwood': 4301, 'pictorals': 4302, 'issues': 4303, 'lindsey': 4304, 'roeper': 4305, 'kimberly': 4306, 'bunnies': 4307, 'playboy': 4308, 'amanda': 4309, 'beard': 4310, 'reby': 4311, 'montauk': 4312, 'yuvraj': 4313, 'maaidens': 4314, 'nazareth': 4315, 'mears': 4316, 'galles': 4317, 'municipalities': 4318, 'finnmark': 4319, 'populations': 4320, '6187': 4321, 'halden': 4322, '24421': 4323, 'arendal': 4324, 'horten': 4325, 'andrew': 4326, 'webber': 4327, 'greenberg': 4328, 'necklace': 4329, 'gillis': 4330, 'continental': 4331, 'airlines': 4332, '755': 4333, 'n°is': 4334, '856': 4335, 'n°': 4336, '854': 4337, 'dar': 4338, 'antony': 4339, 'cotton': 4340, 'elle': 4341, 'macpherson': 4342, 'oat': 4343, 'reggie': 4344, 'rafał': 4345, 'mroczek': 4346, 'aneta': 4347, 'piotrowska': 4348, '朔州': 4349, 'silla': 4350, '良州': 4351, 'sangju': 4352, 'equivalents': 4353, 'hanju': 4354, 'seoul': 4355, 'okinawa': 4356, '667': 4357, 'farmer': 4358, 'charleston': 4359, 'seed': 4360, 'belt': 4361, 'oral': 4362, 'roberts': 4363, 'patriot': 4364, 'umbc': 4365, 'belmont': 4366, 'ida': 4367, 'corr': 4368, 'mentor': 4369, 'mohamed': 4370, 'erie': 4371, 'canton': 4372, 'fremantle': 4373, 'receive': 4374, 'morse': 4375, '047': 4376, 'shaw': 4377, 'giffin': 4378, 'nicolas': 4379, 'carriere': 4380, 'ktm': 4381, 'vmc': 4382, 'jeaff': 4383, '5n': 4384, 'vaidilute': 4385, 'rupes': 4386, \"feature's\": 4387, '3s': 4388, 'colette': 4389, 'razia': 4390, 'keller': 4391, '0s': 4392, '0e': 4393, 'berkshire': 4394, '715': 4395, 'companies': 4396, 'placements': 4397, 'quarterfinals': 4398, 'doornail': 4399, 'publishers': 4400, 'put': 4401, '193700788x': 4402, '441': 4403, '01400': 4404, 'pubilshed': 4405, '937007': 4406, 'schöpp': 4407, '25th': 4408, '16th': 4409, 'marcos': 4410, 'hernandez': 4411, 'traffic': 4412, 'kubb': 4413, 'interpol': 4414, 'plan': 4415, 'dizzee': 4416, 'rascal': 4417, '11july1964': 4418, '1august1964': 4419, 'pointss': 4420, 'dixon': 4421, 'manning': 4422, '93–104': 4423, 'poinst': 4424, 'mcgrady': 4425, 'panther': 4426, 'stats': 4427, 'maade': 4428, '266': 4429, '98–103': 4430, 'nash': 4431, 'gemmill': 4432, 'goole': 4433, 'accumulate': 4434, 'bangor': 4435, 'flyweight': 4436, 'lesan': 4437, 'sufun': 4438, 'giheizan': 4439, 'heizan': 4440, '7a': 4441, 'bant': 4442, '788': 4443, 'swuinsuit': 4444, 'preliminary': 4445, 'maugerville': 4446, 'eckstein': 4447, 'curb': 4448, 'wheelbase': 4449, '4matic': 4450, 'sedan': 4451, 'deutsche': 4452, 'telekom': 4453, 'ag': 4454, 'upload': 4455, 'kbits': 4456, 'dsl': 4457, 'offered': 4458, 'netcologne': 4459, 'discs': 4460, 'twister': 4461, 'oh': 4462, 'maya': 4463, 'inns': 4464, 'mcintyre': 4465, 'hayes': 4466, 'jake': 4467, 'flaherty': 4468, 'brup': 4469, 'tfl': 4470, 'yds': 4471, 'tonkolili': 4472, '849': 4473, 'gatwick': 4474, '534': 4475, 'interchanges': 4476, 'exits': 4477, '609': 4478, 'avus': 4479, 'bcp': 4480, 'thine': 4481, 'writing': 4482, 'wie': 4483, 'mir': 4484, 'die': 4485, 'vergewwe': 4486, 'wu': 4487, 'uns': 4488, 'schuldich': 4489, 'sinn': 4490, 'pico': 4491, 'metro': 4492, 'lenth': 4493, 'westlake': 4494, 'macarthur': 4495, 'wilshire': 4496, 'lenght': 4497, 'iran': 4498, 'ussr': 4499, 'mig': 4500, 'rb': 4501, 'aleksandra': 4502, 'wozniak': 4503, 'dominika': 4504, 'cibulková': 4505, 'magdaléna': 4506, 'rybáriková': 4507, '60425': 4508, 'downs': 4509, '31095': 4510, 'screening': 4511, 'televised': 4512, 'encounters': 4513, 'screenings': 4514, 'vaan': 4515, 'nguyen': 4516, 'closing': 4517, 'garnered': 4518, 'pranita': 4519, \"sahu's\": 4520, 'jatin': 4521, 'shalini': 4522, 'chandran': 4523, 'perform': 4524, 'parekh': 4525, 'prixs': 4526, 'tt': 4527, 'salom': 4528, 'circuits': 4529, 'loane': 4530, 'editions': 4531, 'franco': 4532, 'marvulli': 4533, 'banas': 4534, 'pino': 4535, 'amenta': 4536, 'northeast': 4537, 'magarikado': 4538, 'kanojo': 4539, 'program': 4540, 'thursdays': 4541, 'actors': 4542, 'frame': 4543, 'romaji': 4544, 'ya': 4545, 'kyim': 4546, 'super☆looper': 4547, 'automatic': 4548, 'manual': 4549, 'transmission': 4550, 'acceleration': 4551, '100km': 4552, 'geo': 4553, '3807116660': 4554, '302775': 4555, 'sqmi': 4556, '763937': 4557, '770977': 4558, 'townsship': 4559, '075823': 4560, '025': 4561, 'gymnasts': 4562, 'alessandro': 4563, 'petacchi': 4564, 'classifications': 4565, 'philippe': 4566, 'danilo': 4567, 'reservoir': 4568, 'dam': 4569, 'fairbanks': 4570, 'mayne': 4571, 'hillcrest': 4572, 'caversham': 4573, 'swans': 4574, '1605': 4575, 'provinces': 4576, 'monseñor': 4577, 'nouel': 4578, '1111': 4579, 'nagua': 4580, \"parliament's\": 4581, 'loh': 4582, 'woon': 4583, 'conscituency': 4584, 'aljunied': 4585, 'grc': 4586, 'sylvia': 4587, 'lim': 4588, 'swee': 4589, 'lian': 4590, 'rewards': 4591, 'morgan': 4592, 'hit': 4593, 'just': 4594, 'attached': 4595, '43rd': 4596, '441st': 4597, 'bs': 4598, 'bombs': 4599, 'entering': 4600, 'conjunction': 4601, 'dorough': 4602, 'performers': 4603, 'pronoun': 4604, 'rhb': 4605, 'revenue': 4606, 'maxis': 4607, 'institutes': 4608, 'renewal': 4609, 'barbara': 4610, 'good': 4611, 'bergen': 4612, 'alesund': 4613, 'elverum': 4614, 'tehre': 4615, 'sted': 4616, 'scandinavia': 4617, 'luxembourg': 4618, 'stavanger': 4619, '740': 4620, 'tromso': 4621, 'persinab': 4622, 'nabire': 4623, 'persipal': 4624, 'palu': 4625, 'persikutim': 4626, 'kutai': 4627, 'persikos': 4628, 'sorong': 4629, 'nusa': 4630, 'ina': 4631, 'psid': 4632, 'jombang': 4633, 'rihanna': 4634, 'centennials': 4635, 'wchl': 4636, 'wiechnik': 4637, 'hanna': 4638, 'arcuri': 4639, 'yvette': 4640, 'hugh': 4641, 'julia': 4642, 'bermejo': 4643, 'solydo': 4644, 'katowice': 4645, 'champs': 4646, 'thailand': 4647, 'fletcher': 4648, 'edgewood': 4649, 'bloomington': 4650, 'texaco': 4651, 'havoline': 4652, 'andretti': 4653, 'nigel': 4654, 'mansell': 4655, 'itt': 4656, 'automotive': 4657, '4akj08': 4658, '4akj01': 4659, 'compression': 4660, 'l35': 4661, 'rpo': 4662, '346': 4663, 'kalex': 4664, 'italtrans': 4665, 'تاغارما': 4666, 'uyghur': 4667, '瓦恰': 4668, 'defter': 4669, 'تىزناپ': 4670, 'mazar': 4671, 'kɵkyar': 4672, 'k̡irƣiz': 4673, 'yezisi': 4674, '22000': 4675, 'payam': 4676, 'bc': 4677, 'darmstadt': 4678, 'pirmasens': 4679, 'freiburger': 4680, '7638': 4681, '372': 4682, 's01e13': 4683, 'dematteis': 4684, 'february6': 4685, 's01e06': 4686, 'steven': 4687, 'melching': 4688, 'crisis': 4689, 'earth': 4690, 'gp3': 4691, 'suv': 4692, 'mpg': 4693, '8256534': 4694, 'handelsbanken': 4695, 'funds': 4696, 'incl': 4697, 'xact': 4698, 'octagon': 4699, 'partnership': 4700, 'cotter': 4701, '45205': 4702, '895': 4703, 'gem': 4704, 'jerome': 4705, 'showings': 4706, 'purdue': 4707, 'nad': 4708, 'feyenoord': 4709, 'twente': 4710, 'ajax': 4711, 'nac': 4712, 'breda': 4713, 'psv': 4714, 'eindhoven': 4715, 'anomic': 4716, 'effortful': 4717, 'slow': 4718, 'fluency': 4719, 'transcortical': 4720, 'sensory': 4721, 'shirley': 4722, 'fry': 4723, 'irvin': 4724, 'navratilova': 4725, 'sherrick': 4726, \"mcmanis's\": 4727, 'stevie': 4728, 'barangay': 4729, 'guadalupe': 4730, 'viejo': 4731, 'mwc': 4732, 'rebecca': 4733, 'macphee': 4734, 'pct': 4735, 'den': 4736, 'brink': 4737, 'bas': 4738, 'mosst': 4739, 'wright': 4740, 'debra': 4741, 'fisher': 4742, 'erica': 4743, 'messer': 4744, 'witch': 4745, 'kern': 4746, 'carbon': 4747, 'dioxide': 4748, 'nitrous': 4749, 'oxide': 4750, 'lifetime': 4751, 'chemical': 4752, 'sulfur': 4753, 'hexafluoride': 4754, '永城市': 4755, 'yucheng': 4756, '宁陵县': 4757, 'simplified': 4758, '虞城县': 4759, '703379': 4760, 'torae': 4761, 'emily': 4762, 'klang': 4763, 'newest': 4764, 'valerie': 4765, 'cici': 4766, \"kelley's\": 4767, 'masek': 4768, 'easter': 4769, 'rr1': 4770, 'prada': 4771, 'conner': 4772, 'niger': 4773, 'berbers': 4774, 'siwa': 4775, 'r1b1c4': 4776, 'v69': 4777, '18847': 4778, 'annapolis': 4779, 'truro': 4780, 'grass': 4781, 'ross': 4782, '519': 4783, 'divisions': 4784, 'mentioned': 4785, '994': 4786, 'bandung': 4787, '606': 4788, '699': 4789, 'cimahi': 4790, '264170': 4791, 'wesleyan': 4792, 'inactive': 4793, 'steelyard': 4794, '32250': 4795, '7757': 4796, 'nancy': 4797, 'harron': 4798, 'şımarık': 4799, 'tarkan': 4800, '92nd': 4801, 'mcnamee': 4802, 'freaky': 4803, 'widdoes': 4804, '320': 4805, 'sub': 4806, 'merged': 4807, '591': 4808, 'validity': 4809, 'upper': 4810, 'volta': 4811, 'seguier': 4812, 'dutton': 4813, 'sanscartier': 4814, '244': 4815, 'otl': 4816, 'sol': 4817, 'ga': 4818, 'lawson': 4819, 'impul': 4820, 'benoît': 4821, 'tréluyer': 4822, 'takashi': 4823, 'kogure': 4824, 'suzuka': 4825, 'loïc': 4826, 'duval': 4827, 'indies': 4828, 'bellerive': 4829, '33rd': 4830, '1794': 4831, 'formal': 4832, 'joshua': 4833, 'clayton': 4834, 'resigned': 4835, 'massachusetts': 4836, 'declared': 4837, 'culpepper': 4838, 'territory': 4839, 'maximun': 4840, 'herron': 4841, '8011': 4842, 'lea': 4843, 'norberto': 4844, 'barba': 4845, 'raju': 4846, 'johan': 4847, 'kriek': 4848, '301': 4849, '924': 4850, 'albion': 4851, 'respect': 4852, 'toward': 4853, 'ham': 4854, 'positive': 4855, '255': 4856, 'guglielmi': 4857, \"doolan's\": 4858, 'bryan': 4859, \"hodge's\": 4860, 'cowboys': 4861, \"cowboys'\": 4862, 'idaho': 4863, \"status'\": 4864, '90565': 4865, '1ark07': 4866, '1ark08': 4867, \"father's\": 4868, 'viewership': 4869, '945': 4870, '1ark79': 4871, 'brook': 4872, 'humphries': 4873, 'hyatt': 4874, 'amway': 4875, 'rosen': 4876, 'shingle': 4877, 'ticket': 4878, 'invesco': 4879, 'pondicherry': 4880, '936': 4881, 'tn': 4882, 'seshan': 4883, '478608': 4884, 'lieberstein': 4885, 'blockings': 4886, 'coleman': 4887, 'chanel': 4888, 'chisholm': 4889, 'pointers': 4890, 'federation': 4891, 'roh': 4892, 'wwe': 4893, 'guerrero': 4894, 'wrestled': 4895, 'look': 4896, 'mouth': 4897, '5ajn11': 4898, 'cooke': 4899, 'jansen': 4900, 'yee': 4901, 'corrado': 4902, 'barazzutti': 4903, '1–7': 4904, 'battier': 4905, '109–95': 4906, 'pepsi': 4907, 'westbrook': 4908, 'nenad': 4909, 'krstic': 4910, 'verizon': 4911, '152': 4912, 'boozer': 4913, 'rhod': 4914, 'shappi': 4915, 'khorsandi': 4916, 'include': 4917, 'clarkson': 4918, 'mcquillan': 4919, 'reginald': 4920, 'locaiton': 4921, 'syracuse': 4922, 'wxyzrstuvpq': 4923, 'soundfield': 4924, 'wxyzuv': 4925, 'truth': 4926, 'conway': 4927, 'kagey': 4928, 'gans': 4929, 'register': 4930, '295': 4931, 'anh': 4932, 'luda': 4933, 'dare': 4934, 'poison': 4935, '1200': 4936, '1075': 4937, '1230': 4938, '3185': 4939, '801': 4940, '711871': 4941, '711880': 4942, '713726': 4943, '713735': 4944, 'railroads': 4945, '864': 4946, '873': 4947, 'linroy': 4948, \"bottoson's\": 4949, 'victim': 4950, 'demond': 4951, 'greene': 4952, 'steffen': 4953, 'hamann': 4954, 'believe': 4955, 'gaviola': 4956, 'laura': 4957, 'eurobasket': 4958, 'fiba': 4959, 'mao': 4960, 'asada': 4961, 'ws': 4962, 'owners': 4963, '235': 4964, 'petersburg': 4965, 'l34xx': 4966, 'g6xxx': 4967, '2ghz': 4968, 'i7': 4969, '8xx': 4970, 'cores': 4971, 'ddr3': 4972, '1333': 4973, '8ghz': 4974, 'processor': 4975, 'oneida': 4976, 'bonneville': 4977, 'busg': 4978, 'nizhegorodov': 4979, 'rus': 4980, 'cheboksary': 4981, 'managers': 4982, 'fulham': 4983, 'dalglish': 4984, 'mcclaren': 4985, 'replacer': 4986, 'köln': 4987, 'middlecoff': 4988, 'circleville': 4989, 'respectively': 4990, 'cecil': 4991, 'kellaway': 4992, 'tolls': 4993, 'diane': 4994, 'keaton': 4995, '40th': 4996, 'oscars': 4997, 'bickford': 4998, '334000': 4999, '276000': 5000, '94000': 5001, 'bray': 5002, 'folded': 5003, 'worcester': 5004, 'tornadoes': 5005, 'unlocked': 5006, 'conditions': 5007, 'cuenca': 5008, 'quevedo': 5009, 'octubre': 5010, 'attaquant': 5011, 'lamar': 5012, 'hunt': 5013, 't18': 5014, 'mahan': 5015, 'profession': 5016, 'alicia': 5017, 'molik': 5018, 'dropped': 5019, 'whistler': 5020, 'congi': 5021, 'redwood': 5022, 'clock': 5023, 'fillrate': 5024, 'bandwidth': 5025, 'granville': 5026, 'radeon': 5027, '6650m': 5028, 'fishing': 5029, 'lynn': 5030, 'muscarella': 5031, 'charlie': 5032, 'wiltse': 5033, 'degroote': 5034, 'lahue': 5035, 'cavendish': 5036, 'courageous': 5037, 'calssification': 5038, 'sagan': 5039, 'rabou': 5040, 'yaroslav': 5041, 'popovych': 5042, '3903': 5043, '1811': 5044, \"baldwin's\": 5045, 'mame': 5046, 'labonte': 5047, 'brack': 5048, 'baskett': 5049, 'daisuke': 5050, 'gouri': 5051, 'edidtion': 5052, 'monique': 5053, 'sérgio': 5054, 'abreu': 5055, 'dado': 5056, 'dolabella': 5057, 'mateus': 5058, 'rocha': 5059, 'raquel': 5060, 'pacheco': 5061, 'bacchi': 5062, 'estrella': 5063, 'krca': 5064, 'kpnz': 5065, '5179': 5066, '5760': 5067, 'elecrrixity': 5068, '9667': 5069, 'whern': 5070, '149': 5071, 'bias': 5072, 'rca': 5073, 'loop': 5074, 'vacuum': 5075, 'tube': 5076, 'solid': 5077, 'battery': 5078, 'portable': 5079, 'amar': 5080, 'vijayalaxmi': 5081, 'shakeel': 5082, 'badayuni': 5083, 'naushad': 5084, 'singers': 5085, 'parveen': 5086, 'babi': 5087, 'bose': 5088, 'jeevankala': 5089, 'powerless': 5090, 'lew': 5091, 'schneider': 5092, 'orman': 5093, 'catagories': 5094, 'lauren': 5095, 'mcgee': 5096, 'swarthmore': 5097, 'dickinson': 5098, 'marussia': 5099, 'manor': 5100, 'vicinity': 5101, 'magnificence': 5102, 'elegance': 5103, 'ester': 5104, 'hamor': 5105, 'populace': 5106, 'metropolis': 5107, 'helen': 5108, 'castro': 5109, 'nsw': 5110, '1l10': 5111, 'theresa': 5112, 'rebeck': 5113, '1l16': 5114, 'alphabet': 5115, 'writting': 5116, 'банатско': 5117, 'аранђелово': 5118, 'religions': 5119, 'đala': 5120, 'сигет': 5121, 'gornji': 5122, 'tavankut': 5123, 'стари': 5124, 'жедник': 5125, 'stari': 5126, 'žednik': 5127, '6591': 5128, '1441': 5129, 'ђурђин': 5130, 'đurđin': 5131, '777': 5132, 'конак': 5133, 'pooulation': 5134, 'јарковац': 5135, 'бока': 5136, \"107's\": 5137, 'deliblato': 5138, 'measure': 5139, 'init': 5140, 'boor': 5141, 'lockdown': 5142, '1040': 5143, 'ca311': 5144, 'sound': 5145, 'ca303': 5146, 'e4515': 5147, 'stray': 5148, 'steamboat': 5149, 'resorts': 5150, 'snowfall': 5151, 'snowmass': 5152, 'eifelland': 5153, 'midlothian': 5154, 'solidarity': 5155, 'daren': 5156, 'huddersfield': 5157, 'runtimes': 5158, 'dana': 5159, 'wynter': 5160, 'mel': 5161, 'ferrer': 5162, 'theodore': 5163, 'bikel': 5164, 'dwci': 5165, 'brandings': 5166, '1kw': 5167, '94kw': 5168, 'dwec': 5169, 'transmitter': 5170, 'pampanga': 5171, 'abs': 5172, 'cbn': 5173, 'tagaytay': 5174, 'carlin': 5175, 'croft': 5176, 'combe': 5177, 'robbie': 5178, 'fabio': 5179, 'carbone': 5180, 'ahli': 5181, 'orthodoxy': 5182, 'jeel': 5183, 'hussein': 5184, 'sherin': 5185, 'witten': 5186, 'sweren': 5187, 'bait': 5188, 'e0208': 5189, 'categorized': 5190, 'church': 5191, 'christ': 5192, 'fit': 5193, '1833': 5194, 'britons': 5195, 'belles': 5196, 'possible': 5197, 'lubang': 5198, 'smallist': 5199, 'calintaan': 5200, 'abra': 5201, 'ilog': 5202, 'ashland': 5203, 'founding': 5204, 'gambier': 5205, 'roddick': 5206, 'marat': 5207, 'safin': 5208, 'osborne': 5209, 'topic': 5210, 'wherein': 5211, 'preference': 5212, 'matter': 5213, 'authentic': 5214, 'alcarrizos': 5215, 'clary': 5216, 'sermina': 5217, 'delgado': 5218, 'cid': 5219, 'distrito': 5220, 'nacional': 5221, 'judges': 5222, 'farm': 5223, 'capacities': 5224, 'entrants': 5225, 'germain': 5226, 'relationship': 5227, 'monarch': 5228, 'minyekyawswa': 5229, 'reasons': 5230, 'kale': 5231, 'kyetaungnyo': 5232, 'finnish': 5233, 'kathy': 5234, 'lamkin': 5235, 'writter': 5236, '2t5954': 5237, 'portayers': 5238, 'zisk': 5239, 'falchuk': 5240, '177605': 5241, 'gaines': 5242, 'doug': 5243, 'savant': 5244, 'haunted': 5245, 'crese': 5246, 'mccormick': 5247, '036': 5248, 'olympus': 5249, 'rollar': 5250, 'kemah': 5251, 'zippin': 5252, 'pippin': 5253, 'montenegro': 5254, 'nice': 5255, 'croatia': 5256, '1825': 5257, 'augustine': 5258, 'shepperd': 5259, 'spruill': 5260, 'anti': 5261, 'jacksonian': 5262, '1820': 5263, 'hosea': 5264, 'moffitt': 5265, 'josiah': 5266, 'jacob': 5267, 'markell': 5268, 'distrct': 5269, 'randolph': 5270, 'redistricted': 5271, 'boyle': 5272, 'lyon': 5273, 'federalist': 5274, 'craik': 5275, '1791': 5276, 'heath': 5277, 'marlboros': 5278, 'ohl': 5279, 'trois': 5280, 'rivières': 5281, 'draveurs': 5282, 'qmjhl': 5283, 'maple': 5284, 'leafs': 5285, 'lonsdale': 5286, '5aky13': 5287, '5aky04': 5288, 'todd': 5289, 'wise': 5290, '92m': 5291, 'inglewood': 5292, 'weighs': 5293, '76kg': 5294, \"model's\": 5295, 'directx': 5296, 'config': 5297, 'processing': 5298, 'gflops': 5299, 'gt': 5300, 'card': 5301, 'tdp': 5302, 'gpu': 5303, 'carberry': 5304, 'marseille': 5305, 'steaua': 5306, 'bucureşti': 5307, 'trabzonspor': 5308, 'christine': 5309, 'cellan': 5310, 'overmyer': 5311, 'piazza': 5312, 'bayt': 5313, 'aramaic': 5314, 'šlām': 5315, 'āʼ': 5316, 'libb': 5317, 'akkadian': 5318, 'arabic': 5319, 'salām': 5320, 'homestead': 5321, 'podium': 5322, 'achieved': 5323, 'hüsnü': 5324, 'özkara': 5325, 'kartalspor': 5326, 'akhisar': 5327, 'serhat': 5328, 'güller': 5329, 'allodi': 5330, 'mukherjee': 5331, 'margy': 5332, 'kinmonth': 5333, '50s': 5334, 'worcestershire': 5335, 'matched': 5336, \"sussex'\": 5337, \"pakistanis'\": 5338, 'nepalese': 5339, 'quick': 5340, 'hips': 5341, '81063': 5342, 'am': 5343, 'adrian': 5344, 'primary': 5345, 'conferences': 5346, 'allendale': 5347, 'redhawks': 5348, 'widowed': 5349, 'surviving': 5350, 'separated': 5351, 'adelstein': 5352, 'tango': 5353, 'ladrones': 5354, 'mentirosos': 5355, 'merino': 5356, 'sampedro': 5357, 'gómez': 5358, 'stretch': 5359, 'workout': 5360, 'monitor': 5361, 'towel': 5362, 'hsbc': 5363, '017': 5364, 'allan': 5365, 'hawco': 5366, 'directy': 5367, 'callaghan': 5368, 'sustained': 5369, 'posterior': 5370, 'thigh': 5371, 'strains': 5372, 'wesley': 5373, 'sneijder': 5374, 'foot': 5375, 'mcmahon': 5376, 'dinos': 5377, 'endowment': 5378, '9m': 5379, '810': 5380, 'shape': 5381, 'distortion': 5382, '720': 5383, 'drives': 5384, 'distroration': 5385, '630': 5386, 'operations': 5387, 'emlc': 5388, 'flash': 5389, '3–12': 5390, '90–106': 5391, 'iguodala': 5392, 'iron': 5393, 'grenado': 5394, 'cuirass': 5395, 'linothorax': 5396, 'glass': 5397, '763': 5398, '39–38': 5399, 'whittingham': 5400, 'hornets': 5401, '103–104': 5402, 'barea': 5403, '102–122': 5404, 'doubled': 5405, 'sudket': 5406, 'prapakamol': 5407, 'saralee': 5408, 'thungthongkam': 5409, 'zhang': 5410, 'nan': 5411, 'zhao': 5412, 'yunlei': 5413, 'beasley': 5414, 'luke': 5415, 'ridnour': 5416, 'clippers': 5417, 'sonny': 5418, 'mats': 5419, 'lindgren': 5420, 'pederson': 5421, 'fashioned': 5422, 'piano': 5423, 'ankaragücü': 5424, 'birts': 5425, 'chelsea': 5426, 'seth': 5427, 'hoffman': 5428, 'russel': 5429, 'lerner': 5430, 'chet': 5431, 'hospital': 5432, 'bai': 5433, 'yang': 5434, 'niu': 5435, 'jianfeng': 5436, 'jin': 5437, 'shop': 5438, 'horrors': 5439, 'thoroughly': 5440, 'millie': 5441, 'lutetia': 5442, 'sfacs': 5443, 'art': 5444, 'dielhenn': 5445, 'adventures': 5446, 'babysitting': 5447, 'marck': 5448, '4abb07': 5449, 'claire': 5450, 'walther': 5451, 'tomasz': 5452, 'rzeszotko': 5453, 'fevre': 5454, 'ric': 5455, 'jackman': 5456, 'bradley': 5457, 'reipas': 5458, 'lahti': 5459, 'antti': 5460, 'jussi': 5461, 'niemi': 5462, 'superior': 5463, 'mckie': 5464, 'scorsune': 5465, 'andrej': 5466, 'podkonicky': 5467, 'korolev': 5468, 'coastal': 5469, 'coaches': 5470, 'flashes': 5471, 'mac': 5472, 'daft': 5473, 'coming': 5474, 'pats': 5475, 'kuchar': 5476, 'organziation': 5477, 'allister': 5478, 'nejhl': 5479, 'brynäs': 5480, '210408': 5481, 'bernd': 5482, 'wiesberger': 5483, 't38': 5484, 'items': 5485, 'dividend': 5486, '431': 5487, '121795': 5488, '121908': 5489, 'cardboard': 5490, 'ivory': 5491, 'metal': 5492, 'let': 5493, 'percussion': 5494, 'harder': 5495, 'breathe': 5496, 'stamp': 5497, 'holder': 5498, 'sex': 5499, 'somebody': 5500, 'kissed': 5501, 'coral': 5502, 'charity': 5503, 'occupation': 5504, 'reid': 5505, '3x5710': 5506, 'strike': 5507, '509940': 5508, '79475': 5509, '541380': 5510, '71080': 5511, 'postal': 5512, 'bori': 5513, 'censusn': 5514, 'eleme': 5515, 'iga': 5516, 'ahoada': 5517, 'borgo': 5518, 'byron': 5519, 'dafoe': 5520, 'avon': 5521, 'ushs': 5522, 'ct': 5523, 'marc': 5524, 'deschamps': 5525, 'carney': 5526, 'wviewers': 5527, 'fake': 5528, 'tonight': 5529, 'rich': 5530, 'correll': 5531, 'rinsler': 5532, '334': 5533, 'impossible': 5534, 'rondell': 5535, 'opponen': 5536, 'rushmi': 5537, 'chakravarthi': 5538, 'dehradun': 5539, 'uttarakhand': 5540, 'uttar': 5541, 'pradesh': 5542, 'bangalore': 5543, 'karnataka': 5544, '16526': 5545, 'mumbai': 5546, 'madurai': 5547, 'parasuram': 5548, 'express': 5549, 'thurs': 5550, '554mph': 5551, '431mph': 5552, '215mph': 5553, 'weds': 5554, '182mph': 5555, '903mph': 5556, '236mph': 5557, '516mph': 5558, 'lutz': 5559, 'dibley': 5560, 'hired': 5561, 'renato': 5562, 'gaúcho': 5563, 'silas': 5564, 'why': 5565, 'geninho': 5566, 'santos': 5567, 'sciambi': 5568, 'networks': 5569, 'tricky': 5570, 'dick': 5571, 'narrated': 5572, 'maloney': 5573, '84990': 5574, 'companions': 5575, 'confessions': 5576, 'cassell': 5577, 'blacksburg': 5578, 'acc': 5579, 'combinations': 5580, 'maroa': 5581, 'macon': 5582, 'grades': 5583, 'operates': 5584, 'www': 5585, 'mfschools': 5586, 'org': 5587, 'stefan': 5588, 'esteban': 5589, 'guerrieri': 5590, '8a': 5591, 'brandon': 5592, 'wagner': 5593, 'shutouts': 5594, 'chase': 5595, 'harrison': 5596, 'konopka': 5597, 'empire': 5598, 'mind': 5599, 'broken': 5600, 'bobin': 5601, 'affiliated': 5602, 'salt': 5603, 'babayele': 5604, 'sodade': 5605, 'единица': 5606, 'dvojka': 5607, 'semërka': 5608, 'girotti': 5609, \"24'\": 5610, '282mph': 5611, \"22'\": 5612, '141mph': 5613, \"32'\": 5614, '809mph': 5615, 'apertura': 5616, 'coefficient': 5617, 'agustín': 5618, 'marchesín': 5619, 'barony': 5620, 'mountcotton': 5621, 'gortnaskehy': 5622, 'ballymacandrick': 5623, 'fermoy': 5624, 'garryduff': 5625, 'killasseragh': 5626, 'kilmaloda': 5627, 'lackenagobidane': 5628, 'ardacrow': 5629, 'knockacullen': 5630, 'parishes': 5631, 'loughmarsh': 5632, 'skibbereen': 5633, 'tullagh': 5634, 'kilnahera': 5635, 'baronies': 5636, 'unions': 5637, 'lossess': 5638, 'containing': 5639, 'lagasse': 5640, 'mcdowell': 5641, 'kyrghizstan': 5642, 'wl': 5643, 'frazelle': 5644, 'ucla': 5645, 'rapids': 5646, '410uvp': 5647, 'czechoslovakia': 5648, 'pzl': 5649, '917': 5650, '1931': 5651, 'schnabel': 5652, 'pierre': 5653, 'jeunet': 5654, 'hxd2b': 5655, '9600': 5656, 'hxd3d': 5657, 'hxd1d': 5658, 'recipientof': 5659, 'virta': 5660, 'modulation': 5661, 'simms': 5662, 'hyroglyphic': 5663, 'screen': 5664, 'fonsi': 5665, 'nieto': 5666, 'jiri': 5667, 'drazdak': 5668, 'froilán': 5669, 'gonzález': 5670, 'emmanuel': 5671, 'graffenried': 5672, 'officine': 5673, 'alfieri': 5674, 'bore': 5675, 'specifications': 5676, 'carburetor': 5677, 'vin': 5678, 'funadhoo': 5679, 'yersinia': 5680, 'yopb': 5681, 'yscn': 5682, '10b': 5683, 'derbyshire': 5684, 'northamptonshire': 5685, \"gloucestershire's\": 5686, '10c': 5687, 'oxfordshire': 5688, \"area's\": 5689, 'lincolnshire': 5690, '10d': 5691, '637': 5692, 'swimmers': 5693, 'faster': 5694, 'slowest': 5695, 'splits': 5696, 'josefin': 5697, 'lillhage': 5698, 'lanes': 5699, 'learners': 5700, 'amateur': 5701, 'ream': 5702, \"kellogg's\": 5703, 'kyle': 5704, 'petty': 5705, \"venue's\": 5706, '1927': 5707, 'berwick': 5708, 'suzuki': 5709, 'lunsford': 5710, 'whole': 5711, '415': 5712, 'candle053tin': 5713, 'longer': 5714, 'landon': 5715, 'donovan': 5716, 'espy': 5717, 'dingell': 5718, 'diff': 5719, '595': 5720, 'colomiers': 5721, \"booth's\": 5722, '811': 5723, 'crawford': 5724, 'shadow': 5725, 'dn9': 5726, '052': 5727, \"oslo's\": 5728, '507': 5729, '985': 5730, \"people's\": 5731, 'regarding': 5732, 'casted': 5733, 'conv': 5734, 'taumalolo': 5735, \"nuku'alofa\": 5736, 'grenadiers': 5737, 'colleges': 5738, 'mountaineers': 5739, \"college's\": 5740, 'view': 5741, 'tujunja': 5742, 'tukunga': 5743, 'gelndale': 5744, 'nicky': 5745, 'severo': 5746, 'koroduadua': 5747, 'waqanibau': 5748, '4mm': 5749, 'werndl': 5750, '518': 5751, '466': 5752, 'cartridge': 5753, '550': 5754, 'candlestick': 5755, 'dwellings': 5756, 'beverly': 5757, '38km': 5758, '12924': 5759, '604': 5760, 'apr': 5761, 'vickers': 5762, '683': 5763, 'elections': 5764, '599': 5765, 'giovanni': 5766, 'manildo': 5767, 'achille': 5768, 'variati': 5769, 'afilliated': 5770, 'stefano': 5771, 'cimatti': 5772, '76mph': 5773, 'pickrell': 5774, 'fate': 5775, 'fortune': 5776, 'gelredome': 5777, 'arnhem': 5778, 'anthem': 5779, 'technoboy': 5780, 'next': 5781, 'dimensional': 5782, 'sixteen': 5783, 'colonial': 5784, 'spunk': 5785, 'chem036cd': 5786, 'chem036': 5787, 'squad': 5788, 'freestyle': 5789, 'slogan': 5790, '7347–7356': 5791, \"s24's\": 5792, 'heylen': 5793, '508': 5794, 'champaran': 5795, 'bihar': 5796, 'injuries': 5797, 'dantewada': 5798, 'chhattisgarh': 5799, 'emergency': 5800, 'braking': 5801, 'taker': 5802, 'passing': 5803, '3448': 5804, '001': 5805, '3048': 5806, '19–28–15': 5807, 'heinz': 5808, '34–23': 5809, 'tr3': 5810, 'maribor': 5811, 'cathedral': 5812, '3x17': 5813, 'serati': 5814, 'yasuhito': 5815, 'namekawa': 5816, 'satoshi': 5817, 'honma': 5818, 'mrwa': 5819, 'introduced': 5820, 'jewboy': 5821, 'staines': 5822, 'kemado': 5823, \"toy's\": 5824, 'factory': 5825, \"result's\": 5826, 'rotterdam': 5827, 'wallasey': 5828, '24–14': 5829, '065': 5830, \"overall's\": 5831, 'akeem': 5832, 'dent': 5833, '5–1–0': 5834, 'usl': 5835, 'vuts': 5836, 'viper': 5837, 'arrow': 5838, 'twr': 5839, 'raceline': 5840, 'bf': 5841, 'marron': 5842, 'excavations': 5843, 'filliponi': 5844, '凤凰卫视中文台': 5845, '凤凰卫视电影台': 5846, 'originate': 5847, '1898': 5848, 'guangzhou': 5849, 'golf': 5850, 'labs': 5851, 'narain': 5852, 'karthikeyan': 5853, 'maurer': 5854, 'penguins': 5855, 'programme': 5856, 'variety': 5857, 'beat': 5858, '21–29–10': 5859, \"cannon's\": 5860, 'hours': 5861, 'classes': 5862, 'mazda': 5863, 'laguna': 5864, 'seca': 5865, 'bultaco': 5866, 'mans': 5867, 'abt': 5868, 'crumlin': 5869, 'fcwc': 5870, '1958–1965': 5871, 'icfc': 5872, 'melanie': 5873, 'waters': 5874, 'evie': 5875, 'dominikovic': 5876, 'purpura': 5877, 'bernard': 5878, 'soulier': 5879, 'syndrome': 5880, 'normal': 5881, 'mildly': 5882, \"hemophilia's\": 5883, '823': 5884, 'aundray': 5885, \"bruce's\": 5886, '306': 5887, 'burkina': 5888, 'faso': 5889, 'vcd': 5890, 'ringers': 5891, 'loser': 5892, '30–28': 5893, '37–13': 5894, '31–28': 5895, '24–17': 5896, 'ual': 5897, '24033': 5898, 'taekwondo': 5899, 'félix': 5900, 'hurdles': 5901, \"bedford's\": 5902, 'heather': 5903, 'gems': 5904, 'collected': 5905, '978': 5906, '1401209674': 5907, 'darkness': 5908, 'remixed': 5909, '19–16': 5910, 'pelfrey': 5911, '2–5': 5912, '22–20': 5913, 'ownership': 5914, 'eicb': 5915, 'ktcj': 5916, 'k33ln': 5917, 'analog': 5918, 'k43hb': 5919, 'nbc': 5920, 'ratios': 5921, '62km': 5922, 'loeb': 5923, '04km': 5924, 'ss12': 5925, 'ss5': 5926, 'ss11': 5927, 'ord': 5928, 'kord': 5929, 'jennifer': 5930, 'nuestra': 5931, 'bellaza': 5932, 'latina': 5933, 'mikael': 5934, 'renberg': 5935, '5ddn': 5936, 'bratstvo': 5937, 'mogren': 5938, 'partnering': 5939, 'tessa': 5940, 'drexel': 5941, 'grandstand': 5942, 'rod': 5943, 'laver': 5944, '26–12–6': 5945, 'lynch': 5946, 'cubs': 5947, 'trout': 5948, 'expos': 5949, 'parrett': 5950, 'sutcliffe': 5951, 'greensboro': 5952, 'chrysler': 5953, 'southeast': 5954, 'raptors': 5955, 'barclays': 5956, 'threaded': 5957, '12–6': 5958, 'maholm': 5959, 'zendon': 5960, '423': 5961, 'vas': 5962, 'то': 5963, 'ли': 5964, 'ещё': 5965, 'будет': 5966, '592': 5967, 'canterbury': 5968, 'angiboust': 5969, 'angel': 5970, 'garcia': 5971, 'holger': 5972, 'höhne': 5973, \"o'driscoll\": 5974, 'sexton': 5975, 'paddy': 5976, 'wallace': 5977, 'cyberella': 5978, '929': 5979, '343': 5980, 'inegi': 5981, '6593': 5982, '7074': 5983, 'roswell': 5984, 'wendell': 5985, 'heston': 5986, 'wjich': 5987, 'r14': 5988, 'angara': 5989, 'opponnent': 5990, 'zx10': 5991, '1000cc': 5992, 'winehouse': 5993, 'paired': 5994, 'dido': 5995, 'female': 5996, 'elephant': 5997, \"date's\": 5998, 'lorenzo': 5999, 'stanford': 6000, 'majkowski': 6001, 'leiker': 6002, 'vn': 6003, 'cx': 6004, 'limited': 6005, 'joint': 6006, 'venture': 6007, 'cathay': 6008, 'holidays': 6009, 'travel': 6010, 'activity': 6011, 'naylor': 6012, 'bats': 6013, 'utl': 6014, 'rhp': 6015, 'stockman': 6016, 'ough': 6017, 'dob': 6018, 'sandrine': 6019, 'testud': 6020, 'relative': 6021, 'vorlich': 6022, 'commentatorhas': 6023, 'frede': 6024, 'donny': 6025, 'marshall': 6026, 'napoleon': 6027, 'lajoie': 6028, 'bronchos': 6029, 'comiskey': 6030, 'inning': 6031, 'efrain': 6032, 'valdez': 6033, 'pitching': 6034, '528': 6035, 'holds': 6036, 'schweinfurt': 6037, 'ha': 6038, 'bayreuth': 6039, 'eintracht': 6040, 'trier': 6041, 'hessen': 6042, 'fsv': 6043, 'südwes': 6044, 'sandhausen': 6045, '391': 6046, 'makarova': 6047, '11pm': 6048, '1am': 6049, 'health': 6050, 'care': 6051, '40–21–12–3': 6052, '38–20–12–2': 6053, '1–3': 6054, 'identity': 6055, 'aa': 6056, '742': 6057, '937': 6058, 'bi': 6059, 'lo': 6060, 'baton': 6061, 'zrinka': 6062, 'muhek': 6063, 'caroline': 6064, 'reed': 6065, 'kirsty': 6066, 'balfour': 6067, 'barbora': 6068, 'vojtusova': 6069, 'nikolina': 6070, 'petric': 6071, 'katarina': 6072, 'radonic': 6073, 'baron': 6074, '16–17–6': 6075, '2–7': 6076, '5–8–2': 6077, 'nordiques': 6078, '11–14–4': 6079, 'fluorescent': 6080, 'tubes': 6081, 'ned': 6082, 'corn': 6083, 's01e12': 6084, 'pills': 6085, 'pasta': 6086, 'participated': 6087, 'wjat': 6088, 'exhibition': 6089, 'conescu': 6090, '1337': 6091, '1229': 6092, 'greydis': 6093, 'gil': 6094, 'alejandra': 6095, 'espinoza': 6096, \"season's\": 6097, 'melissa': 6098, 'load': 6099, 'zemskov': 6100, 'achievement': 6101, 'koloshenko': 6102, 'married': 6103, 'consort': 6104, 'lilydale': 6105, 'fingal': 6106, '080': 6107, '717': 6108, 'chiltern': 6109, 'waltham': 6110, 'overground': 6111, 'cheshunt': 6112, 'aalesund': 6113, 'hal': 6114, 'touchdown': 6115, 'haat': 6116, 'w273bl': 6117, 'irmo': 6118, 'nevada': 6119, 'glens': 6120, '18–10–8–1': 6121, '5–4': 6122, 'clara': 6123, 'hughes': 6124, 'talakan': 6125, 'ph': 6126, 'opec': 6127, '058': 6128, '014': 6129, '380': 6130, '935': 6131, 'river': 6132, 'vessels': 6133, '414': 6134, 'psd': 6135, 'udmr': 6136, 'psc': 6137, 'basescu': 6138, 'poling': 6139, 'gallup': 6140, 'mayo': 6141, 'zərnə': 6142, 'qaxingiloy': 6143, 'fistiqli': 6144, 'keşqutan': 6145, 'iveco': 6146, '8144': 6147, 'petrol': 6148, '2805': 6149, '74536': 6150, 'legnano': 6151, '59492': 6152, 'motor': 6153, 'focuses': 6154, 'participant': 6155, 'rebaque': 6156, 'hans': 6157, 'hartmann': 6158, 'moulton': 6159, 'baumann': 6160, 'angela': 6161, 'tuvaeva': 6162, '18–11–5': 6163, '18–12–5': 6164, '14–10–4': 6165, 'rapper': 6166, 'dom': 6167, 'joly': 6168, 'cinemaa': 6169, 'gabbar': 6170, 'excellence': 6171, 'tamil': 6172, 'lengtho': 6173, 'eagle': 6174, 'crest': 6175, 'police': 6176, 'selayang': 6177, 'council': 6178, 'keynote': 6179, 'iwork': 6180, '30–25–9': 6181, '29–24–9': 6182, 'dominican': 6183, 'noel': 6184, 'radford': 6185, 'mots': 6186, 'mitte': 6187, 'ruhmannsfelden': 6188, 'taioseach': 6189, 'cultural': 6190, 'educational': 6191, 'agriculatural': 6192, 'panels': 6193, 'universities': 6194, '7–1': 6195, '0–3': 6196, 'michele': 6197, 'assaf': 6198, 'turkmenistan': 6199, \"silver's\": 6200, \"gold's\": 6201, 'swimming': 6202, 'albuquerque': 6203, \"alamos'\": 6204, 'shekhsar': 6205, 'mccoll': 6206, 'visited': 6207, 'visit': 6208, 'association': 6209, 'winger': 6210, 'afanasiev': 6211, 'alexandre': 6212, '247': 6213, 'rolla': 6214, 'bigelow': 6215, 'longi': 6216, 'tude': 6217, '청명': 6218, '清明': 6219, 'cheongmyeong': 6220, 'vietnamese': 6221, '¹': 6222, '芒種': 6223, '芒种': 6224, 'mángzhòng': 6225, '경칩': 6226, '驚蟄': 6227, 'gyeongchip': 6228, '8–5': 6229, '45–17': 6230, 'jackie': 6231, 'w273bs': 6232, 'woodstock': 6233, 'w223bp': 6234, '784': 6235, '5c': 6236, 'टे': 6237, 'थ': 6238, 'tha': 6239, 'चे': 6240, 'ङ': 6241, 'ng': 6242, 'na': 6243, 'खी': 6244, 'khi': 6245, 'सा': 6246, '18b': 6247, 'est': 6248, '610': 6249, 'hindu': 6250, 'emanuel': 6251, 'aron': 6252, 'lofton': 6253, 'ecc': 6254, 'comeback': 6255, 'cornerback': 6256, 'minerva': 6257, 'danaide': 6258, 'eh': 6259, '089': 6260, '41–27': 6261, 'margolin': 6262, 'duk': 6263, 'k234ag': 6264, 'k231bg': 6265, 'k299ar': 6266, 'ruffin': 6267, 'carman': 6268, 'sanderson': 6269, 'estimate': 6270, 'sinon': 6271, 'jeriome': 6272, 'robertson': 6273, '872': 6274, 'mcclure': 6275, 'mcphearson': 6276, '1997–99': 6277, 'dallat': 6278, \"deputy's\": 6279, 'wnbc': 6280, 'marist': 6281, 'consider': 6282, 'rudy': 6283, 'giuliani': 6284, 'newsweek': 6285, 'him': 6286, 'stuttgart': 6287, 'twins': 6288, '845': 6289, '7–4': 6290, '596': 6291, 'malaysia': 6292, 'minto': 6293, '1050': 6294, 'parka': 6295, 'kendo': 6296, 'k218be': 6297, 'valencia': 6298, '734': 6299, 'maxi': 6300, \"jet's\": 6301, '309': 6302, 'foreign': 6303, 'officer': 6304, 'mulford': 6305, 'vermont': 6306, '203': 6307, 'cameroon': 6308, 'helioptic': 6309, 'salford': 6310, '702': 6311, 'melton': 6312, '1468': 6313, 'darley': 6314, '1076': 6315, 'dolly': 6316, 'parton': 6317, 'aretha': 6318, 'cleo': 6319, '2481': 6320, '1893': 6321, '1990s': 6322, '1891': 6323, '1960s': 6324, '1940s': 6325, 'marcio': 6326, 'lassiter': 6327, 'rookie': 6328, 'landfall': 6329, 'saffirsimpson': 6330, 'nhc': 6331, 'advisory': 6332, \"athlete's\": 6333, 'nasa': 6334, 'infrared': 6335, 'wire': 6336, 'herschel': 6337, 'observatory': 6338, '1888': 6339, 'hmsmedusa': 6340, 'nicd': 6341, '500ma': 6342, 'constant': 6343, 'drain': 6344, 'fes': 6345, 'nominal': 6346, 'independents': 6347, '41633': 6348, 'jaguars': 6349, '261': 6350, 'funk': 6351, '−13': 6352, 'queens': 6353, '7083': 6354, '786': 6355, '1135': 6356, '62nd': 6357, 'globe': 6358, 'recently': 6359, '2998': 6360, 'wyman': 6361, 'roca': 6362, 'ernie': 6363, 'els': 6364, 'eurosport': 6365, 'poker': 6366, 'espn': 6367, 'calcio': 6368, 'zhiming': 6369, 'carcharodontosaurid': 6370, 'discovered': 6371, 'tooth': 6372, 'ornithischia': 6373, 'uncertain': 6374, 'placement': 6375, 'coelurosauria': 6376, 'nomen': 6377, 'dubium': 6378, 'galton': 6379, '1247': 6380, 'surplus': 6381, 'slate': 6382, 'sorted': 6383, '191': 6384, '21–22': 6385, 'fg': 6386, 'uefa': 6387, 'panathinaikos': 6388, 'hibernians': 6389, 'r1': 6390, 'dundee': 6391, 'domenik': 6392, \"hixon's\": 6393, 'rush': 6394, 'curveball': 6395, 'egypt': 6396, 'egy': 6397, 'tunisia': 6398, 'tun': 6399, 'eth': 6400, 'magik': 6401, 'muzik': 6402, 'dp068': 6403, 'astrological': 6404, 'vita': 6405, 'aquarius': 6406, 'prison': 6407, 'spouse': 6408, 'partnerships': 6409, 'assts': 6410, 'alford': 6411, 'lakeshore': 6412, 'caliguire': 6413, 'sociedad': 6414, 'hibernian': 6415, 'opposition': 6416, 'knicks': 6417, '421': 6418, '39–21–4': 6419, 'philoxenus': 6420, 'anicetus': 6421, 'demetrios': 6422, 'royal': 6423, 'polyxenos': 6424, 'epiphanes': 6425, 'soter': 6426, 'dmytro': 6427, 'hlushchenko': 6428, '14100000000000001': 6429, 'miranda': 6430, 'timeshift': 6431, 'xd': 6432, 'famiglia': 6433, 'boomerang': 6434, 'nickelodeon': 6435, '710': 6436, '666': 6437, 'rebels': 6438, '경상남도': 6439, '平安北道': 6440, '강원도': 6441, 'wonsan': 6442, '경기도': 6443, 'cheongju': 6444, 'montepaschi': 6445, 'siena': 6446, 'edge': 6447, 'mediacityuk': 6448, 'las': 6449, 'vegas': 6450, 'iman': 6451, 'mcfarland': 6452, 'cetera': 6453, 'degraffenreid': 6454, 'grottoes': 6455, 'fayetteville': 6456, '85–90': 6457, 'marek': 6458, 'dupnitsa': 6459, 'b0011141': 6460, 'uici': 6461, '1069': 6462, '1766390': 6463, '7–2': 6464, '949': 6465, 'colts': 6466, '2ki': 6467, 'da': 6468, 'conquista': 6469, '538': 6470, 'sperafico': 6471, 'reay': 6472, '19–4': 6473, 'fahaheel': 6474, 'omonia': 6475, 'nicosia': 6476, \"league's\": 6477, 'bloomfield': 6478, 'hills': 6479, 'coyotes': 6480, 'canaan': 6481, 'boris': 6482, 'picano': 6483, 'nacci': 6484, 'sayers': 6485, 'smylie': 6486, 'loera': 6487, '16–may': 6488, '28–april': 6489, 'obrist': 6490, 'merkley': 6491, '386': 6492, '1537': 6493, '980': 6494, '1906': 6495, '992': 6496, 'maccabi': 6497, 'tel': 6498, 'aviv': 6499, 'novica': 6500, 'veličković': 6501, 'nikola': 6502, 'peković': 6503, \"year's\": 6504, \"rank's\": 6505, 'hms': 6506, 'cheshire': 6507, 'ronnie': 6508, 'bremer': 6509, 'telstra': 6510, 'selby': 6511, 'isabelle': 6512, 'brayley': 6513, '535': 6514, '923': 6515, 'domestic': 6516, 'congenital': 6517, 'afibrinogenemia': 6518, 'liver': 6519, 'early': 6520, 'vicenzo': 6521, '1335': 6522, \"birthplace's\": 6523, 'inches': 6524, 'concord': 6525, 'koncak': 6526, 'kempton': 6527, '626': 6528, 'deport': 6529, 'galloway': 6530, 'armbrister': 6531, 'culligran': 6532, 'stationo': 6533, 'kwh': 6534, 'krishna': 6535, 'nic': 6536, 'vanderbilt': 6537, \"thompson's\": 6538, 'spikes': 6539, 'gigi': 6540, 'fernández': 6541, 'natalia': 6542, 'zvereva': 6543, 'lori': 6544, 'mcneil': 6545, 'jana': 6546, 'novotná': 6547, 'britton': 6548, 'johnsen': 6549, 'fault': 6550, 'tolerant': 6551, 'sync': 6552, 'foundation': 6553, 'addition': 6554, 'access': 6555, 'connections': 6556, 'rras': 6557, 'amm300dbo22gq': 6558, 'tmm500dbo22gq': 6559, '12x': 6560, '512': 6561, 'kb': 6562, '11x': 6563, 'jermaine': 6564, 'romans': 6565, 'aston': 6566, 'canale': 6567, 'aste': 6568, 'documentaries': 6569, 'nettuno': 6570, 'sat': 6571, 'uno': 6572, '13–10': 6573, '982': 6574, '382': 6575, '28–20': 6576, '888': 6577, 'charlton': 6578, 'joachim': 6579, 'streich': 6580, '378': 6581, '229': 6582, '440': 6583, 'awarded': 6584, '46th': 6585, '44th': 6586, 'sanyo': 6587, 'knights': 6588, 'benson': 6589, 'kemenangan': 6590, 'cinta': 6591, 'progress': 6592, 'aris': 6593, 'runtuwene': 6594, 'sung': 6595, 'aku': 6596, 'tetap': 6597, 'milikmu': 6598, 'walmart': 6599, 'gas': 6600, 'exxonmobil': 6601, 'aces': 6602, 'knoxville': 6603, 'cherokees': 6604, 'lou': 6605, 'davenport': 6606, 'krasnoroutskaya': 6607, 'peterborough': 6608, 'wiebe': 6609, 'founed': 6610, 'yldefonso': 6611, 'solá': 6612, 'morales': 6613, 'mayagüez': 6614, 'join': 6615, 'clemente': 6616, 'akron': 6617, 'goodyear': 6618, 'wingfoots': 6619, 'valeriano': 6620, 'allès': 6621, 'menorca': 6622, '1385': 6623, '1238': 6624, '1066': 6625, 'cancelled': 6626, 'dreamcast': 6627, 'spec': 6628, 'stealth': 6629, 'patrol': 6630, 'connection': 6631, 'proxyconn': 6632, 'signature': 6633, 'embassy': 6634, 'pictures': 6635, 'disturb': 6636, \"harmon's\": 6637, 'jaunt': 6638, 'palimpsest': 6639, 'becky': 6640, 'hammon': 6641, 'wnba': 6642, 'fleck': 6643, 'bud': 6644, 'holscher': 6645, 'warrington': 6646, 'wolves': 6647, '031': 6648, '002': 6649, 'charley': 6650, \"o'day\": 6651, 'arn': 6652, 'enzv': 6653, 'icap': 6654, 'bgbw': 6655, 'birk': 6656, 'bll': 6657, 'rosso': 6658, 'theo': 6659, 'df': 6660, 'toumani': 6661, 'diagouraga': 6662, 'mf': 6663, 'klas': 6664, 'akesson': 6665, 'whichscore': 6666, '497': 6667, 'threatt': 6668, '433': 6669, '819': 6670, 'hajjah': 6671, 'mahrah': 6672, 'mahwit': 6673, 'mukalla': 6674, '028': 6675, '556': 6676, 'iverson': 6677, 'chauncey': 6678, 'billups': 6679, '129–105': 6680, '20–16': 6681, 'grugin': 6682, 'langella': 6683, \"flyers'\": 6684, '813mph': 6685, 'shens': 6686, 'gamo': 6687, 'noun': 6688, 'root': 6689, 'mshobl': 6690, 'mde': 6691, 'roots': 6692, '32nd': 6693, 'lybrant': 6694, 'smiley': 6695, 'religious': 6696, 'athletics': 6697, 'lords': 6698, 'ladies': 6699, 'nassau': 6700, 'veterans': 6701, 'pauline': 6702, 'mclynn': 6703, \"graeme's\": 6704, 'český': 6705, 'krumlov': 6706, 'ck': 6707, 'strakonice': 6708, 'miner': 6709, \"marshall's\": 6710, 'svetlana': 6711, 'loboda': 6712, 'banwen': 6713, 'blaengarw': 6714, 'fow': 6715, 'hirwaun': 6716, '231': 6717, 'comes': 6718, 'studholm': 6719, '429': 6720, 'research': 6721, 'lennox': 6722, 'kurt': 6723, '349': 6724, 'luiz': 6725, 'claudio': 6726, 'das': 6727, 'dores': 6728, 'cédric': 6729, 'pioline': 6730, 'dependencia': 6731, \"sexual's\": 6732, \"sur's\": 6733, 'leon': 6734, 'patton': 6735, 'heartland': 6736, \"callaway's\": 6737, 'copyright': 6738, 'shake': 6739, 'stir': 6740, 'desert': 6741, 'our': 6742, 'charming': 6743, 'lady': 6744, 'commonly': 6745, 'π': 6746, 'γ': 6747, 'antiparticle': 6748, 'mess': 6749, 'mev': 6750, 'c2': 6751, '±': 6752, 'jem': 6753, 'karacan': 6754, 'woth': 6755, 'tweedie': 6756, \"yates'\": 6757, 'jodi': 6758, 'kenoyer': 6759, 'christina': 6760, 'wheeler': 6761, 'wolfe': 6762, 'constructionjobs': 6763, 'bohn': 6764, 'chameleon': 6765, 'vinagre': 6766, 'stand': 6767, 'butt': 6768, 'scoot': 6769, '503': 6770, '409': 6771, '762': 6772, 'afrikaans': 6773, '27504': 6774, 'richfield': 6775, 'jamaar': 6776, 'gibril': 6777, '168': 6778, 'jillian': 6779, 'kirkhope': 6780, 'daultan': 6781, \"leveille's\": 6782, 'dementieva': 6783, 'semifinalists': 6784, 'afi': 6785, 'sensor': 6786, 'sized': 6787, '48x36': 6788, 'mp': 6789, 'cantare': 6790, 'rabat': 6791, 'athlone': 6792, 'bodry': 6793, 'csv': 6794, 'pere': 6795, 'riba': 6796, \"ready's\": 6797, 'barclay': 6798, 'tagg': 6799, \"da'tara\": 6800, 'trained': 6801, 'guadalcanal': 6802, 'খেলে': 6803, 'vf': 6804, 'বললে': 6805, 'chena': 6806, 'tui': 6807, 'dhuli': 6808, 'ferbey': 6809, '2002–03': 6810, '496': 6811, 'error': 6812, '516': 6813, 'crystal': 6814, 'monica': 6815, 'seles': 6816, 'hingis': 6817, 'justine': 6818, 'henin': 6819, 'ted': 6820, 'horn': 6821, 'lakewood': 6822, 'jud': 6823, 'larson': 6824, '190': 6825, 'october–2': 6826, 'balangir': 6827, 'hatibandha': 6828, 'cinema': 6829, 'samaleswari': 6830, 'sonepur': 6831, 'hirakud': 6832, 'scimitars': 6833, 'milton': 6834, 'keynes': 6835, 'lightning': 6836, 'communities': 6837, 'balmoral': 6838, 'rural': 6839, 'semifinalist': 6840, 'biscane': 6841, '689': 6842, 'ducati': 6843, \"honda's\": 6844, 'tyson': 6845, 'banknorth': 6846, 'ramon': 6847, 'dominguez': 6848, 'icabad': 6849, '984': 6850, \"stanford's\": 6851, 'gilmer': 6852, 'albignasego': 6853, 'veneto': 6854, '475': 6855, 'kosuke': 6856, 'matsuura': 6857, 'dario': 6858, 'franchitti': 6859, 'ufc': 6860, 'rockel': 6861, 'bolger': 6862, 'submission': 6863, 'guillotine': 6864, 'choke': 6865, 'sg': 6866, '484': 6867, 'kass': 6868, '30000000000000004': 6869, '293': 6870, 't52': 6871, 't60': 6872, 'daniels': 6873, 'vaccine': 6874, 'beta': 6875, 'pbt2': 6876, 'od': 6877, '909': 6878, 'manufacturuer': 6879, 'grod': 6880, 'valentino': 6881, 'rossi': 6882, 'wwhich': 6883, 'rder': 6884, 'kr211v': 6885, 'hopkins': 6886, '797': 6887, '559': 6888, '852': 6889, '565': 6890, 'incredibles': 6891, 'brave': 6892, 'holden': 6893, 'motors': 6894, 'greenfield': 6895, 'mowers': 6896, 'creuse': 6897, 'presidet': 6898, 'yves': 6899, 'krattinger': 6900, 'socialist': 6901, 'kennel': 6902, 'hautes': 6903, 'alpes': 6904, 'ticha': 6905, 'varna': 6906, 'vihren': 6907, 'pirin': 6908, 'muhammad': 6909, 'fairul': 6910, 'azreen': 6911, 'bin': 6912, 'mohd': 6913, 'zahid': 6914, 'kuala': 6915, 'lumpur': 6916, 'specialty': 6917, 'contemporary': 6918, 'student': 6919, 'shriver': 6920, 'homewood': 6921, 'bp': 6922, 'honvéd': 6923, 'montgomery': 6924, 'biscuits': 6925, 'von': 6926, 'braun': 6927, 'indoor': 6928, 'gridiron': 6929, 'dixie': 6930, 'alive': 6931, 'atco': 6932, 'ep': 6933, 'stampeders': 6934, 'sedaka': 6935, 'bottom': 6936, 'celine': 6937, 'dion': 6938, 'marx': 6939, \"artist's\": 6940, 'thawra': 6941, 'ayyam': 6942, 'telecoms': 6943, 'government': 6944, 'owned': 6945, 'jumhuriya': 6946, '36ers': 6947, 'mckenzie': 6948, 'tory': 6949, 'nixon': 6950, '1677': 6951, 'marple': 6952, '1711': 6953, 'ages': 6954, '106142': 6955, '1206': 6956, \"chapel's\": 6957, '730': 6958, '106135': 6959, 'locality': 6960, 'mersey': 6961, 'surveying': 6962, 'ibm': 6963, 'collection': 6964, 'configuration': 6965, 'franchase': 6966, '1063': 6967, 'gelora': 6968, 'sriwijaya': 6969, '2–2': 6970, 'mbpj': 6971, '4–0': 6972, 'alam': 6973, '249': 6974, '839': 6975, 'rw': 6976, 'corey': 6977, 'fienhage': 6978, 'lw': 6979, '23–17': 6980, 'webometrics': 6981, 'amusement': 6982, 'corporation': 6983, 'lists': 6984, 'igokea': 6985, 'concordia': 6986, \"buffalo's\": 6987, 'pacers': 6988, '£5726m': 6989, 'paste': 6990, \"gillis'\": 6991, 't3': 6992, 'len': 6993, 'mattiace': 6994, 't10': 6995, '951': 6996, 'chile': 6997, 'og': 6998, '950': 6999, \"brown's\": 7000, 'wal': 7001, 'maynard': 7002, 'farquharson': 7003, 'khamtai': 7004, 'siphandon': 7005, 'oudom': 7006, 'khattigna': 7007, 'mile': 7008, 'barry': 7009, 'louisiana': 7010, 'hedo': 7011, 'türkoğlu': 7012, '101–92': 7013, '13–12': 7014, '562': 7015, '686': 7016, 'sharpe': 7017, \"28'\": 7018, 'sublette': 7019, 'lovell': 7020, 'boulder': 7021, 'fleetcenter': 7022, 'boynton': 7023, 'arnold': 7024, 'ra': 7025, 'curry': 7026, '330': 7027, 'silvo': 7028, 'svajger': 7029, '303': 7030, 'belle': 7031, 'nineties': 7032, 'klondike': 7033, 'annie': 7034, 'ratoff': 7035, '1933': 7036, '2xcd': 7037, 'detail': 7038, 'sonic': 7039, 'seducer': 7040, 'cold': 7041, 'hands': 7042, 'seduction': 7043, 'contains': 7044, 'machineries': 7045, 'joy': 7046, 'thsn': 7047, '7000000000000001': 7048, 'angle': 7049, '°': 7050, 'ilario': 7051, 'dionisi': 7052, 'yzf': 7053, 'r6': 7054, 'tsuneyuki': 7055, 'nakajima': 7056, '14–10': 7057, '568': 7058, '19–10': 7059, 'essi': 7060, 'sainio': 7061, 'w29': 7062, '–8': 7063, 'paraguay': 7064, '½': 7065, 'voleuse': 7066, 'wth': 7067, '7f': 7068, 'determined': 7069, '–1': 7070, 'lyricist': 7071, 'sirapatara': 7072, 'kalayapanid': 7073, '188': 7074, '524': 7075, 'hearts': 7076, 'aysel': 7077, 'arash': 7078, 'kamil': 7079, 'mikulčík': 7080, 'nela': 7081, 'quartissimo': 7082, 'feat': 7083, 'amer': 7084, 'sulaiman': 7085, '248': 7086, '004': 7087, '322': 7088, 'florianopolis': 7089, 'alton': 7090, 'lister': 7091, 'lagarde': 7092, 'alief': 7093, 'elsik': 7094, 'seiji': 7095, 'ara': 7096, 'yuji': 7097, 'tachikawa': 7098, 'universiade': 7099, 'grizzlies': 7100, 'depaul': 7101, 'm1895': 7102, 'm1897': 7103, 'carbine': 7104, '1168mm': 7105, '750mm': 7106, 'passengar': 7107, '100m': 7108, 'mikalai': 7109, 'shubianok': 7110, '908': 7111, '1500m': 7112, '692': 7113, '7906': 7114, '7838': 7115, 'natches': 7116, 'jesús': 7117, 'ramírez': 7118, 'bueno': 7119, 'tena': 7120, 'morelia': 7121, 'omar': 7122, 'arellano': 7123, 'pekerman': 7124, 'powierza': 7125, 'koprivnica': 7126, 'zadar': 7127, 'nk': 7128, 'zagreb': 7129, 'velika': 7130, 'identifier': 7131, 'fairview': 7132, '569': 7133, 'torpedo': 7134, 'lu': 7135, 'traction': 7136, 'yarmouth': 7137, 'barrington': 7138, 'baptist': 7139, '–3': 7140, '–5': 7141, 'holthe': 7142, 'dalfjäll': 7143, 'morton': 7144, 'wtih': 7145, 'emc': 7146, 'insurance': 7147, 'moines': 7148, 'julius': 7149, 'boros': 7150, 'cocy': 7151, '78365': 7152, 'gala': 7153, 'fr': 7154, 'iowa': 7155, 'minneapolis': 7156, 'mn': 7157, 'l0': 7158, 'ap': 7159, 'poly': 7160, 'slo': 7161, 'scarborough': 7162, \"zotto's\": 7163, 'kin': 7164, 'fung': 7165, 'leung': 7166, 'yen': 7167, 'haiti': 7168, '3601°n': 7169, '9764°w': 7170, 'baja': 7171, '1301°n': 7172, '2206°w': 7173, 'dillingham': 7174, \"furgol's\": 7175, '294': 7176, 'yanks': 7177, '1948': 7178, 'kidd': 7179, '3–0': 7180, 'luton': 7181, 'resulting': 7182, \"wednesday's\": 7183, '077': 7184, 'donnelley': 7185, 'lpga': 7186, 'founders': 7187, 'krajicek': 7188, 'estoril': 7189, 'yevgeny': 7190, 'kafelnikov': 7191, 'againt': 7192, 'saints': 7193, 'bga2μpga2': 7194, '727': 7195, '5e': 7196, '9n': 7197, 'raskova': 7198, 'paterae': 7199, \"messin'\": 7200, 'reilly': 7201, 'grace': 7202, 'dunne': 7203, 'duffy': 7204, 'bandon': 7205, 'allardville': 7206, 'isidore': 7207, \"floyd's\": 7208, 'jiangzhou': 7209, 'wollongong': 7210, 'k218dz': 7211, 'brownfield': 7212, 'k216ga': 7213, 'buck': 7214, 'mystrom': 7215, 'hicks': 7216, 'pyburn': 7217, 'caraway': 7218, 'nicula': 7219, 'petr': 7220, 'korda': 7221, \"country's\": 7222, 'tc': 7223, 'sbisa': 7224, 'flyers': 7225, 'walsall': 7226, 'konica': 7227, 'alcott': 7228, 'safeco': 7229, '279': 7230, 'olivé': 7231, '815': 7232, 'eriksen': 7233, 'jens': 7234, 'jacobsen': 7235, 'valdosta': 7236, 'butch': 7237, 'webster': 7238, 'southwestern': 7239, '690': 7240, '541': 7241, 'stockport': 7242, 'wycombe': 7243, 'leicester': 7244, 'waverley': 7245, 'even': 7246, 'tachi': 7247, 'fights': 7248, 'kotc': 7249, 'mortal': 7250, 'sins': 7251, 'freddie': 7252, 'feeley': 7253, 'frankfort': 7254, 'รอเธอหันมา': 7255, 'โฟกัส': 7256, 'จิระกุล': 7257, 'screenplay': 7258, 'fullback': 7259, 'hooker': 7260, 'rohan': 7261, 'milestone': 7262, '355': 7263, '833': 7264, '976': 7265, 'doll': 7266, '442': 7267, '257': 7268, 'zach': 7269, 'fenson': 7270, 'polo': 7271, '2005–06': 7272, 'plys': 7273, 'isaacson': 7274, 't11': 7275, 'oblast': 7276, 'nenets': 7277, 'yamal': 7278, '883': 7279, '385': 7280, '483': 7281, 'glenelg': 7282, 'licensed': 7283, 'arms': 7284, 'punches': 7285, 'mccrary': 7286, 'rhines': 7287, '28–7': 7288, '1401': 7289, 'dauphin': 7290, '1542': 7291, '1393': 7292, 'marriage': 7293, '1412': 7294, '1461': 7295, 'kirk': 7296, 'triplett': 7297, 'congregation': 7298, 'manitoba': 7299, '439': 7300, '033': 7301, '671': 7302, 'jamboree': 7303, 'kazman': 7304, 'producer': 7305, 'producers': 7306, 'gisborne': 7307, 'kobe': 7308, 'slams': 7309, '10–6': 7310, 'dale': 7311, 'hartt': 7312, 'matchday': 7313, 'whetstone': 7314, '5775°n': 7315, '4856°w': 7316, 'mauna': 7317, 'kea': 7318, '7859°n': 7319, '7039°w': 7320, 'alameda': 7321, 'csl': 7322, 'guiyang': 7323, '216': 7324, \"o'meara\": 7325, 't22': 7326, 'maltese': 7327, 'committee': 7328, 'impact': 7329, 'dwayne': 7330, 'rosario': 7331, 'u23': 7332, 'debrecen': 7333, 'blocks': 7334, 'turnovers': 7335, 'bolton': 7336, 'stoke': 7337, '428': 7338, 'weiskopf': 7339, '31–37–9': 7340, 'alexandru': 7341, 'frimu': 7342, 'costel': 7343, 'rădulescu': 7344, 'lie': 7345, '20–18': 7346, 'gardnar': 7347, 'mulloy': 7348, '8–10': 7349, 'cammell': 7350, 'laird': 7351, 'birkenhead': 7352, 'ramilya': 7353, 'iskander': 7354, 'performing': 7355, 'voyage': 7356, 'varenka': 7357, 'bakunin': 7358, 'catholic': 7359, \"redbirds'\": 7360, \"edwardsville's\": 7361, 'stems': 7362, 'syni': 7363, 'siangu': 7364, 'ön': 7365, 'fisker': 7366, 'feminine': 7367, 'sunar': 7368, 'skipum': 7369, 'duke': 7370, 'snedeker': 7371, 'schwante': 7372, 'eichstädt': 7373, 'bärenklau': 7374, 'lundqvist': 7375, '4–2': 7376, 'wheatley': 7377, 'cunningham': 7378, '6–6': 7379, 'victorias': 7380, 'various': 7381, 'computers': 7382, 'consoles': 7383, 'vaive': 7384, 'exist': 7385, 'kennedy': 7386, '31–19–9': 7387, '30–19–9': 7388, 'glen': 7389, 'harvie': 7390, '774': 7391, 'carlson': 7392, '465': 7393, \"essendon's\": 7394, '491': 7395, 'bosh': 7396, 'niittymaki': 7397, '28–17–5': 7398, 'stine': 7399, 'findsen': 7400, 'sonne': 7401, '–12': 7402, 'locomotives': 7403, '2t': 7404, '1911': 7405, 'villarreal': 7406, 'walter': 7407, 'brennan': 7408, 'ordinary': 7409, 'ar': 7410, 'p82': 7411, 'asiatech': 7412, 'at02': 7413, '050': 7414, 'rubens': 7415, 'barrichello': 7416, '398cc': 7417, '399cc': 7418, 'haws': 7419, '646': 7420, '552': 7421, 'b1': 7422, '682': 7423, 'practice': 7424, 'rs2': 7425, 'puppy': 7426, 'vistor': 7427, 'frequence': 7428, 'w279at': 7429, '16–14–6': 7430, '918': 7431, 'd6': 7432, 'niki': 7433, 'lauda': 7434, 'mp4': 7435, '1c': 7436, 'piercarlo': 7437, 'ghinzani': 7438, 'dederang': 7439, 'beauty': 7440, 'thirds': 7441, \"17's\": 7442, 'barnawartha': 7443, 'alesi': 7444, \"wurz's\": 7445, 'magia': 7446, 'nuda': 7447, 'lavagnino': 7448, 'aka': 7449, 'uncensored': 7450, \"pegasus'\": 7451, '7318a': 7452, 'declination': 7453, 'spiral': 7454, 'galaxy': 7455, '7337': 7456, '7343': 7457, '542': 7458, 'milan': 7459, 'massimino': 7460, 'roma': 7461, 'f–a': 7462, '1–2': 7463, 'lille': 7464, 'chaguaramas': 7465, 'higest': 7466, 'gaudion': 7467, '13–10–4': 7468, 'irvine': 7469, 'dual': 7470, 'e2140': 7471, 'ghz': 7472, 'hh80557pg0491m': 7473, 'acquired': 7474, 'psinet': 7475, 'n13': 7476, 'hoosierdome': 7477, 'constructed': 7478, 'warwick': 7479, 'tg181': 7480, 'direito': 7481, 'prop': 7482, 'rui': 7483, 'cordeiro': 7484, 'penalva': 7485, 'millar': 7486, '369': 7487, 'dodge': 7488, '573': 7489, 'joakim': 7490, 'andersson': 7491, 'zack': 7492, 'torquato': 7493, 'quart': 7494, 'nathan': 7495, 'barrett': 7496, 'organization': 7497, 'legatum': 7498, 'institute': 7499, 'alense': 7500, 'vivaldi': 7501, 'trentino': 7502, 'jamarr': 7503, 'dawan': 7504, 'spun': 7505, 'fort': 7506, 'lauderdale': 7507, 'beaumont': 7508, 'redfield': 7509, 'liberty': 7510, 'ayrton': 7511, 'senna': 7512, 'monza': 7513, 'riccardo': 7514, 'patrese': 7515, 'junio': 7516, 'sills': 7517, 'trophys': 7518, 'aldershot': 7519, 'logan': 7520, 'ralf': 7521, 'stirling': 7522, 'lombank': 7523, 'trophy': 7524, \"ld's\": 7525, 'con': 7526, 'antawn': 7527, 'jamison': 7528, 'goalkeeper': 7529, \"hannay's\": 7530, 'leninogorsk': 7531, 'tba': 7532, 'redevelopment': 7533, 'tavárez': 7534, '66097': 7535, '66112': 7536, \"l'île\": 7537, 'dorval': 7538, 'muljadi': 7539, 'cochise': 7540, 'proposed': 7541, 'az7570028582': 7542, 'gsm': 7543, '450': 7544, 'suspension': 7545, 'departyre': 7546, 'sacked': 7547, 'livingston': 7548, 'argentine': 7549, 'spanish': 7550, 'reutemann': 7551, 'romeo': 7552, 'dmbs': 7553, 'tcl': 7554, 'dmcl': 7555, 'livery': 7556, 'coaching': 7557, 'adb977554': 7558, \"alianza's\": 7559, 'promotion': 7560, '36–27': 7561, 'retried': 7562, 'williamson': 7563, 'lapped': 7564, 'dodgers': 7565, 'commentary': 7566, 'commentators': 7567, 'worked': 7568, 'hewitt': 7569, 'doing': 7570, 'goldham': 7571, 'cbc': 7572, 'comunicaciones': 7573, 'amador': 7574, 'fantasia': 7575, 'drake': 7576, 'tri': 7577, 'blackhawks': 7578, '655': 7579, 'hemholtz': 7580, 'helmholtz': 7581, 'constrcuted': 7582, 'oulton': 7583, 'xiv': 7584, 'launceston': 7585, 'sanath': 7586, 'jayasuriya': 7587, 'roshan': 7588, 'mahanama': 7589, 'avishka': 7590, 'gunawardene': 7591, \"ta'qali\": 7592, 'airs': 7593, 'rmax': 7594, 'rpeak': 7595, 'pflops': 7596, 'nürburgring': 7597, 'eoin': 7598, 'holohan': 7599, 'peyton': 7600, 'siva': 7601, 'hawkeyes': 7602, 'pagel': 7603, 'began': 7604, 'sultan': 7605, 'ismail': 7606, 'ampang': 7607, 'appam': 7608, 'feb': 7609, 'gardermobanen': 7610, 'geumjeong': 7611, 'tunnel': 7612, 'gnri': 7613, 'croagh': 7614, 'patrick': 7615, 'thierry': 7616, 'boutsen': 7617, 'isle': 7618, 'bedians': 7619, 'philip': 7620, 'fotheringham': 7621, 'pescara': 7622, '1982–83': 7623, '1983–84': 7624, '1984–85': 7625, 'giuseppe': 7626, 'meazza': 7627, 'holding': 7628, 'malartic': 7629, 'dupuy': 7630, '311': 7631, '370': 7632, '8–9': 7633, 'insider': 7634, 'chidi': 7635, 'boy': 7636, 'weighed': 7637, '810g': 7638, 'chukwubuikem': 7639, 'maduabuchi': 7640, '730g': 7641, 'carrera': 7642, 'jeans': 7643, 'vagabond': 7644, 'charly': 7645, 'mottet': 7646, 'maufacturer': 7647, 'pontiac': 7648, 'buick': 7649, '971': 7650, 'apbo': 7651, '0280': 7652, 'adelphi': 7653, 'level': 7654, 'beddall': 7655, 'fowler': 7656, 'omega': 7657, 'dot': 7658, 'required': 7659, 'airing': 7660, 'costume': 7661, 'drama': 7662, \"allward's\": 7663, '85th': 7664, 'anniversary': 7665, 'vimy': 7666, '7713': 7667, '035': 7668, 'moorabbin': 7669, \"bay's\": 7670, 'unanimous': 7671, 'wataru': 7672, 'sakata': 7673, 'fighting': 7674, 'reruns': 7675, 'programming': 7676, 'reaper': 7677, 'plant': 7678, '1867': 7679, 'fwewer': 7680, 'tallagatta': 7681, '1326': 7682, '45–18–6': 7683, 'cowansville': 7684, 'brome': 7685, 'missisquoi': 7686, 'blaise': 7687, 'richelieu': 7688, 'haut': 7689, 'laurent': 7690, \"footscray's\": 7691, 'prague': 7692, 'tokyo': 7693, 'radoslav': 7694, 'nesterović': 7695, 'calderón': 7696, 'dj': 7697, 'casper': 7698, 'senators': 7699, 'petron': 7700, 'boosters': 7701, 'loe': 7702, 'halfshaft': 7703, 'w224bn': 7704, 'w262al': 7705, 'henri': 7706, 'pescarolo': 7707, 'mars': 7708, 'fictional': 7709, '2112': 7710, 'characters': 7711, 'neilan': 7712, 'astounding': 7713, 'manywins': 7714, 'dunfermline': 7715, 'adriano': 7716, 'martins': 7717, 'fickett': 7718, 'bamako': 7719, 'algeria': 7720, 'porto': 7721, 'novo': 7722, 'moe': 7723, 'lemay': 7724, 'lib': 7725, 'dem': 7726, 'yougov': 7727, 'itv': 7728, 'wales': 7729, 'conducted': 7730, 'swimsuits': 7731, 'gowns': 7732, 'rv': 7733, 'crs': 7734, 'subframes': 7735, 'stevenage': 7736, 'grasmoor': 7737, '756': 7738, '938': 7739, '846': 7740, 'wolfpack': 7741, 'propulsion': 7742, 'diesel': 7743, 'orion': 7744, 'slf': 7745, '230': 7746, 'mallala': 7747, 'clerk': 7748, 'supervisor': 7749, 'shuttle': 7750, '4km': 7751, 'grip': 7752, 'somone': 7753, 'wes': 7754, 'ours': 7755, 'reception': 7756, 'receptions': 7757, '647': 7758, 'yard': 7759, 'attendace': 7760, 'nominees': 7761, 'joji': 7762, 'fukunaga': 7763, 'scale': 7764, 'assisted': 7765, 'undergo': 7766, 'helped': 7767, 'nature': 7768, 'help': 7769, 'penn': 7770, 'thad': 7771, \"jemison's\": 7772, 'girvan': 7773, 'dempsey': 7774, 'ulster': 7775, 'tagliani': 7776, 'lucien': 7777, 'favre': 7778, 'petrik': 7779, 'sander': 7780, 'wolfsburg': 7781, 'bojan': 7782, 'prašnikar': 7783, 'giancarlo': 7784, 'fisichella': 7785, 'jos': 7786, 'verstappen': 7787, 'trafford': 7788, 'm16': 7789, 'eskimos': 7790, 'rockies': 7791, 'constellation': 7792, 'vela': 7793, 'globular': 7794, 'cluster': 7795, 'magnitudes': 7796, '3293': 7797, 'tancredo': 7798, '042': 7799, 'loans': 7800, '328': 7801, '694': 7802, 'victor': 7803, 'superb': 7804, 'sanaz': 7805, 'marand': 7806, 'linderman': 7807, 'luigi': 7808, 'musso': 7809, '56–21': 7810, '53–17': 7811, '56–20': 7812, 'placekicker': 7813, \"score's\": 7814, 'promoted': 7815, 'boar': 7816, 'terrapins': 7817, 'mate': 7818, '3x13': 7819, 'hollow': 7820, \"ferrari's\": 7821, 'pune': 7822, 'isha': 7823, 'lakhani': 7824, 'fadden': 7825, 'panis': 7826, 'gearbox': 7827, '760': 7828, 'helmut': 7829, 'marko': 7830, 'walker': 7831, 'matra': 7832, 'burning': 7833, \"rome's\": 7834, 'supertec': 7835, 'jenson': 7836, 'button': 7837, 'cowdrey': 7838, 'hibiscus': 7839, 'bays': 7840, 'suburb': 7841, 'story': 7842, 'gatting': 7843, '505': 7844, 'wasim': 7845, \"akram's\": 7846, \"gooch's\": 7847, 'rink': 7848, '4850': 7849, '2268508': 7850, 'philippa': 7851, 'tuttiett': 7852, 'susan': 7853, 'downtown': 7854, 'violet': 7855, '593': 7856, '1078': 7857, 'ε': 7858, '1008': 7859, 'uncaf': 7860, \"kilda's\": 7861, 'peopel': 7862, 'badoer': 7863, 'christophe': 7864, 'boullion': 7865, 'moreno': 7866, 'them': 7867, 'witnessed': 7868, 'alizé': 7869, 'cornet': 7870, 'janette': 7871, 'husárová': 7872, 'bratchikova': 7873, 'kathrin': 7874, 'wörle': 7875, 'attwood': 7876, 'competitiors': 7877, 'fangio': 7878, 'andmore': 7879, 'tallied': 7880, 'youngest': 7881, 'farnsworth': 7882, 'perpignan': 7883, 'toulouse': 7884, 'q': 7885, '242': 7886, 'choose': 7887, 'moderate': 7888, '941': 7889, 'firest': 7890, 'ulysses': 7891, 'currie': 7892, \"hawthorn's\": 7893, 'stricker': 7894, 'indauchu': 7895, 'finisher': 7896, 'jobe': 7897, '347': 7898, '331': 7899, 'bucharest': 7900, '871': 7901, '008': 7902, 'wayne': 7903, 'grady': 7904, 'biaggi': 7905, 'troy': 7906, 'bayliss': 7907, 's63': 7908, 'amg': 7909, \"'01\": 7910, 's430': 7911, 's320': 7912, 'cdi': 7913, 'madžari': 7914, 'solidarnost': 7915, 'alumina': 7916, 'novaci': 7917, 'vrapčište': 7918, 'lepenec': 7919, 'oktomvri': 7920, 'teen': 7921, 'angels': 7922, 'revelation': 7923, 'capif': 7924, 'herself': 7925, \"kids'\": 7926, 'burgos': 7927, 'pontevedra': 7928, \"flesch's\": 7929, 'budapest': 7930, 'ʏ': 7931, 'ɛ': 7932, 'op': 7933, 'ɔp': 7934, 'ɑ': 7935, 'granada': 7936, 'atlético': 7937, 'ceuta': 7938, \"'e'\": 7939, 'parry': 7940, 'frost': 7941, \"watson's\": 7942, 'calories': 7943, 'watt': 7944, 'electronvolts': 7945, 'joules': 7946, 'johnathan': 7947, 'consecutive': 7948, 'toda': 7949, 'curtis': 7950, 'davies': 7951, '£8': 7952, '2001–02': 7953, 'boruy': 7954, 'siege': 7955, 'constantinople': 7956, 'boniface': 7957, 'montferrat': 7958, 'asen': 7959, 'rusion': 7960, 'rite': 7961, 'albanian': 7962, 'apostolic': 7963, 'administration': 7964, 'ecclesiastical': 7965, 'diocese': 7966, 'alexiensis': 7967, 'mcspaden': 7968, 'belts': 7969, 'exploration': 7970, 'communications': 7971, 'satellite': 7972, 'amc16': 7973, '263': 7974, 'deaths': 7975, '399': 7976, '456': 7977, '1860': 7978, '494': 7979, '177': 7980, 'vacaville': 7981, 'amman': 7982, \"ra'fat\": 7983, 'gezira': 7984, '10in': 7985, 'maadi': 7986, 'adel': 7987, 'shamala': 7988, 'ahly': 7989, 'ragy': 7990, 'abdel': 7991, 'hady': 7992, 'orders': 7993, \"district's\": 7994, \"costello's\": 7995, 'ɒs': 7996, 'əm': 7997, 'ɛm': 7998, 'iz': 7999, 'achilles': 8000, 'appendices': 8001, 'fæces': 8002, '4719': 8003, '246': 8004, 'ghibli': 8005, 'quattroporte': 8006, 'distribution': 8007, 'biturbo': 8008, 'riyadh': 8009, 'saudi': 8010, 'arabia': 8011, 'hiller': 8012, '22–15–1': 8013, '1419': 8014, 'iberia': 8015, 'spantax': 8016, 'registration': 8017, 'ec': 8018, 'arz': 8019, '78years': 8020, '160days': 8021, 'retirement': 8022, '70years': 8023, '53days': 8024, '73years': 8025, '262days': 8026, 'norman': 8027, 'nordsjælland': 8028, 'navel': 8029, 'voices': 8030, 'bayan': 8031, 'kapit': 8032, 'patalim': 8033, 'ceremony': 8034, 'ganito': 8035, 'kami': 8036, 'noon': 8037, 'paano': 8038, 'kayo': 8039, 'ngayon': 8040, 'eugenio': 8041, 'pacelli': 8042, 'numeral': 8043, 'ioannis': 8044, 'pauli': 8045, 'afc': 8046, 'hornchurch': 8047, 'bench': 8048, 'reality': 8049, 'social': 8050, 'media': 8051, 'greaters': 8052, 'jahat': 8053, 'digi': 8054, 'wwwow': 8055, 'anugerah': 8056, 'bintang': 8057, 'berita': 8058, 'harian': 8059, 'bong': 8060, '48th': 8061, '42nd': 8062, '20th': 8063, 'copies': 8064, 'holocaust': 8065, 'cassette': 8066, 'nr': 8067, 'thr': 8068, '048': 8069, 'debemur': 8070, 'morti': 8071, 'prod': 8072, '540': 8073, 'oricon': 8074, 'monthly': 8075, 'sabres': 8076, 'varies': 8077, 'blakemore': 8078, 'hedworth': 8079, 'hylton': 8080, 'jolliffe': 8081, 'divett': 8082, '1852': 8083, 'chi': 8084, 'tb': 8085, '234': 8086, '473': 8087, 'villupuram': 8088, 'tindivanam': 8089, '1980–1996': 8090, '1989–2004': 8091, '1996–2009': 8092, '7001–7165': 8093, 'h4v': 8094, '1920–1924': 8095, \"murphy's\": 8096, 'pyaar': 8097, 'vishal': 8098, 'individual': 8099, 'pyaa': 8100, 'sachdev': 8101, \"sachdev's\": 8102, 'crested': 8103, 'matchless': 8104, 'mastrantonio': 8105, 'revival': 8106, 'foos': 8107, 'hang': 8108, 'tight': 8109, 'minehead': 8110, \"enfield's\": 8111, 'abc': 8112, 'laster': 8113, 'soul': 8114, 'asghar': 8115, 'modir': 8116, 'roosta': 8117, 'farhad': 8118, 'kazemi': 8119, '9390000000000001': 8120, '8250000000000001': 8121, 'talleres': 8122, 'córdoba': 8123, 'gimnasia': 8124, 'plata': 8125, 'raw': 8126, 'works': 8127, 'dally': 8128, 'nseek': 8129, 'ehsas': 8130, 'jdeed': 8131, 'murex': 8132, \"d'or\": 8133, 'candice': 8134, 'hunnicutt': 8135, 'daniella': 8136, 'mugnolo': 8137, 'addison': 8138, 'fredrik': 8139, 'months': 8140, 'furuichi': 8141, '2333': 8142, 'hawkesdale': 8143, 'circolo': 8144, 'nautico': 8145, 'posillipo': 8146, '6in': 8147, 'spottl': 8148, \"stewart's\": 8149, 'impala': 8150, 't49': 8151, 't42': 8152, '288': 8153, 'colombes': 8154, '1182': 8155, '1179': 8156, 'priest': 8157, 'archbishop': 8158, 'reims': 8159, 'palestrina': 8160, 'belgrano': 8161, 'haugesund': 8162, 'sandefjord': 8163, 'th': 8164, 'ekch': 8165, 'taiwan': 8166, 'colombia': 8167, 'momoko': 8168, \"ueda's\": 8169, 'carrying': 8170, 'bacchus': 8171, 'approaches': 8172, 'f4r': 8173, 'dci': 8174, '461cc': 8175, '1593': 8176, 'sinko': 8177, 'bianka': 8178, 'panova': 8179, 'perpetrator': 8180, 'shi': 8181, 'yuejun': 8182, 'afghanistan': 8183, 'sl600': 8184, '972': 8185, 'mornings': 8186, 'today': 8187, 'nightline': 8188, '00pm–4': 8189, 'appleton': 8190, 'caernarfon': 8191, 'leek': 8192, 'subtotal': 8193, 'archie': 8194, 'compston': 8195, 'hampton': 8196, '796': 8197, 'lax': 8198, '732': 8199, '174': 8200, 'remake': 8201, 'dudi': 8202, 'sela': 8203, 'wc': 8204, 'medalist': 8205, 'branxholme': 8206, 'wallacedale': 8207, '3213': 8208, 'tyrendarra': 8209, 'bret': 8210, 'thuin': 8211, 'chiron': 8212, 'mugello': 8213, 'talbot': 8214, '356': 8215, \"zimbabwe's\": 8216, 'panionios': 8217, 'lutersee': 8218, '2398': 8219, '336': 8220, 'lift': 8221, 'alpmatten': 8222, '189': 8223, 'pace': 8224, 'supersonics': 8225, '114–109': 8226, 'elimated': 8227, 'regal': 8228, 'sluman': 8229, 'broomstones': 8230, 'lucius': 8231, '1874': 8232, '1873': 8233, 'crewe': 8234, 'alexandra': 8235, 'valentin': 8236, 'novikov': 8237, 'matthias': 8238, 'merz': 8239, 'aimo': 8240, 'tepsell': 8241, 'turner': 8242, 'hedblom': 8243, 'sled': 8244, 'variant': 8245, '1089': 8246, '900': 8247, 'tarbiat': 8248, 'yazd': 8249, 'rah': 8250, 'ahan': 8251, 'stadion': 8252, 'mladina': 8253, 'kutina': 8254, 'rosenborg': 8255, 'depth': 8256, 'vrancea': 8257, 'intensity': 8258, 't31': 8259, \"cb's\": 8260, \"cf's\": 8261, 'aik': 8262, 'carrier': 8263, 'chilliwack': 8264, \"purdue's\": 8265, 'insight': 8266, 'bcs': 8267, 'mccarty': 8268, \"westwood's\": 8269, 'enzyme': 8270, 'uroporphyrinogen': 8271, 'synthase': 8272, 'protoporphyrin': 8273, \"ix's\": 8274, 'omim': 8275, '176000': 8276, \"norman's\": 8277, 'mcginley': 8278, \"woods'\": 8279, 'barcelona': 8280, 'golfs': 8281, 'scunthorpe': 8282, '71st': 8283, '1903': 8284, 'lightweight': 8285, '000m': 8286, 'labeled': 8287, 'portrayed': 8288, 'neighbours': 8289, 'joyce': 8290, 'jacobs': 8291, 'portray': 8292, 'soap': 8293, 'palasport': 8294, 'olimpico': 8295, '25–19–11': 8296, 'bryzgalov': 8297, '10–11–1': 8298, '1q': 8299, 'qua': 8300, 'mcgurk': 8301, '313': 8302, 'elkhart': 8303, 'bend': 8304, 'fakel': 8305, 'urengoy': 8306, 'poitevin': 8307, 'poitiers': 8308, 'azs': 8309, 'olsztyn': 8310, 'spike': 8311, 'lokomotiv': 8312, 'novosibirsk': 8313, 'portugal': 8314, 'keeper': 8315, 'nuno': 8316, 'hidalgo': 8317, 'dogs': 8318, '1926': 8319, 'yukan': 8320, '働きマン': 8321, 'fuji': 8322, 'iryu': 8323, 'medical': 8324, 'dragon': 8325, 'koh': 8326, 'kissして': 8327, 'shite': 8328, 'build': 8329, 'clinchfield': 8330, 'secondhand': 8331, 'alco': 8332, \"kelis's\": 8333, 'swimmer': 8334, 'citroën': 8335, 'rally': 8336, 'rs': 8337, 'wrc': 8338, '6c3g': 8339, 'celica': 8340, '1600gt': 8341, 'guinea': 8342, 'reserved': 8343, 'sc': 8344, 'moussa': 8345, 'terara': 8346, '1728': 8347, '358': 8348, \"jeff's\": 8349, 'blonanserin': 8350, 'mhra': 8351, 'approved': 8352, 'kwong': 8353, 'wah': 8354, 'solon': 8355, \"simmonds'\": 8356, 'laure': 8357, \"manaudou's\": 8358, 'q4': 8359, 'liu': 8360, 'xiaosheng': 8361, 'marino': 8362, 'zarechie': 8363, 'odintsovo': 8364, 'uralochka': 8365, 'cma': 8366, 'ia': 8367, 'il': 8368, 'projected': 8369, '7–0': 8370, 'vale': 8371, 'murder': 8372, '616': 8373, 'peace': 8374, 'gpi': 8375, 'hdi': 8376, 'together': 8377, 'kostas': 8378, 'bigalis': 8379, 'mirella': 8380, 'fragkopoulou': 8381, 'louiza': 8382, 'sale': 8383, '517': 8384, 'televoting': 8385, 'yanina': 8386, 'karolchyk': 8387, 'tsvetelina': 8388, 'kirilova': 8389, 's057': 8390, 's061': 8391, 'builders': 8392, 's410': 8393, 's434': 8394, 'receiving': 8395, 'mortlake': 8396, 'cobden': 8397, 'swansea': 8398, 'waht': 8399, 'colchester': 8400, 'altrincham': 8401, 'serhiy': 8402, '80m': 8403, '00m': 8404, '20mm': 8405, '35mm': 8406, 'efl': 8407, 'sigma': 8408, 'dn': 8409, 'vonarburg': 8410, 'lassi': 8411, 'karonen': 8412, 'cuba': 8413, 'rockstar': 8414, 'sims': 8415, 'marie': 8416, 'putter': 8417, 'vicky': 8418, 'versavel': 8419, 'sdrive16d': 8420, '1750': 8421, '3000': 8422, 'xdrive20d': 8423, '4000': 8424, 'xdrive23d': 8425, '2500': 8426, 'spartans': 8427, 'aaaa': 8428, 'decatur': 8429, 'aaa': 8430, 'kendallville': 8431, 'heavyweight': 8432, 'vadim': 8433, 'devyatovskiy': 8434, \"turkey's\": 8435, 'aeschylus': 8436, 'thesmophoriazusae': 8437, 'cyprus': 8438, 'represented': 8439, 'roloson': 8440, '11–5': 8441, 'giguere': 8442, 'trojans': 8443, 'cynthia': 8444, \"mobumba's\": 8445, 'indonesia': 8446, '…150': 8447, 'rebuildjahr': 8448, 't2aa': 8449, '1b': 8450, 'wolverhampton': 8451, 'whitehead': 8452, 'animated': 8453, 'bionic': 8454, 'woman': 8455, 'ltu': 8456, '1327': 8457, '1334': 8458, 'rhoades': 8459, 'faustino': 8460, 'mckenna': 8461, 'kilkenny': 8462, 'galway': 8463, \"county's\": 8464, 'hc': 8465, 'weber': 8466, 'ger': 8467, 'richardson': 8468, 'wolfgang': 8469, 'eibeck': 8470, 'aut': 8471, 'bunker': 8472, 'bunny': 8473, 'scramble': 8474, '554': 8475, 'haverdick': 8476, \"kazbek's\": 8477, 'aragats': 8478, '905': 8479, '95fm': 8480, 'talk': 8481, '560': 8482, 'lucia': 8483, 'kitts': 8484, 'nevis': 8485, 'ea': 8486, 'schongau': 8487, 'dis': 8488, 'grim': 8489, 'fandango': 8490, 'adventure': 8491, 'parsons': 8492, 'bole': 8493, 'upswept': 8494, 'cat': 8495, 'karsten': 8496, 'frida': 8497, \"svensson's\": 8498, 'emma': 8499, 'twigg': 8500, 'slovakia': 8501, 'wet': 8502, '1553': 8503, 'friz': 8504, \"crows'\": 8505, \"feat's\": 8506, 'webb185': 8507, '512335': 8508, '512336': 8509, 'wichita': 8510, 'recordings': 8511, 'sofia': 8512, 'fila': 8513, 'toledo': 8514, 'ksea': 8515, 'eddh': 8516, 'muc': 8517, 'akureyri': 8518, 'jbel': 8519, 'ghat': 8520, '3530': 8521, 'virunga': 8522, 'nyiragongo': 8523, '4100': 8524, 'arsi': 8525, 'bada': 8526, 'dan': 8527, 'chicoine': 8528, '1547': 8529, 'mice': 8530, 'follies': 8531, 'women’s': 8532, 'mex': 8533, 'cancun': 8534, 'shrewsbury': 8535, 'kanayeva': 8536, '075': 8537, \"mokoto's\": 8538, 'andreas': 8539, 'kiligkaridis': 8540, 'erika': 8541, 'sema': 8542, 'seymour': 8543, '1344': 8544, 'donkey': 8545, 'reaction': 8546, 'kristof': 8547, 'beyens': 8548, 'trinidad': 8549, 'tobago': 8550, 'bertrand': 8551, 'momalle': 8552, 'grondzeiler': 8553, '965': 8554, 'axle': 8555, 'vietnam': 8556, 'xue': 8557, 'ruipeng': 8558, 'solihull': 8559, 'moors': 8560, 'southport': 8561, 'bra': 8562, '526': 8563, 'sl': 8564, '350': 8565, 'kinane': 8566, 'placing': 8567, 'nationwide': 8568, '37–21–12': 8569, 'riaa': 8570, 'loves': 8571, 'queensland': 8572, 'roar': 8573, 'converse': 8574, \"cochran's\": 8575, 'oooo': 8576, 'mogul': 8577, '1881': 8578, 'perserved': 8579, '490': 8580, 'carpet': 8581, 'court': 8582, 'ramat': 8583, 'hasharon': 8584, 'volos': 8585, 'nissan': 8586, 'oran': 8587, 'richards': 8588, 'skaife': 8589, '4a': 8590, 'middlebury': 8591, 'interceptions': 8592, 'completions': 8593, '611': 8594, 'completion': 8595, 'c3': 8596, 'kgrj': 8597, '222': 8598, 'loomis': 8599, 'k222al': 8600, '€': 8601, '14m': 8602, 'affleck': 8603, 'fine': 8604, 'gael': 8605, 'athy': 8606, \"brazil's\": 8607, \"russia's\": 8608, \"bulgaria's\": 8609, 'sri': 8610, 'lanka': 8611, 'tur': 8612, 'mccaskill': 8613, 'v5': 8614, '5000': 8615, '628': 8616, 'replica': 8617, '220': 8618, '452': 8619, 'trostan': 8620, 'binevanagh': 8621, \"iii's\": 8622, 'housemates': 8623, 'fa1': 8624, 'stan': 8625, 'contained': 8626, \"domínguez's\": 8627, 'k259aw': 8628, 'ariane': 8629, 'launches': 8630, 'rocket': 8631, 'vara': 8632, '1985–1992': 8633, 'gavin': 8634, 'dykes': 8635, 'stenson': 8636, 'tway': 8637, 'usac': 8638, 'patronage': 8639, 'sainte': 8640, 'anne': 8641, 'asante': 8642, 'kotoko': 8643, 'facility': 8644, 'beckley': 8645, 'pahang': 8646, 'perak': 8647, 'thn': 8648, 'girons': 8649, 'adidas': 8650, 'sponsor': 8651, 'newcastle': 8652, 'sponsored': 8653, \"whitehead's\": 8654, 'ledley': 8655, 'telemundo': 8656, 'bvb': 8657, '5270': 8658, 'kvtv': 8659, 'ketftv': 8660, 'kldo': 8661, 'dt2': 8662, '8126': 8663, 'p180': 8664, '75k': 8665, 'catagory': 8666, 'victims': 8667, 'civilians': 8668, 'battleship': 8669, 'tournment': 8670, 'montolio': 8671, 'rides': 8672, 'gawler': 8673, '249cc': 8674, 'herbert': 8675, 'vine': 8676, 'doubt': 8677, 'ebbets': 8678, 'yankee': 8679, 'lsu': 8680, '704': 8681, 'audio': 8682, 'storm': 8683, 'swords': 8684, 'dream': 8685, 'kingdome': 8686, 'durbano': 8687, 'majors': 8688, 't43': 8689, 'jbw': 8690, 'mackinnon': 8691, 'filmed': 8692, 'abdelatif': 8693, 'hwidar': 8694, 'adjustment': 8695, 'stottlemyre': 8696, 'camacho': 8697, 'asia': 8698, 'rameses': 8699, 'revenge': 8700, 'peeking': 8701, 'zierer': 8702, '250f': 8703, '434': 8704, 'whitworth': 8705, 'tides': 8706, 'diamond': 8707, 'wang': 8708, 'junjie': 8709, 'niels': 8710, 'kaldau': 8711, \"person's\": 8712, 'cresswell': 8713, 'nicholls': 8714, 'involving': 8715, 'crainey': 8716, '£1': 8717, 'orioles': 8718, 'leal': 8719, 'cracking': 8720, 'productions': 8721, 'ozone': 8722, 'categorie': 8723, 'danielle': 8724, 'darrieux': 8725, '38xa': 8726, 'teltscher': 8727, '€900': 8728, 'dublin': 8729, '€288': 8730, '180': 8731, 'patrik': 8732, 'antonius': 8733, 'parioli': 8734, 'gaspare': 8735, 'bona': 8736, 'pozzo': 8737, 'salon': 8738, 'françois': 8739, 'eysermann': 8740, 'ctc': 8741, 'btc': 8742, '179': 8743, 'drese': 8744, '034': 8745, 'often': 8746, '2000–01': 8747, '2012–13': 8748, 'ore': 8749, 'concentrated': 8750, 'leached': 8751, 'complex': 8752, 'mine': 8753, 'cu': 8754, 'lbs': 8755, 'stéphan': 8756, 'perrot': 8757, 'maxim': 8758, \"podoprigora's\": 8759, 'kingsmead': 8760, 'horrid': 8761, 'vmv': 8762, 'fairlie': 8763, 'smarter': 8764, '206': 8765, 'mackenzie': 8766, 'kondratieva': 8767, 'doherty': 8768, 'tasmania': 8769, 'fanny': 8770, 'och': 8771, 'alain': 8772, 'resnais': 8773, 'megáll': 8774, 'idö': 8775, '8–0': 8776, '13–13': 8777, 'att': 8778, 'cmp': 8779, '1–1–0': 8780, '394': 8781, 'deciles': 8782, '9–13': 8783, '7–13': 8784, 'ladbrooks': 8785, 'hororata': 8786, 'pernille': 8787, 'nedergaard': 8788, '766': 8789, 'vt82c686b': 8790, 'cpu': 8791, 'support': 8792, 'athlon': 8793, 'athlonxp': 8794, 'duron': 8795, 'socketa': 8796, 'alpha21264': 8797, '8131': 8798, '8132': 8799, 'chipset': 8800, 'tianhe': 8801, 'parsippany': 8802, 'seiple': 8803, 'note': 8804, '241': 8805, 'fokker': 8806, 'p202': 8807, 'p200': 8808, 'angelina': 8809, 'jolie': 8810, 'sean': 8811, 'preston': 8812, 'federline': 8813, 'tent': 8814, 'miracles': 8815, 'verhavert': 8816, 'mama': 8817, 'ich': 8818, 'lebe': 8819, 'dariush': 8820, 'mehrjui': 8821, 'tracey': 8822, 'herrtage': 8823, 'requested': 8824, 'product': 8825, 'iv': 8826, 'cam': 8827, 'nordprøven': 8828, 'trailers': 8829, 'typed': 8830, 'trailer': 8831, 'cor': 8832, '10wm': 8833, '7531': 8834, '4600': 8835, 'cataloged': 8836, '9013': 8837, 'formated': 8838, 'delivered': 8839, 'poaf': 8840, '7103': 8841, 'freight': 8842, 'carried': 8843, 'closed': 8844, 'orginal': 8845, 'cérémonie': 8846, 'judgement': 8847, 'vinterberg': 8848, 'kaige': 8849, '1859': 8850, '1854': 8851, 'credentails': 8852, '1855': 8853, 'millard': 8854, 'fillmore': 8855, 'choong': 8856, 'tan': 8857, \"fook's\": 8858, 'taipei': 8859, 'jam': 8860, 'nir': 8861, 'tso': 8862, 'ex': 8863, '488': 8864, '488305': 8865, '6082': 8866, '72605': 8867, 'whakamaru': 8868, \"school's\": 8869, '157': 8870, 'shiyan': 8871, 'adjectives': 8872, 'adverbs': 8873, 'mostly': 8874, 'reduplication': 8875, '釋宮': 8876, '釋言': 8877, '釋水': 8878, 'f10': 8879, 'f7': 8880, 'f9': 8881, 'talent': 8882, 'acting': 8883, '林佩琪': 8884, \"peiqi's\": 8885, '廖尹宁': 8886, 'jvnne': 8887, \"leow's\": 8888, 'ayr': 8889, 'simca': 8890, 'rosier': 8891, 'tiny': 8892, 'portelli': 8893, 'neurotica': 8894, 'request': 8895, 'delahanty': 8896, '1885': 8897, '1883': 8898, '252': 8899, 'sponsers': 8900, 'managed': 8901, 'gianluca': 8902, 'vialli': 8903, 'supports': 8904, \"o'leary\": 8905, 'manage': 8906, 'sponser': 8907, 'vengeance': 8908, 'weston': 8909, 'midhirst': 8910, 'conrad': 8911, 'hückstädt': 8912, 'florentina': 8913, 'petre': 8914, 'takaka': 8915, 'm2': 8916, 'peterson': 8917, '649': 8918, '1865': 8919, 'twist': 8920, 'ribbed': 8921, 'profile': 8922, 'a2': 8923, 'weaver': 8924, 'luc': 8925, 'desnoyers': 8926, 'hip': 8927, '4872': 8928, 'marin': 8929, 'juliane': 8930, 'schenk': 8931, 'adrien': 8932, 'adam': 8933, 'denan': 8934, 'kemp': 8935, 'doeas': 8936, 'froebel': 8937, 'barneby': 8938, 'hodgetts': 8939, 'foley': 8940, 'frederick': 8941, 'gough': 8942, 'congreve': 8943, 'representation': 8944, 'reduced': 8945, 'rushout': 8946, 'bowes': 8947, 'qualified': 8948, 'qualifier': 8949, 'stuart': 8950, 'appleby': 8951, 'vijay': 8952, 'ukraine': 8953, 'fuhlsbüttel': 8954, 'ringway': 8955, 'ssg': 8956, 'galeão': 8957, 'douala': 8958, 'lohausen': 8959, 'trinity': 8960, 'valhalla': 8961, 'hdmi': 8962, 'jasper': 8963, 'producted': 8964, 'courtney': 8965, 'walsh': 8966, 'antigua': 8967, 'wi': 8968, 'wkts': 8969, 'ilmor': 8970, '2175a': 8971, 'v10': 8972, 'ing': 8973, 'rsk': 8974, 'flat': 8975, 'bydgoszcz': 8976, 'poland': 8977, 'kasey': 8978, 'giteau': 8979, 'moulds': 8980, 'chuck': 8981, 'dicus': 8982, 'walt': 8983, 'cornelius': 8984, 'stabler': 8985, 'viard': 8986, 'collegiate': 8987, 'whitby': 8988, 'vanwall': 8989, '1277': 8990, '11502': 8991, '1163': 8992, 'barack': 8993, 'marsha': 8994, 'amazing': 8995, 'fantasy': 8996, 'comics': 8997, \"1's\": 8998, 'publishes': 8999, 'wolverine': 9000, 'picard': 9001, 'tower': 9002, '28–45': 9003, 'buckston': 9004, 'pi': 9005, 'hongyan': 9006, 'guo': 9007, 'xin': 9008, '94i': 9009, 'dallara': 9010, '95i': 9011, 'nswrfl': 9012, 'alta': 9013, 'gestión': 9014, 'fuenlabrada': 9015, 'kasun': 9016, 'nalbandian': 9017, 'inna': 9018, 'nikitina': 9019, 'heats': 9020, 'nbr': 9021, '1211': 9022, '25nc': 9023, '3508': 9024, 'scr': 9025, '8597–8600': 9026, 'schroeder': 9027, 'wally': 9028, 'woody': 9029, 'never': 9030, 'catalogues': 9031, 'lsp': 9032, '2231': 9033, '660': 9034, 'milford': 9035, 'louise': 9036, 'ørnstedt': 9037, 'eidsvold': 9038, '970': 9039, 'mundubbera': 9040, '395': 9041, '506': 9042, 'fina': 9043, 'der': 9044, 'knaap': 9045, 'ralph': 9046, 'jacobi': 9047, 'vic': 9048, 'wannon': 9049, 'tires': 9050, 'enever': 9051, 'catalogs': 9052, 'sony': 9053, '32xa': 9054, 'ffor': 9055, 'papelbon': 9056, '16–14': 9057, '1835': 9058, '1832': 9059, 'ivatt': 9060, 'briscoe': 9061, '1857': 9062, 'johnstone': 9063, 'dunstall': 9064, '1299': 9065, 'lockett': 9066, 'marian': 9067, 'horsley': 9068, 'gilliland': 9069, 'puttick': 9070, 'sutton': 9071, 'jesper': 9072, 'knudsen': 9073, 'nettie': 9074, 'nielsen': 9075, 'wilkinson': 9076, 'brewers': 9077, 'bt37': 9078, 'achieve': 9079, '214': 9080, 'mediate': 9081, \"mediate's\": 9082, 'suin': 9083, '020': 9084, 'ismaily': 9085, 'kabwe': 9086, 'hafia': 9087, 'carlings': 9088, 'croesyceiliog': 9089, '←': 9090, 'longchamp': 9091, '116': 9092, '904': 9093, '688': 9094, 'leiter': 9095, 'quillen': 9096}\n"
     ]
    }
   ],
   "source": [
    "print(word_index)"
   ]
  },
  {
   "cell_type": "markdown",
   "metadata": {},
   "source": [
    "### 16. Storing word_index that has only google pretrained word2vec words in embedding_matrix"
   ]
  },
  {
   "cell_type": "code",
   "execution_count": 35,
   "metadata": {},
   "outputs": [],
   "source": [
    "for word, i in word_index.items():\n",
    "    # embedding_vector = embeddings_index.get(word) # Correct it\n",
    "    try:\n",
    "        embedding_matrix[i]=word_vector_model[word]\n",
    "    except:\n",
    "        # words\n",
    "        x = 1"
   ]
  },
  {
   "cell_type": "code",
   "execution_count": 36,
   "metadata": {},
   "outputs": [
    {
     "name": "stdout",
     "output_type": "stream",
     "text": [
      "[[ 0.          0.          0.         ...  0.          0.\n",
      "   0.        ]\n",
      " [ 0.08007812  0.10498047  0.04980469 ...  0.00366211  0.04760742\n",
      "  -0.06884766]\n",
      " [ 0.13964844 -0.00616455  0.21484375 ...  0.05712891  0.09960938\n",
      "  -0.234375  ]\n",
      " ...\n",
      " [ 0.          0.          0.         ...  0.          0.\n",
      "   0.        ]\n",
      " [ 0.          0.          0.         ...  0.          0.\n",
      "   0.        ]\n",
      " [ 0.          0.          0.         ...  0.          0.\n",
      "   0.        ]]\n"
     ]
    }
   ],
   "source": [
    "print(embedding_matrix)"
   ]
  },
  {
   "cell_type": "code",
   "execution_count": 37,
   "metadata": {},
   "outputs": [
    {
     "name": "stdout",
     "output_type": "stream",
     "text": [
      "shape of embedding_matrix: (9097, 300)\n"
     ]
    }
   ],
   "source": [
    "print(\"shape of embedding_matrix:\",embedding_matrix.shape)"
   ]
  },
  {
   "cell_type": "markdown",
   "metadata": {},
   "source": [
    "### 17. The model\n",
    "Here we used a 3-layered convolution neural network with 2 dense layers.\n",
    "\n",
    "Why Convolutional? Because it works. Convolutional layers are really powerful to extract higher level feature in images. And quite amazingly, they actually work in most 2D problems. Another big reason that should convince you is the training time, CNN train 50% to 60% faster than LSTMs on this problem."
   ]
  },
  {
   "cell_type": "code",
   "execution_count": 47,
   "metadata": {},
   "outputs": [
    {
     "name": "stdout",
     "output_type": "stream",
     "text": [
      "model fitting - simplified convolutional neural network\n",
      "_________________________________________________________________\n",
      "Layer (type)                 Output Shape              Param #   \n",
      "=================================================================\n",
      "embedding_8 (Embedding)      (None, 1000, 300)         2729100   \n",
      "_________________________________________________________________\n",
      "dropout_8 (Dropout)          (None, 1000, 300)         0         \n",
      "_________________________________________________________________\n",
      "conv1d_18 (Conv1D)           (None, 996, 128)          192128    \n",
      "_________________________________________________________________\n",
      "max_pooling1d_16 (MaxPooling (None, 199, 128)          0         \n",
      "_________________________________________________________________\n",
      "conv1d_19 (Conv1D)           (None, 195, 128)          82048     \n",
      "_________________________________________________________________\n",
      "max_pooling1d_17 (MaxPooling (None, 39, 128)           0         \n",
      "_________________________________________________________________\n",
      "conv1d_20 (Conv1D)           (None, 35, 128)           82048     \n",
      "_________________________________________________________________\n",
      "max_pooling1d_18 (MaxPooling (None, 7, 128)            0         \n",
      "_________________________________________________________________\n",
      "flatten_4 (Flatten)          (None, 896)               0         \n",
      "_________________________________________________________________\n",
      "dense_7 (Dense)              (None, 128)               114816    \n",
      "_________________________________________________________________\n",
      "dense_8 (Dense)              (None, 6)                 774       \n",
      "=================================================================\n",
      "Total params: 3,200,914\n",
      "Trainable params: 3,200,914\n",
      "Non-trainable params: 0\n",
      "_________________________________________________________________\n"
     ]
    }
   ],
   "source": [
    "model = Sequential()\n",
    "model.add(Embedding(len(word_index) + 1, EMBEDDING_DIM,weights=[embedding_matrix],\n",
    "                            input_length=MAX_SEQUENCE_LENGTH, # 1000\n",
    "                            trainable=True))\n",
    "model.add(Dropout(0.2))\n",
    "\n",
    "model.add(Conv1D(128, 5, activation='relu'))\n",
    "model.add(MaxPooling1D(5))\n",
    "\n",
    "\n",
    "model.add(Conv1D(128, 5, activation='relu'))\n",
    "model.add(MaxPooling1D(5))\n",
    "\n",
    "model.add(Conv1D(128, 5, activation='relu'))\n",
    "model.add(MaxPooling1D(5))\n",
    "\n",
    "\n",
    "model.add(Flatten())\n",
    "\n",
    "model.add(Dense(128, activation='relu'))\n",
    "model.add(Dense(6, activation='sigmoid'))\n",
    "model.compile(loss='categorical_crossentropy',\n",
    "              optimizer='rmsprop',\n",
    "              metrics=['acc'])\n",
    "\n",
    "print(\"model fitting - simplified convolutional neural network\")\n",
    "model.summary()\n"
   ]
  },
  {
   "cell_type": "code",
   "execution_count": 52,
   "metadata": {},
   "outputs": [
    {
     "name": "stdout",
     "output_type": "stream",
     "text": [
      "Train on 6713 samples, validate on 1678 samples\n",
      "Epoch 1/3\n",
      "6713/6713 [==============================] - 301s 45ms/step - loss: 0.4342 - acc: 0.8574 - val_loss: 0.4660 - val_acc: 0.8564\n",
      "Epoch 2/3\n",
      "6713/6713 [==============================] - 301s 45ms/step - loss: 0.3561 - acc: 0.8825 - val_loss: 0.4344 - val_acc: 0.8683\n",
      "Epoch 3/3\n",
      "6713/6713 [==============================] - 295s 44ms/step - loss: 0.2925 - acc: 0.9056 - val_loss: 0.4432 - val_acc: 0.8576\n"
     ]
    }
   ],
   "source": [
    "history = model.fit(x_train, y_train, validation_data=(x_val, y_val),\n",
    "          epochs=3, batch_size=128)"
   ]
  },
  {
   "cell_type": "markdown",
   "metadata": {},
   "source": [
    "### 18. Plotting the results"
   ]
  },
  {
   "cell_type": "code",
   "execution_count": 53,
   "metadata": {},
   "outputs": [
    {
     "data": {
      "image/png": "[encoded data removed]",
      "text/plain": [
       "<matplotlib.figure.Figure at 0x25100ac43c8>"
      ]
     },
     "metadata": {},
     "output_type": "display_data"
    },
    {
     "data": {
      "image/png": "[encoded data removed]",
      "text/plain": [
       "<matplotlib.figure.Figure at 0x25100a6c1d0>"
      ]
     },
     "metadata": {},
     "output_type": "display_data"
    }
   ],
   "source": [
    "import matplotlib.pyplot as plt\n",
    "acc = history.history['acc']\n",
    "val_acc = history.history['val_acc']\n",
    "loss = history.history['loss']\n",
    "val_loss = history.history['val_loss']\n",
    "epochs = range(1, len(acc) + 1)\n",
    "plt.plot(epochs, acc, 'bo', label='Training acc')\n",
    "plt.plot(epochs, val_acc, 'b', label='Validation acc')\n",
    "plt.title('Training and validation accuracy')\n",
    "plt.legend()\n",
    "plt.figure()\n",
    "plt.plot(epochs, loss, 'bo', label='Training loss')\n",
    "plt.plot(epochs, val_loss, 'b', label='Validation loss')\n",
    "plt.title('Training and validation loss')\n",
    "plt.legend()\n",
    "plt.show()"
   ]
  },
  {
   "cell_type": "markdown",
   "metadata": {},
   "source": [
    "### 19. Save and Load Your Keras Deep Learning Models"
   ]
  },
  {
   "cell_type": "markdown",
   "metadata": {},
   "source": [
    "Keras separates the concerns of saving your model architecture and saving your model weights.\n",
    "- Model weights are saved to HDF5 format. This is a grid format that is ideal for storing multi-dimensional arrays of numbers.\n",
    "- Model structure is stored in JSON"
   ]
  },
  {
   "cell_type": "code",
   "execution_count": 49,
   "metadata": {},
   "outputs": [
    {
     "name": "stdout",
     "output_type": "stream",
     "text": [
      "Saved model to disk\n"
     ]
    }
   ],
   "source": [
    "# serialize model to JSON\n",
    "model_json = model.to_json()\n",
    "with open(\"./data/agg_model.json\", \"w\") as json_file:\n",
    "    json_file.write(model_json)\n",
    "# serialize weights to HDF5\n",
    "model.save_weights(\"./data/agg_model_weights.h5\")\n",
    "print(\"Saved model to disk\")"
   ]
  },
  {
   "cell_type": "markdown",
   "metadata": {},
   "source": [
    "### 20. Loading the saved model"
   ]
  },
  {
   "cell_type": "code",
   "execution_count": 3,
   "metadata": {},
   "outputs": [
    {
     "name": "stdout",
     "output_type": "stream",
     "text": [
      "Loaded model from disk\n"
     ]
    }
   ],
   "source": [
    "# load json and create model\n",
    "json_file = open('./data/agg_model.json', 'r')\n",
    "loaded_model_json = json_file.read()\n",
    "json_file.close()\n",
    "loaded_model = model_from_json(loaded_model_json)\n",
    "# load weights into new model\n",
    "loaded_model.load_weights(\"./data/agg_model_weights.h5\")\n",
    "print(\"Loaded model from disk\")"
   ]
  },
  {
   "cell_type": "markdown",
   "metadata": {},
   "source": [
    "### 21. Making Predictions\n"
   ]
  },
  {
   "cell_type": "code",
   "execution_count": 4,
   "metadata": {},
   "outputs": [
    {
     "ename": "NameError",
     "evalue": "name 'tokenizer' is not defined",
     "output_type": "error",
     "traceback": [
      "\u001b[1;31m---------------------------------------------------------------------------\u001b[0m",
      "\u001b[1;31mNameError\u001b[0m                                 Traceback (most recent call last)",
      "\u001b[1;32m<ipython-input-4-3fc6a11b00f6>\u001b[0m in \u001b[0;36m<module>\u001b[1;34m()\u001b[0m\n\u001b[0;32m      1\u001b[0m \u001b[0mquestion\u001b[0m \u001b[1;33m=\u001b[0m\u001b[1;33m[\u001b[0m\u001b[1;34m'show maximum profits in the last 3 years'\u001b[0m\u001b[1;33m]\u001b[0m\u001b[1;33m\u001b[0m\u001b[0m\n\u001b[1;32m----> 2\u001b[1;33m \u001b[0msequences\u001b[0m \u001b[1;33m=\u001b[0m \u001b[0mtokenizer\u001b[0m\u001b[1;33m.\u001b[0m\u001b[0mtexts_to_sequences\u001b[0m\u001b[1;33m(\u001b[0m\u001b[0mquestion\u001b[0m\u001b[1;33m)\u001b[0m \u001b[1;31m# Which turns input into numerical array -> Contains word_index of text\u001b[0m\u001b[1;33m\u001b[0m\u001b[0m\n\u001b[0m\u001b[0;32m      3\u001b[0m \u001b[0mprint\u001b[0m\u001b[1;33m(\u001b[0m\u001b[0msequences\u001b[0m\u001b[1;33m)\u001b[0m\u001b[1;33m\u001b[0m\u001b[0m\n",
      "\u001b[1;31mNameError\u001b[0m: name 'tokenizer' is not defined"
     ]
    }
   ],
   "source": [
    "question =['show maximum profits in the last 3 years']\n",
    "sequences = tokenizer.texts_to_sequences(question) # Which turns input into numerical array -> Contains word_index of text\n",
    "print(sequences)"
   ]
  },
  {
   "cell_type": "code",
   "execution_count": null,
   "metadata": {},
   "outputs": [],
   "source": [
    "#  we need to pad the sequences to get the same length on all of them\n",
    "# .i.e. we add zeroes to the small sequences and truncate the larger ones.\n",
    "data = pad_sequences(sequences, maxlen=MAX_SEQUENCE_LENGTH) # sequences ->1(Since a single sentence),maxlen =1000\n",
    "print(data.shape)"
   ]
  },
  {
   "cell_type": "code",
   "execution_count": null,
   "metadata": {},
   "outputs": [],
   "source": [
    "# using loaded_model to predict the data thats been padded\n",
    "predict = loaded_model.predict(data, batch_size=10, verbose=0)\n",
    "print(predict)"
   ]
  },
  {
   "cell_type": "code",
   "execution_count": 82,
   "metadata": {},
   "outputs": [],
   "source": [
    "predict = predict[0].tolist()"
   ]
  },
  {
   "cell_type": "code",
   "execution_count": 83,
   "metadata": {},
   "outputs": [
    {
     "data": {
      "text/plain": [
       "1"
      ]
     },
     "execution_count": 83,
     "metadata": {},
     "output_type": "execute_result"
    }
   ],
   "source": [
    "# The argumentation list\n",
    "arg_list = ['NONE', 'MAX', 'MIN', 'COUNT', 'SUM', 'AVG']\n",
    "predict.index(max(predict)) # .index -> returns the lowest index in the string where substring is found."
   ]
  },
  {
   "cell_type": "code",
   "execution_count": 84,
   "metadata": {},
   "outputs": [
    {
     "name": "stdout",
     "output_type": "stream",
     "text": [
      "MAX\n"
     ]
    }
   ],
   "source": [
    "prediction = arg_list[predict.index(max(predict))]\n",
    "print(prediction)"
   ]
  }
 ],
 "metadata": {
  "kernelspec": {
   "display_name": "Python 3",
   "language": "python",
   "name": "python3"
  },
  "language_info": {
   "codemirror_mode": {
    "name": "ipython",
    "version": 3
   },
   "file_extension": ".py",
   "mimetype": "text/x-python",
   "name": "python",
   "nbconvert_exporter": "python",
   "pygments_lexer": "ipython3",
   "version": "3.6.3"
  }
 },
 "nbformat": 4,
 "nbformat_minor": 2
}
