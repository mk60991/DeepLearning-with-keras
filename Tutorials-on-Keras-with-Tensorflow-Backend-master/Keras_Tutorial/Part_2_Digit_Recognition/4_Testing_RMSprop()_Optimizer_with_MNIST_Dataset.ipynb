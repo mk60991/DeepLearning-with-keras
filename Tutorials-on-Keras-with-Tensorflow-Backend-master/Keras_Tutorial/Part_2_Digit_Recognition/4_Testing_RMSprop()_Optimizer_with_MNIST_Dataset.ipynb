{
 "cells": [
  {
   "cell_type": "code",
   "execution_count": 1,
   "metadata": {},
   "outputs": [
    {
     "name": "stderr",
     "output_type": "stream",
     "text": [
      "/home/simbatmotsi/anaconda3/lib/python3.5/site-packages/h5py/__init__.py:36: FutureWarning: Conversion of the second argument of issubdtype from `float` to `np.floating` is deprecated. In future, it will be treated as `np.float64 == np.dtype(float).type`.\n",
      "  from ._conv import register_converters as _register_converters\n",
      "Using TensorFlow backend.\n"
     ]
    }
   ],
   "source": [
    "from __future__ import print_function\n",
    "import numpy as np\n",
    "from keras.datasets import mnist\n",
    "from keras.models import Sequential    # Importing Sequential Model\n",
    "from keras.layers.core import Dense,Dropout, Activation  #  Importing  Dense Layers,Dropouts and Activation functions\n",
    "from keras.optimizers import RMSprop, Adam\n",
    "from keras.utils import np_utils  \n",
    "np.random.seed(1671) # for reproducibility -> Once you put the same seed you get same patterns of random numbers."
   ]
  },
  {
   "cell_type": "code",
   "execution_count": 2,
   "metadata": {},
   "outputs": [],
   "source": [
    "# network and training\n",
    "NB_EPOCH = 20  # 20-> times the model is exposed to the training set.\n",
    "BATCH_SIZE = 128\n",
    "VERBOSE = 1\n",
    "NB_CLASSES = 10 # number of outputs = number of digits\n",
    "OPTIMIZER = RMSprop()\n",
    "N_HIDDEN = 512 # Neurons\n",
    "VALIDATION_SPLIT=0.2 # how much TRAIN is reserved for VALIDATION\n",
    "DROPOUT = 0.3"
   ]
  },
  {
   "cell_type": "code",
   "execution_count": 3,
   "metadata": {},
   "outputs": [],
   "source": [
    "# Data: shuffled and split between train and test sets\n",
    "\n",
    "(X_train, y_train_label), (X_test, y_test_label) = mnist.load_data()\n",
    "\n",
    "#X_train is 60000 rows of 28x28 values --> reshaped in 60000 x 784\n",
    "\n",
    "RESHAPED = 784 #(28*28)\n",
    "X_train = X_train.reshape(60000, RESHAPED)\n",
    "X_test  =  X_test.reshape(10000, RESHAPED)\n",
    "X_train = X_train.astype('float32')\n",
    "X_test = X_test.astype('float32')"
   ]
  },
  {
   "cell_type": "code",
   "execution_count": 4,
   "metadata": {},
   "outputs": [
    {
     "name": "stdout",
     "output_type": "stream",
     "text": [
      "60000 train samples\n",
      "10000 test samples\n"
     ]
    }
   ],
   "source": [
    "# normalize -> Involve only rescaling to arrive at value relative to some size variables.\n",
    "\n",
    "X_train /= 255 # Pixel values are 0 to 255 -> So we are normalizing training data by dividing it by 255\n",
    "X_test /= 255\n",
    "print(X_train.shape[0], 'train samples')\n",
    "print(X_test.shape[0], 'test samples')"
   ]
  },
  {
   "cell_type": "code",
   "execution_count": 5,
   "metadata": {},
   "outputs": [],
   "source": [
    "# convert class vectors to binary class matrices\n",
    "Y_train_label = np_utils.to_categorical(y_train_label, NB_CLASSES) \n",
    "Y_test_label = np_utils.to_categorical(y_test_label, NB_CLASSES)\n",
    "\n",
    "\n",
    "# np_utils.to_categorical Used to convert the array of labelled data to one Hot vector-> Binarization of category"
   ]
  },
  {
   "cell_type": "code",
   "execution_count": 6,
   "metadata": {},
   "outputs": [
    {
     "name": "stdout",
     "output_type": "stream",
     "text": [
      "_________________________________________________________________\n",
      "Layer (type)                 Output Shape              Param #   \n",
      "=================================================================\n",
      "dense_1 (Dense)              (None, 512)               401920    \n",
      "_________________________________________________________________\n",
      "activation_1 (Activation)    (None, 512)               0         \n",
      "_________________________________________________________________\n",
      "dropout_1 (Dropout)          (None, 512)               0         \n",
      "_________________________________________________________________\n",
      "dense_2 (Dense)              (None, 256)               131328    \n",
      "_________________________________________________________________\n",
      "activation_2 (Activation)    (None, 256)               0         \n",
      "_________________________________________________________________\n",
      "dropout_2 (Dropout)          (None, 256)               0         \n",
      "_________________________________________________________________\n",
      "dense_3 (Dense)              (None, 10)                2570      \n",
      "_________________________________________________________________\n",
      "activation_3 (Activation)    (None, 10)                0         \n",
      "=================================================================\n",
      "Total params: 535,818\n",
      "Trainable params: 535,818\n",
      "Non-trainable params: 0\n",
      "_________________________________________________________________\n"
     ]
    }
   ],
   "source": [
    "# Final hidden layer  with 10 outputs\n",
    "# final stage is softmax\n",
    "model = Sequential() # Sequential Model.\n",
    "model.add(Dense(N_HIDDEN, input_shape=(RESHAPED,))) # 1st Hidden Layer --> 512 neurons and input dimension ->784\n",
    "model.add(Activation('relu')) # Activation function for 1st Hidden Layer\n",
    "model.add(Dropout(DROPOUT))\n",
    "\n",
    "model.add(Dense(256))  # 2nd Hidden Layer --> 256 neurons\n",
    "model.add(Activation('relu')) # Activation function for 2nd Hidden Layer\n",
    "model.add(Dropout(DROPOUT))\n",
    "\n",
    "\n",
    "model.add(Dense(NB_CLASSES)) # Final layer with 10 neurons == > no of outputs\n",
    "model.add(Activation('softmax')) # Final layer activation will be 'softmax'\n",
    "\n",
    "model.summary()"
   ]
  },
  {
   "cell_type": "code",
   "execution_count": 7,
   "metadata": {},
   "outputs": [],
   "source": [
    "# Compiling a model in keras\n",
    "model.compile(loss='categorical_crossentropy', optimizer=OPTIMIZER, metrics=['accuracy'])"
   ]
  },
  {
   "cell_type": "code",
   "execution_count": 8,
   "metadata": {},
   "outputs": [
    {
     "name": "stdout",
     "output_type": "stream",
     "text": [
      "Train on 48000 samples, validate on 12000 samples\n",
      "Epoch 1/20\n",
      "48000/48000 [==============================] - 5s 112us/step - loss: 0.3110 - acc: 0.9041 - val_loss: 0.1280 - val_acc: 0.9613\n",
      "Epoch 2/20\n",
      "48000/48000 [==============================] - 5s 99us/step - loss: 0.1324 - acc: 0.9603 - val_loss: 0.1112 - val_acc: 0.9674\n",
      "Epoch 3/20\n",
      "48000/48000 [==============================] - 5s 101us/step - loss: 0.0957 - acc: 0.9713 - val_loss: 0.0920 - val_acc: 0.9753\n",
      "Epoch 4/20\n",
      "48000/48000 [==============================] - 5s 100us/step - loss: 0.0812 - acc: 0.9754 - val_loss: 0.0942 - val_acc: 0.9740\n",
      "Epoch 5/20\n",
      "48000/48000 [==============================] - 5s 99us/step - loss: 0.0696 - acc: 0.9795 - val_loss: 0.0911 - val_acc: 0.9779\n",
      "Epoch 6/20\n",
      "48000/48000 [==============================] - 5s 100us/step - loss: 0.0608 - acc: 0.9814 - val_loss: 0.0805 - val_acc: 0.9805\n",
      "Epoch 7/20\n",
      "48000/48000 [==============================] - 5s 101us/step - loss: 0.0528 - acc: 0.9845 - val_loss: 0.0877 - val_acc: 0.9795\n",
      "Epoch 8/20\n",
      "48000/48000 [==============================] - 5s 104us/step - loss: 0.0483 - acc: 0.9860 - val_loss: 0.0907 - val_acc: 0.9786\n",
      "Epoch 9/20\n",
      "48000/48000 [==============================] - 5s 97us/step - loss: 0.0438 - acc: 0.9869 - val_loss: 0.0867 - val_acc: 0.9810\n",
      "Epoch 10/20\n",
      "48000/48000 [==============================] - 4s 91us/step - loss: 0.0425 - acc: 0.9872 - val_loss: 0.1022 - val_acc: 0.9789\n",
      "Epoch 11/20\n",
      "48000/48000 [==============================] - 5s 104us/step - loss: 0.0400 - acc: 0.9885 - val_loss: 0.0819 - val_acc: 0.9820\n",
      "Epoch 12/20\n",
      "48000/48000 [==============================] - 5s 101us/step - loss: 0.0362 - acc: 0.9894 - val_loss: 0.0963 - val_acc: 0.9818\n",
      "Epoch 13/20\n",
      "48000/48000 [==============================] - 5s 102us/step - loss: 0.0322 - acc: 0.9903 - val_loss: 0.0997 - val_acc: 0.9809\n",
      "Epoch 14/20\n",
      "48000/48000 [==============================] - 5s 101us/step - loss: 0.0300 - acc: 0.9910 - val_loss: 0.0966 - val_acc: 0.9817\n",
      "Epoch 15/20\n",
      "48000/48000 [==============================] - 5s 101us/step - loss: 0.0308 - acc: 0.9914 - val_loss: 0.0924 - val_acc: 0.9827\n",
      "Epoch 16/20\n",
      "48000/48000 [==============================] - 5s 103us/step - loss: 0.0287 - acc: 0.9920 - val_loss: 0.1076 - val_acc: 0.9811\n",
      "Epoch 17/20\n",
      "48000/48000 [==============================] - 5s 102us/step - loss: 0.0267 - acc: 0.9925 - val_loss: 0.1038 - val_acc: 0.9817\n",
      "Epoch 18/20\n",
      "48000/48000 [==============================] - 5s 103us/step - loss: 0.0274 - acc: 0.9925 - val_loss: 0.1161 - val_acc: 0.9803\n",
      "Epoch 19/20\n",
      "48000/48000 [==============================] - 5s 101us/step - loss: 0.0265 - acc: 0.9928 - val_loss: 0.1221 - val_acc: 0.9802\n",
      "Epoch 20/20\n",
      "48000/48000 [==============================] - 5s 102us/step - loss: 0.0255 - acc: 0.9929 - val_loss: 0.1086 - val_acc: 0.9819\n"
     ]
    }
   ],
   "source": [
    "# Training a model in keras\n",
    "\n",
    "# Once the model is compiled it can be trained with the fit() function\n",
    "\n",
    "history = model.fit(X_train, Y_train_label,\n",
    "batch_size=BATCH_SIZE, epochs=NB_EPOCH,\n",
    "verbose=VERBOSE, validation_split=VALIDATION_SPLIT)"
   ]
  },
  {
   "cell_type": "markdown",
   "metadata": {},
   "source": [
    "- When Training end we achieve <b>99.29</b>--><b>Accuracy on Training</b>\n",
    "- <b>98.19</b>--><b>Accuracy on Validation</b>"
   ]
  },
  {
   "cell_type": "code",
   "execution_count": 9,
   "metadata": {},
   "outputs": [
    {
     "name": "stdout",
     "output_type": "stream",
     "text": [
      "10000/10000 [==============================] - 1s 64us/step\n",
      "Test score: 0.09900498368674548\n",
      "Test accuracy: 0.9834\n"
     ]
    }
   ],
   "source": [
    "# Finally calucating the score.\n",
    "score = model.evaluate(X_test, Y_test_label, verbose=VERBOSE)\n",
    "print(\"Test score:\", score[0])\n",
    "print('Test accuracy:', score[1])"
   ]
  },
  {
   "cell_type": "markdown",
   "metadata": {},
   "source": [
    "We tested our model with <b>Test dataset</b> and achieved accuracy of <b>98.34</b>"
   ]
  }
 ],
 "metadata": {
  "kernelspec": {
   "display_name": "Python 3",
   "language": "python",
   "name": "python3"
  },
  "language_info": {
   "codemirror_mode": {
    "name": "ipython",
    "version": 3
   },
   "file_extension": ".py",
   "mimetype": "text/x-python",
   "name": "python",
   "nbconvert_exporter": "python",
   "pygments_lexer": "ipython3",
   "version": "3.5.4"
  }
 },
 "nbformat": 4,
 "nbformat_minor": 2
}
