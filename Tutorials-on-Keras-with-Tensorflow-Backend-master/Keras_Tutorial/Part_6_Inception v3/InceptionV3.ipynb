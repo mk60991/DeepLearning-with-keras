{
 "cells": [
  {
   "cell_type": "markdown",
   "metadata": {},
   "source": [
    "### Import necessary libaries"
   ]
  },
  {
   "cell_type": "code",
   "execution_count": 2,
   "metadata": {},
   "outputs": [
    {
     "name": "stderr",
     "output_type": "stream",
     "text": [
      "C:\\ProgramData\\Anaconda3\\lib\\site-packages\\h5py\\__init__.py:34: FutureWarning: Conversion of the second argument of issubdtype from `float` to `np.floating` is deprecated. In future, it will be treated as `np.float64 == np.dtype(float).type`.\n",
      "  from ._conv import register_converters as _register_converters\n",
      "Using TensorFlow backend.\n"
     ]
    }
   ],
   "source": [
    "import keras\n",
    "from keras.preprocessing import image\n",
    "from keras.applications.inception_v3 import preprocess_input, decode_predictions\n",
    "import numpy as np\n",
    "import tensorflow as tf"
   ]
  },
  {
   "cell_type": "code",
   "execution_count": 3,
   "metadata": {},
   "outputs": [],
   "source": [
    "# inception v3 model\n",
    "model = keras.applications.inception_v3.InceptionV3(include_top=True, weights='imagenet', input_tensor=None, input_shape=None)\n",
    "graph = tf.get_default_graph()"
   ]
  },
  {
   "cell_type": "markdown",
   "metadata": {},
   "source": [
    "### Defining Prediction function"
   ]
  },
  {
   "cell_type": "code",
   "execution_count": 4,
   "metadata": {},
   "outputs": [],
   "source": [
    "# Prediction function definition\n",
    "def predict(image_file):\n",
    "    img = image.load_img(image_file, target_size=(299, 299))\n",
    "    x = image.img_to_array(img)\n",
    "    x = np.expand_dims(x,axis=0)\n",
    "    x = preprocess_input(x)\n",
    "\n",
    "    global graph\n",
    "    with graph.as_default():\n",
    "        preds = model.predict(x)\n",
    "\n",
    "    top3 = decode_predictions(preds,top=3)[0]\n",
    "\n",
    "    predictions = [{'label': label, 'description': description, 'probability': probability * 100.0}\n",
    "                    for label,description, probability in top3]\n",
    "    return predictions"
   ]
  },
  {
   "cell_type": "code",
   "execution_count": 5,
   "metadata": {},
   "outputs": [],
   "source": [
    "\n",
    "image_file =\"./data/Beach.jpg\"\n",
    "prediction = predict(image_file)\n"
   ]
  },
  {
   "cell_type": "code",
   "execution_count": 6,
   "metadata": {},
   "outputs": [
    {
     "name": "stdout",
     "output_type": "stream",
     "text": [
      "1\n",
      "Description: promontory \n",
      "Proablility: 45.04808187484741 \n",
      "\n",
      "2\n",
      "Description: cliff \n",
      "Proablility: 32.14578628540039 \n",
      "\n",
      "3\n",
      "Description: seashore \n",
      "Proablility: 10.65560132265091 \n",
      "\n"
     ]
    }
   ],
   "source": [
    "for i in range(0,len(prediction)):\n",
    "    print((i+1))\n",
    "    print('Description:',prediction[i]['description'],'\\nProablility:',prediction[i]['probability'],'\\n')"
   ]
  }
 ],
 "metadata": {
  "kernelspec": {
   "display_name": "Python 3",
   "language": "python",
   "name": "python3"
  },
  "language_info": {
   "codemirror_mode": {
    "name": "ipython",
    "version": 3
   },
   "file_extension": ".py",
   "mimetype": "text/x-python",
   "name": "python",
   "nbconvert_exporter": "python",
   "pygments_lexer": "ipython3",
   "version": "3.6.3"
  }
 },
 "nbformat": 4,
 "nbformat_minor": 2
}
