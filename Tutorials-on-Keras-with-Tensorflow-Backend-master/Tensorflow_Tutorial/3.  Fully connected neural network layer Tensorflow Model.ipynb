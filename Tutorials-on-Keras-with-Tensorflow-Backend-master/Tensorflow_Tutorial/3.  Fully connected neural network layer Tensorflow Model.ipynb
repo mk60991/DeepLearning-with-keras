{
 "cells": [
  {
   "cell_type": "markdown",
   "metadata": {},
   "source": [
    "<img src=\"https://s3-ap-south-1.amazonaws.com/av-blog-media/wp-content/uploads/2017/05/26094834/Screen-Shot-2017-05-26-at-9.47.51-AM-768x404.png\"/>\n",
    "- Let's build a neural network with TensorFlow. \n",
    "- Our training data set has nine input features, so we'll need nine inputs in our neural network.\n",
    "\n",
    "<b>x[9 Columns_Inputs] --->[Layer_1==>50_nodes][Layer_2==>100_nodes][Layer_3==>50_nodes]--->Output Layer[1 node]</b>"
   ]
  },
  {
   "cell_type": "markdown",
   "metadata": {},
   "source": [
    "- We can model that with a placeholder called X that holds nine values.\n",
    "- Then, let's have three layers in their neural network that will train to find the relationship between the inputs and the output.\n",
    "- There are many different types of layers you can use in the neural network, but we're going to use the most straightforward type, a fully connected neural network layer. \n",
    "- That means that every node in each layer is connected to every node in the following layer."
   ]
  },
  {
   "cell_type": "markdown",
   "metadata": {},
   "source": [
    "- Once the neural network is coded we can test out different layer sizes to see what layer size gives us the best accuracy.\n",
    "\n",
    "- And since we are trying to predict a single value, we'll have an output layer with just one node, that will be out prediction."
   ]
  },
  {
   "cell_type": "code",
   "execution_count": null,
   "metadata": {},
   "outputs": [],
   "source": []
  }
 ],
 "metadata": {
  "kernelspec": {
   "display_name": "Python 3",
   "language": "python",
   "name": "python3"
  },
  "language_info": {
   "codemirror_mode": {
    "name": "ipython",
    "version": 3
   },
   "file_extension": ".py",
   "mimetype": "text/x-python",
   "name": "python",
   "nbconvert_exporter": "python",
   "pygments_lexer": "ipython3",
   "version": "3.6.2"
  }
 },
 "nbformat": 4,
 "nbformat_minor": 2
}
