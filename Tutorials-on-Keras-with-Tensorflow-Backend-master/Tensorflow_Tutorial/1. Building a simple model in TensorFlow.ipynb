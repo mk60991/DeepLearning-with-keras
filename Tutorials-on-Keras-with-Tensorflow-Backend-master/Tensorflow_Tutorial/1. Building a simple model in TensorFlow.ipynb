{
 "cells": [
  {
   "cell_type": "code",
   "execution_count": 4,
   "metadata": {},
   "outputs": [
    {
     "name": "stdout",
     "output_type": "stream",
     "text": [
      "[ 5.]\n"
     ]
    }
   ],
   "source": [
    "import os\n",
    "import tensorflow as tf\n",
    "\n",
    "# Turn Off Tensorflow warning messages in programs output\n",
    "os.environ['TF_CPP_MIN_LOG_LEVEL'] = '2'\n",
    "\n",
    "# Define a computational graph\n",
    "\n",
    "x = tf.placeholder(tf.float32,name='x')\n",
    "y = tf.placeholder(tf.float32,name='y')\n",
    "addition = tf.add(x,y,name='addition')\n",
    "\n",
    "# Create the session\n",
    "\n",
    "# A session is an object intenser flow that runs operations on graph and tracks state of each node.\n",
    "\n",
    "# To execute operations in the graph, we have to create \"session\".\n",
    "\n",
    "with tf.Session() as session:\n",
    "    # We can ask session to run operation by calling session.run\n",
    "    result = session.run(addition,feed_dict={x:[1],y:[4]})\n",
    "    print(result) # [ 5.]\n"
   ]
  },
  {
   "cell_type": "code",
   "execution_count": 5,
   "metadata": {},
   "outputs": [
    {
     "name": "stdout",
     "output_type": "stream",
     "text": [
      "[ 5.  7.  9.]\n"
     ]
    }
   ],
   "source": [
    "import os\n",
    "import tensorflow as tf\n",
    "\n",
    "# Turn Off Tensorflow warning messages in programs output\n",
    "os.environ['TF_CPP_MIN_LOG_LEVEL'] = '2'\n",
    "\n",
    "# Define a computational graph\n",
    "\n",
    "x = tf.placeholder(tf.float32,name='x')\n",
    "y = tf.placeholder(tf.float32,name='y')\n",
    "addition = tf.add(x,y,name='addition')\n",
    "\n",
    "# Create the session\n",
    "\n",
    "# A session is an object intenser flow that runs operations on graph and tracks state of each node.\n",
    "\n",
    "# To execute operations in the graph, we have to create \"session\".\n",
    "\n",
    "with tf.Session() as session:\n",
    "    # We can ask session to run operation by calling session.run\n",
    "    result = session.run(addition,feed_dict={x:[1,2,3],y:[4,5,6]})\n",
    "    print(result) # [ 5.  7.  9.]\n"
   ]
  }
 ],
 "metadata": {
  "kernelspec": {
   "display_name": "Python 3",
   "language": "python",
   "name": "python3"
  },
  "language_info": {
   "codemirror_mode": {
    "name": "ipython",
    "version": 3
   },
   "file_extension": ".py",
   "mimetype": "text/x-python",
   "name": "python",
   "nbconvert_exporter": "python",
   "pygments_lexer": "ipython3",
   "version": "3.6.2"
  }
 },
 "nbformat": 4,
 "nbformat_minor": 2
}
