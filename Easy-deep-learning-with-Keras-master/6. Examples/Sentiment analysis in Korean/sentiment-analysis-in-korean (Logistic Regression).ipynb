{
 "cells": [
  {
   "cell_type": "markdown",
   "metadata": {},
   "source": [
    "# Sentiment Analysis in Korean (using Naver Sentiment Movie Corpus)\n",
    "- Count-based method using Logistic Regression\n",
    "- Dataset source: https://github.com/e9t/nsmc\n",
    "- To install & use ```Mecab``` tagger in Windows, refer to https://groups.google.com/forum/#!topic/konlpy/SuMc8EkCT_M"
   ]
  },
  {
   "cell_type": "code",
   "execution_count": 134,
   "metadata": {
    "collapsed": true
   },
   "outputs": [],
   "source": [
    "import pandas as pd\n",
    "import numpy as np\n",
    "import tensorflow as tf\n",
    "import matplotlib.pyplot as plt\n",
    "from konlpy.tag import Mecab\n",
    "from sklearn.model_selection import train_test_split\n",
    "from sklearn.linear_model import LogisticRegression\n",
    "from collections import Counter"
   ]
  },
  {
   "cell_type": "code",
   "execution_count": 73,
   "metadata": {},
   "outputs": [
    {
     "data": {
      "text/html": [
       "<div>\n",
       "<style>\n",
       "    .dataframe thead tr:only-child th {\n",
       "        text-align: right;\n",
       "    }\n",
       "\n",
       "    .dataframe thead th {\n",
       "        text-align: left;\n",
       "    }\n",
       "\n",
       "    .dataframe tbody tr th {\n",
       "        vertical-align: top;\n",
       "    }\n",
       "</style>\n",
       "<table border=\"1\" class=\"dataframe\">\n",
       "  <thead>\n",
       "    <tr style=\"text-align: right;\">\n",
       "      <th></th>\n",
       "      <th>id</th>\n",
       "      <th>document</th>\n",
       "      <th>label</th>\n",
       "    </tr>\n",
       "  </thead>\n",
       "  <tbody>\n",
       "    <tr>\n",
       "      <th>0</th>\n",
       "      <td>8112052</td>\n",
       "      <td>어릴때보고 지금다시봐도 재밌어요ㅋㅋ</td>\n",
       "      <td>1</td>\n",
       "    </tr>\n",
       "    <tr>\n",
       "      <th>1</th>\n",
       "      <td>8132799</td>\n",
       "      <td>디자인을 배우는 학생으로, 외국디자이너와 그들이 일군 전통을 통해 발전해가는 문화산...</td>\n",
       "      <td>1</td>\n",
       "    </tr>\n",
       "    <tr>\n",
       "      <th>2</th>\n",
       "      <td>4655635</td>\n",
       "      <td>폴리스스토리 시리즈는 1부터 뉴까지 버릴께 하나도 없음.. 최고.</td>\n",
       "      <td>1</td>\n",
       "    </tr>\n",
       "    <tr>\n",
       "      <th>3</th>\n",
       "      <td>9251303</td>\n",
       "      <td>와.. 연기가 진짜 개쩔구나.. 지루할거라고 생각했는데 몰입해서 봤다.. 그래 이런...</td>\n",
       "      <td>1</td>\n",
       "    </tr>\n",
       "    <tr>\n",
       "      <th>4</th>\n",
       "      <td>10067386</td>\n",
       "      <td>안개 자욱한 밤하늘에 떠 있는 초승달 같은 영화.</td>\n",
       "      <td>1</td>\n",
       "    </tr>\n",
       "  </tbody>\n",
       "</table>\n",
       "</div>"
      ],
      "text/plain": [
       "         id                                           document  label\n",
       "0   8112052                                어릴때보고 지금다시봐도 재밌어요ㅋㅋ      1\n",
       "1   8132799  디자인을 배우는 학생으로, 외국디자이너와 그들이 일군 전통을 통해 발전해가는 문화산...      1\n",
       "2   4655635               폴리스스토리 시리즈는 1부터 뉴까지 버릴께 하나도 없음.. 최고.      1\n",
       "3   9251303  와.. 연기가 진짜 개쩔구나.. 지루할거라고 생각했는데 몰입해서 봤다.. 그래 이런...      1\n",
       "4  10067386                        안개 자욱한 밤하늘에 떠 있는 초승달 같은 영화.      1"
      ]
     },
     "execution_count": 73,
     "metadata": {},
     "output_type": "execute_result"
    }
   ],
   "source": [
    "df = pd.read_table(\"ratings.txt\")\n",
    "df.head()"
   ]
  },
  {
   "cell_type": "code",
   "execution_count": 74,
   "metadata": {
    "collapsed": true
   },
   "outputs": [],
   "source": [
    "mecab = Mecab(\"C:\\\\mecab\\\\mecab-ko-dic\")"
   ]
  },
  {
   "cell_type": "code",
   "execution_count": 75,
   "metadata": {},
   "outputs": [
    {
     "data": {
      "text/plain": [
       "['어릴', '때', '보', '고', '지금', '다시', '봐도', '재밌', '어요', 'ㅋㅋ']"
      ]
     },
     "execution_count": 75,
     "metadata": {},
     "output_type": "execute_result"
    }
   ],
   "source": [
    "mecab.morphs(df[\"document\"][0])"
   ]
  },
  {
   "cell_type": "code",
   "execution_count": 76,
   "metadata": {},
   "outputs": [
    {
     "name": "stdout",
     "output_type": "stream",
     "text": [
      "Number of Reviews:  199992 199992\n",
      "Number of tokens:  3669567\n",
      "Number of unique tokens:  61039\n",
      "Wall time: 23 s\n"
     ]
    }
   ],
   "source": [
    "%%time\n",
    "reviews = []\n",
    "labels = []\n",
    "all_tokens = []\n",
    "unique_tokens = dict()\n",
    "\n",
    "for i in range(len(df)):\n",
    "    try:\n",
    "        tokens = mecab.morphs(df[\"document\"][i])\n",
    "        reviews.append(tokens)\n",
    "        labels.append(df[\"label\"][i])\n",
    "        \n",
    "        all_tokens += tokens\n",
    "        for t in tokens:\n",
    "            if t in unique_tokens.keys():\n",
    "                unique_tokens[t] += 1\n",
    "            else:\n",
    "                unique_tokens[t] = 1\n",
    "    except:\n",
    "        pass\n",
    "    \n",
    "print(\"Number of Reviews: \", len(reviews), len(labels))\n",
    "print(\"Number of tokens: \", len(all_tokens))\n",
    "print(\"Number of unique tokens: \", len(unique_tokens))"
   ]
  },
  {
   "cell_type": "code",
   "execution_count": 77,
   "metadata": {
    "collapsed": true
   },
   "outputs": [],
   "source": [
    "def create_dictionary(unique_tokens, threshold):\n",
    "    token_to_idx = dict()\n",
    "    idx_to_token = dict()\n",
    "    unique_token_keys = list(unique_tokens.keys())\n",
    "    \n",
    "    j = 0\n",
    "    for i in range(len(unique_token_keys)):\n",
    "        if unique_tokens[unique_token_keys[i]] > threshold:\n",
    "            token_to_idx[unique_token_keys[i]] = j\n",
    "            idx_to_token[j] = unique_token_keys[i]\n",
    "            j += 1\n",
    "    \n",
    "    return token_to_idx, idx_to_token"
   ]
  },
  {
   "cell_type": "code",
   "execution_count": 78,
   "metadata": {},
   "outputs": [
    {
     "name": "stdout",
     "output_type": "stream",
     "text": [
      "425 425\n"
     ]
    }
   ],
   "source": [
    "token_to_idx, idx_to_token = create_dictionary(unique_tokens, 1000)\n",
    "\n",
    "print(len(token_to_idx), len(idx_to_token))"
   ]
  },
  {
   "cell_type": "code",
   "execution_count": 79,
   "metadata": {},
   "outputs": [
    {
     "name": "stdout",
     "output_type": "stream",
     "text": [
      "Wall time: 1.97 s\n"
     ]
    }
   ],
   "source": [
    "%%time\n",
    "for i in range(len(reviews)):\n",
    "    for j in range(len(reviews[i])):\n",
    "        if reviews[i][j] in token_to_idx.keys():\n",
    "            reviews[i][j] = token_to_idx[reviews[i][j]]\n",
    "        else:\n",
    "            reviews[i][j] = None\n",
    "            \n",
    "    reviews[i] = [x for x in reviews[i] if x != None]"
   ]
  },
  {
   "cell_type": "code",
   "execution_count": 81,
   "metadata": {},
   "outputs": [
    {
     "name": "stdout",
     "output_type": "stream",
     "text": [
      "Number of non-empty reviews:  197085\n"
     ]
    }
   ],
   "source": [
    "i = 0\n",
    "for r in reviews:\n",
    "    if len(r)!=0:\n",
    "        i += 1\n",
    "        \n",
    "print(\"Number of non-empty reviews: \", i)"
   ]
  },
  {
   "cell_type": "code",
   "execution_count": 88,
   "metadata": {},
   "outputs": [
    {
     "name": "stdout",
     "output_type": "stream",
     "text": [
      "197085 197085\n"
     ]
    }
   ],
   "source": [
    "X_data = []\n",
    "y_data = []\n",
    "\n",
    "for i in range(len(reviews)):\n",
    "    if len(reviews[i]) != 0:\n",
    "        temp = np.zeros(len(token_to_idx))\n",
    "        for t in reviews[i]:\n",
    "            temp[t] += 1\n",
    "        X_data.append(temp)\n",
    "        y_data.append(labels[i])\n",
    "        \n",
    "print(len(X_data), len(y_data))"
   ]
  },
  {
   "cell_type": "code",
   "execution_count": 94,
   "metadata": {},
   "outputs": [
    {
     "name": "stdout",
     "output_type": "stream",
     "text": [
      "(157668, 425) (39417, 425) (157668,) (39417,)\n"
     ]
    }
   ],
   "source": [
    "X_train, X_test, y_train, y_test = train_test_split(np.asarray(X_data), np.asarray(y_data),test_size = 0.2)\n",
    "\n",
    "print(X_train.shape, X_test.shape, y_train.shape, y_test.shape)"
   ]
  },
  {
   "cell_type": "markdown",
   "metadata": {},
   "source": [
    "### Logistic Regression with sklearn\n",
    "- Implementing LR using Scikit-learn\n",
    "- Cheap & Easy since using high-level API"
   ]
  },
  {
   "cell_type": "code",
   "execution_count": 135,
   "metadata": {},
   "outputs": [
    {
     "data": {
      "text/plain": [
       "LogisticRegression(C=1.0, class_weight=None, dual=False, fit_intercept=True,\n",
       "          intercept_scaling=1, max_iter=100, multi_class='ovr', n_jobs=1,\n",
       "          penalty='l2', random_state=None, solver='liblinear', tol=0.0001,\n",
       "          verbose=0, warm_start=False)"
      ]
     },
     "execution_count": 135,
     "metadata": {},
     "output_type": "execute_result"
    }
   ],
   "source": [
    "clf = LogisticRegression()\n",
    "clf.fit(X_train, y_train)"
   ]
  },
  {
   "cell_type": "code",
   "execution_count": 137,
   "metadata": {},
   "outputs": [
    {
     "name": "stdout",
     "output_type": "stream",
     "text": [
      "Train Accuracy:  0.796788187838\n",
      "Test Accuracy:  0.797397062181\n"
     ]
    }
   ],
   "source": [
    "# Train & Test accuracy of 79%! not so bad!\n",
    "print(\"Train Accuracy: \", clf.score(X_train, y_train))\n",
    "print(\"Test Accuracy: \", clf.score(X_test, y_test))"
   ]
  },
  {
   "cell_type": "markdown",
   "metadata": {},
   "source": [
    "### Logistic Regression with TF\n",
    "- Implementing LR using Tensorflow!\n",
    "- Much more complicated & long, but more low-level & able to try diverse settings"
   ]
  },
  {
   "cell_type": "code",
   "execution_count": 121,
   "metadata": {
    "collapsed": true
   },
   "outputs": [],
   "source": [
    "def create_lr_model(X_train, num_epochs = 100, alpha = 0.01, batch_size = 1000):\n",
    "    W = tf.Variable(tf.random_uniform([X_train.shape[1], 1]))\n",
    "    b = tf.Variable(tf.random_uniform([1]))\n",
    "    X = tf.placeholder(tf.float32, shape = [None, X_train.shape[1]])\n",
    "    Y = tf.placeholder(tf.float32)\n",
    "    hypo = tf.matmul(X, W) + b\n",
    "    cost = tf.reduce_mean(tf.nn.sigmoid_cross_entropy_with_logits(logits=hypo, labels=Y))\n",
    "    adamOptimizer = tf.train.AdamOptimizer(tf.Variable(alpha))\n",
    "    train = adamOptimizer.minimize(cost)\n",
    "    \n",
    "    y_pred = tf.round(tf.sigmoid(hypo))\n",
    "    y_correct = tf.cast(tf.equal(y_pred, Y), dtype = tf.float32)\n",
    "    acc = tf.reduce_mean(y_correct)\n",
    "    return W, b, X, Y, hypo, cost, train, y_pred, y_correct, acc, num_epochs, batch_size"
   ]
  },
  {
   "cell_type": "code",
   "execution_count": 143,
   "metadata": {
    "collapsed": true
   },
   "outputs": [],
   "source": [
    "W, b, X, Y, hypo, cost, train, y_pred, y_correct, acc, num_epochs, batch_size = \\\n",
    "                                create_lr_model(X_train, alpha = 0.001, num_epochs = 1000, batch_size = 10000)\n",
    "cost_trajectory = []\n",
    "train_accuracy = []\n",
    "test_accuracy = []"
   ]
  },
  {
   "cell_type": "code",
   "execution_count": 144,
   "metadata": {
    "scrolled": true
   },
   "outputs": [
    {
     "name": "stdout",
     "output_type": "stream",
     "text": [
      "Cost for step 10: 4.152773857116699\n",
      "Cost for step 20: 4.106985092163086\n",
      "Cost for step 30: 3.9578464031219482\n",
      "Cost for step 40: 3.992523431777954\n",
      "Cost for step 50: 3.8413069248199463\n",
      "Cost for step 60: 3.759780168533325\n",
      "Cost for step 70: 3.763327121734619\n",
      "Cost for step 80: 3.7089858055114746\n",
      "Cost for step 90: 3.705281972885132\n",
      "Cost for step 100: 3.4980921745300293\n",
      "Cost for step 110: 3.372502088546753\n",
      "Cost for step 120: 3.3243536949157715\n",
      "Cost for step 130: 3.329185962677002\n",
      "Cost for step 140: 3.293125867843628\n",
      "Cost for step 150: 3.2670469284057617\n",
      "Cost for step 160: 3.17498517036438\n",
      "Cost for step 170: 3.0324788093566895\n",
      "Cost for step 180: 2.968329906463623\n",
      "Cost for step 190: 2.8926637172698975\n",
      "Cost for step 200: 2.8651695251464844\n",
      "Cost for step 210: 2.719136953353882\n",
      "Cost for step 220: 2.673672914505005\n",
      "Cost for step 230: 2.6563050746917725\n",
      "Cost for step 240: 2.5614233016967773\n",
      "Cost for step 250: 2.5558314323425293\n",
      "Cost for step 260: 2.4012701511383057\n",
      "Cost for step 270: 2.388608694076538\n",
      "Cost for step 280: 2.2770938873291016\n",
      "Cost for step 290: 2.2614264488220215\n",
      "Cost for step 300: 2.153254508972168\n",
      "Cost for step 310: 2.100558280944824\n",
      "Cost for step 320: 2.0330018997192383\n",
      "Cost for step 330: 1.9510042667388916\n",
      "Cost for step 340: 1.981006383895874\n",
      "Cost for step 350: 1.8612442016601562\n",
      "Cost for step 360: 1.8106240034103394\n",
      "Cost for step 370: 1.7428290843963623\n",
      "Cost for step 380: 1.656024694442749\n",
      "Cost for step 390: 1.6366654634475708\n",
      "Cost for step 400: 1.5880334377288818\n",
      "Cost for step 410: 1.4983352422714233\n",
      "Cost for step 420: 1.449858546257019\n",
      "Cost for step 430: 1.415726900100708\n",
      "Cost for step 440: 1.3577313423156738\n",
      "Cost for step 450: 1.319958209991455\n",
      "Cost for step 460: 1.2712310552597046\n",
      "Cost for step 470: 1.2215561866760254\n",
      "Cost for step 480: 1.2021617889404297\n",
      "Cost for step 490: 1.141202449798584\n",
      "Cost for step 500: 1.111228585243225\n",
      "Cost for step 510: 1.0582249164581299\n",
      "Cost for step 520: 1.0645959377288818\n",
      "Cost for step 530: 1.0260244607925415\n",
      "Cost for step 540: 0.989918053150177\n",
      "Cost for step 550: 0.9618144631385803\n",
      "Cost for step 560: 0.9431646466255188\n",
      "Cost for step 570: 0.9232725501060486\n",
      "Cost for step 580: 0.9089030623435974\n",
      "Cost for step 590: 0.8879082202911377\n",
      "Cost for step 600: 0.8806116580963135\n",
      "Cost for step 610: 0.8763230443000793\n",
      "Cost for step 620: 0.8586419224739075\n",
      "Cost for step 630: 0.8561521768569946\n",
      "Cost for step 640: 0.8415438532829285\n",
      "Cost for step 650: 0.8326911926269531\n",
      "Cost for step 660: 0.8298203945159912\n",
      "Cost for step 670: 0.8264333009719849\n",
      "Cost for step 680: 0.8210150599479675\n",
      "Cost for step 690: 0.8181377649307251\n",
      "Cost for step 700: 0.8165996074676514\n",
      "Cost for step 710: 0.8156499862670898\n",
      "Cost for step 720: 0.8130147457122803\n",
      "Cost for step 730: 0.8065387010574341\n",
      "Cost for step 740: 0.806304931640625\n",
      "Cost for step 750: 0.8046343922615051\n",
      "Cost for step 760: 0.8030385375022888\n",
      "Cost for step 770: 0.8007338643074036\n",
      "Cost for step 780: 0.7955663800239563\n",
      "Cost for step 790: 0.7957781553268433\n",
      "Cost for step 800: 0.7987390160560608\n",
      "Cost for step 810: 0.794112503528595\n",
      "Cost for step 820: 0.7938077449798584\n",
      "Cost for step 830: 0.7951211333274841\n",
      "Cost for step 840: 0.7917332649230957\n",
      "Cost for step 850: 0.7925833463668823\n",
      "Cost for step 860: 0.7860960960388184\n",
      "Cost for step 870: 0.7870060205459595\n",
      "Cost for step 880: 0.7863849401473999\n",
      "Cost for step 890: 0.7871077656745911\n",
      "Cost for step 900: 0.7821105718612671\n",
      "Cost for step 910: 0.7847086191177368\n",
      "Cost for step 920: 0.7804967164993286\n",
      "Cost for step 930: 0.7810630202293396\n",
      "Cost for step 940: 0.7801623344421387\n",
      "Cost for step 950: 0.7790200710296631\n",
      "Cost for step 960: 0.7742414474487305\n",
      "Cost for step 970: 0.7764526605606079\n",
      "Cost for step 980: 0.7741590142250061\n",
      "Cost for step 990: 0.7697320580482483\n",
      "Cost for step 1000: 0.7730680108070374\n"
     ]
    }
   ],
   "source": [
    "with tf.Session() as sess:\n",
    "    sess.run(tf.initialize_all_variables())\n",
    "    for i in range(num_epochs):\n",
    "        batch_idx = np.random.choice(len(X_train), size = batch_size)\n",
    "        batch_test_idx = np.random.choice(len(X_test), size = 3000)\n",
    "        batch_X_tr, batch_y_tr = X_train[batch_idx], y_train[batch_idx]\n",
    "        sess.run(train, feed_dict = {X: batch_X_tr, Y: batch_y_tr})\n",
    "        temp_cost = sess.run(cost, feed_dict = {X: batch_X_tr, Y: batch_y_tr})\n",
    "        temp_tr_acc = sess.run(acc, feed_dict = {X: batch_X_tr, Y: batch_y_tr})\n",
    "        batch_X_te, batch_y_te = X_test[batch_test_idx], y_test[batch_test_idx]\n",
    "        temp_te_acc = sess.run(acc, feed_dict = {X: batch_X_te, Y: batch_y_te})\n",
    "        if (i+1) % 10 == 0:\n",
    "            print(\"Cost for step {}: {}\".format(i+1, temp_cost))\n",
    "        \n",
    "        cost_trajectory.append(temp_cost)\n",
    "        train_accuracy.append(temp_tr_acc)\n",
    "        test_accuracy.append(temp_te_acc)"
   ]
  },
  {
   "cell_type": "code",
   "execution_count": 146,
   "metadata": {},
   "outputs": [
    {
     "data": {
      "image/png": "[encoded data removed]",
      "text/plain": [
       "<matplotlib.figure.Figure at 0x18476b92198>"
      ]
     },
     "metadata": {},
     "output_type": "display_data"
    }
   ],
   "source": [
    "fig = plt.figure(figsize = (12, 6))\n",
    "plot = fig.add_subplot(111)\n",
    "plt.plot(np.arange(num_epochs), cost_trajectory, \"r\", label = \"cost\")\n",
    "plt.plot(np.arange(num_epochs), train_accuracy, \"b\", label = \"train_acc\")\n",
    "plt.plot(np.arange(num_epochs), test_accuracy, \"g\", label = \"test_acc\")\n",
    "plt.legend()\n",
    "plt.show()"
   ]
  }
 ],
 "metadata": {
  "kernelspec": {
   "display_name": "Python 3",
   "language": "python",
   "name": "python3"
  },
  "language_info": {
   "codemirror_mode": {
    "name": "ipython",
    "version": 3
   },
   "file_extension": ".py",
   "mimetype": "text/x-python",
   "name": "python",
   "nbconvert_exporter": "python",
   "pygments_lexer": "ipython3",
   "version": "3.6.1"
  }
 },
 "nbformat": 4,
 "nbformat_minor": 2
}
