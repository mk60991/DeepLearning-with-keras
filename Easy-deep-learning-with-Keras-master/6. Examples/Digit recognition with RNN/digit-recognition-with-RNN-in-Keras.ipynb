{
 "cells": [
  {
   "cell_type": "code",
   "execution_count": 158,
   "metadata": {
    "collapsed": true
   },
   "outputs": [],
   "source": [
    "import numpy as np\n",
    "import matplotlib.pyplot as plt\n",
    "\n",
    "from sklearn import datasets\n",
    "from sklearn.model_selection import train_test_split, StratifiedKFold, cross_val_score\n",
    "from sklearn.metrics import accuracy_score\n",
    "\n",
    "from keras.models import Sequential\n",
    "from keras.layers import Dense, SimpleRNN, LSTM, GRU, Dropout, Activation, Bidirectional, Conv2D, MaxPooling2D\n",
    "from keras import optimizers\n",
    "from keras.utils.np_utils import to_categorical\n",
    "from keras.wrappers.scikit_learn import KerasClassifier"
   ]
  },
  {
   "cell_type": "markdown",
   "metadata": {},
   "source": [
    "### Load dataset\n",
    "- digits dataset in scikit-learn\n",
    "- url: http://scikit-learn.org/stable/auto_examples/datasets/plot_digits_last_image.html"
   ]
  },
  {
   "cell_type": "code",
   "execution_count": 87,
   "metadata": {
    "collapsed": true
   },
   "outputs": [],
   "source": [
    "data = datasets.load_digits()"
   ]
  },
  {
   "cell_type": "code",
   "execution_count": 104,
   "metadata": {},
   "outputs": [
    {
     "data": {
      "image/png": "[encoded data removed]",
      "text/plain": [
       "<matplotlib.figure.Figure at 0x237f470d390>"
      ]
     },
     "metadata": {},
     "output_type": "display_data"
    },
    {
     "name": "stdout",
     "output_type": "stream",
     "text": [
      "label:  0\n"
     ]
    }
   ],
   "source": [
    "plt.imshow(data.images[0])    # show first number in the dataset\n",
    "plt.show()\n",
    "print('label: ', data.target[0])    # label = '0'"
   ]
  },
  {
   "cell_type": "code",
   "execution_count": 92,
   "metadata": {
    "collapsed": true
   },
   "outputs": [],
   "source": [
    "X_data = data.images\n",
    "y_data = data.target"
   ]
  },
  {
   "cell_type": "code",
   "execution_count": 93,
   "metadata": {},
   "outputs": [
    {
     "name": "stdout",
     "output_type": "stream",
     "text": [
      "(1797, 8, 8)\n",
      "(1797,)\n"
     ]
    }
   ],
   "source": [
    "# shape of data\n",
    "print(X_data.shape)    # (8 X 8) format\n",
    "print(y_data.shape)    "
   ]
  },
  {
   "cell_type": "code",
   "execution_count": 94,
   "metadata": {
    "collapsed": true
   },
   "outputs": [],
   "source": [
    "X_train, X_test, y_train, y_test = train_test_split(X_data, y_data, test_size = 0.2, random_state = 777)"
   ]
  },
  {
   "cell_type": "code",
   "execution_count": 95,
   "metadata": {},
   "outputs": [
    {
     "name": "stdout",
     "output_type": "stream",
     "text": [
      "(1437, 8, 8)\n",
      "(360, 8, 8)\n",
      "(1437,)\n",
      "(360,)\n"
     ]
    }
   ],
   "source": [
    "print(X_train.shape)\n",
    "print(X_test.shape)\n",
    "print(y_train.shape)\n",
    "print(y_test.shape)"
   ]
  },
  {
   "cell_type": "markdown",
   "metadata": {},
   "source": [
    "### 1. Simple RNN model\n",
    "- Simple RNN model with only one vanilla RNN layer"
   ]
  },
  {
   "cell_type": "code",
   "execution_count": 110,
   "metadata": {
    "collapsed": true
   },
   "outputs": [],
   "source": [
    "def simple_rnn_model():\n",
    "    adam = optimizers.Adam(lr = 0.01)\n",
    "    model = Sequential()\n",
    "    model.add(SimpleRNN(10, input_shape = (8,8)))\n",
    "    model.add(Activation('softmax'))\n",
    "    model.compile(loss = 'categorical_crossentropy', optimizer = adam, metrics = ['accuracy'])\n",
    "    \n",
    "    return model  "
   ]
  },
  {
   "cell_type": "code",
   "execution_count": 111,
   "metadata": {
    "collapsed": true
   },
   "outputs": [],
   "source": [
    "simple_rnn_model = KerasClassifier(build_fn = simple_rnn_model, epochs = 100, batch_size = 25, verbose = 1)"
   ]
  },
  {
   "cell_type": "code",
   "execution_count": 112,
   "metadata": {
    "collapsed": true
   },
   "outputs": [],
   "source": [
    "kfold = StratifiedKFold(n_splits=10, shuffle = True, random_state = 777)    # 10-fold cross validation"
   ]
  },
  {
   "cell_type": "code",
   "execution_count": null,
   "metadata": {
    "collapsed": true
   },
   "outputs": [],
   "source": [
    "# cross validate the results\n",
    "results = cross_val_score(simple_rnn_model, X_train, y_train, cv = kfold)"
   ]
  },
  {
   "cell_type": "code",
   "execution_count": 114,
   "metadata": {},
   "outputs": [
    {
     "name": "stdout",
     "output_type": "stream",
     "text": [
      "0.512370629298\n",
      "0.0877594107786\n"
     ]
    }
   ],
   "source": [
    "# print out mean and standard deviation of accuracy results\n",
    "print(results.mean())\n",
    "print(results.std())"
   ]
  },
  {
   "cell_type": "markdown",
   "metadata": {},
   "source": [
    "### 2. Stacked RNN model\n",
    "- Two-layer vanilla RNN model"
   ]
  },
  {
   "cell_type": "code",
   "execution_count": 121,
   "metadata": {
    "collapsed": true
   },
   "outputs": [],
   "source": [
    "def stacked_rnn_model():\n",
    "    adam = optimizers.Adam(lr = 0.01)\n",
    "    model = Sequential()\n",
    "    model.add(SimpleRNN(10, return_sequences = True, input_shape = (8,8)))\n",
    "    model.add(SimpleRNN(10))\n",
    "    model.add(Activation('softmax'))\n",
    "    model.compile(loss = 'categorical_crossentropy', optimizer = adam, metrics = ['accuracy'])\n",
    "    \n",
    "    return model  "
   ]
  },
  {
   "cell_type": "code",
   "execution_count": 122,
   "metadata": {
    "collapsed": true
   },
   "outputs": [],
   "source": [
    "stacked_rnn_model = KerasClassifier(build_fn = stacked_rnn_model, epochs = 100, batch_size = 25, verbose = 1)"
   ]
  },
  {
   "cell_type": "code",
   "execution_count": 123,
   "metadata": {
    "collapsed": true
   },
   "outputs": [],
   "source": [
    "kfold = StratifiedKFold(n_splits=10, shuffle = True, random_state = 777)    # 10-fold cross validation"
   ]
  },
  {
   "cell_type": "code",
   "execution_count": null,
   "metadata": {
    "collapsed": true
   },
   "outputs": [],
   "source": [
    "# cross validate the results\n",
    "results = cross_val_score(stacked_rnn_model, X_train, y_train, cv = kfold)"
   ]
  },
  {
   "cell_type": "code",
   "execution_count": 125,
   "metadata": {
    "scrolled": true
   },
   "outputs": [
    {
     "name": "stdout",
     "output_type": "stream",
     "text": [
      "0.782629487682\n",
      "0.0443044186784\n"
     ]
    }
   ],
   "source": [
    "# print out mean and standard deviation of accuracy results\n",
    "print(results.mean())\n",
    "print(results.std())"
   ]
  },
  {
   "cell_type": "markdown",
   "metadata": {},
   "source": [
    "### 3. Bidirectional RNN model\n",
    "- RNN model with one bi-directional layer\n",
    "- As there are actually two hidden layers in a bi-directional layer, the number of units of a RNN neuron should be halved"
   ]
  },
  {
   "cell_type": "code",
   "execution_count": 151,
   "metadata": {
    "collapsed": true
   },
   "outputs": [],
   "source": [
    "def bidirectional_rnn_model():\n",
    "    adam = optimizers.Adam(lr = 0.01)\n",
    "    model = Sequential()\n",
    "    model.add(Bidirectional(SimpleRNN(5, return_sequences = False), input_shape = (8,8)))    # number of output units is halved\n",
    "    model.add(Activation('softmax'))\n",
    "    model.compile(loss = 'categorical_crossentropy', optimizer = adam, metrics = ['accuracy'])\n",
    "    \n",
    "    return model  "
   ]
  },
  {
   "cell_type": "code",
   "execution_count": 152,
   "metadata": {
    "collapsed": true
   },
   "outputs": [],
   "source": [
    "bidirectional_rnn_model = KerasClassifier(build_fn = bidirectional_rnn_model, epochs = 100, batch_size = 25, verbose = 1)"
   ]
  },
  {
   "cell_type": "code",
   "execution_count": null,
   "metadata": {
    "collapsed": true
   },
   "outputs": [],
   "source": [
    "# cross validate the results\n",
    "results = cross_val_score(bidirectional_rnn_model, X_train, y_train, cv = kfold)"
   ]
  },
  {
   "cell_type": "code",
   "execution_count": 154,
   "metadata": {},
   "outputs": [
    {
     "name": "stdout",
     "output_type": "stream",
     "text": [
      "0.455588528752\n",
      "0.105806469411\n"
     ]
    }
   ],
   "source": [
    "# print out mean and standard deviation of accuracy results\n",
    "print(results.mean())\n",
    "print(results.std())"
   ]
  },
  {
   "cell_type": "markdown",
   "metadata": {},
   "source": [
    "### 4. Simple LSTM model\n",
    "- LSTM model with one layer"
   ]
  },
  {
   "cell_type": "code",
   "execution_count": 127,
   "metadata": {
    "collapsed": true
   },
   "outputs": [],
   "source": [
    "def simple_lstm_model():\n",
    "    adam = optimizers.Adam(lr = 0.01)\n",
    "    model = Sequential()\n",
    "    model.add(LSTM(10, return_sequences = False, input_shape = (8,8)))\n",
    "    model.add(Activation('softmax'))\n",
    "    model.compile(loss = 'categorical_crossentropy', optimizer = adam, metrics = ['accuracy'])\n",
    "    \n",
    "    return model  "
   ]
  },
  {
   "cell_type": "code",
   "execution_count": 128,
   "metadata": {
    "collapsed": true
   },
   "outputs": [],
   "source": [
    "simple_lstm_model = KerasClassifier(build_fn = simple_lstm_model, epochs = 100, batch_size = 25, verbose = 1)"
   ]
  },
  {
   "cell_type": "code",
   "execution_count": null,
   "metadata": {
    "collapsed": true
   },
   "outputs": [],
   "source": [
    "# cross validate the results\n",
    "results = cross_val_score(simple_lstm_model, X_train, y_train, cv = kfold)"
   ]
  },
  {
   "cell_type": "code",
   "execution_count": 130,
   "metadata": {},
   "outputs": [
    {
     "name": "stdout",
     "output_type": "stream",
     "text": [
      "0.735386777075\n",
      "0.0757424070027\n"
     ]
    }
   ],
   "source": [
    "# print out mean and standard deviation of accuracy results\n",
    "print(results.mean())\n",
    "print(results.std())"
   ]
  },
  {
   "cell_type": "markdown",
   "metadata": {},
   "source": [
    "### 5. Stacked LSTM model\n",
    "- LSTM model with two layers"
   ]
  },
  {
   "cell_type": "code",
   "execution_count": 131,
   "metadata": {
    "collapsed": true
   },
   "outputs": [],
   "source": [
    "def stacked_lstm_model():\n",
    "    adam = optimizers.Adam(lr = 0.01)\n",
    "    model = Sequential()\n",
    "    model.add(LSTM(10, return_sequences = True, input_shape = (8,8)))\n",
    "    model.add(LSTM(10))\n",
    "    model.add(Activation('softmax'))\n",
    "    model.compile(loss = 'categorical_crossentropy', optimizer = adam, metrics = ['accuracy'])\n",
    "    \n",
    "    return model  "
   ]
  },
  {
   "cell_type": "code",
   "execution_count": 132,
   "metadata": {
    "collapsed": true
   },
   "outputs": [],
   "source": [
    "stacked_lstm_model = KerasClassifier(build_fn = stacked_lstm_model, epochs = 100, batch_size = 25, verbose = 1)"
   ]
  },
  {
   "cell_type": "code",
   "execution_count": null,
   "metadata": {
    "collapsed": true
   },
   "outputs": [],
   "source": [
    "# cross validate the results\n",
    "results = cross_val_score(stacked_lstm_model, X_train, y_train, cv = kfold)"
   ]
  },
  {
   "cell_type": "code",
   "execution_count": 134,
   "metadata": {},
   "outputs": [
    {
     "name": "stdout",
     "output_type": "stream",
     "text": [
      "0.915160591419\n",
      "0.0325069346011\n"
     ]
    }
   ],
   "source": [
    "# print out mean and standard deviation of accuracy results\n",
    "print(results.mean())\n",
    "print(results.std())"
   ]
  },
  {
   "cell_type": "markdown",
   "metadata": {},
   "source": [
    "### 6. Bidirectional LSTM model\n",
    "- LSTM model with one bi-directional layer\n",
    "- As there are actually two hidden layers in a bi-directional layer, the number of units of a LSTM neuron should be halved"
   ]
  },
  {
   "cell_type": "code",
   "execution_count": 155,
   "metadata": {
    "collapsed": true
   },
   "outputs": [],
   "source": [
    "def bidirectional_lstm_model():\n",
    "    adam = optimizers.Adam(lr = 0.01)\n",
    "    model = Sequential()\n",
    "    model.add(Bidirectional(LSTM(5, return_sequences = False), input_shape = (8,8)))    # number of output units is halved\n",
    "    model.add(Activation('softmax'))\n",
    "    model.compile(loss = 'categorical_crossentropy', optimizer = adam, metrics = ['accuracy'])\n",
    "    \n",
    "    return model  "
   ]
  },
  {
   "cell_type": "code",
   "execution_count": 156,
   "metadata": {
    "collapsed": true
   },
   "outputs": [],
   "source": [
    "bidirectional_lstm_model = KerasClassifier(build_fn = bidirectional_lstm_model, epochs = 100, batch_size = 25, verbose = 1)"
   ]
  },
  {
   "cell_type": "code",
   "execution_count": null,
   "metadata": {
    "collapsed": true
   },
   "outputs": [],
   "source": [
    "# cross validate the results\n",
    "results = cross_val_score(bidirectional_lstm_model, X_train, y_train, cv = kfold)"
   ]
  },
  {
   "cell_type": "code",
   "execution_count": 159,
   "metadata": {},
   "outputs": [
    {
     "name": "stdout",
     "output_type": "stream",
     "text": [
      "0.561767569655\n",
      "0.115548047249\n"
     ]
    }
   ],
   "source": [
    "# print out mean and standard deviation of accuracy results\n",
    "print(results.mean())\n",
    "print(results.std())"
   ]
  },
  {
   "cell_type": "markdown",
   "metadata": {},
   "source": [
    "### 7. Simple GRU model\n",
    "- GRU model with one layer"
   ]
  },
  {
   "cell_type": "code",
   "execution_count": 135,
   "metadata": {
    "collapsed": true
   },
   "outputs": [],
   "source": [
    "def simple_gru_model():\n",
    "    adam = optimizers.Adam(lr = 0.01)\n",
    "    model = Sequential()\n",
    "    model.add(GRU(10, return_sequences = False, input_shape = (8,8)))\n",
    "    model.add(Activation('softmax'))\n",
    "    model.compile(loss = 'categorical_crossentropy', optimizer = adam, metrics = ['accuracy'])\n",
    "    \n",
    "    return model  "
   ]
  },
  {
   "cell_type": "code",
   "execution_count": 136,
   "metadata": {
    "collapsed": true
   },
   "outputs": [],
   "source": [
    "simple_gru_model = KerasClassifier(build_fn = simple_gru_model, epochs = 100, batch_size = 25, verbose = 1)"
   ]
  },
  {
   "cell_type": "code",
   "execution_count": null,
   "metadata": {
    "collapsed": true
   },
   "outputs": [],
   "source": [
    "# cross validate the results\n",
    "results = cross_val_score(simple_gru_model, X_train, y_train, cv = kfold)"
   ]
  },
  {
   "cell_type": "code",
   "execution_count": 138,
   "metadata": {},
   "outputs": [
    {
     "name": "stdout",
     "output_type": "stream",
     "text": [
      "0.754681983122\n",
      "0.0646756393836\n"
     ]
    }
   ],
   "source": [
    "# print out mean and standard deviation of accuracy results\n",
    "print(results.mean())\n",
    "print(results.std())                          "
   ]
  },
  {
   "cell_type": "markdown",
   "metadata": {},
   "source": [
    "### 8. Stacked GRU model\n",
    "- GRU model with two GRU layers"
   ]
  },
  {
   "cell_type": "code",
   "execution_count": 139,
   "metadata": {
    "collapsed": true
   },
   "outputs": [],
   "source": [
    "def stacked_gru_model():\n",
    "    adam = optimizers.Adam(lr = 0.01)\n",
    "    model = Sequential()\n",
    "    model.add(GRU(10, return_sequences = True, input_shape = (8,8)))\n",
    "    model.add(GRU(10))\n",
    "    model.add(Activation('softmax'))\n",
    "    model.compile(loss = 'categorical_crossentropy', optimizer = adam, metrics = ['accuracy'])\n",
    "    \n",
    "    return model  "
   ]
  },
  {
   "cell_type": "code",
   "execution_count": 140,
   "metadata": {
    "collapsed": true
   },
   "outputs": [],
   "source": [
    "stacked_gru_model = KerasClassifier(build_fn = stacked_gru_model, epochs = 100, batch_size = 25, verbose = 1)"
   ]
  },
  {
   "cell_type": "code",
   "execution_count": null,
   "metadata": {
    "collapsed": true
   },
   "outputs": [],
   "source": [
    "# cross validate the results\n",
    "results = cross_val_score(stacked_gru_model, X_train, y_train, cv = kfold)"
   ]
  },
  {
   "cell_type": "code",
   "execution_count": 142,
   "metadata": {},
   "outputs": [
    {
     "name": "stdout",
     "output_type": "stream",
     "text": [
      "0.86831371306\n",
      "0.0647763236999\n"
     ]
    }
   ],
   "source": [
    "# print out mean and standard deviation of accuracy results\n",
    "print(results.mean())\n",
    "print(results.std())     "
   ]
  },
  {
   "cell_type": "markdown",
   "metadata": {},
   "source": [
    "### 9. Bidirectional GRU model\n",
    "- GRU model with one bi-directional layer\n",
    "- As there are actually two hidden layers in a bi-directional layer, the number of units of a GRU neuron should be halved"
   ]
  },
  {
   "cell_type": "code",
   "execution_count": 160,
   "metadata": {
    "collapsed": true
   },
   "outputs": [],
   "source": [
    "def bidirectional_gru_model():\n",
    "    adam = optimizers.Adam(lr = 0.01)\n",
    "    model = Sequential()\n",
    "    model.add(Bidirectional(GRU(5, return_sequences = False), input_shape = (8,8)))    # number of output units is halved\n",
    "    model.add(Activation('softmax'))\n",
    "    model.compile(loss = 'categorical_crossentropy', optimizer = adam, metrics = ['accuracy'])\n",
    "    \n",
    "    return model  "
   ]
  },
  {
   "cell_type": "code",
   "execution_count": 161,
   "metadata": {
    "collapsed": true
   },
   "outputs": [],
   "source": [
    "bidirectional_gru_model = KerasClassifier(build_fn = bidirectional_gru_model, epochs = 100, batch_size = 25, verbose = 1)"
   ]
  },
  {
   "cell_type": "code",
   "execution_count": null,
   "metadata": {
    "collapsed": true
   },
   "outputs": [],
   "source": [
    "# cross validate the results\n",
    "results = cross_val_score(bidirectional_gru_model, X_train, y_train, cv = kfold)"
   ]
  },
  {
   "cell_type": "code",
   "execution_count": 163,
   "metadata": {},
   "outputs": [
    {
     "name": "stdout",
     "output_type": "stream",
     "text": [
      "0.585051039768\n",
      "0.082875157127\n"
     ]
    }
   ],
   "source": [
    "# print out mean and standard deviation of accuracy results\n",
    "print(results.mean())\n",
    "print(results.std())     "
   ]
  }
 ],
 "metadata": {
  "kernelspec": {
   "display_name": "Python 3",
   "language": "python",
   "name": "python3"
  },
  "language_info": {
   "codemirror_mode": {
    "name": "ipython",
    "version": 3
   },
   "file_extension": ".py",
   "mimetype": "text/x-python",
   "name": "python",
   "nbconvert_exporter": "python",
   "pygments_lexer": "ipython3",
   "version": "3.6.1"
  }
 },
 "nbformat": 4,
 "nbformat_minor": 2
}
