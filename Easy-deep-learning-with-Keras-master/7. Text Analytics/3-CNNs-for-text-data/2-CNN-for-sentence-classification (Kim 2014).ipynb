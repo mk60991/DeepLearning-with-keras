{
 "cells": [
  {
   "cell_type": "markdown",
   "metadata": {},
   "source": [
    "# 2. CNN for Sentence Classification (Kim 2014)\n",
    "- This is Keras implementation for **CNN for Sentence Classification** paper (Kim, Y. (2014). Convolutional neural networks for sentence classification. arXiv preprint arXiv:1408.5882.) \n",
    "- There are four model variations\n",
    "    - ```CNN-rand```: \"Our baseline model where all words are randomly initialized and then modified during training.\"\n",
    "    - ```CNN-static```: \"A model with pre-trained vectors from word2vec. All words-including the unknown ones that are randomly initialized—are kept static and only the other parameters of the model are learned.\"\n",
    "    - ```CNN-non-static```: \"Same as above but the pretrained vectors are fine-tuned for each task.\"\n",
    "    - ```CNN-multichannel```: \"A model with two sets of word vectors. Each set of vectors is treated as a ‘channel’ and each filter is applied to both channels, but gradients are backpropagated only through one of the channels. Hence the model is able to fine-tune one set of vectors while keeping the other static. Both channels are initialized with word2vec.\"\n",
    "    \n",
    "</br>\n",
    "<img src=\"http://d3kbpzbmcynnmx.cloudfront.net/wp-content/uploads/2015/11/Screen-Shot-2015-11-06-at-8.03.47-AM.png\" style=\"width: 800px\"/>\n",
    "    \n",
    "- Dataset used is **Sentiment Analysis on Movie Reviews** from Kaggle\n",
    "    - source: https://www.kaggle.com/c/sentiment-analysis-on-movie-reviews/data"
   ]
  },
  {
   "cell_type": "code",
   "execution_count": 4,
   "metadata": {
    "collapsed": true
   },
   "outputs": [],
   "source": [
    "import pandas as pd\n",
    "import numpy as np\n",
    "import matplotlib.pyplot as plt\n",
    "\n",
    "from sklearn.model_selection import train_test_split\n",
    "from multiprocessing import Pool\n",
    "from keras.preprocessing.sequence import pad_sequences\n",
    "from keras.preprocessing.text import Tokenizer\n",
    "from gensim.models import Word2Vec\n",
    "from keras.layers import *\n",
    "from keras.models import *\n",
    "from keras.utils import to_categorical\n",
    "from keras.callbacks import *\n",
    "from keras import optimizers"
   ]
  },
  {
   "cell_type": "markdown",
   "metadata": {},
   "source": [
    "## Dataset import and preprocessing"
   ]
  },
  {
   "cell_type": "code",
   "execution_count": 2,
   "metadata": {},
   "outputs": [
    {
     "name": "stdout",
     "output_type": "stream",
     "text": [
      "(8529, 2)\n",
      "                                              Phrase  Sentiment\n",
      "0  A series of escapades demonstrating the adage ...          1\n",
      "1  This quiet , introspective and entertaining in...          4\n",
      "2  Even fans of Ismail Merchant 's work , I suspe...          1\n",
      "3  A positively thrilling combination of ethnogra...          3\n",
      "4  Aggressive self-glorification and a manipulati...          1\n"
     ]
    }
   ],
   "source": [
    "# exclude partial phrases, and import only sentences\n",
    "df = pd.read_csv(\"data\\train.tsv\", delimiter = '\\t').groupby(['SentenceId']).head(1)[['Phrase', 'Sentiment']]\n",
    "df = df.reset_index(drop = True)\n",
    "print(df.shape)\n",
    "print(df.head())"
   ]
  },
  {
   "cell_type": "code",
   "execution_count": 3,
   "metadata": {
    "collapsed": true
   },
   "outputs": [],
   "source": [
    "num_tokens = 10000      # number of tokens\n",
    "embed_dim = 50          # set word2vec embedding dim = 50"
   ]
  },
  {
   "cell_type": "code",
   "execution_count": 8,
   "metadata": {
    "collapsed": true
   },
   "outputs": [],
   "source": [
    "tokenizer = Tokenizer(num_words = num_tokens)\n",
    "tokenizer.fit_on_texts(df['Phrase'])\n",
    "sentences = tokenizer.texts_to_sequences(df['Phrase'])\n",
    "word_idx = tokenizer.word_index"
   ]
  },
  {
   "cell_type": "code",
   "execution_count": 9,
   "metadata": {
    "collapsed": true
   },
   "outputs": [],
   "source": [
    "for i in range(len(sentences)):\n",
    "    for j in range(len(sentences[i])):\n",
    "        sentences[i][j] = str(sentences[i][j])"
   ]
  },
  {
   "cell_type": "code",
   "execution_count": 11,
   "metadata": {
    "collapsed": true
   },
   "outputs": [],
   "source": [
    "# generate word2vec model with encoded sentences\n",
    "model = Word2Vec(sentences = sentences, size = embed_dim, sg = 1, window = 3, min_count = 1, iter = 10, workers = Pool()._processes)  \n",
    "model.init_sims(replace = True)"
   ]
  },
  {
   "cell_type": "code",
   "execution_count": 13,
   "metadata": {
    "collapsed": true
   },
   "outputs": [],
   "source": [
    "sentences = pad_sequences(sentences, maxlen = len(max(sentences, key = len)), padding = 'post')"
   ]
  },
  {
   "cell_type": "code",
   "execution_count": 33,
   "metadata": {},
   "outputs": [
    {
     "name": "stdout",
     "output_type": "stream",
     "text": [
      "15213\n",
      "(15214, 50)\n"
     ]
    }
   ],
   "source": [
    "embedding_matrix = np.zeros((len(word_idx) + 1, embed_dim))\n",
    "\n",
    "for word, idx in word_idx.items():\n",
    "    try:\n",
    "        embedding_matrix[idx] = model[str(idx)]\n",
    "    except:\n",
    "        pass\n",
    "\n",
    "print(len(word_idx))\n",
    "print(embedding_matrix.shape)"
   ]
  },
  {
   "cell_type": "code",
   "execution_count": 35,
   "metadata": {},
   "outputs": [
    {
     "name": "stdout",
     "output_type": "stream",
     "text": [
      "(6396, 47) (2133, 47) (6396, 5) (2133, 5)\n"
     ]
    }
   ],
   "source": [
    "# split data into train-test sets\n",
    "X_train, X_test, y_train, y_test = train_test_split(sentences, df['Sentiment'])\n",
    "y_train = to_categorical(y_train)\n",
    "y_test = to_categorical(y_test)\n",
    "\n",
    "print(X_train.shape, X_test.shape, y_train.shape, y_test.shape)"
   ]
  },
  {
   "cell_type": "markdown",
   "metadata": {
    "collapsed": true
   },
   "source": [
    "### CNN-rand\n",
    "- All words are randomly initialized and the modified during training"
   ]
  },
  {
   "cell_type": "code",
   "execution_count": 44,
   "metadata": {
    "collapsed": true
   },
   "outputs": [],
   "source": [
    "def cnn_rand(embed_dim, num_tokens, max_len, windows = [3, 4, 5], filters = 100, p = 0.5, l2 = 3):\n",
    "    inputs = Input(shape = (max_len, ))\n",
    "    embedded = Embedding(input_dim = len(word_idx) + 1, output_dim = embed_dim, \\\n",
    "                         input_length = max_len, trainable = True)(inputs)\n",
    "    conv_results = []\n",
    "    for window in windows:\n",
    "        x = Conv1D(filters, window, activation = 'relu')(embedded)\n",
    "        x = Dropout(p)(x)\n",
    "        x = MaxPooling1D(max_len - window + 1)(x)\n",
    "        conv_results.append(x)\n",
    "    conv_result = concatenate(conv_results)\n",
    "    x = GlobalMaxPooling1D()(conv_result)\n",
    "    x = Dense(50)(x)\n",
    "    outputs = Dense(5, activation = 'softmax')(x)\n",
    "    m = Model(inputs = inputs, outputs = outputs)\n",
    "    m.compile(optimizer = 'adam', loss = 'categorical_crossentropy', metrics = ['acc'])\n",
    "    return m"
   ]
  },
  {
   "cell_type": "code",
   "execution_count": 40,
   "metadata": {
    "collapsed": true
   },
   "outputs": [],
   "source": [
    "cnn_rand = cnn_rand(embed_dim, num_tokens, X_train.shape[1])\n",
    "callbacks = [ModelCheckpoint(filepath = 'best_model.hdf5', monitor='val_acc', verbose=1, save_best_only = True, mode='max')]"
   ]
  },
  {
   "cell_type": "code",
   "execution_count": null,
   "metadata": {
    "collapsed": true
   },
   "outputs": [],
   "source": [
    "history = cnn_rand.fit(X_train, y_train, epochs = 100, callbacks = callbacks, validation_split = 0.1, batch_size = 50)"
   ]
  },
  {
   "cell_type": "code",
   "execution_count": 42,
   "metadata": {},
   "outputs": [
    {
     "data": {
      "image/png": "[encoded data removed]",
      "text/plain": [
       "<matplotlib.figure.Figure at 0x20adc9e9978>"
      ]
     },
     "metadata": {},
     "output_type": "display_data"
    }
   ],
   "source": [
    "plt.plot(history.history['acc'])\n",
    "plt.plot(history.history['val_acc'])\n",
    "plt.legend(['training', 'validation'], loc = 'upper left')\n",
    "plt.show()"
   ]
  },
  {
   "cell_type": "code",
   "execution_count": 46,
   "metadata": {},
   "outputs": [
    {
     "name": "stdout",
     "output_type": "stream",
     "text": [
      "2133/2133 [==============================] - 0s     \n",
      "Test accuracy:  0.390060947037\n"
     ]
    }
   ],
   "source": [
    "cnn_rand_best_model = cnn_rand(embed_dim=embed_dim , num_tokens=num_tokens, max_len=X_train.shape[1])\n",
    "cnn_rand_best_model.load_weights('best_model.hdf5')\n",
    "cnn_rand_best_model.compile(optimizer = 'Adam', loss = 'categorical_crossentropy', metrics = ['accuracy'])\n",
    "results = cnn_rand_best_model.evaluate(X_test, y_test)\n",
    "print('Test accuracy: ', results[1])"
   ]
  },
  {
   "cell_type": "markdown",
   "metadata": {},
   "source": [
    "## CNN-static\n",
    "- A model with pre-trained vectors from ```word2vec```. All words - including the unknown ones that are randomly initialized- are kept static and only the other parameters of the model are learned"
   ]
  },
  {
   "cell_type": "code",
   "execution_count": 52,
   "metadata": {
    "collapsed": true
   },
   "outputs": [],
   "source": [
    "def cnn_static(embed_dim, num_tokens, max_len, windows = [3, 4, 5], filters = 100, p = 0.5, l2 = 3):\n",
    "    inputs = Input(shape = (max_len, ))\n",
    "    embedd_intializer = Embedding(input_dim = len(word_idx) + 1, output_dim = embed_dim, \\\n",
    "                         input_length = max_len, weights = [embedding_matrix], trainable = False)\n",
    "    embedded = embedd_intializer(inputs)\n",
    "\n",
    "    \n",
    "    conv_results = []\n",
    "    for window in windows:\n",
    "        x = Conv1D(filters, window, activation = 'relu')(embedded)\n",
    "        x = Dropout(p)(x)\n",
    "        x = MaxPooling1D(max_len - window + 1)(x)\n",
    "        conv_results.append(x)\n",
    "    conv_result = concatenate(conv_results)\n",
    "    x = GlobalMaxPooling1D()(conv_result)\n",
    "    x = Dense(50)(x)\n",
    "    outputs = Dense(5, activation = 'softmax')(x)\n",
    "    m = Model(inputs = inputs, outputs = outputs)\n",
    "    m.compile(optimizer = 'adam', loss = 'categorical_crossentropy', metrics = ['acc'])\n",
    "    return m"
   ]
  },
  {
   "cell_type": "code",
   "execution_count": 49,
   "metadata": {
    "collapsed": true
   },
   "outputs": [],
   "source": [
    "cnn_static = cnn_static(embed_dim, num_tokens, X_train.shape[1])\n",
    "callbacks = [ModelCheckpoint(filepath = 'best_model.hdf5', monitor='val_acc', verbose=1, save_best_only = True, mode='max')]"
   ]
  },
  {
   "cell_type": "code",
   "execution_count": null,
   "metadata": {
    "collapsed": true
   },
   "outputs": [],
   "source": [
    "history = cnn_static.fit(X_train, y_train, epochs = 100, callbacks = callbacks, validation_split = 0.1, batch_size = 50)"
   ]
  },
  {
   "cell_type": "code",
   "execution_count": 51,
   "metadata": {},
   "outputs": [
    {
     "data": {
      "image/png": "[encoded data removed]",
      "text/plain": [
       "<matplotlib.figure.Figure at 0x20adbcf77f0>"
      ]
     },
     "metadata": {},
     "output_type": "display_data"
    }
   ],
   "source": [
    "plt.plot(history.history['acc'])\n",
    "plt.plot(history.history['val_acc'])\n",
    "plt.legend(['training', 'validation'], loc = 'upper left')\n",
    "plt.show()"
   ]
  },
  {
   "cell_type": "code",
   "execution_count": 54,
   "metadata": {},
   "outputs": [
    {
     "name": "stdout",
     "output_type": "stream",
     "text": [
      "1792/2133 [========================>.....] - ETA: 0sTest accuracy:  0.341303328715\n"
     ]
    }
   ],
   "source": [
    "cnn_static_best_model = cnn_static(embed_dim=embed_dim , num_tokens=num_tokens, max_len=X_train.shape[1])\n",
    "cnn_static_best_model.load_weights('best_model.hdf5')\n",
    "cnn_static_best_model.compile(optimizer = 'Adam', loss = 'categorical_crossentropy', metrics = ['accuracy'])\n",
    "results = cnn_static_best_model.evaluate(X_test, y_test)\n",
    "print('Test accuracy: ', results[1])"
   ]
  },
  {
   "cell_type": "markdown",
   "metadata": {},
   "source": [
    "## CNN-non-static\n",
    "- Same as above, but the pretrained vectors are fine-tuned for each task"
   ]
  },
  {
   "cell_type": "code",
   "execution_count": 61,
   "metadata": {
    "collapsed": true
   },
   "outputs": [],
   "source": [
    "def cnn_non_static(embed_dim, num_tokens, max_len, windows = [3, 4, 5], filters = 100, p = 0.5, l2 = 3):\n",
    "    inputs = Input(shape = (max_len, ))\n",
    "    embedd_intializer = Embedding(input_dim = len(word_idx) + 1, output_dim = embed_dim, \\\n",
    "                     input_length = max_len, weights = [embedding_matrix], trainable = True)\n",
    "    embedded = embedd_intializer(inputs)\n",
    "    \n",
    "    conv_results = []\n",
    "    for window in windows:\n",
    "        x = Conv1D(filters, window, activation = 'relu')(embedded)\n",
    "        x = Dropout(p)(x)\n",
    "        x = MaxPooling1D(max_len - window + 1)(x)\n",
    "        conv_results.append(x)\n",
    "    conv_result = concatenate(conv_results)\n",
    "    x = GlobalMaxPooling1D()(conv_result)\n",
    "    x = Dense(50)(x)\n",
    "    outputs = Dense(5, activation = 'softmax')(x)\n",
    "    m = Model(inputs = inputs, outputs = outputs)\n",
    "    m.compile(optimizer = 'adam', loss = 'categorical_crossentropy', metrics = ['acc'])\n",
    "    return m"
   ]
  },
  {
   "cell_type": "code",
   "execution_count": 58,
   "metadata": {
    "collapsed": true
   },
   "outputs": [],
   "source": [
    "cnn_non_static = cnn_non_static(embed_dim, num_tokens, X_train.shape[1])\n",
    "callbacks = [ModelCheckpoint(filepath = 'best_model.hdf5', monitor='val_acc', verbose=1, save_best_only = True, mode='max')]"
   ]
  },
  {
   "cell_type": "code",
   "execution_count": null,
   "metadata": {
    "collapsed": true
   },
   "outputs": [],
   "source": [
    "history = cnn_non_static.fit(X_train, y_train, epochs = 100, callbacks = callbacks, validation_split = 0.1, batch_size = 50)"
   ]
  },
  {
   "cell_type": "code",
   "execution_count": 60,
   "metadata": {},
   "outputs": [
    {
     "data": {
      "image/png": "[encoded data removed]",
      "text/plain": [
       "<matplotlib.figure.Figure at 0x20adbf149e8>"
      ]
     },
     "metadata": {},
     "output_type": "display_data"
    }
   ],
   "source": [
    "plt.plot(history.history['acc'])\n",
    "plt.plot(history.history['val_acc'])\n",
    "plt.legend(['training', 'validation'], loc = 'upper left')\n",
    "plt.show()"
   ]
  },
  {
   "cell_type": "code",
   "execution_count": 62,
   "metadata": {},
   "outputs": [
    {
     "name": "stdout",
     "output_type": "stream",
     "text": [
      "2016/2133 [===========================>..] - ETA: 0sTest accuracy:  0.389592124049\n"
     ]
    }
   ],
   "source": [
    "cnn_non_static_best_model = cnn_non_static(embed_dim=embed_dim , num_tokens=num_tokens, max_len=X_train.shape[1])\n",
    "cnn_non_static_best_model.load_weights('best_model.hdf5')\n",
    "cnn_non_static_best_model.compile(optimizer = 'Adam', loss = 'categorical_crossentropy', metrics = ['accuracy'])\n",
    "results = cnn_non_static_best_model.evaluate(X_test, y_test)\n",
    "print('Test accuracy: ', results[1])"
   ]
  },
  {
   "cell_type": "markdown",
   "metadata": {},
   "source": [
    "## CNN-multichannel\n",
    "- A model with two sets of word vectors"
   ]
  },
  {
   "cell_type": "code",
   "execution_count": 67,
   "metadata": {
    "collapsed": true
   },
   "outputs": [],
   "source": [
    "def cnn_multichannel(embed_dim, num_tokens, max_len, windows = [3, 4, 5], filters = 100, p = 0.5, l2 = 3):\n",
    "    inputs = Input(shape = (max_len, ))\n",
    "    embedd_intializer = Embedding(input_dim = len(word_idx) + 1, output_dim = embed_dim, \\\n",
    "                     input_length = max_len, weights = [embedding_matrix], trainable = True)\n",
    "    embedded_1 = embedd_intializer(inputs)\n",
    "    \n",
    "    embedd_intializer = Embedding(input_dim = len(word_idx) + 1, output_dim = embed_dim, \\\n",
    "                     input_length = max_len, weights = [embedding_matrix], trainable = False)\n",
    "    embedded_2 = embedd_intializer(inputs)\n",
    "    \n",
    "    embedded = concatenate([embedded_1, embedded_2])\n",
    "    \n",
    "    conv_results = []\n",
    "    for window in windows:\n",
    "        x = Conv1D(filters, window, activation = 'relu')(embedded)\n",
    "        x = Dropout(p)(x)\n",
    "        x = MaxPooling1D(max_len - window + 1)(x)\n",
    "        conv_results.append(x)\n",
    "    conv_result = concatenate(conv_results)\n",
    "    x = GlobalMaxPooling1D()(conv_result)\n",
    "    x = Dense(50)(x)\n",
    "    outputs = Dense(5, activation = 'softmax')(x)\n",
    "    m = Model(inputs = inputs, outputs = outputs)\n",
    "    m.compile(optimizer = 'adam', loss = 'categorical_crossentropy', metrics = ['acc'])\n",
    "    return m"
   ]
  },
  {
   "cell_type": "code",
   "execution_count": 64,
   "metadata": {
    "collapsed": true
   },
   "outputs": [],
   "source": [
    "cnn_multichannel = cnn_multichannel(embed_dim, num_tokens, X_train.shape[1])\n",
    "callbacks = [ModelCheckpoint(filepath = 'best_model.hdf5', monitor='val_acc', verbose=1, save_best_only = True, mode='max')]"
   ]
  },
  {
   "cell_type": "code",
   "execution_count": null,
   "metadata": {
    "collapsed": true
   },
   "outputs": [],
   "source": [
    "history = cnn_multichannel.fit(X_train, y_train, epochs = 100, callbacks = callbacks, validation_split = 0.1, batch_size = 50)"
   ]
  },
  {
   "cell_type": "code",
   "execution_count": 66,
   "metadata": {},
   "outputs": [
    {
     "data": {
      "image/png": "[encoded data removed]",
      "text/plain": [
       "<matplotlib.figure.Figure at 0x20adc065390>"
      ]
     },
     "metadata": {},
     "output_type": "display_data"
    }
   ],
   "source": [
    "plt.plot(history.history['acc'])\n",
    "plt.plot(history.history['val_acc'])\n",
    "plt.legend(['training', 'validation'], loc = 'upper left')\n",
    "plt.show()"
   ]
  },
  {
   "cell_type": "code",
   "execution_count": 68,
   "metadata": {},
   "outputs": [
    {
     "name": "stdout",
     "output_type": "stream",
     "text": [
      "2133/2133 [==============================] - 0s     \n",
      "Test accuracy:  0.407407407687\n"
     ]
    }
   ],
   "source": [
    "cnn_multichannel_best_model = cnn_multichannel(embed_dim=embed_dim , num_tokens=num_tokens, max_len=X_train.shape[1])\n",
    "cnn_multichannel_best_model.load_weights('best_model.hdf5')\n",
    "cnn_multichannel_best_model.compile(optimizer = 'Adam', loss = 'categorical_crossentropy', metrics = ['accuracy'])\n",
    "results = cnn_multichannel_best_model.evaluate(X_test, y_test)\n",
    "print('Test accuracy: ', results[1])"
   ]
  },
  {
   "cell_type": "markdown",
   "metadata": {},
   "source": [
    "## Results\n",
    "- All four model variations show high level of training accuracy (almost 1.0), but suffer from low level of validation/test accuracy (below 0.4)\n",
    "- Test accuracies\n",
    "    - ```CNN-rand```: 0.390060947037\n",
    "    - ```CNN-static```: 0.341303328715\n",
    "    - ```CNN-non-static```: 0.389592124049\n",
    "    - ```CNN-multichannel```: 0.407407407687\n",
    "- So with this dataset, ```CNN-multichannel``` model performs best"
   ]
  }
 ],
 "metadata": {
  "kernelspec": {
   "display_name": "Python 3",
   "language": "python",
   "name": "python3"
  },
  "language_info": {
   "codemirror_mode": {
    "name": "ipython",
    "version": 3
   },
   "file_extension": ".py",
   "mimetype": "text/x-python",
   "name": "python",
   "nbconvert_exporter": "python",
   "pygments_lexer": "ipython3",
   "version": "3.6.1"
  }
 },
 "nbformat": 4,
 "nbformat_minor": 2
}
